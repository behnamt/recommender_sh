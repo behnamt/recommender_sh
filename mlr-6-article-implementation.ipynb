{
 "nbformat": 4,
 "nbformat_minor": 2,
 "metadata": {
  "language_info": {
   "name": "python",
   "codemirror_mode": {
    "name": "ipython",
    "version": 2
   },
   "version": "2.7.17-final"
  },
  "orig_nbformat": 2,
  "file_extension": ".py",
  "mimetype": "text/x-python",
  "name": "python",
  "npconvert_exporter": "python",
  "pygments_lexer": "ipython2",
  "version": 2,
  "kernelspec": {
   "name": "collaborative",
   "display_name": "collaborative"
  }
 },
 "cells": [
  {
   "cell_type": "markdown",
   "metadata": {},
   "source": [
    "# Putting it all together\n"
   ],
   "execution_count": null,
   "outputs": []
  },
  {
   "cell_type": "markdown",
   "metadata": {},
   "source": [
    "## Imports\n",
    "\n"
   ],
   "execution_count": null,
   "outputs": []
  },
  {
   "cell_type": "code",
   "execution_count": 2,
   "metadata": {},
   "outputs": [
    {
     "output_type": "stream",
     "name": "stdout",
     "text": "The autoreload extension is already loaded. To reload it, use:\n  %reload_ext autoreload\n"
    }
   ],
   "source": [
    "%load_ext autoreload\n",
    "%autoreload 2\n",
    "\n",
    "import pandas as ps\n",
    "import numpy as np\n",
    "\n",
    "import time\n",
    "import turicreate as tc\n",
    "from sklearn.model_selection import train_test_split\n",
    "import json\n",
    "import matplotlib.pyplot as plt\n",
    "\n",
    "%matplotlib inline\n",
    "\n",
    "import sys"
   ]
  },
  {
   "cell_type": "markdown",
   "metadata": {},
   "source": [
    "## Importing CSV data"
   ],
   "execution_count": null,
   "outputs": []
  },
  {
   "cell_type": "code",
   "execution_count": 3,
   "metadata": {},
   "outputs": [],
   "source": [
    "transactions_raw = ps.read_csv('transactions.csv', names = ['SKU', 'CUSTOMER'], header = 1)\n",
    "products_raw = ps.read_csv('products_.csv')\n",
    "print(products_raw.shape)\n"
   ]
  },
  {
   "cell_type": "markdown",
   "metadata": {},
   "source": [
    "## Defining methods"
   ],
   "execution_count": null,
   "outputs": []
  },
  {
   "cell_type": "markdown",
   "metadata": {},
   "source": [
    "### Pie chart\n"
   ],
   "execution_count": null,
   "outputs": []
  },
  {
   "cell_type": "code",
   "execution_count": 4,
   "metadata": {},
   "outputs": [],
   "source": [
    "# Pie chart, where the slices will be ordered and plotted counter-clockwise:\n",
    "def pie_chart(labels, sizes):\n",
    "    explode = (0, 0.1, 0, 0)  # only \"explode\" the 2nd slice (i.e. 'Hogs')\n",
    "\n",
    "    fig1, ax1 = plt.subplots()\n",
    "    ax1.pie(sizes, labels=labels, autopct='%1.1f%%',\n",
    "            shadow=True, startangle=90)\n",
    "    ax1.axis('equal')  # Equal aspect ratio ensures that pie is drawn as a circle.\n",
    "\n",
    "    plt.show()"
   ]
  },
  {
   "cell_type": "markdown",
   "metadata": {},
   "source": [
    "### Get the customer data"
   ],
   "execution_count": null,
   "outputs": []
  },
  {
   "cell_type": "code",
   "execution_count": 5,
   "metadata": {},
   "outputs": [],
   "source": [
    "def get_customer_data(customer_id):\n",
    "    transactions = transactions_raw[transactions_raw['CUSTOMER'] == customer_id]\n",
    "    products = products_raw[products_raw['SKU'].isin(transactions['SKU'])]\n",
    "    products['COLOR'] = products['ATTRIBUTES'].apply(lambda x: json.loads(x)['color'])\n",
    "    products['BRAND'] = products['ATTRIBUTES'].apply(lambda x: json.loads(x)['brand'].upper())\n",
    "    return products"
   ]
  },
  {
   "cell_type": "markdown",
   "metadata": {},
   "source": [
    "### Visualize the Customer data"
   ],
   "execution_count": null,
   "outputs": []
  },
  {
   "cell_type": "code",
   "execution_count": 6,
   "metadata": {},
   "outputs": [],
   "source": [
    "def visualize_customer_data(products):\n",
    "    grouped_brands = products['BRAND'].value_counts().rename_axis('BRAND').reset_index(name='COUNT')\n",
    "    grouped_colors = products['COLOR'].value_counts().rename_axis('COLOR').reset_index(name='COUNT')\n",
    "    grouped_categories = products['NAME'].value_counts().rename_axis('CATEGORY').reset_index(name='COUNT')\n",
    "    pie_chart(grouped_brands['BRAND'], grouped_brands['COUNT'])\n",
    "    pie_chart(grouped_colors['COLOR'], grouped_colors['COUNT'])\n",
    "    pie_chart(grouped_categories['CATEGORY'], grouped_categories['COUNT'])"
   ]
  },
  {
   "cell_type": "markdown",
   "metadata": {},
   "source": [
    "### Normalize Data for model"
   ],
   "execution_count": null,
   "outputs": []
  },
  {
   "cell_type": "code",
   "execution_count": 7,
   "metadata": {},
   "outputs": [],
   "source": [
    "def normalize_item_purchase_count(transactions):\n",
    "    transactions_count = transactions.groupby(['SKU', 'CUSTOMER']).size().reset_index(name='COUNT')\n",
    "    transactions_count = transactions_count.join(transactions_count.groupby(['SKU'])['COUNT'].transform(lambda x: x / x.sum()), rsuffix='_FREQ')\n",
    "    return transactions_count"
   ]
  },
  {
   "cell_type": "markdown",
   "metadata": {},
   "source": [
    "### Add isAvailable to products\n",
    "**note**: this is only for development, this feature should be in the csv file"
   ]
  },
  {
   "cell_type": "code",
   "execution_count": 22,
   "metadata": {},
   "outputs": [],
   "source": [
    "def add_random_is_availale(products):\n",
    "    products['IS_AVAILABLE'] = np.random.choice([True, False], products.shape[0], [0.2, 0.8])\n",
    "    return products;"
   ]
  },
  {
   "cell_type": "markdown",
   "metadata": {},
   "source": [
    "### Remove unavailable products"
   ]
  },
  {
   "cell_type": "code",
   "execution_count": null,
   "metadata": {},
   "outputs": [],
   "source": [
    "def filter_unavailale_products(products):\n",
    "    products = products[products['IS_AVAILABLE'] == True]\n",
    "    return products.drop(['IS_AVAILABLE'])"
   ]
  },
  {
   "cell_type": "markdown",
   "metadata": {},
   "source": [
    "### Train & Test data"
   ],
   "execution_count": null,
   "outputs": []
  },
  {
   "cell_type": "code",
   "execution_count": 8,
   "metadata": {},
   "outputs": [],
   "source": [
    "def get_train_test_data(transactions):\n",
    "    train, test = train_test_split(transactions, test_size = .2)\n",
    "    train = tc.SFrame(train)\n",
    "    test = tc.SFrame(test)\n",
    "    return train, test"
   ]
  },
  {
   "cell_type": "code",
   "execution_count": 9,
   "metadata": {},
   "outputs": [],
   "source": [
    "def get_normilized_data():\n",
    "    transactions = normalize_item_purchase_count(transactions_raw)\n",
    "    # TODO: just use transactions as train data for real impl\n",
    "    train, test = get_train_test_data(transactions)\n",
    "    return train, test"
   ]
  },
  {
   "cell_type": "markdown",
   "metadata": {},
   "source": [
    "### Model\n"
   ],
   "execution_count": null,
   "outputs": []
  },
  {
   "cell_type": "code",
   "execution_count": 10,
   "metadata": {},
   "outputs": [],
   "source": [
    "def model(train_data, name, user_id, item_id, target, users_to_recommend, n_rec, n_display):\n",
    "    if name == 'popularity':\n",
    "        model = tc.popularity_recommender.create(train_data, \n",
    "                                                    user_id=user_id, \n",
    "                                                    item_id=item_id, \n",
    "                                                    target=target)\n",
    "    elif name == 'cosine':\n",
    "        model = tc.item_similarity_recommender.create(train_data, \n",
    "                                                    user_id=user_id, \n",
    "                                                    item_id=item_id, \n",
    "                                                    target=target, \n",
    "                                                    similarity_type='cosine')\n",
    "    elif name == 'pearson':\n",
    "        model = tc.item_similarity_recommender.create(train_data, \n",
    "                                                    user_id=user_id, \n",
    "                                                    item_id=item_id, \n",
    "                                                    target=target, \n",
    "                                                    similarity_type='pearson')\n",
    "        \n",
    "    recom = model.recommend(users=users_to_recommend, k=n_rec)\n",
    "    recom.print_rows(n_display)\n",
    "    return model"
   ]
  },
  {
   "cell_type": "markdown",
   "metadata": {},
   "source": [
    "### Getting a recommendation "
   ],
   "execution_count": null,
   "outputs": []
  },
  {
   "cell_type": "code",
   "execution_count": 11,
   "metadata": {},
   "outputs": [],
   "source": [
    "def get_model(similarity, train, target = 'COUNT'):\n",
    "    user_id = 'CUSTOMER'\n",
    "    item_id = 'SKU'\n",
    "    users_to_recommend = list([])\n",
    "    n_rec = 10 # number of items to recommend\n",
    "    n_display = 30 # to display the first few rows in an output dataset\n",
    "    \n",
    "    popularity = model(train, similarity, user_id, item_id, target, users_to_recommend, n_rec, n_display)\n",
    "    return popularity\n",
    ""
   ]
  },
  {
   "cell_type": "code",
   "execution_count": 12,
   "metadata": {},
   "outputs": [],
   "source": [
    "def merge_product_info(items):\n",
    "    products_rec = products_raw[products_raw['SKU'].isin(items['SKU'])] \n",
    "    products_rec['COLOR'] = products_rec['ATTRIBUTES'].apply(lambda x: json.loads(x)['color'])\n",
    "    products_rec['BRAND'] = products_rec['ATTRIBUTES'].apply(lambda x: json.loads(x)['brand'].upper())\n",
    "    products_rec = ps.merge(items, products_rec, how='left', on=['SKU']).drop_duplicates(subset=['SKU'])\n",
    "    return products_rec[['rank','score','NAME','BRAND', 'COLOR']]"
   ]
  },
  {
   "cell_type": "code",
   "execution_count": 13,
   "metadata": {},
   "outputs": [],
   "source": [
    "def get_recommendation_for_user(customer_id, trained_model):\n",
    "    recommended_items = trained_model[trained_model['CUSTOMER']==customer_id].to_dataframe()\n",
    "    print(merge_product_info(recommended_items))\n",
    "    visualize_customer_data(get_customer_data(customer_id))"
   ]
  },
  {
   "cell_type": "markdown",
   "metadata": {},
   "source": [
    "### Evaluating models"
   ],
   "execution_count": null,
   "outputs": []
  },
  {
   "cell_type": "code",
   "execution_count": 14,
   "metadata": {},
   "outputs": [],
   "source": [
    "def evaluate(models_w, models_names, test_data):\n",
    "    eval_norm = tc.recommender.util.compare_models(test_data, models_w, model_names=models_names)\n",
    "    return eval_norm"
   ]
  },
  {
   "cell_type": "markdown",
   "metadata": {},
   "source": [
    "## Main stuff\n",
    "If you want to get a recommendation list for a specific customer, fill the `customer_id` and run this block"
   ],
   "execution_count": null,
   "outputs": []
  },
  {
   "cell_type": "code",
   "execution_count": 16,
   "metadata": {},
   "outputs": [
    {
     "output_type": "display_data",
     "data": {
      "text/html": "<pre>Warning: Ignoring columns COUNT;</pre>",
      "text/plain": "Warning: Ignoring columns COUNT;"
     },
     "metadata": {}
    },
    {
     "output_type": "display_data",
     "data": {
      "text/html": "<pre>    To use these columns in scoring predictions, use a model that allows the use of additional features.</pre>",
      "text/plain": "    To use these columns in scoring predictions, use a model that allows the use of additional features."
     },
     "metadata": {}
    },
    {
     "output_type": "display_data",
     "data": {
      "text/html": "<pre>Preparing data set.</pre>",
      "text/plain": "Preparing data set."
     },
     "metadata": {}
    },
    {
     "output_type": "display_data",
     "data": {
      "text/html": "<pre>    Data has 2641540 observations with 356990 users and 6759 items.</pre>",
      "text/plain": "    Data has 2641540 observations with 356990 users and 6759 items."
     },
     "metadata": {}
    },
    {
     "output_type": "display_data",
     "data": {
      "text/html": "<pre>    Data prepared in: 3.96582s</pre>",
      "text/plain": "    Data prepared in: 3.96582s"
     },
     "metadata": {}
    },
    {
     "output_type": "display_data",
     "data": {
      "text/html": "<pre>Training model from provided data.</pre>",
      "text/plain": "Training model from provided data."
     },
     "metadata": {}
    },
    {
     "output_type": "display_data",
     "data": {
      "text/html": "<pre>Gathering per-item and per-user statistics.</pre>",
      "text/plain": "Gathering per-item and per-user statistics."
     },
     "metadata": {}
    },
    {
     "output_type": "display_data",
     "data": {
      "text/html": "<pre>+--------------------------------+------------+</pre>",
      "text/plain": "+--------------------------------+------------+"
     },
     "metadata": {}
    },
    {
     "output_type": "display_data",
     "data": {
      "text/html": "<pre>| Elapsed Time (Item Statistics) | % Complete |</pre>",
      "text/plain": "| Elapsed Time (Item Statistics) | % Complete |"
     },
     "metadata": {}
    },
    {
     "output_type": "display_data",
     "data": {
      "text/html": "<pre>+--------------------------------+------------+</pre>",
      "text/plain": "+--------------------------------+------------+"
     },
     "metadata": {}
    },
    {
     "output_type": "display_data",
     "data": {
      "text/html": "<pre>| 31.697ms                       | 0.25       |</pre>",
      "text/plain": "| 31.697ms                       | 0.25       |"
     },
     "metadata": {}
    },
    {
     "output_type": "display_data",
     "data": {
      "text/html": "<pre>| 207.624ms                      | 100        |</pre>",
      "text/plain": "| 207.624ms                      | 100        |"
     },
     "metadata": {}
    },
    {
     "output_type": "display_data",
     "data": {
      "text/html": "<pre>+--------------------------------+------------+</pre>",
      "text/plain": "+--------------------------------+------------+"
     },
     "metadata": {}
    },
    {
     "output_type": "display_data",
     "data": {
      "text/html": "<pre>Setting up lookup tables.</pre>",
      "text/plain": "Setting up lookup tables."
     },
     "metadata": {}
    },
    {
     "output_type": "display_data",
     "data": {
      "text/html": "<pre>Processing data in one pass using dense lookup tables.</pre>",
      "text/plain": "Processing data in one pass using dense lookup tables."
     },
     "metadata": {}
    },
    {
     "output_type": "display_data",
     "data": {
      "text/html": "<pre>+-------------------------------------+------------------+-----------------+</pre>",
      "text/plain": "+-------------------------------------+------------------+-----------------+"
     },
     "metadata": {}
    },
    {
     "output_type": "display_data",
     "data": {
      "text/html": "<pre>| Elapsed Time (Constructing Lookups) | Total % Complete | Items Processed |</pre>",
      "text/plain": "| Elapsed Time (Constructing Lookups) | Total % Complete | Items Processed |"
     },
     "metadata": {}
    },
    {
     "output_type": "display_data",
     "data": {
      "text/html": "<pre>+-------------------------------------+------------------+-----------------+</pre>",
      "text/plain": "+-------------------------------------+------------------+-----------------+"
     },
     "metadata": {}
    },
    {
     "output_type": "display_data",
     "data": {
      "text/html": "<pre>| 336.975ms                           | 0                | 0               |</pre>",
      "text/plain": "| 336.975ms                           | 0                | 0               |"
     },
     "metadata": {}
    },
    {
     "output_type": "display_data",
     "data": {
      "text/html": "<pre>| 2.27s                               | 100              | 6759            |</pre>",
      "text/plain": "| 2.27s                               | 100              | 6759            |"
     },
     "metadata": {}
    },
    {
     "output_type": "display_data",
     "data": {
      "text/html": "<pre>+-------------------------------------+------------------+-----------------+</pre>",
      "text/plain": "+-------------------------------------+------------------+-----------------+"
     },
     "metadata": {}
    },
    {
     "output_type": "display_data",
     "data": {
      "text/html": "<pre>Finalizing lookup tables.</pre>",
      "text/plain": "Finalizing lookup tables."
     },
     "metadata": {}
    },
    {
     "output_type": "display_data",
     "data": {
      "text/html": "<pre>Generating candidate set for working with new users.</pre>",
      "text/plain": "Generating candidate set for working with new users."
     },
     "metadata": {}
    },
    {
     "output_type": "display_data",
     "data": {
      "text/html": "<pre>Finished training in 3.47499s</pre>",
      "text/plain": "Finished training in 3.47499s"
     },
     "metadata": {}
    },
    {
     "output_type": "stream",
     "name": "stdout",
     "text": "+----------+-----+-------+------+\n| CUSTOMER | SKU | score | rank |\n+----------+-----+-------+------+\n+----------+-----+-------+------+\n[0 rows x 4 columns]\n\n"
    },
    {
     "output_type": "display_data",
     "data": {
      "text/html": "<pre>recommendations finished on 1000/356990 queries. users per second: 12306</pre>",
      "text/plain": "recommendations finished on 1000/356990 queries. users per second: 12306"
     },
     "metadata": {}
    },
    {
     "output_type": "display_data",
     "data": {
      "text/html": "<pre>recommendations finished on 2000/356990 queries. users per second: 12239.4</pre>",
      "text/plain": "recommendations finished on 2000/356990 queries. users per second: 12239.4"
     },
     "metadata": {}
    },
    {
     "output_type": "display_data",
     "data": {
      "text/html": "<pre>recommendations finished on 3000/356990 queries. users per second: 11118.2</pre>",
      "text/plain": "recommendations finished on 3000/356990 queries. users per second: 11118.2"
     },
     "metadata": {}
    },
    {
     "output_type": "display_data",
     "data": {
      "text/html": "<pre>recommendations finished on 4000/356990 queries. users per second: 10950.1</pre>",
      "text/plain": "recommendations finished on 4000/356990 queries. users per second: 10950.1"
     },
     "metadata": {}
    },
    {
     "output_type": "display_data",
     "data": {
      "text/html": "<pre>recommendations finished on 5000/356990 queries. users per second: 10449.1</pre>",
      "text/plain": "recommendations finished on 5000/356990 queries. users per second: 10449.1"
     },
     "metadata": {}
    },
    {
     "output_type": "display_data",
     "data": {
      "text/html": "<pre>recommendations finished on 6000/356990 queries. users per second: 10646.5</pre>",
      "text/plain": "recommendations finished on 6000/356990 queries. users per second: 10646.5"
     },
     "metadata": {}
    },
    {
     "output_type": "display_data",
     "data": {
      "text/html": "<pre>recommendations finished on 7000/356990 queries. users per second: 11012.2</pre>",
      "text/plain": "recommendations finished on 7000/356990 queries. users per second: 11012.2"
     },
     "metadata": {}
    },
    {
     "output_type": "display_data",
     "data": {
      "text/html": "<pre>recommendations finished on 8000/356990 queries. users per second: 11416.4</pre>",
      "text/plain": "recommendations finished on 8000/356990 queries. users per second: 11416.4"
     },
     "metadata": {}
    },
    {
     "output_type": "display_data",
     "data": {
      "text/html": "<pre>recommendations finished on 9000/356990 queries. users per second: 11707.2</pre>",
      "text/plain": "recommendations finished on 9000/356990 queries. users per second: 11707.2"
     },
     "metadata": {}
    },
    {
     "output_type": "display_data",
     "data": {
      "text/html": "<pre>recommendations finished on 10000/356990 queries. users per second: 11970.5</pre>",
      "text/plain": "recommendations finished on 10000/356990 queries. users per second: 11970.5"
     },
     "metadata": {}
    },
    {
     "output_type": "display_data",
     "data": {
      "text/html": "<pre>recommendations finished on 11000/356990 queries. users per second: 11918.5</pre>",
      "text/plain": "recommendations finished on 11000/356990 queries. users per second: 11918.5"
     },
     "metadata": {}
    },
    {
     "output_type": "display_data",
     "data": {
      "text/html": "<pre>recommendations finished on 12000/356990 queries. users per second: 12079.8</pre>",
      "text/plain": "recommendations finished on 12000/356990 queries. users per second: 12079.8"
     },
     "metadata": {}
    },
    {
     "output_type": "display_data",
     "data": {
      "text/html": "<pre>recommendations finished on 13000/356990 queries. users per second: 12174.7</pre>",
      "text/plain": "recommendations finished on 13000/356990 queries. users per second: 12174.7"
     },
     "metadata": {}
    },
    {
     "output_type": "display_data",
     "data": {
      "text/html": "<pre>recommendations finished on 14000/356990 queries. users per second: 12034.6</pre>",
      "text/plain": "recommendations finished on 14000/356990 queries. users per second: 12034.6"
     },
     "metadata": {}
    },
    {
     "output_type": "display_data",
     "data": {
      "text/html": "<pre>recommendations finished on 15000/356990 queries. users per second: 12057.6</pre>",
      "text/plain": "recommendations finished on 15000/356990 queries. users per second: 12057.6"
     },
     "metadata": {}
    },
    {
     "output_type": "display_data",
     "data": {
      "text/html": "<pre>recommendations finished on 16000/356990 queries. users per second: 12153.8</pre>",
      "text/plain": "recommendations finished on 16000/356990 queries. users per second: 12153.8"
     },
     "metadata": {}
    },
    {
     "output_type": "display_data",
     "data": {
      "text/html": "<pre>recommendations finished on 17000/356990 queries. users per second: 12100.7</pre>",
      "text/plain": "recommendations finished on 17000/356990 queries. users per second: 12100.7"
     },
     "metadata": {}
    },
    {
     "output_type": "display_data",
     "data": {
      "text/html": "<pre>recommendations finished on 18000/356990 queries. users per second: 12177.5</pre>",
      "text/plain": "recommendations finished on 18000/356990 queries. users per second: 12177.5"
     },
     "metadata": {}
    },
    {
     "output_type": "display_data",
     "data": {
      "text/html": "<pre>recommendations finished on 19000/356990 queries. users per second: 12239.6</pre>",
      "text/plain": "recommendations finished on 19000/356990 queries. users per second: 12239.6"
     },
     "metadata": {}
    },
    {
     "output_type": "display_data",
     "data": {
      "text/html": "<pre>recommendations finished on 20000/356990 queries. users per second: 12255</pre>",
      "text/plain": "recommendations finished on 20000/356990 queries. users per second: 12255"
     },
     "metadata": {}
    },
    {
     "output_type": "display_data",
     "data": {
      "text/html": "<pre>recommendations finished on 21000/356990 queries. users per second: 12301.3</pre>",
      "text/plain": "recommendations finished on 21000/356990 queries. users per second: 12301.3"
     },
     "metadata": {}
    },
    {
     "output_type": "display_data",
     "data": {
      "text/html": "<pre>recommendations finished on 22000/356990 queries. users per second: 12382.5</pre>",
      "text/plain": "recommendations finished on 22000/356990 queries. users per second: 12382.5"
     },
     "metadata": {}
    },
    {
     "output_type": "display_data",
     "data": {
      "text/html": "<pre>recommendations finished on 23000/356990 queries. users per second: 12425.2</pre>",
      "text/plain": "recommendations finished on 23000/356990 queries. users per second: 12425.2"
     },
     "metadata": {}
    },
    {
     "output_type": "display_data",
     "data": {
      "text/html": "<pre>recommendations finished on 24000/356990 queries. users per second: 12461.3</pre>",
      "text/plain": "recommendations finished on 24000/356990 queries. users per second: 12461.3"
     },
     "metadata": {}
    },
    {
     "output_type": "display_data",
     "data": {
      "text/html": "<pre>recommendations finished on 25000/356990 queries. users per second: 12594.9</pre>",
      "text/plain": "recommendations finished on 25000/356990 queries. users per second: 12594.9"
     },
     "metadata": {}
    },
    {
     "output_type": "display_data",
     "data": {
      "text/html": "<pre>recommendations finished on 26000/356990 queries. users per second: 12672.7</pre>",
      "text/plain": "recommendations finished on 26000/356990 queries. users per second: 12672.7"
     },
     "metadata": {}
    },
    {
     "output_type": "display_data",
     "data": {
      "text/html": "<pre>recommendations finished on 27000/356990 queries. users per second: 12571.7</pre>",
      "text/plain": "recommendations finished on 27000/356990 queries. users per second: 12571.7"
     },
     "metadata": {}
    },
    {
     "output_type": "display_data",
     "data": {
      "text/html": "<pre>recommendations finished on 28000/356990 queries. users per second: 12623.6</pre>",
      "text/plain": "recommendations finished on 28000/356990 queries. users per second: 12623.6"
     },
     "metadata": {}
    },
    {
     "output_type": "display_data",
     "data": {
      "text/html": "<pre>recommendations finished on 29000/356990 queries. users per second: 12689.1</pre>",
      "text/plain": "recommendations finished on 29000/356990 queries. users per second: 12689.1"
     },
     "metadata": {}
    },
    {
     "output_type": "display_data",
     "data": {
      "text/html": "<pre>recommendations finished on 30000/356990 queries. users per second: 12780.4</pre>",
      "text/plain": "recommendations finished on 30000/356990 queries. users per second: 12780.4"
     },
     "metadata": {}
    },
    {
     "output_type": "display_data",
     "data": {
      "text/html": "<pre>recommendations finished on 31000/356990 queries. users per second: 12893.2</pre>",
      "text/plain": "recommendations finished on 31000/356990 queries. users per second: 12893.2"
     },
     "metadata": {}
    },
    {
     "output_type": "display_data",
     "data": {
      "text/html": "<pre>recommendations finished on 32000/356990 queries. users per second: 12902.9</pre>",
      "text/plain": "recommendations finished on 32000/356990 queries. users per second: 12902.9"
     },
     "metadata": {}
    },
    {
     "output_type": "display_data",
     "data": {
      "text/html": "<pre>recommendations finished on 33000/356990 queries. users per second: 12955.5</pre>",
      "text/plain": "recommendations finished on 33000/356990 queries. users per second: 12955.5"
     },
     "metadata": {}
    },
    {
     "output_type": "display_data",
     "data": {
      "text/html": "<pre>recommendations finished on 34000/356990 queries. users per second: 12991.4</pre>",
      "text/plain": "recommendations finished on 34000/356990 queries. users per second: 12991.4"
     },
     "metadata": {}
    },
    {
     "output_type": "display_data",
     "data": {
      "text/html": "<pre>recommendations finished on 35000/356990 queries. users per second: 12974.2</pre>",
      "text/plain": "recommendations finished on 35000/356990 queries. users per second: 12974.2"
     },
     "metadata": {}
    },
    {
     "output_type": "display_data",
     "data": {
      "text/html": "<pre>recommendations finished on 36000/356990 queries. users per second: 12894.8</pre>",
      "text/plain": "recommendations finished on 36000/356990 queries. users per second: 12894.8"
     },
     "metadata": {}
    },
    {
     "output_type": "display_data",
     "data": {
      "text/html": "<pre>recommendations finished on 37000/356990 queries. users per second: 12976.2</pre>",
      "text/plain": "recommendations finished on 37000/356990 queries. users per second: 12976.2"
     },
     "metadata": {}
    },
    {
     "output_type": "display_data",
     "data": {
      "text/html": "<pre>recommendations finished on 38000/356990 queries. users per second: 12950.8</pre>",
      "text/plain": "recommendations finished on 38000/356990 queries. users per second: 12950.8"
     },
     "metadata": {}
    },
    {
     "output_type": "display_data",
     "data": {
      "text/html": "<pre>recommendations finished on 39000/356990 queries. users per second: 12938.1</pre>",
      "text/plain": "recommendations finished on 39000/356990 queries. users per second: 12938.1"
     },
     "metadata": {}
    },
    {
     "output_type": "display_data",
     "data": {
      "text/html": "<pre>recommendations finished on 40000/356990 queries. users per second: 12978.6</pre>",
      "text/plain": "recommendations finished on 40000/356990 queries. users per second: 12978.6"
     },
     "metadata": {}
    },
    {
     "output_type": "display_data",
     "data": {
      "text/html": "<pre>recommendations finished on 41000/356990 queries. users per second: 13017.5</pre>",
      "text/plain": "recommendations finished on 41000/356990 queries. users per second: 13017.5"
     },
     "metadata": {}
    },
    {
     "output_type": "display_data",
     "data": {
      "text/html": "<pre>recommendations finished on 42000/356990 queries. users per second: 13038.2</pre>",
      "text/plain": "recommendations finished on 42000/356990 queries. users per second: 13038.2"
     },
     "metadata": {}
    },
    {
     "output_type": "display_data",
     "data": {
      "text/html": "<pre>recommendations finished on 43000/356990 queries. users per second: 13088</pre>",
      "text/plain": "recommendations finished on 43000/356990 queries. users per second: 13088"
     },
     "metadata": {}
    },
    {
     "output_type": "display_data",
     "data": {
      "text/html": "<pre>recommendations finished on 44000/356990 queries. users per second: 13162</pre>",
      "text/plain": "recommendations finished on 44000/356990 queries. users per second: 13162"
     },
     "metadata": {}
    },
    {
     "output_type": "display_data",
     "data": {
      "text/html": "<pre>recommendations finished on 45000/356990 queries. users per second: 13236.7</pre>",
      "text/plain": "recommendations finished on 45000/356990 queries. users per second: 13236.7"
     },
     "metadata": {}
    },
    {
     "output_type": "display_data",
     "data": {
      "text/html": "<pre>recommendations finished on 46000/356990 queries. users per second: 13266.8</pre>",
      "text/plain": "recommendations finished on 46000/356990 queries. users per second: 13266.8"
     },
     "metadata": {}
    },
    {
     "output_type": "display_data",
     "data": {
      "text/html": "<pre>recommendations finished on 47000/356990 queries. users per second: 13302.3</pre>",
      "text/plain": "recommendations finished on 47000/356990 queries. users per second: 13302.3"
     },
     "metadata": {}
    },
    {
     "output_type": "display_data",
     "data": {
      "text/html": "<pre>recommendations finished on 48000/356990 queries. users per second: 13266.4</pre>",
      "text/plain": "recommendations finished on 48000/356990 queries. users per second: 13266.4"
     },
     "metadata": {}
    },
    {
     "output_type": "display_data",
     "data": {
      "text/html": "<pre>recommendations finished on 49000/356990 queries. users per second: 13303.3</pre>",
      "text/plain": "recommendations finished on 49000/356990 queries. users per second: 13303.3"
     },
     "metadata": {}
    },
    {
     "output_type": "display_data",
     "data": {
      "text/html": "<pre>recommendations finished on 50000/356990 queries. users per second: 13350.3</pre>",
      "text/plain": "recommendations finished on 50000/356990 queries. users per second: 13350.3"
     },
     "metadata": {}
    },
    {
     "output_type": "display_data",
     "data": {
      "text/html": "<pre>recommendations finished on 51000/356990 queries. users per second: 13381.3</pre>",
      "text/plain": "recommendations finished on 51000/356990 queries. users per second: 13381.3"
     },
     "metadata": {}
    },
    {
     "output_type": "display_data",
     "data": {
      "text/html": "<pre>recommendations finished on 52000/356990 queries. users per second: 13427.5</pre>",
      "text/plain": "recommendations finished on 52000/356990 queries. users per second: 13427.5"
     },
     "metadata": {}
    },
    {
     "output_type": "display_data",
     "data": {
      "text/html": "<pre>recommendations finished on 53000/356990 queries. users per second: 13458.4</pre>",
      "text/plain": "recommendations finished on 53000/356990 queries. users per second: 13458.4"
     },
     "metadata": {}
    },
    {
     "output_type": "display_data",
     "data": {
      "text/html": "<pre>recommendations finished on 54000/356990 queries. users per second: 13490.2</pre>",
      "text/plain": "recommendations finished on 54000/356990 queries. users per second: 13490.2"
     },
     "metadata": {}
    },
    {
     "output_type": "display_data",
     "data": {
      "text/html": "<pre>recommendations finished on 55000/356990 queries. users per second: 13537.3</pre>",
      "text/plain": "recommendations finished on 55000/356990 queries. users per second: 13537.3"
     },
     "metadata": {}
    },
    {
     "output_type": "display_data",
     "data": {
      "text/html": "<pre>recommendations finished on 56000/356990 queries. users per second: 13597.4</pre>",
      "text/plain": "recommendations finished on 56000/356990 queries. users per second: 13597.4"
     },
     "metadata": {}
    },
    {
     "output_type": "display_data",
     "data": {
      "text/html": "<pre>recommendations finished on 57000/356990 queries. users per second: 13627.1</pre>",
      "text/plain": "recommendations finished on 57000/356990 queries. users per second: 13627.1"
     },
     "metadata": {}
    },
    {
     "output_type": "display_data",
     "data": {
      "text/html": "<pre>recommendations finished on 58000/356990 queries. users per second: 13669.5</pre>",
      "text/plain": "recommendations finished on 58000/356990 queries. users per second: 13669.5"
     },
     "metadata": {}
    },
    {
     "output_type": "display_data",
     "data": {
      "text/html": "<pre>recommendations finished on 59000/356990 queries. users per second: 13690.3</pre>",
      "text/plain": "recommendations finished on 59000/356990 queries. users per second: 13690.3"
     },
     "metadata": {}
    },
    {
     "output_type": "display_data",
     "data": {
      "text/html": "<pre>recommendations finished on 60000/356990 queries. users per second: 13729.7</pre>",
      "text/plain": "recommendations finished on 60000/356990 queries. users per second: 13729.7"
     },
     "metadata": {}
    },
    {
     "output_type": "display_data",
     "data": {
      "text/html": "<pre>recommendations finished on 61000/356990 queries. users per second: 13781.3</pre>",
      "text/plain": "recommendations finished on 61000/356990 queries. users per second: 13781.3"
     },
     "metadata": {}
    },
    {
     "output_type": "display_data",
     "data": {
      "text/html": "<pre>recommendations finished on 62000/356990 queries. users per second: 13748.3</pre>",
      "text/plain": "recommendations finished on 62000/356990 queries. users per second: 13748.3"
     },
     "metadata": {}
    },
    {
     "output_type": "display_data",
     "data": {
      "text/html": "<pre>recommendations finished on 63000/356990 queries. users per second: 13742</pre>",
      "text/plain": "recommendations finished on 63000/356990 queries. users per second: 13742"
     },
     "metadata": {}
    },
    {
     "output_type": "display_data",
     "data": {
      "text/html": "<pre>recommendations finished on 64000/356990 queries. users per second: 13742.6</pre>",
      "text/plain": "recommendations finished on 64000/356990 queries. users per second: 13742.6"
     },
     "metadata": {}
    },
    {
     "output_type": "display_data",
     "data": {
      "text/html": "<pre>recommendations finished on 65000/356990 queries. users per second: 13772.9</pre>",
      "text/plain": "recommendations finished on 65000/356990 queries. users per second: 13772.9"
     },
     "metadata": {}
    },
    {
     "output_type": "display_data",
     "data": {
      "text/html": "<pre>recommendations finished on 66000/356990 queries. users per second: 13786.3</pre>",
      "text/plain": "recommendations finished on 66000/356990 queries. users per second: 13786.3"
     },
     "metadata": {}
    },
    {
     "output_type": "display_data",
     "data": {
      "text/html": "<pre>recommendations finished on 67000/356990 queries. users per second: 13809.8</pre>",
      "text/plain": "recommendations finished on 67000/356990 queries. users per second: 13809.8"
     },
     "metadata": {}
    },
    {
     "output_type": "display_data",
     "data": {
      "text/html": "<pre>recommendations finished on 68000/356990 queries. users per second: 13842</pre>",
      "text/plain": "recommendations finished on 68000/356990 queries. users per second: 13842"
     },
     "metadata": {}
    },
    {
     "output_type": "display_data",
     "data": {
      "text/html": "<pre>recommendations finished on 69000/356990 queries. users per second: 13852.5</pre>",
      "text/plain": "recommendations finished on 69000/356990 queries. users per second: 13852.5"
     },
     "metadata": {}
    },
    {
     "output_type": "display_data",
     "data": {
      "text/html": "<pre>recommendations finished on 70000/356990 queries. users per second: 13886.2</pre>",
      "text/plain": "recommendations finished on 70000/356990 queries. users per second: 13886.2"
     },
     "metadata": {}
    },
    {
     "output_type": "display_data",
     "data": {
      "text/html": "<pre>recommendations finished on 71000/356990 queries. users per second: 13927.1</pre>",
      "text/plain": "recommendations finished on 71000/356990 queries. users per second: 13927.1"
     },
     "metadata": {}
    },
    {
     "output_type": "display_data",
     "data": {
      "text/html": "<pre>recommendations finished on 72000/356990 queries. users per second: 13931.5</pre>",
      "text/plain": "recommendations finished on 72000/356990 queries. users per second: 13931.5"
     },
     "metadata": {}
    },
    {
     "output_type": "display_data",
     "data": {
      "text/html": "<pre>recommendations finished on 73000/356990 queries. users per second: 13952.5</pre>",
      "text/plain": "recommendations finished on 73000/356990 queries. users per second: 13952.5"
     },
     "metadata": {}
    },
    {
     "output_type": "display_data",
     "data": {
      "text/html": "<pre>recommendations finished on 74000/356990 queries. users per second: 13994.3</pre>",
      "text/plain": "recommendations finished on 74000/356990 queries. users per second: 13994.3"
     },
     "metadata": {}
    },
    {
     "output_type": "display_data",
     "data": {
      "text/html": "<pre>recommendations finished on 75000/356990 queries. users per second: 14016.9</pre>",
      "text/plain": "recommendations finished on 75000/356990 queries. users per second: 14016.9"
     },
     "metadata": {}
    },
    {
     "output_type": "display_data",
     "data": {
      "text/html": "<pre>recommendations finished on 76000/356990 queries. users per second: 14017</pre>",
      "text/plain": "recommendations finished on 76000/356990 queries. users per second: 14017"
     },
     "metadata": {}
    },
    {
     "output_type": "display_data",
     "data": {
      "text/html": "<pre>recommendations finished on 77000/356990 queries. users per second: 14007.3</pre>",
      "text/plain": "recommendations finished on 77000/356990 queries. users per second: 14007.3"
     },
     "metadata": {}
    },
    {
     "output_type": "display_data",
     "data": {
      "text/html": "<pre>recommendations finished on 78000/356990 queries. users per second: 14003.7</pre>",
      "text/plain": "recommendations finished on 78000/356990 queries. users per second: 14003.7"
     },
     "metadata": {}
    },
    {
     "output_type": "display_data",
     "data": {
      "text/html": "<pre>recommendations finished on 79000/356990 queries. users per second: 13944.5</pre>",
      "text/plain": "recommendations finished on 79000/356990 queries. users per second: 13944.5"
     },
     "metadata": {}
    },
    {
     "output_type": "display_data",
     "data": {
      "text/html": "<pre>recommendations finished on 80000/356990 queries. users per second: 13889.6</pre>",
      "text/plain": "recommendations finished on 80000/356990 queries. users per second: 13889.6"
     },
     "metadata": {}
    },
    {
     "output_type": "display_data",
     "data": {
      "text/html": "<pre>recommendations finished on 81000/356990 queries. users per second: 13854.4</pre>",
      "text/plain": "recommendations finished on 81000/356990 queries. users per second: 13854.4"
     },
     "metadata": {}
    },
    {
     "output_type": "display_data",
     "data": {
      "text/html": "<pre>recommendations finished on 82000/356990 queries. users per second: 13817.8</pre>",
      "text/plain": "recommendations finished on 82000/356990 queries. users per second: 13817.8"
     },
     "metadata": {}
    },
    {
     "output_type": "display_data",
     "data": {
      "text/html": "<pre>recommendations finished on 83000/356990 queries. users per second: 13830.9</pre>",
      "text/plain": "recommendations finished on 83000/356990 queries. users per second: 13830.9"
     },
     "metadata": {}
    },
    {
     "output_type": "display_data",
     "data": {
      "text/html": "<pre>recommendations finished on 84000/356990 queries. users per second: 13836.7</pre>",
      "text/plain": "recommendations finished on 84000/356990 queries. users per second: 13836.7"
     },
     "metadata": {}
    },
    {
     "output_type": "display_data",
     "data": {
      "text/html": "<pre>recommendations finished on 85000/356990 queries. users per second: 13849.5</pre>",
      "text/plain": "recommendations finished on 85000/356990 queries. users per second: 13849.5"
     },
     "metadata": {}
    },
    {
     "output_type": "display_data",
     "data": {
      "text/html": "<pre>recommendations finished on 86000/356990 queries. users per second: 13863.4</pre>",
      "text/plain": "recommendations finished on 86000/356990 queries. users per second: 13863.4"
     },
     "metadata": {}
    },
    {
     "output_type": "display_data",
     "data": {
      "text/html": "<pre>recommendations finished on 87000/356990 queries. users per second: 13817.6</pre>",
      "text/plain": "recommendations finished on 87000/356990 queries. users per second: 13817.6"
     },
     "metadata": {}
    },
    {
     "output_type": "display_data",
     "data": {
      "text/html": "<pre>recommendations finished on 88000/356990 queries. users per second: 13807.4</pre>",
      "text/plain": "recommendations finished on 88000/356990 queries. users per second: 13807.4"
     },
     "metadata": {}
    },
    {
     "output_type": "display_data",
     "data": {
      "text/html": "<pre>recommendations finished on 89000/356990 queries. users per second: 13818.4</pre>",
      "text/plain": "recommendations finished on 89000/356990 queries. users per second: 13818.4"
     },
     "metadata": {}
    },
    {
     "output_type": "display_data",
     "data": {
      "text/html": "<pre>recommendations finished on 90000/356990 queries. users per second: 13831.6</pre>",
      "text/plain": "recommendations finished on 90000/356990 queries. users per second: 13831.6"
     },
     "metadata": {}
    },
    {
     "output_type": "display_data",
     "data": {
      "text/html": "<pre>recommendations finished on 91000/356990 queries. users per second: 13830.8</pre>",
      "text/plain": "recommendations finished on 91000/356990 queries. users per second: 13830.8"
     },
     "metadata": {}
    },
    {
     "output_type": "display_data",
     "data": {
      "text/html": "<pre>recommendations finished on 92000/356990 queries. users per second: 13831.2</pre>",
      "text/plain": "recommendations finished on 92000/356990 queries. users per second: 13831.2"
     },
     "metadata": {}
    },
    {
     "output_type": "display_data",
     "data": {
      "text/html": "<pre>recommendations finished on 93000/356990 queries. users per second: 13836.8</pre>",
      "text/plain": "recommendations finished on 93000/356990 queries. users per second: 13836.8"
     },
     "metadata": {}
    },
    {
     "output_type": "display_data",
     "data": {
      "text/html": "<pre>recommendations finished on 94000/356990 queries. users per second: 13844.2</pre>",
      "text/plain": "recommendations finished on 94000/356990 queries. users per second: 13844.2"
     },
     "metadata": {}
    },
    {
     "output_type": "display_data",
     "data": {
      "text/html": "<pre>recommendations finished on 95000/356990 queries. users per second: 13853.3</pre>",
      "text/plain": "recommendations finished on 95000/356990 queries. users per second: 13853.3"
     },
     "metadata": {}
    },
    {
     "output_type": "display_data",
     "data": {
      "text/html": "<pre>recommendations finished on 96000/356990 queries. users per second: 13839.7</pre>",
      "text/plain": "recommendations finished on 96000/356990 queries. users per second: 13839.7"
     },
     "metadata": {}
    },
    {
     "output_type": "display_data",
     "data": {
      "text/html": "<pre>recommendations finished on 97000/356990 queries. users per second: 13833.7</pre>",
      "text/plain": "recommendations finished on 97000/356990 queries. users per second: 13833.7"
     },
     "metadata": {}
    },
    {
     "output_type": "display_data",
     "data": {
      "text/html": "<pre>recommendations finished on 98000/356990 queries. users per second: 13839.8</pre>",
      "text/plain": "recommendations finished on 98000/356990 queries. users per second: 13839.8"
     },
     "metadata": {}
    },
    {
     "output_type": "display_data",
     "data": {
      "text/html": "<pre>recommendations finished on 99000/356990 queries. users per second: 13820.6</pre>",
      "text/plain": "recommendations finished on 99000/356990 queries. users per second: 13820.6"
     },
     "metadata": {}
    },
    {
     "output_type": "display_data",
     "data": {
      "text/html": "<pre>recommendations finished on 100000/356990 queries. users per second: 13838.1</pre>",
      "text/plain": "recommendations finished on 100000/356990 queries. users per second: 13838.1"
     },
     "metadata": {}
    },
    {
     "output_type": "display_data",
     "data": {
      "text/html": "<pre>recommendations finished on 101000/356990 queries. users per second: 13854.7</pre>",
      "text/plain": "recommendations finished on 101000/356990 queries. users per second: 13854.7"
     },
     "metadata": {}
    },
    {
     "output_type": "display_data",
     "data": {
      "text/html": "<pre>recommendations finished on 102000/356990 queries. users per second: 13883.5</pre>",
      "text/plain": "recommendations finished on 102000/356990 queries. users per second: 13883.5"
     },
     "metadata": {}
    },
    {
     "output_type": "display_data",
     "data": {
      "text/html": "<pre>recommendations finished on 103000/356990 queries. users per second: 13894.3</pre>",
      "text/plain": "recommendations finished on 103000/356990 queries. users per second: 13894.3"
     },
     "metadata": {}
    },
    {
     "output_type": "display_data",
     "data": {
      "text/html": "<pre>recommendations finished on 104000/356990 queries. users per second: 13902.2</pre>",
      "text/plain": "recommendations finished on 104000/356990 queries. users per second: 13902.2"
     },
     "metadata": {}
    },
    {
     "output_type": "display_data",
     "data": {
      "text/html": "<pre>recommendations finished on 105000/356990 queries. users per second: 13927.6</pre>",
      "text/plain": "recommendations finished on 105000/356990 queries. users per second: 13927.6"
     },
     "metadata": {}
    },
    {
     "output_type": "display_data",
     "data": {
      "text/html": "<pre>recommendations finished on 106000/356990 queries. users per second: 13950.9</pre>",
      "text/plain": "recommendations finished on 106000/356990 queries. users per second: 13950.9"
     },
     "metadata": {}
    },
    {
     "output_type": "display_data",
     "data": {
      "text/html": "<pre>recommendations finished on 107000/356990 queries. users per second: 13975.8</pre>",
      "text/plain": "recommendations finished on 107000/356990 queries. users per second: 13975.8"
     },
     "metadata": {}
    },
    {
     "output_type": "display_data",
     "data": {
      "text/html": "<pre>recommendations finished on 108000/356990 queries. users per second: 13990.3</pre>",
      "text/plain": "recommendations finished on 108000/356990 queries. users per second: 13990.3"
     },
     "metadata": {}
    },
    {
     "output_type": "display_data",
     "data": {
      "text/html": "<pre>recommendations finished on 109000/356990 queries. users per second: 14018.4</pre>",
      "text/plain": "recommendations finished on 109000/356990 queries. users per second: 14018.4"
     },
     "metadata": {}
    },
    {
     "output_type": "display_data",
     "data": {
      "text/html": "<pre>recommendations finished on 110000/356990 queries. users per second: 14044.1</pre>",
      "text/plain": "recommendations finished on 110000/356990 queries. users per second: 14044.1"
     },
     "metadata": {}
    },
    {
     "output_type": "display_data",
     "data": {
      "text/html": "<pre>recommendations finished on 111000/356990 queries. users per second: 14067.1</pre>",
      "text/plain": "recommendations finished on 111000/356990 queries. users per second: 14067.1"
     },
     "metadata": {}
    },
    {
     "output_type": "display_data",
     "data": {
      "text/html": "<pre>recommendations finished on 112000/356990 queries. users per second: 14088.7</pre>",
      "text/plain": "recommendations finished on 112000/356990 queries. users per second: 14088.7"
     },
     "metadata": {}
    },
    {
     "output_type": "display_data",
     "data": {
      "text/html": "<pre>recommendations finished on 113000/356990 queries. users per second: 14116</pre>",
      "text/plain": "recommendations finished on 113000/356990 queries. users per second: 14116"
     },
     "metadata": {}
    },
    {
     "output_type": "display_data",
     "data": {
      "text/html": "<pre>recommendations finished on 114000/356990 queries. users per second: 14141.2</pre>",
      "text/plain": "recommendations finished on 114000/356990 queries. users per second: 14141.2"
     },
     "metadata": {}
    },
    {
     "output_type": "display_data",
     "data": {
      "text/html": "<pre>recommendations finished on 115000/356990 queries. users per second: 14152.9</pre>",
      "text/plain": "recommendations finished on 115000/356990 queries. users per second: 14152.9"
     },
     "metadata": {}
    },
    {
     "output_type": "display_data",
     "data": {
      "text/html": "<pre>recommendations finished on 116000/356990 queries. users per second: 14166.9</pre>",
      "text/plain": "recommendations finished on 116000/356990 queries. users per second: 14166.9"
     },
     "metadata": {}
    },
    {
     "output_type": "display_data",
     "data": {
      "text/html": "<pre>recommendations finished on 117000/356990 queries. users per second: 14187.6</pre>",
      "text/plain": "recommendations finished on 117000/356990 queries. users per second: 14187.6"
     },
     "metadata": {}
    },
    {
     "output_type": "display_data",
     "data": {
      "text/html": "<pre>recommendations finished on 118000/356990 queries. users per second: 14205</pre>",
      "text/plain": "recommendations finished on 118000/356990 queries. users per second: 14205"
     },
     "metadata": {}
    },
    {
     "output_type": "display_data",
     "data": {
      "text/html": "<pre>recommendations finished on 119000/356990 queries. users per second: 14227.2</pre>",
      "text/plain": "recommendations finished on 119000/356990 queries. users per second: 14227.2"
     },
     "metadata": {}
    },
    {
     "output_type": "display_data",
     "data": {
      "text/html": "<pre>recommendations finished on 120000/356990 queries. users per second: 14247.4</pre>",
      "text/plain": "recommendations finished on 120000/356990 queries. users per second: 14247.4"
     },
     "metadata": {}
    },
    {
     "output_type": "display_data",
     "data": {
      "text/html": "<pre>recommendations finished on 121000/356990 queries. users per second: 14270</pre>",
      "text/plain": "recommendations finished on 121000/356990 queries. users per second: 14270"
     },
     "metadata": {}
    },
    {
     "output_type": "display_data",
     "data": {
      "text/html": "<pre>recommendations finished on 122000/356990 queries. users per second: 14288.7</pre>",
      "text/plain": "recommendations finished on 122000/356990 queries. users per second: 14288.7"
     },
     "metadata": {}
    },
    {
     "output_type": "display_data",
     "data": {
      "text/html": "<pre>recommendations finished on 123000/356990 queries. users per second: 14290.8</pre>",
      "text/plain": "recommendations finished on 123000/356990 queries. users per second: 14290.8"
     },
     "metadata": {}
    },
    {
     "output_type": "display_data",
     "data": {
      "text/html": "<pre>recommendations finished on 124000/356990 queries. users per second: 14302.2</pre>",
      "text/plain": "recommendations finished on 124000/356990 queries. users per second: 14302.2"
     },
     "metadata": {}
    },
    {
     "output_type": "display_data",
     "data": {
      "text/html": "<pre>recommendations finished on 125000/356990 queries. users per second: 14313.8</pre>",
      "text/plain": "recommendations finished on 125000/356990 queries. users per second: 14313.8"
     },
     "metadata": {}
    },
    {
     "output_type": "display_data",
     "data": {
      "text/html": "<pre>recommendations finished on 126000/356990 queries. users per second: 14312.2</pre>",
      "text/plain": "recommendations finished on 126000/356990 queries. users per second: 14312.2"
     },
     "metadata": {}
    },
    {
     "output_type": "display_data",
     "data": {
      "text/html": "<pre>recommendations finished on 127000/356990 queries. users per second: 14328.6</pre>",
      "text/plain": "recommendations finished on 127000/356990 queries. users per second: 14328.6"
     },
     "metadata": {}
    },
    {
     "output_type": "display_data",
     "data": {
      "text/html": "<pre>recommendations finished on 128000/356990 queries. users per second: 14332.6</pre>",
      "text/plain": "recommendations finished on 128000/356990 queries. users per second: 14332.6"
     },
     "metadata": {}
    },
    {
     "output_type": "display_data",
     "data": {
      "text/html": "<pre>recommendations finished on 129000/356990 queries. users per second: 14302</pre>",
      "text/plain": "recommendations finished on 129000/356990 queries. users per second: 14302"
     },
     "metadata": {}
    },
    {
     "output_type": "display_data",
     "data": {
      "text/html": "<pre>recommendations finished on 130000/356990 queries. users per second: 14288.2</pre>",
      "text/plain": "recommendations finished on 130000/356990 queries. users per second: 14288.2"
     },
     "metadata": {}
    },
    {
     "output_type": "display_data",
     "data": {
      "text/html": "<pre>recommendations finished on 131000/356990 queries. users per second: 14305.3</pre>",
      "text/plain": "recommendations finished on 131000/356990 queries. users per second: 14305.3"
     },
     "metadata": {}
    },
    {
     "output_type": "display_data",
     "data": {
      "text/html": "<pre>recommendations finished on 132000/356990 queries. users per second: 14313</pre>",
      "text/plain": "recommendations finished on 132000/356990 queries. users per second: 14313"
     },
     "metadata": {}
    },
    {
     "output_type": "display_data",
     "data": {
      "text/html": "<pre>recommendations finished on 133000/356990 queries. users per second: 14315.5</pre>",
      "text/plain": "recommendations finished on 133000/356990 queries. users per second: 14315.5"
     },
     "metadata": {}
    },
    {
     "output_type": "display_data",
     "data": {
      "text/html": "<pre>recommendations finished on 134000/356990 queries. users per second: 14323.4</pre>",
      "text/plain": "recommendations finished on 134000/356990 queries. users per second: 14323.4"
     },
     "metadata": {}
    },
    {
     "output_type": "display_data",
     "data": {
      "text/html": "<pre>recommendations finished on 135000/356990 queries. users per second: 14327.7</pre>",
      "text/plain": "recommendations finished on 135000/356990 queries. users per second: 14327.7"
     },
     "metadata": {}
    },
    {
     "output_type": "display_data",
     "data": {
      "text/html": "<pre>recommendations finished on 136000/356990 queries. users per second: 14344.9</pre>",
      "text/plain": "recommendations finished on 136000/356990 queries. users per second: 14344.9"
     },
     "metadata": {}
    },
    {
     "output_type": "display_data",
     "data": {
      "text/html": "<pre>recommendations finished on 137000/356990 queries. users per second: 14362.1</pre>",
      "text/plain": "recommendations finished on 137000/356990 queries. users per second: 14362.1"
     },
     "metadata": {}
    },
    {
     "output_type": "display_data",
     "data": {
      "text/html": "<pre>recommendations finished on 138000/356990 queries. users per second: 14378</pre>",
      "text/plain": "recommendations finished on 138000/356990 queries. users per second: 14378"
     },
     "metadata": {}
    },
    {
     "output_type": "display_data",
     "data": {
      "text/html": "<pre>recommendations finished on 139000/356990 queries. users per second: 14392.7</pre>",
      "text/plain": "recommendations finished on 139000/356990 queries. users per second: 14392.7"
     },
     "metadata": {}
    },
    {
     "output_type": "display_data",
     "data": {
      "text/html": "<pre>recommendations finished on 140000/356990 queries. users per second: 14400.2</pre>",
      "text/plain": "recommendations finished on 140000/356990 queries. users per second: 14400.2"
     },
     "metadata": {}
    },
    {
     "output_type": "display_data",
     "data": {
      "text/html": "<pre>recommendations finished on 141000/356990 queries. users per second: 14420.6</pre>",
      "text/plain": "recommendations finished on 141000/356990 queries. users per second: 14420.6"
     },
     "metadata": {}
    },
    {
     "output_type": "display_data",
     "data": {
      "text/html": "<pre>recommendations finished on 142000/356990 queries. users per second: 14430.7</pre>",
      "text/plain": "recommendations finished on 142000/356990 queries. users per second: 14430.7"
     },
     "metadata": {}
    },
    {
     "output_type": "display_data",
     "data": {
      "text/html": "<pre>recommendations finished on 143000/356990 queries. users per second: 14442.1</pre>",
      "text/plain": "recommendations finished on 143000/356990 queries. users per second: 14442.1"
     },
     "metadata": {}
    },
    {
     "output_type": "display_data",
     "data": {
      "text/html": "<pre>recommendations finished on 144000/356990 queries. users per second: 14456.4</pre>",
      "text/plain": "recommendations finished on 144000/356990 queries. users per second: 14456.4"
     },
     "metadata": {}
    },
    {
     "output_type": "display_data",
     "data": {
      "text/html": "<pre>recommendations finished on 145000/356990 queries. users per second: 14459.2</pre>",
      "text/plain": "recommendations finished on 145000/356990 queries. users per second: 14459.2"
     },
     "metadata": {}
    },
    {
     "output_type": "display_data",
     "data": {
      "text/html": "<pre>recommendations finished on 146000/356990 queries. users per second: 14469.3</pre>",
      "text/plain": "recommendations finished on 146000/356990 queries. users per second: 14469.3"
     },
     "metadata": {}
    },
    {
     "output_type": "display_data",
     "data": {
      "text/html": "<pre>recommendations finished on 147000/356990 queries. users per second: 14475.3</pre>",
      "text/plain": "recommendations finished on 147000/356990 queries. users per second: 14475.3"
     },
     "metadata": {}
    },
    {
     "output_type": "display_data",
     "data": {
      "text/html": "<pre>recommendations finished on 148000/356990 queries. users per second: 14473</pre>",
      "text/plain": "recommendations finished on 148000/356990 queries. users per second: 14473"
     },
     "metadata": {}
    },
    {
     "output_type": "display_data",
     "data": {
      "text/html": "<pre>recommendations finished on 149000/356990 queries. users per second: 14483.8</pre>",
      "text/plain": "recommendations finished on 149000/356990 queries. users per second: 14483.8"
     },
     "metadata": {}
    },
    {
     "output_type": "display_data",
     "data": {
      "text/html": "<pre>recommendations finished on 150000/356990 queries. users per second: 14496.2</pre>",
      "text/plain": "recommendations finished on 150000/356990 queries. users per second: 14496.2"
     },
     "metadata": {}
    },
    {
     "output_type": "display_data",
     "data": {
      "text/html": "<pre>recommendations finished on 151000/356990 queries. users per second: 14496.8</pre>",
      "text/plain": "recommendations finished on 151000/356990 queries. users per second: 14496.8"
     },
     "metadata": {}
    },
    {
     "output_type": "display_data",
     "data": {
      "text/html": "<pre>recommendations finished on 152000/356990 queries. users per second: 14509.6</pre>",
      "text/plain": "recommendations finished on 152000/356990 queries. users per second: 14509.6"
     },
     "metadata": {}
    },
    {
     "output_type": "display_data",
     "data": {
      "text/html": "<pre>recommendations finished on 153000/356990 queries. users per second: 14509.1</pre>",
      "text/plain": "recommendations finished on 153000/356990 queries. users per second: 14509.1"
     },
     "metadata": {}
    },
    {
     "output_type": "display_data",
     "data": {
      "text/html": "<pre>recommendations finished on 154000/356990 queries. users per second: 14492.7</pre>",
      "text/plain": "recommendations finished on 154000/356990 queries. users per second: 14492.7"
     },
     "metadata": {}
    },
    {
     "output_type": "display_data",
     "data": {
      "text/html": "<pre>recommendations finished on 155000/356990 queries. users per second: 14508.6</pre>",
      "text/plain": "recommendations finished on 155000/356990 queries. users per second: 14508.6"
     },
     "metadata": {}
    },
    {
     "output_type": "display_data",
     "data": {
      "text/html": "<pre>recommendations finished on 156000/356990 queries. users per second: 14519.4</pre>",
      "text/plain": "recommendations finished on 156000/356990 queries. users per second: 14519.4"
     },
     "metadata": {}
    },
    {
     "output_type": "display_data",
     "data": {
      "text/html": "<pre>recommendations finished on 157000/356990 queries. users per second: 14530.8</pre>",
      "text/plain": "recommendations finished on 157000/356990 queries. users per second: 14530.8"
     },
     "metadata": {}
    },
    {
     "output_type": "display_data",
     "data": {
      "text/html": "<pre>recommendations finished on 158000/356990 queries. users per second: 14533.5</pre>",
      "text/plain": "recommendations finished on 158000/356990 queries. users per second: 14533.5"
     },
     "metadata": {}
    },
    {
     "output_type": "display_data",
     "data": {
      "text/html": "<pre>recommendations finished on 159000/356990 queries. users per second: 14543.1</pre>",
      "text/plain": "recommendations finished on 159000/356990 queries. users per second: 14543.1"
     },
     "metadata": {}
    },
    {
     "output_type": "display_data",
     "data": {
      "text/html": "<pre>recommendations finished on 160000/356990 queries. users per second: 14539.6</pre>",
      "text/plain": "recommendations finished on 160000/356990 queries. users per second: 14539.6"
     },
     "metadata": {}
    },
    {
     "output_type": "display_data",
     "data": {
      "text/html": "<pre>recommendations finished on 161000/356990 queries. users per second: 14549.2</pre>",
      "text/plain": "recommendations finished on 161000/356990 queries. users per second: 14549.2"
     },
     "metadata": {}
    },
    {
     "output_type": "display_data",
     "data": {
      "text/html": "<pre>recommendations finished on 162000/356990 queries. users per second: 14560.6</pre>",
      "text/plain": "recommendations finished on 162000/356990 queries. users per second: 14560.6"
     },
     "metadata": {}
    },
    {
     "output_type": "display_data",
     "data": {
      "text/html": "<pre>recommendations finished on 163000/356990 queries. users per second: 14574.4</pre>",
      "text/plain": "recommendations finished on 163000/356990 queries. users per second: 14574.4"
     },
     "metadata": {}
    },
    {
     "output_type": "display_data",
     "data": {
      "text/html": "<pre>recommendations finished on 164000/356990 queries. users per second: 14585.9</pre>",
      "text/plain": "recommendations finished on 164000/356990 queries. users per second: 14585.9"
     },
     "metadata": {}
    },
    {
     "output_type": "display_data",
     "data": {
      "text/html": "<pre>recommendations finished on 165000/356990 queries. users per second: 14584.6</pre>",
      "text/plain": "recommendations finished on 165000/356990 queries. users per second: 14584.6"
     },
     "metadata": {}
    },
    {
     "output_type": "display_data",
     "data": {
      "text/html": "<pre>recommendations finished on 166000/356990 queries. users per second: 14583.4</pre>",
      "text/plain": "recommendations finished on 166000/356990 queries. users per second: 14583.4"
     },
     "metadata": {}
    },
    {
     "output_type": "display_data",
     "data": {
      "text/html": "<pre>recommendations finished on 167000/356990 queries. users per second: 14594</pre>",
      "text/plain": "recommendations finished on 167000/356990 queries. users per second: 14594"
     },
     "metadata": {}
    },
    {
     "output_type": "display_data",
     "data": {
      "text/html": "<pre>recommendations finished on 168000/356990 queries. users per second: 14607.4</pre>",
      "text/plain": "recommendations finished on 168000/356990 queries. users per second: 14607.4"
     },
     "metadata": {}
    },
    {
     "output_type": "display_data",
     "data": {
      "text/html": "<pre>recommendations finished on 169000/356990 queries. users per second: 14612.5</pre>",
      "text/plain": "recommendations finished on 169000/356990 queries. users per second: 14612.5"
     },
     "metadata": {}
    },
    {
     "output_type": "display_data",
     "data": {
      "text/html": "<pre>recommendations finished on 170000/356990 queries. users per second: 14618.4</pre>",
      "text/plain": "recommendations finished on 170000/356990 queries. users per second: 14618.4"
     },
     "metadata": {}
    },
    {
     "output_type": "display_data",
     "data": {
      "text/html": "<pre>recommendations finished on 171000/356990 queries. users per second: 14631.5</pre>",
      "text/plain": "recommendations finished on 171000/356990 queries. users per second: 14631.5"
     },
     "metadata": {}
    },
    {
     "output_type": "display_data",
     "data": {
      "text/html": "<pre>recommendations finished on 172000/356990 queries. users per second: 14646.1</pre>",
      "text/plain": "recommendations finished on 172000/356990 queries. users per second: 14646.1"
     },
     "metadata": {}
    },
    {
     "output_type": "display_data",
     "data": {
      "text/html": "<pre>recommendations finished on 173000/356990 queries. users per second: 14650.5</pre>",
      "text/plain": "recommendations finished on 173000/356990 queries. users per second: 14650.5"
     },
     "metadata": {}
    },
    {
     "output_type": "display_data",
     "data": {
      "text/html": "<pre>recommendations finished on 174000/356990 queries. users per second: 14664.1</pre>",
      "text/plain": "recommendations finished on 174000/356990 queries. users per second: 14664.1"
     },
     "metadata": {}
    },
    {
     "output_type": "display_data",
     "data": {
      "text/html": "<pre>recommendations finished on 175000/356990 queries. users per second: 14675.9</pre>",
      "text/plain": "recommendations finished on 175000/356990 queries. users per second: 14675.9"
     },
     "metadata": {}
    },
    {
     "output_type": "display_data",
     "data": {
      "text/html": "<pre>recommendations finished on 176000/356990 queries. users per second: 14672.6</pre>",
      "text/plain": "recommendations finished on 176000/356990 queries. users per second: 14672.6"
     },
     "metadata": {}
    },
    {
     "output_type": "display_data",
     "data": {
      "text/html": "<pre>recommendations finished on 177000/356990 queries. users per second: 14682.2</pre>",
      "text/plain": "recommendations finished on 177000/356990 queries. users per second: 14682.2"
     },
     "metadata": {}
    },
    {
     "output_type": "display_data",
     "data": {
      "text/html": "<pre>recommendations finished on 178000/356990 queries. users per second: 14683.6</pre>",
      "text/plain": "recommendations finished on 178000/356990 queries. users per second: 14683.6"
     },
     "metadata": {}
    },
    {
     "output_type": "display_data",
     "data": {
      "text/html": "<pre>recommendations finished on 179000/356990 queries. users per second: 14679.2</pre>",
      "text/plain": "recommendations finished on 179000/356990 queries. users per second: 14679.2"
     },
     "metadata": {}
    },
    {
     "output_type": "display_data",
     "data": {
      "text/html": "<pre>recommendations finished on 180000/356990 queries. users per second: 14683.9</pre>",
      "text/plain": "recommendations finished on 180000/356990 queries. users per second: 14683.9"
     },
     "metadata": {}
    },
    {
     "output_type": "display_data",
     "data": {
      "text/html": "<pre>recommendations finished on 181000/356990 queries. users per second: 14687.2</pre>",
      "text/plain": "recommendations finished on 181000/356990 queries. users per second: 14687.2"
     },
     "metadata": {}
    },
    {
     "output_type": "display_data",
     "data": {
      "text/html": "<pre>recommendations finished on 182000/356990 queries. users per second: 14685.9</pre>",
      "text/plain": "recommendations finished on 182000/356990 queries. users per second: 14685.9"
     },
     "metadata": {}
    },
    {
     "output_type": "display_data",
     "data": {
      "text/html": "<pre>recommendations finished on 183000/356990 queries. users per second: 14681.6</pre>",
      "text/plain": "recommendations finished on 183000/356990 queries. users per second: 14681.6"
     },
     "metadata": {}
    },
    {
     "output_type": "display_data",
     "data": {
      "text/html": "<pre>recommendations finished on 184000/356990 queries. users per second: 14653.2</pre>",
      "text/plain": "recommendations finished on 184000/356990 queries. users per second: 14653.2"
     },
     "metadata": {}
    },
    {
     "output_type": "display_data",
     "data": {
      "text/html": "<pre>recommendations finished on 185000/356990 queries. users per second: 14634.9</pre>",
      "text/plain": "recommendations finished on 185000/356990 queries. users per second: 14634.9"
     },
     "metadata": {}
    },
    {
     "output_type": "display_data",
     "data": {
      "text/html": "<pre>recommendations finished on 186000/356990 queries. users per second: 14641.5</pre>",
      "text/plain": "recommendations finished on 186000/356990 queries. users per second: 14641.5"
     },
     "metadata": {}
    },
    {
     "output_type": "display_data",
     "data": {
      "text/html": "<pre>recommendations finished on 187000/356990 queries. users per second: 14639.1</pre>",
      "text/plain": "recommendations finished on 187000/356990 queries. users per second: 14639.1"
     },
     "metadata": {}
    },
    {
     "output_type": "display_data",
     "data": {
      "text/html": "<pre>recommendations finished on 188000/356990 queries. users per second: 14641.9</pre>",
      "text/plain": "recommendations finished on 188000/356990 queries. users per second: 14641.9"
     },
     "metadata": {}
    },
    {
     "output_type": "display_data",
     "data": {
      "text/html": "<pre>recommendations finished on 189000/356990 queries. users per second: 14629.1</pre>",
      "text/plain": "recommendations finished on 189000/356990 queries. users per second: 14629.1"
     },
     "metadata": {}
    },
    {
     "output_type": "display_data",
     "data": {
      "text/html": "<pre>recommendations finished on 190000/356990 queries. users per second: 14617.6</pre>",
      "text/plain": "recommendations finished on 190000/356990 queries. users per second: 14617.6"
     },
     "metadata": {}
    },
    {
     "output_type": "display_data",
     "data": {
      "text/html": "<pre>recommendations finished on 191000/356990 queries. users per second: 14614.9</pre>",
      "text/plain": "recommendations finished on 191000/356990 queries. users per second: 14614.9"
     },
     "metadata": {}
    },
    {
     "output_type": "display_data",
     "data": {
      "text/html": "<pre>recommendations finished on 192000/356990 queries. users per second: 14621.7</pre>",
      "text/plain": "recommendations finished on 192000/356990 queries. users per second: 14621.7"
     },
     "metadata": {}
    },
    {
     "output_type": "display_data",
     "data": {
      "text/html": "<pre>recommendations finished on 193000/356990 queries. users per second: 14631</pre>",
      "text/plain": "recommendations finished on 193000/356990 queries. users per second: 14631"
     },
     "metadata": {}
    },
    {
     "output_type": "display_data",
     "data": {
      "text/html": "<pre>recommendations finished on 194000/356990 queries. users per second: 14633.2</pre>",
      "text/plain": "recommendations finished on 194000/356990 queries. users per second: 14633.2"
     },
     "metadata": {}
    },
    {
     "output_type": "display_data",
     "data": {
      "text/html": "<pre>recommendations finished on 195000/356990 queries. users per second: 14630.9</pre>",
      "text/plain": "recommendations finished on 195000/356990 queries. users per second: 14630.9"
     },
     "metadata": {}
    },
    {
     "output_type": "display_data",
     "data": {
      "text/html": "<pre>recommendations finished on 196000/356990 queries. users per second: 14634.8</pre>",
      "text/plain": "recommendations finished on 196000/356990 queries. users per second: 14634.8"
     },
     "metadata": {}
    },
    {
     "output_type": "display_data",
     "data": {
      "text/html": "<pre>recommendations finished on 197000/356990 queries. users per second: 14641.9</pre>",
      "text/plain": "recommendations finished on 197000/356990 queries. users per second: 14641.9"
     },
     "metadata": {}
    },
    {
     "output_type": "display_data",
     "data": {
      "text/html": "<pre>recommendations finished on 198000/356990 queries. users per second: 14651.5</pre>",
      "text/plain": "recommendations finished on 198000/356990 queries. users per second: 14651.5"
     },
     "metadata": {}
    },
    {
     "output_type": "display_data",
     "data": {
      "text/html": "<pre>recommendations finished on 199000/356990 queries. users per second: 14657.5</pre>",
      "text/plain": "recommendations finished on 199000/356990 queries. users per second: 14657.5"
     },
     "metadata": {}
    },
    {
     "output_type": "display_data",
     "data": {
      "text/html": "<pre>recommendations finished on 200000/356990 queries. users per second: 14653</pre>",
      "text/plain": "recommendations finished on 200000/356990 queries. users per second: 14653"
     },
     "metadata": {}
    },
    {
     "output_type": "display_data",
     "data": {
      "text/html": "<pre>recommendations finished on 201000/356990 queries. users per second: 14660</pre>",
      "text/plain": "recommendations finished on 201000/356990 queries. users per second: 14660"
     },
     "metadata": {}
    },
    {
     "output_type": "display_data",
     "data": {
      "text/html": "<pre>recommendations finished on 202000/356990 queries. users per second: 14663</pre>",
      "text/plain": "recommendations finished on 202000/356990 queries. users per second: 14663"
     },
     "metadata": {}
    },
    {
     "output_type": "display_data",
     "data": {
      "text/html": "<pre>recommendations finished on 203000/356990 queries. users per second: 14662.5</pre>",
      "text/plain": "recommendations finished on 203000/356990 queries. users per second: 14662.5"
     },
     "metadata": {}
    },
    {
     "output_type": "display_data",
     "data": {
      "text/html": "<pre>recommendations finished on 204000/356990 queries. users per second: 14668.7</pre>",
      "text/plain": "recommendations finished on 204000/356990 queries. users per second: 14668.7"
     },
     "metadata": {}
    },
    {
     "output_type": "display_data",
     "data": {
      "text/html": "<pre>recommendations finished on 205000/356990 queries. users per second: 14669.7</pre>",
      "text/plain": "recommendations finished on 205000/356990 queries. users per second: 14669.7"
     },
     "metadata": {}
    },
    {
     "output_type": "display_data",
     "data": {
      "text/html": "<pre>recommendations finished on 206000/356990 queries. users per second: 14667.2</pre>",
      "text/plain": "recommendations finished on 206000/356990 queries. users per second: 14667.2"
     },
     "metadata": {}
    },
    {
     "output_type": "display_data",
     "data": {
      "text/html": "<pre>recommendations finished on 207000/356990 queries. users per second: 14660.7</pre>",
      "text/plain": "recommendations finished on 207000/356990 queries. users per second: 14660.7"
     },
     "metadata": {}
    },
    {
     "output_type": "display_data",
     "data": {
      "text/html": "<pre>recommendations finished on 208000/356990 queries. users per second: 14662.5</pre>",
      "text/plain": "recommendations finished on 208000/356990 queries. users per second: 14662.5"
     },
     "metadata": {}
    },
    {
     "output_type": "display_data",
     "data": {
      "text/html": "<pre>recommendations finished on 209000/356990 queries. users per second: 14665.1</pre>",
      "text/plain": "recommendations finished on 209000/356990 queries. users per second: 14665.1"
     },
     "metadata": {}
    },
    {
     "output_type": "display_data",
     "data": {
      "text/html": "<pre>recommendations finished on 210000/356990 queries. users per second: 14665.8</pre>",
      "text/plain": "recommendations finished on 210000/356990 queries. users per second: 14665.8"
     },
     "metadata": {}
    },
    {
     "output_type": "display_data",
     "data": {
      "text/html": "<pre>recommendations finished on 211000/356990 queries. users per second: 14660.3</pre>",
      "text/plain": "recommendations finished on 211000/356990 queries. users per second: 14660.3"
     },
     "metadata": {}
    },
    {
     "output_type": "display_data",
     "data": {
      "text/html": "<pre>recommendations finished on 212000/356990 queries. users per second: 14655.4</pre>",
      "text/plain": "recommendations finished on 212000/356990 queries. users per second: 14655.4"
     },
     "metadata": {}
    },
    {
     "output_type": "display_data",
     "data": {
      "text/html": "<pre>recommendations finished on 213000/356990 queries. users per second: 14655.9</pre>",
      "text/plain": "recommendations finished on 213000/356990 queries. users per second: 14655.9"
     },
     "metadata": {}
    },
    {
     "output_type": "display_data",
     "data": {
      "text/html": "<pre>recommendations finished on 214000/356990 queries. users per second: 14657.2</pre>",
      "text/plain": "recommendations finished on 214000/356990 queries. users per second: 14657.2"
     },
     "metadata": {}
    },
    {
     "output_type": "display_data",
     "data": {
      "text/html": "<pre>recommendations finished on 215000/356990 queries. users per second: 14662</pre>",
      "text/plain": "recommendations finished on 215000/356990 queries. users per second: 14662"
     },
     "metadata": {}
    },
    {
     "output_type": "display_data",
     "data": {
      "text/html": "<pre>recommendations finished on 216000/356990 queries. users per second: 14662.4</pre>",
      "text/plain": "recommendations finished on 216000/356990 queries. users per second: 14662.4"
     },
     "metadata": {}
    },
    {
     "output_type": "display_data",
     "data": {
      "text/html": "<pre>recommendations finished on 217000/356990 queries. users per second: 14663.9</pre>",
      "text/plain": "recommendations finished on 217000/356990 queries. users per second: 14663.9"
     },
     "metadata": {}
    },
    {
     "output_type": "display_data",
     "data": {
      "text/html": "<pre>recommendations finished on 218000/356990 queries. users per second: 14669.9</pre>",
      "text/plain": "recommendations finished on 218000/356990 queries. users per second: 14669.9"
     },
     "metadata": {}
    },
    {
     "output_type": "display_data",
     "data": {
      "text/html": "<pre>recommendations finished on 219000/356990 queries. users per second: 14675.9</pre>",
      "text/plain": "recommendations finished on 219000/356990 queries. users per second: 14675.9"
     },
     "metadata": {}
    },
    {
     "output_type": "display_data",
     "data": {
      "text/html": "<pre>recommendations finished on 220000/356990 queries. users per second: 14680.3</pre>",
      "text/plain": "recommendations finished on 220000/356990 queries. users per second: 14680.3"
     },
     "metadata": {}
    },
    {
     "output_type": "display_data",
     "data": {
      "text/html": "<pre>recommendations finished on 221000/356990 queries. users per second: 14688.3</pre>",
      "text/plain": "recommendations finished on 221000/356990 queries. users per second: 14688.3"
     },
     "metadata": {}
    },
    {
     "output_type": "display_data",
     "data": {
      "text/html": "<pre>recommendations finished on 222000/356990 queries. users per second: 14693.7</pre>",
      "text/plain": "recommendations finished on 222000/356990 queries. users per second: 14693.7"
     },
     "metadata": {}
    },
    {
     "output_type": "display_data",
     "data": {
      "text/html": "<pre>recommendations finished on 223000/356990 queries. users per second: 14692.9</pre>",
      "text/plain": "recommendations finished on 223000/356990 queries. users per second: 14692.9"
     },
     "metadata": {}
    },
    {
     "output_type": "display_data",
     "data": {
      "text/html": "<pre>recommendations finished on 224000/356990 queries. users per second: 14696.4</pre>",
      "text/plain": "recommendations finished on 224000/356990 queries. users per second: 14696.4"
     },
     "metadata": {}
    },
    {
     "output_type": "display_data",
     "data": {
      "text/html": "<pre>recommendations finished on 225000/356990 queries. users per second: 14706.2</pre>",
      "text/plain": "recommendations finished on 225000/356990 queries. users per second: 14706.2"
     },
     "metadata": {}
    },
    {
     "output_type": "display_data",
     "data": {
      "text/html": "<pre>recommendations finished on 226000/356990 queries. users per second: 14703.5</pre>",
      "text/plain": "recommendations finished on 226000/356990 queries. users per second: 14703.5"
     },
     "metadata": {}
    },
    {
     "output_type": "display_data",
     "data": {
      "text/html": "<pre>recommendations finished on 227000/356990 queries. users per second: 14686</pre>",
      "text/plain": "recommendations finished on 227000/356990 queries. users per second: 14686"
     },
     "metadata": {}
    },
    {
     "output_type": "display_data",
     "data": {
      "text/html": "<pre>recommendations finished on 228000/356990 queries. users per second: 14668.4</pre>",
      "text/plain": "recommendations finished on 228000/356990 queries. users per second: 14668.4"
     },
     "metadata": {}
    },
    {
     "output_type": "display_data",
     "data": {
      "text/html": "<pre>recommendations finished on 229000/356990 queries. users per second: 14660.3</pre>",
      "text/plain": "recommendations finished on 229000/356990 queries. users per second: 14660.3"
     },
     "metadata": {}
    },
    {
     "output_type": "display_data",
     "data": {
      "text/html": "<pre>recommendations finished on 230000/356990 queries. users per second: 14660.7</pre>",
      "text/plain": "recommendations finished on 230000/356990 queries. users per second: 14660.7"
     },
     "metadata": {}
    },
    {
     "output_type": "display_data",
     "data": {
      "text/html": "<pre>recommendations finished on 231000/356990 queries. users per second: 14664.8</pre>",
      "text/plain": "recommendations finished on 231000/356990 queries. users per second: 14664.8"
     },
     "metadata": {}
    },
    {
     "output_type": "display_data",
     "data": {
      "text/html": "<pre>recommendations finished on 232000/356990 queries. users per second: 14662</pre>",
      "text/plain": "recommendations finished on 232000/356990 queries. users per second: 14662"
     },
     "metadata": {}
    },
    {
     "output_type": "display_data",
     "data": {
      "text/html": "<pre>recommendations finished on 233000/356990 queries. users per second: 14656.9</pre>",
      "text/plain": "recommendations finished on 233000/356990 queries. users per second: 14656.9"
     },
     "metadata": {}
    },
    {
     "output_type": "display_data",
     "data": {
      "text/html": "<pre>recommendations finished on 234000/356990 queries. users per second: 14650.4</pre>",
      "text/plain": "recommendations finished on 234000/356990 queries. users per second: 14650.4"
     },
     "metadata": {}
    },
    {
     "output_type": "display_data",
     "data": {
      "text/html": "<pre>recommendations finished on 235000/356990 queries. users per second: 14654</pre>",
      "text/plain": "recommendations finished on 235000/356990 queries. users per second: 14654"
     },
     "metadata": {}
    },
    {
     "output_type": "display_data",
     "data": {
      "text/html": "<pre>recommendations finished on 236000/356990 queries. users per second: 14656.4</pre>",
      "text/plain": "recommendations finished on 236000/356990 queries. users per second: 14656.4"
     },
     "metadata": {}
    },
    {
     "output_type": "display_data",
     "data": {
      "text/html": "<pre>recommendations finished on 237000/356990 queries. users per second: 14659.5</pre>",
      "text/plain": "recommendations finished on 237000/356990 queries. users per second: 14659.5"
     },
     "metadata": {}
    },
    {
     "output_type": "display_data",
     "data": {
      "text/html": "<pre>recommendations finished on 238000/356990 queries. users per second: 14667.7</pre>",
      "text/plain": "recommendations finished on 238000/356990 queries. users per second: 14667.7"
     },
     "metadata": {}
    },
    {
     "output_type": "display_data",
     "data": {
      "text/html": "<pre>recommendations finished on 239000/356990 queries. users per second: 14665.7</pre>",
      "text/plain": "recommendations finished on 239000/356990 queries. users per second: 14665.7"
     },
     "metadata": {}
    },
    {
     "output_type": "display_data",
     "data": {
      "text/html": "<pre>recommendations finished on 240000/356990 queries. users per second: 14665</pre>",
      "text/plain": "recommendations finished on 240000/356990 queries. users per second: 14665"
     },
     "metadata": {}
    },
    {
     "output_type": "display_data",
     "data": {
      "text/html": "<pre>recommendations finished on 241000/356990 queries. users per second: 14668.5</pre>",
      "text/plain": "recommendations finished on 241000/356990 queries. users per second: 14668.5"
     },
     "metadata": {}
    },
    {
     "output_type": "display_data",
     "data": {
      "text/html": "<pre>recommendations finished on 242000/356990 queries. users per second: 14670.2</pre>",
      "text/plain": "recommendations finished on 242000/356990 queries. users per second: 14670.2"
     },
     "metadata": {}
    },
    {
     "output_type": "display_data",
     "data": {
      "text/html": "<pre>recommendations finished on 243000/356990 queries. users per second: 14672.4</pre>",
      "text/plain": "recommendations finished on 243000/356990 queries. users per second: 14672.4"
     },
     "metadata": {}
    },
    {
     "output_type": "display_data",
     "data": {
      "text/html": "<pre>recommendations finished on 244000/356990 queries. users per second: 14670.4</pre>",
      "text/plain": "recommendations finished on 244000/356990 queries. users per second: 14670.4"
     },
     "metadata": {}
    },
    {
     "output_type": "display_data",
     "data": {
      "text/html": "<pre>recommendations finished on 245000/356990 queries. users per second: 14666</pre>",
      "text/plain": "recommendations finished on 245000/356990 queries. users per second: 14666"
     },
     "metadata": {}
    },
    {
     "output_type": "display_data",
     "data": {
      "text/html": "<pre>recommendations finished on 246000/356990 queries. users per second: 14661.8</pre>",
      "text/plain": "recommendations finished on 246000/356990 queries. users per second: 14661.8"
     },
     "metadata": {}
    },
    {
     "output_type": "display_data",
     "data": {
      "text/html": "<pre>recommendations finished on 247000/356990 queries. users per second: 14665.8</pre>",
      "text/plain": "recommendations finished on 247000/356990 queries. users per second: 14665.8"
     },
     "metadata": {}
    },
    {
     "output_type": "display_data",
     "data": {
      "text/html": "<pre>recommendations finished on 248000/356990 queries. users per second: 14667.6</pre>",
      "text/plain": "recommendations finished on 248000/356990 queries. users per second: 14667.6"
     },
     "metadata": {}
    },
    {
     "output_type": "display_data",
     "data": {
      "text/html": "<pre>recommendations finished on 249000/356990 queries. users per second: 14669.8</pre>",
      "text/plain": "recommendations finished on 249000/356990 queries. users per second: 14669.8"
     },
     "metadata": {}
    },
    {
     "output_type": "display_data",
     "data": {
      "text/html": "<pre>recommendations finished on 250000/356990 queries. users per second: 14670.9</pre>",
      "text/plain": "recommendations finished on 250000/356990 queries. users per second: 14670.9"
     },
     "metadata": {}
    },
    {
     "output_type": "display_data",
     "data": {
      "text/html": "<pre>recommendations finished on 251000/356990 queries. users per second: 14682.6</pre>",
      "text/plain": "recommendations finished on 251000/356990 queries. users per second: 14682.6"
     },
     "metadata": {}
    },
    {
     "output_type": "display_data",
     "data": {
      "text/html": "<pre>recommendations finished on 252000/356990 queries. users per second: 14690.4</pre>",
      "text/plain": "recommendations finished on 252000/356990 queries. users per second: 14690.4"
     },
     "metadata": {}
    },
    {
     "output_type": "display_data",
     "data": {
      "text/html": "<pre>recommendations finished on 253000/356990 queries. users per second: 14691.7</pre>",
      "text/plain": "recommendations finished on 253000/356990 queries. users per second: 14691.7"
     },
     "metadata": {}
    },
    {
     "output_type": "display_data",
     "data": {
      "text/html": "<pre>recommendations finished on 254000/356990 queries. users per second: 14692.2</pre>",
      "text/plain": "recommendations finished on 254000/356990 queries. users per second: 14692.2"
     },
     "metadata": {}
    },
    {
     "output_type": "display_data",
     "data": {
      "text/html": "<pre>recommendations finished on 255000/356990 queries. users per second: 14691.8</pre>",
      "text/plain": "recommendations finished on 255000/356990 queries. users per second: 14691.8"
     },
     "metadata": {}
    },
    {
     "output_type": "display_data",
     "data": {
      "text/html": "<pre>recommendations finished on 256000/356990 queries. users per second: 14698</pre>",
      "text/plain": "recommendations finished on 256000/356990 queries. users per second: 14698"
     },
     "metadata": {}
    },
    {
     "output_type": "display_data",
     "data": {
      "text/html": "<pre>recommendations finished on 257000/356990 queries. users per second: 14701.1</pre>",
      "text/plain": "recommendations finished on 257000/356990 queries. users per second: 14701.1"
     },
     "metadata": {}
    },
    {
     "output_type": "display_data",
     "data": {
      "text/html": "<pre>recommendations finished on 258000/356990 queries. users per second: 14705.5</pre>",
      "text/plain": "recommendations finished on 258000/356990 queries. users per second: 14705.5"
     },
     "metadata": {}
    },
    {
     "output_type": "display_data",
     "data": {
      "text/html": "<pre>recommendations finished on 259000/356990 queries. users per second: 14709.5</pre>",
      "text/plain": "recommendations finished on 259000/356990 queries. users per second: 14709.5"
     },
     "metadata": {}
    },
    {
     "output_type": "display_data",
     "data": {
      "text/html": "<pre>recommendations finished on 260000/356990 queries. users per second: 14707.9</pre>",
      "text/plain": "recommendations finished on 260000/356990 queries. users per second: 14707.9"
     },
     "metadata": {}
    },
    {
     "output_type": "display_data",
     "data": {
      "text/html": "<pre>recommendations finished on 261000/356990 queries. users per second: 14711.4</pre>",
      "text/plain": "recommendations finished on 261000/356990 queries. users per second: 14711.4"
     },
     "metadata": {}
    },
    {
     "output_type": "display_data",
     "data": {
      "text/html": "<pre>recommendations finished on 262000/356990 queries. users per second: 14715.5</pre>",
      "text/plain": "recommendations finished on 262000/356990 queries. users per second: 14715.5"
     },
     "metadata": {}
    },
    {
     "output_type": "display_data",
     "data": {
      "text/html": "<pre>recommendations finished on 263000/356990 queries. users per second: 14720.4</pre>",
      "text/plain": "recommendations finished on 263000/356990 queries. users per second: 14720.4"
     },
     "metadata": {}
    },
    {
     "output_type": "display_data",
     "data": {
      "text/html": "<pre>recommendations finished on 264000/356990 queries. users per second: 14713.6</pre>",
      "text/plain": "recommendations finished on 264000/356990 queries. users per second: 14713.6"
     },
     "metadata": {}
    },
    {
     "output_type": "display_data",
     "data": {
      "text/html": "<pre>recommendations finished on 265000/356990 queries. users per second: 14692</pre>",
      "text/plain": "recommendations finished on 265000/356990 queries. users per second: 14692"
     },
     "metadata": {}
    },
    {
     "output_type": "display_data",
     "data": {
      "text/html": "<pre>recommendations finished on 266000/356990 queries. users per second: 14695.4</pre>",
      "text/plain": "recommendations finished on 266000/356990 queries. users per second: 14695.4"
     },
     "metadata": {}
    },
    {
     "output_type": "display_data",
     "data": {
      "text/html": "<pre>recommendations finished on 267000/356990 queries. users per second: 14699.2</pre>",
      "text/plain": "recommendations finished on 267000/356990 queries. users per second: 14699.2"
     },
     "metadata": {}
    },
    {
     "output_type": "display_data",
     "data": {
      "text/html": "<pre>recommendations finished on 268000/356990 queries. users per second: 14704.6</pre>",
      "text/plain": "recommendations finished on 268000/356990 queries. users per second: 14704.6"
     },
     "metadata": {}
    },
    {
     "output_type": "display_data",
     "data": {
      "text/html": "<pre>recommendations finished on 269000/356990 queries. users per second: 14706.5</pre>",
      "text/plain": "recommendations finished on 269000/356990 queries. users per second: 14706.5"
     },
     "metadata": {}
    },
    {
     "output_type": "display_data",
     "data": {
      "text/html": "<pre>recommendations finished on 270000/356990 queries. users per second: 14701.3</pre>",
      "text/plain": "recommendations finished on 270000/356990 queries. users per second: 14701.3"
     },
     "metadata": {}
    },
    {
     "output_type": "display_data",
     "data": {
      "text/html": "<pre>recommendations finished on 271000/356990 queries. users per second: 14694.8</pre>",
      "text/plain": "recommendations finished on 271000/356990 queries. users per second: 14694.8"
     },
     "metadata": {}
    },
    {
     "output_type": "display_data",
     "data": {
      "text/html": "<pre>recommendations finished on 272000/356990 queries. users per second: 14690.3</pre>",
      "text/plain": "recommendations finished on 272000/356990 queries. users per second: 14690.3"
     },
     "metadata": {}
    },
    {
     "output_type": "display_data",
     "data": {
      "text/html": "<pre>recommendations finished on 273000/356990 queries. users per second: 14689</pre>",
      "text/plain": "recommendations finished on 273000/356990 queries. users per second: 14689"
     },
     "metadata": {}
    },
    {
     "output_type": "display_data",
     "data": {
      "text/html": "<pre>recommendations finished on 274000/356990 queries. users per second: 14682.4</pre>",
      "text/plain": "recommendations finished on 274000/356990 queries. users per second: 14682.4"
     },
     "metadata": {}
    },
    {
     "output_type": "display_data",
     "data": {
      "text/html": "<pre>recommendations finished on 275000/356990 queries. users per second: 14669.1</pre>",
      "text/plain": "recommendations finished on 275000/356990 queries. users per second: 14669.1"
     },
     "metadata": {}
    },
    {
     "output_type": "display_data",
     "data": {
      "text/html": "<pre>recommendations finished on 276000/356990 queries. users per second: 14668</pre>",
      "text/plain": "recommendations finished on 276000/356990 queries. users per second: 14668"
     },
     "metadata": {}
    },
    {
     "output_type": "display_data",
     "data": {
      "text/html": "<pre>recommendations finished on 277000/356990 queries. users per second: 14669.3</pre>",
      "text/plain": "recommendations finished on 277000/356990 queries. users per second: 14669.3"
     },
     "metadata": {}
    },
    {
     "output_type": "display_data",
     "data": {
      "text/html": "<pre>recommendations finished on 278000/356990 queries. users per second: 14674</pre>",
      "text/plain": "recommendations finished on 278000/356990 queries. users per second: 14674"
     },
     "metadata": {}
    },
    {
     "output_type": "display_data",
     "data": {
      "text/html": "<pre>recommendations finished on 279000/356990 queries. users per second: 14670.4</pre>",
      "text/plain": "recommendations finished on 279000/356990 queries. users per second: 14670.4"
     },
     "metadata": {}
    },
    {
     "output_type": "display_data",
     "data": {
      "text/html": "<pre>recommendations finished on 280000/356990 queries. users per second: 14674.6</pre>",
      "text/plain": "recommendations finished on 280000/356990 queries. users per second: 14674.6"
     },
     "metadata": {}
    },
    {
     "output_type": "display_data",
     "data": {
      "text/html": "<pre>recommendations finished on 281000/356990 queries. users per second: 14680.5</pre>",
      "text/plain": "recommendations finished on 281000/356990 queries. users per second: 14680.5"
     },
     "metadata": {}
    },
    {
     "output_type": "display_data",
     "data": {
      "text/html": "<pre>recommendations finished on 282000/356990 queries. users per second: 14683.8</pre>",
      "text/plain": "recommendations finished on 282000/356990 queries. users per second: 14683.8"
     },
     "metadata": {}
    },
    {
     "output_type": "display_data",
     "data": {
      "text/html": "<pre>recommendations finished on 283000/356990 queries. users per second: 14687.1</pre>",
      "text/plain": "recommendations finished on 283000/356990 queries. users per second: 14687.1"
     },
     "metadata": {}
    },
    {
     "output_type": "display_data",
     "data": {
      "text/html": "<pre>recommendations finished on 284000/356990 queries. users per second: 14692.2</pre>",
      "text/plain": "recommendations finished on 284000/356990 queries. users per second: 14692.2"
     },
     "metadata": {}
    },
    {
     "output_type": "display_data",
     "data": {
      "text/html": "<pre>recommendations finished on 285000/356990 queries. users per second: 14681.5</pre>",
      "text/plain": "recommendations finished on 285000/356990 queries. users per second: 14681.5"
     },
     "metadata": {}
    },
    {
     "output_type": "display_data",
     "data": {
      "text/html": "<pre>recommendations finished on 286000/356990 queries. users per second: 14681.4</pre>",
      "text/plain": "recommendations finished on 286000/356990 queries. users per second: 14681.4"
     },
     "metadata": {}
    },
    {
     "output_type": "display_data",
     "data": {
      "text/html": "<pre>recommendations finished on 287000/356990 queries. users per second: 14689</pre>",
      "text/plain": "recommendations finished on 287000/356990 queries. users per second: 14689"
     },
     "metadata": {}
    },
    {
     "output_type": "display_data",
     "data": {
      "text/html": "<pre>recommendations finished on 288000/356990 queries. users per second: 14692.5</pre>",
      "text/plain": "recommendations finished on 288000/356990 queries. users per second: 14692.5"
     },
     "metadata": {}
    },
    {
     "output_type": "display_data",
     "data": {
      "text/html": "<pre>recommendations finished on 289000/356990 queries. users per second: 14695.6</pre>",
      "text/plain": "recommendations finished on 289000/356990 queries. users per second: 14695.6"
     },
     "metadata": {}
    },
    {
     "output_type": "display_data",
     "data": {
      "text/html": "<pre>recommendations finished on 290000/356990 queries. users per second: 14694.4</pre>",
      "text/plain": "recommendations finished on 290000/356990 queries. users per second: 14694.4"
     },
     "metadata": {}
    },
    {
     "output_type": "display_data",
     "data": {
      "text/html": "<pre>recommendations finished on 291000/356990 queries. users per second: 14701.3</pre>",
      "text/plain": "recommendations finished on 291000/356990 queries. users per second: 14701.3"
     },
     "metadata": {}
    },
    {
     "output_type": "display_data",
     "data": {
      "text/html": "<pre>recommendations finished on 292000/356990 queries. users per second: 14706.9</pre>",
      "text/plain": "recommendations finished on 292000/356990 queries. users per second: 14706.9"
     },
     "metadata": {}
    },
    {
     "output_type": "display_data",
     "data": {
      "text/html": "<pre>recommendations finished on 293000/356990 queries. users per second: 14697.2</pre>",
      "text/plain": "recommendations finished on 293000/356990 queries. users per second: 14697.2"
     },
     "metadata": {}
    },
    {
     "output_type": "display_data",
     "data": {
      "text/html": "<pre>recommendations finished on 294000/356990 queries. users per second: 14704</pre>",
      "text/plain": "recommendations finished on 294000/356990 queries. users per second: 14704"
     },
     "metadata": {}
    },
    {
     "output_type": "display_data",
     "data": {
      "text/html": "<pre>recommendations finished on 295000/356990 queries. users per second: 14697.1</pre>",
      "text/plain": "recommendations finished on 295000/356990 queries. users per second: 14697.1"
     },
     "metadata": {}
    },
    {
     "output_type": "display_data",
     "data": {
      "text/html": "<pre>recommendations finished on 296000/356990 queries. users per second: 14707.8</pre>",
      "text/plain": "recommendations finished on 296000/356990 queries. users per second: 14707.8"
     },
     "metadata": {}
    },
    {
     "output_type": "display_data",
     "data": {
      "text/html": "<pre>recommendations finished on 297000/356990 queries. users per second: 14693.8</pre>",
      "text/plain": "recommendations finished on 297000/356990 queries. users per second: 14693.8"
     },
     "metadata": {}
    },
    {
     "output_type": "display_data",
     "data": {
      "text/html": "<pre>recommendations finished on 298000/356990 queries. users per second: 14679.3</pre>",
      "text/plain": "recommendations finished on 298000/356990 queries. users per second: 14679.3"
     },
     "metadata": {}
    },
    {
     "output_type": "display_data",
     "data": {
      "text/html": "<pre>recommendations finished on 299000/356990 queries. users per second: 14669.3</pre>",
      "text/plain": "recommendations finished on 299000/356990 queries. users per second: 14669.3"
     },
     "metadata": {}
    },
    {
     "output_type": "display_data",
     "data": {
      "text/html": "<pre>recommendations finished on 300000/356990 queries. users per second: 14656.4</pre>",
      "text/plain": "recommendations finished on 300000/356990 queries. users per second: 14656.4"
     },
     "metadata": {}
    },
    {
     "output_type": "display_data",
     "data": {
      "text/html": "<pre>recommendations finished on 301000/356990 queries. users per second: 14659.7</pre>",
      "text/plain": "recommendations finished on 301000/356990 queries. users per second: 14659.7"
     },
     "metadata": {}
    },
    {
     "output_type": "display_data",
     "data": {
      "text/html": "<pre>recommendations finished on 302000/356990 queries. users per second: 14645.3</pre>",
      "text/plain": "recommendations finished on 302000/356990 queries. users per second: 14645.3"
     },
     "metadata": {}
    },
    {
     "output_type": "display_data",
     "data": {
      "text/html": "<pre>recommendations finished on 303000/356990 queries. users per second: 14632.3</pre>",
      "text/plain": "recommendations finished on 303000/356990 queries. users per second: 14632.3"
     },
     "metadata": {}
    },
    {
     "output_type": "display_data",
     "data": {
      "text/html": "<pre>recommendations finished on 304000/356990 queries. users per second: 14625.4</pre>",
      "text/plain": "recommendations finished on 304000/356990 queries. users per second: 14625.4"
     },
     "metadata": {}
    },
    {
     "output_type": "display_data",
     "data": {
      "text/html": "<pre>recommendations finished on 305000/356990 queries. users per second: 14604.6</pre>",
      "text/plain": "recommendations finished on 305000/356990 queries. users per second: 14604.6"
     },
     "metadata": {}
    },
    {
     "output_type": "display_data",
     "data": {
      "text/html": "<pre>recommendations finished on 306000/356990 queries. users per second: 14609.2</pre>",
      "text/plain": "recommendations finished on 306000/356990 queries. users per second: 14609.2"
     },
     "metadata": {}
    },
    {
     "output_type": "display_data",
     "data": {
      "text/html": "<pre>recommendations finished on 307000/356990 queries. users per second: 14597.7</pre>",
      "text/plain": "recommendations finished on 307000/356990 queries. users per second: 14597.7"
     },
     "metadata": {}
    },
    {
     "output_type": "display_data",
     "data": {
      "text/html": "<pre>recommendations finished on 308000/356990 queries. users per second: 14586.2</pre>",
      "text/plain": "recommendations finished on 308000/356990 queries. users per second: 14586.2"
     },
     "metadata": {}
    },
    {
     "output_type": "display_data",
     "data": {
      "text/html": "<pre>recommendations finished on 309000/356990 queries. users per second: 14567</pre>",
      "text/plain": "recommendations finished on 309000/356990 queries. users per second: 14567"
     },
     "metadata": {}
    },
    {
     "output_type": "display_data",
     "data": {
      "text/html": "<pre>recommendations finished on 310000/356990 queries. users per second: 14557.4</pre>",
      "text/plain": "recommendations finished on 310000/356990 queries. users per second: 14557.4"
     },
     "metadata": {}
    },
    {
     "output_type": "display_data",
     "data": {
      "text/html": "<pre>recommendations finished on 311000/356990 queries. users per second: 14558.7</pre>",
      "text/plain": "recommendations finished on 311000/356990 queries. users per second: 14558.7"
     },
     "metadata": {}
    },
    {
     "output_type": "display_data",
     "data": {
      "text/html": "<pre>recommendations finished on 312000/356990 queries. users per second: 14559.2</pre>",
      "text/plain": "recommendations finished on 312000/356990 queries. users per second: 14559.2"
     },
     "metadata": {}
    },
    {
     "output_type": "display_data",
     "data": {
      "text/html": "<pre>recommendations finished on 313000/356990 queries. users per second: 14561.9</pre>",
      "text/plain": "recommendations finished on 313000/356990 queries. users per second: 14561.9"
     },
     "metadata": {}
    },
    {
     "output_type": "display_data",
     "data": {
      "text/html": "<pre>recommendations finished on 314000/356990 queries. users per second: 14557.9</pre>",
      "text/plain": "recommendations finished on 314000/356990 queries. users per second: 14557.9"
     },
     "metadata": {}
    },
    {
     "output_type": "display_data",
     "data": {
      "text/html": "<pre>recommendations finished on 315000/356990 queries. users per second: 14549.7</pre>",
      "text/plain": "recommendations finished on 315000/356990 queries. users per second: 14549.7"
     },
     "metadata": {}
    },
    {
     "output_type": "display_data",
     "data": {
      "text/html": "<pre>recommendations finished on 316000/356990 queries. users per second: 14530.4</pre>",
      "text/plain": "recommendations finished on 316000/356990 queries. users per second: 14530.4"
     },
     "metadata": {}
    },
    {
     "output_type": "display_data",
     "data": {
      "text/html": "<pre>recommendations finished on 317000/356990 queries. users per second: 14519.8</pre>",
      "text/plain": "recommendations finished on 317000/356990 queries. users per second: 14519.8"
     },
     "metadata": {}
    },
    {
     "output_type": "display_data",
     "data": {
      "text/html": "<pre>recommendations finished on 318000/356990 queries. users per second: 14500</pre>",
      "text/plain": "recommendations finished on 318000/356990 queries. users per second: 14500"
     },
     "metadata": {}
    },
    {
     "output_type": "display_data",
     "data": {
      "text/html": "<pre>recommendations finished on 319000/356990 queries. users per second: 14482.3</pre>",
      "text/plain": "recommendations finished on 319000/356990 queries. users per second: 14482.3"
     },
     "metadata": {}
    },
    {
     "output_type": "display_data",
     "data": {
      "text/html": "<pre>recommendations finished on 320000/356990 queries. users per second: 14452.3</pre>",
      "text/plain": "recommendations finished on 320000/356990 queries. users per second: 14452.3"
     },
     "metadata": {}
    },
    {
     "output_type": "display_data",
     "data": {
      "text/html": "<pre>recommendations finished on 321000/356990 queries. users per second: 14425.2</pre>",
      "text/plain": "recommendations finished on 321000/356990 queries. users per second: 14425.2"
     },
     "metadata": {}
    },
    {
     "output_type": "display_data",
     "data": {
      "text/html": "<pre>recommendations finished on 322000/356990 queries. users per second: 14400.5</pre>",
      "text/plain": "recommendations finished on 322000/356990 queries. users per second: 14400.5"
     },
     "metadata": {}
    },
    {
     "output_type": "display_data",
     "data": {
      "text/html": "<pre>recommendations finished on 323000/356990 queries. users per second: 14371.4</pre>",
      "text/plain": "recommendations finished on 323000/356990 queries. users per second: 14371.4"
     },
     "metadata": {}
    },
    {
     "output_type": "display_data",
     "data": {
      "text/html": "<pre>recommendations finished on 324000/356990 queries. users per second: 14352</pre>",
      "text/plain": "recommendations finished on 324000/356990 queries. users per second: 14352"
     },
     "metadata": {}
    },
    {
     "output_type": "display_data",
     "data": {
      "text/html": "<pre>recommendations finished on 325000/356990 queries. users per second: 14334</pre>",
      "text/plain": "recommendations finished on 325000/356990 queries. users per second: 14334"
     },
     "metadata": {}
    },
    {
     "output_type": "display_data",
     "data": {
      "text/html": "<pre>recommendations finished on 326000/356990 queries. users per second: 14327.3</pre>",
      "text/plain": "recommendations finished on 326000/356990 queries. users per second: 14327.3"
     },
     "metadata": {}
    },
    {
     "output_type": "display_data",
     "data": {
      "text/html": "<pre>recommendations finished on 327000/356990 queries. users per second: 14323.3</pre>",
      "text/plain": "recommendations finished on 327000/356990 queries. users per second: 14323.3"
     },
     "metadata": {}
    },
    {
     "output_type": "display_data",
     "data": {
      "text/html": "<pre>recommendations finished on 328000/356990 queries. users per second: 14310.3</pre>",
      "text/plain": "recommendations finished on 328000/356990 queries. users per second: 14310.3"
     },
     "metadata": {}
    },
    {
     "output_type": "display_data",
     "data": {
      "text/html": "<pre>recommendations finished on 329000/356990 queries. users per second: 14286.2</pre>",
      "text/plain": "recommendations finished on 329000/356990 queries. users per second: 14286.2"
     },
     "metadata": {}
    },
    {
     "output_type": "display_data",
     "data": {
      "text/html": "<pre>recommendations finished on 330000/356990 queries. users per second: 14277.2</pre>",
      "text/plain": "recommendations finished on 330000/356990 queries. users per second: 14277.2"
     },
     "metadata": {}
    },
    {
     "output_type": "display_data",
     "data": {
      "text/html": "<pre>recommendations finished on 331000/356990 queries. users per second: 14268.5</pre>",
      "text/plain": "recommendations finished on 331000/356990 queries. users per second: 14268.5"
     },
     "metadata": {}
    },
    {
     "output_type": "display_data",
     "data": {
      "text/html": "<pre>recommendations finished on 332000/356990 queries. users per second: 14271.3</pre>",
      "text/plain": "recommendations finished on 332000/356990 queries. users per second: 14271.3"
     },
     "metadata": {}
    },
    {
     "output_type": "display_data",
     "data": {
      "text/html": "<pre>recommendations finished on 333000/356990 queries. users per second: 14270.9</pre>",
      "text/plain": "recommendations finished on 333000/356990 queries. users per second: 14270.9"
     },
     "metadata": {}
    },
    {
     "output_type": "display_data",
     "data": {
      "text/html": "<pre>recommendations finished on 334000/356990 queries. users per second: 14275.4</pre>",
      "text/plain": "recommendations finished on 334000/356990 queries. users per second: 14275.4"
     },
     "metadata": {}
    },
    {
     "output_type": "display_data",
     "data": {
      "text/html": "<pre>recommendations finished on 335000/356990 queries. users per second: 14277.7</pre>",
      "text/plain": "recommendations finished on 335000/356990 queries. users per second: 14277.7"
     },
     "metadata": {}
    },
    {
     "output_type": "display_data",
     "data": {
      "text/html": "<pre>recommendations finished on 336000/356990 queries. users per second: 14283.6</pre>",
      "text/plain": "recommendations finished on 336000/356990 queries. users per second: 14283.6"
     },
     "metadata": {}
    },
    {
     "output_type": "display_data",
     "data": {
      "text/html": "<pre>recommendations finished on 337000/356990 queries. users per second: 14285</pre>",
      "text/plain": "recommendations finished on 337000/356990 queries. users per second: 14285"
     },
     "metadata": {}
    },
    {
     "output_type": "display_data",
     "data": {
      "text/html": "<pre>recommendations finished on 338000/356990 queries. users per second: 14274.6</pre>",
      "text/plain": "recommendations finished on 338000/356990 queries. users per second: 14274.6"
     },
     "metadata": {}
    },
    {
     "output_type": "display_data",
     "data": {
      "text/html": "<pre>recommendations finished on 339000/356990 queries. users per second: 14279</pre>",
      "text/plain": "recommendations finished on 339000/356990 queries. users per second: 14279"
     },
     "metadata": {}
    },
    {
     "output_type": "display_data",
     "data": {
      "text/html": "<pre>recommendations finished on 340000/356990 queries. users per second: 14277.8</pre>",
      "text/plain": "recommendations finished on 340000/356990 queries. users per second: 14277.8"
     },
     "metadata": {}
    },
    {
     "output_type": "display_data",
     "data": {
      "text/html": "<pre>recommendations finished on 341000/356990 queries. users per second: 14274.9</pre>",
      "text/plain": "recommendations finished on 341000/356990 queries. users per second: 14274.9"
     },
     "metadata": {}
    },
    {
     "output_type": "display_data",
     "data": {
      "text/html": "<pre>recommendations finished on 342000/356990 queries. users per second: 14277.5</pre>",
      "text/plain": "recommendations finished on 342000/356990 queries. users per second: 14277.5"
     },
     "metadata": {}
    },
    {
     "output_type": "display_data",
     "data": {
      "text/html": "<pre>recommendations finished on 343000/356990 queries. users per second: 14276.7</pre>",
      "text/plain": "recommendations finished on 343000/356990 queries. users per second: 14276.7"
     },
     "metadata": {}
    },
    {
     "output_type": "display_data",
     "data": {
      "text/html": "<pre>recommendations finished on 344000/356990 queries. users per second: 14274.4</pre>",
      "text/plain": "recommendations finished on 344000/356990 queries. users per second: 14274.4"
     },
     "metadata": {}
    },
    {
     "output_type": "display_data",
     "data": {
      "text/html": "<pre>recommendations finished on 345000/356990 queries. users per second: 14263.2</pre>",
      "text/plain": "recommendations finished on 345000/356990 queries. users per second: 14263.2"
     },
     "metadata": {}
    },
    {
     "output_type": "display_data",
     "data": {
      "text/html": "<pre>recommendations finished on 346000/356990 queries. users per second: 14250.9</pre>",
      "text/plain": "recommendations finished on 346000/356990 queries. users per second: 14250.9"
     },
     "metadata": {}
    },
    {
     "output_type": "display_data",
     "data": {
      "text/html": "<pre>recommendations finished on 347000/356990 queries. users per second: 14231.8</pre>",
      "text/plain": "recommendations finished on 347000/356990 queries. users per second: 14231.8"
     },
     "metadata": {}
    },
    {
     "output_type": "display_data",
     "data": {
      "text/html": "<pre>recommendations finished on 348000/356990 queries. users per second: 14221.2</pre>",
      "text/plain": "recommendations finished on 348000/356990 queries. users per second: 14221.2"
     },
     "metadata": {}
    },
    {
     "output_type": "display_data",
     "data": {
      "text/html": "<pre>recommendations finished on 349000/356990 queries. users per second: 14217</pre>",
      "text/plain": "recommendations finished on 349000/356990 queries. users per second: 14217"
     },
     "metadata": {}
    },
    {
     "output_type": "display_data",
     "data": {
      "text/html": "<pre>recommendations finished on 350000/356990 queries. users per second: 14210.3</pre>",
      "text/plain": "recommendations finished on 350000/356990 queries. users per second: 14210.3"
     },
     "metadata": {}
    },
    {
     "output_type": "display_data",
     "data": {
      "text/html": "<pre>recommendations finished on 351000/356990 queries. users per second: 14201.3</pre>",
      "text/plain": "recommendations finished on 351000/356990 queries. users per second: 14201.3"
     },
     "metadata": {}
    },
    {
     "output_type": "display_data",
     "data": {
      "text/html": "<pre>recommendations finished on 352000/356990 queries. users per second: 14189.3</pre>",
      "text/plain": "recommendations finished on 352000/356990 queries. users per second: 14189.3"
     },
     "metadata": {}
    },
    {
     "output_type": "display_data",
     "data": {
      "text/html": "<pre>recommendations finished on 353000/356990 queries. users per second: 14187.1</pre>",
      "text/plain": "recommendations finished on 353000/356990 queries. users per second: 14187.1"
     },
     "metadata": {}
    },
    {
     "output_type": "display_data",
     "data": {
      "text/html": "<pre>recommendations finished on 354000/356990 queries. users per second: 14184.5</pre>",
      "text/plain": "recommendations finished on 354000/356990 queries. users per second: 14184.5"
     },
     "metadata": {}
    },
    {
     "output_type": "display_data",
     "data": {
      "text/html": "<pre>recommendations finished on 355000/356990 queries. users per second: 14174</pre>",
      "text/plain": "recommendations finished on 355000/356990 queries. users per second: 14174"
     },
     "metadata": {}
    },
    {
     "output_type": "display_data",
     "data": {
      "text/html": "<pre>recommendations finished on 356000/356990 queries. users per second: 14167.4</pre>",
      "text/plain": "recommendations finished on 356000/356990 queries. users per second: 14167.4"
     },
     "metadata": {}
    },
    {
     "output_type": "stream",
     "name": "stdout",
     "text": "rank     score                 NAME    BRAND               COLOR\n0       1  0.000017  Long sleeve blouses  SOMEDAY               black\n18      2  0.000017  Hoodies & Cardigans  SOMEDAY         gentle sand\n30      3  0.000014                 Tops  SOMEDAY       vanilla cream\n42      4  0.000013                 Tops  SOMEDAY         cosmic blue\n54      5  0.000013              Skinnys  SOMEDAY               black\n66      6  0.000013                 Tops  SOMEDAY               black\n69      7  0.000013            Cardigans  SOMEDAY               black\n84      8  0.000012  Long sleeve blouses     OPUS  slate grey melange\n99      9  0.000012   Long sleeve shirts     OPUS        flawless ash\n108    10  0.000012             T-shirts     OPUS           poppy red\n"
    },
    {
     "output_type": "display_data",
     "data": {
      "image/png": "[encoded data removed]",
      "text/plain": "<Figure size 432x288 with 1 Axes>",
      "image/svg+xml": "<?xml version=\"1.0\" encoding=\"utf-8\" standalone=\"no\"?>\n<!DOCTYPE svg PUBLIC \"-//W3C//DTD SVG 1.1//EN\"\n  \"http://www.w3.org/Graphics/SVG/1.1/DTD/svg11.dtd\">\n<!-- Created with matplotlib (https://matplotlib.org/) -->\n<svg height=\"231.84pt\" version=\"1.1\" viewBox=\"0 0 349.2 231.84\" width=\"349.2pt\" xmlns=\"http://www.w3.org/2000/svg\" xmlns:xlink=\"http://www.w3.org/1999/xlink\">\n <defs>\n  <style type=\"text/css\">\n*{stroke-linecap:butt;stroke-linejoin:round;}\n  </style>\n </defs>\n <g id=\"figure_1\">\n  <g id=\"patch_1\">\n   <path d=\"M 0 231.84 \nL 349.2 231.84 \nL 349.2 0 \nL 0 0 \nz\n\" style=\"fill:none;\"/>\n  </g>\n  <g id=\"axes_1\">\n   <g id=\"patch_2\">\n    <path d=\"M 172.31249 19.049381 \nC 156.520969 19.049381 140.959585 22.855147 126.950496 30.143327 \nC 112.941407 37.431506 100.892935 47.989671 91.828766 60.920757 \nC 82.764597 73.851842 76.948924 88.778948 74.87587 104.433806 \nC 72.802817 120.088664 74.532805 136.014984 79.918848 150.859601 \nC 85.304892 165.704218 94.190005 179.034459 105.819271 189.717731 \nC 117.448537 200.401003 131.483 208.125922 146.730235 212.236148 \nC 161.977469 216.346375 177.993067 216.722108 193.416276 213.331424 \nC 208.839486 209.94074 223.220769 202.882467 235.338234 192.756304 \nL 172.31249 117.336596 \nL 172.31249 19.049381 \nz\n\" style=\"fill:#092436;opacity:0.5;stroke:#092436;stroke-linejoin:miter;\"/>\n   </g>\n   <g id=\"patch_3\">\n    <path d=\"M 235.338234 192.756304 \nC 250.826666 179.813136 261.958386 162.40773 267.21204 142.918856 \nC 272.465695 123.429981 271.590523 102.787854 264.706134 83.8136 \nC 257.821744 64.839347 245.256733 48.43862 228.728341 36.852881 \nC 212.199948 25.267141 192.497084 19.049384 172.312508 19.049381 \nL 172.31249 117.336596 \nL 235.338234 192.756304 \nz\n\" style=\"fill:#4c2604;opacity:0.5;stroke:#4c2604;stroke-linejoin:miter;\"/>\n   </g>\n   <g id=\"patch_4\">\n    <path d=\"M 174.278234 17.083636 \nC 158.486713 17.083636 142.925329 20.889403 128.91624 28.177582 \nC 114.907151 35.465762 102.858679 46.023927 93.79451 58.955012 \nC 84.730341 71.886098 78.914669 86.813203 76.841615 102.468061 \nC 74.768561 118.122919 76.498549 134.049239 81.884593 148.893857 \nC 87.270636 163.738474 96.155749 177.068715 107.785015 187.751986 \nC 119.414281 198.435258 133.448744 206.160178 148.695979 210.270404 \nC 163.943214 214.380631 179.958811 214.756364 195.382021 211.36568 \nC 210.80523 207.974996 225.186514 200.916722 237.303978 190.79056 \nL 174.278234 115.370852 \nL 174.278234 17.083636 \nz\n\" style=\"fill:#1f77b4;\"/>\n   </g>\n   <g id=\"patch_5\">\n    <path d=\"M 237.303978 190.79056 \nC 252.79241 177.847392 263.92413 160.441986 269.177785 140.953111 \nC 274.431439 121.464237 273.556267 100.822109 266.671878 81.847856 \nC 259.787489 62.873602 247.222477 46.472875 230.694085 34.887136 \nC 214.165692 23.301397 194.462828 17.08364 174.278252 17.083636 \nL 174.278234 115.370852 \nL 237.303978 190.79056 \nz\n\" style=\"fill:#ff7f0e;\"/>\n   </g>\n   <g id=\"matplotlib.axis_1\"/>\n   <g id=\"matplotlib.axis_2\"/>\n   <g id=\"text_1\">\n    <!-- OPUS -->\n    <defs>\n     <path d=\"M 39.40625 66.21875 \nQ 28.65625 66.21875 22.328125 58.203125 \nQ 16.015625 50.203125 16.015625 36.375 \nQ 16.015625 22.609375 22.328125 14.59375 \nQ 28.65625 6.59375 39.40625 6.59375 \nQ 50.140625 6.59375 56.421875 14.59375 \nQ 62.703125 22.609375 62.703125 36.375 \nQ 62.703125 50.203125 56.421875 58.203125 \nQ 50.140625 66.21875 39.40625 66.21875 \nz\nM 39.40625 74.21875 \nQ 54.734375 74.21875 63.90625 63.9375 \nQ 73.09375 53.65625 73.09375 36.375 \nQ 73.09375 19.140625 63.90625 8.859375 \nQ 54.734375 -1.421875 39.40625 -1.421875 \nQ 24.03125 -1.421875 14.8125 8.828125 \nQ 5.609375 19.09375 5.609375 36.375 \nQ 5.609375 53.65625 14.8125 63.9375 \nQ 24.03125 74.21875 39.40625 74.21875 \nz\n\" id=\"DejaVuSans-79\"/>\n     <path d=\"M 19.671875 64.796875 \nL 19.671875 37.40625 \nL 32.078125 37.40625 \nQ 38.96875 37.40625 42.71875 40.96875 \nQ 46.484375 44.53125 46.484375 51.125 \nQ 46.484375 57.671875 42.71875 61.234375 \nQ 38.96875 64.796875 32.078125 64.796875 \nz\nM 9.8125 72.90625 \nL 32.078125 72.90625 \nQ 44.34375 72.90625 50.609375 67.359375 \nQ 56.890625 61.8125 56.890625 51.125 \nQ 56.890625 40.328125 50.609375 34.8125 \nQ 44.34375 29.296875 32.078125 29.296875 \nL 19.671875 29.296875 \nL 19.671875 0 \nL 9.8125 0 \nz\n\" id=\"DejaVuSans-80\"/>\n     <path d=\"M 8.6875 72.90625 \nL 18.609375 72.90625 \nL 18.609375 28.609375 \nQ 18.609375 16.890625 22.84375 11.734375 \nQ 27.09375 6.59375 36.625 6.59375 \nQ 46.09375 6.59375 50.34375 11.734375 \nQ 54.59375 16.890625 54.59375 28.609375 \nL 54.59375 72.90625 \nL 64.5 72.90625 \nL 64.5 27.390625 \nQ 64.5 13.140625 57.4375 5.859375 \nQ 50.390625 -1.421875 36.625 -1.421875 \nQ 22.796875 -1.421875 15.734375 5.859375 \nQ 8.6875 13.140625 8.6875 27.390625 \nz\n\" id=\"DejaVuSans-85\"/>\n     <path d=\"M 53.515625 70.515625 \nL 53.515625 60.890625 \nQ 47.90625 63.578125 42.921875 64.890625 \nQ 37.9375 66.21875 33.296875 66.21875 \nQ 25.25 66.21875 20.875 63.09375 \nQ 16.5 59.96875 16.5 54.203125 \nQ 16.5 49.359375 19.40625 46.890625 \nQ 22.3125 44.4375 30.421875 42.921875 \nL 36.375 41.703125 \nQ 47.40625 39.59375 52.65625 34.296875 \nQ 57.90625 29 57.90625 20.125 \nQ 57.90625 9.515625 50.796875 4.046875 \nQ 43.703125 -1.421875 29.984375 -1.421875 \nQ 24.8125 -1.421875 18.96875 -0.25 \nQ 13.140625 0.921875 6.890625 3.21875 \nL 6.890625 13.375 \nQ 12.890625 10.015625 18.65625 8.296875 \nQ 24.421875 6.59375 29.984375 6.59375 \nQ 38.421875 6.59375 43.015625 9.90625 \nQ 47.609375 13.234375 47.609375 19.390625 \nQ 47.609375 24.75 44.3125 27.78125 \nQ 41.015625 30.8125 33.5 32.328125 \nL 27.484375 33.5 \nQ 16.453125 35.6875 11.515625 40.375 \nQ 6.59375 45.0625 6.59375 53.421875 \nQ 6.59375 63.09375 13.40625 68.65625 \nQ 20.21875 74.21875 32.171875 74.21875 \nQ 37.3125 74.21875 42.625 73.28125 \nQ 47.953125 72.359375 53.515625 70.515625 \nz\n\" id=\"DejaVuSans-83\"/>\n    </defs>\n    <g transform=\"translate(45.076479 155.005532)scale(0.1 -0.1)\">\n     <use xlink:href=\"#DejaVuSans-79\"/>\n     <use x=\"78.710938\" xlink:href=\"#DejaVuSans-80\"/>\n     <use x=\"139.013672\" xlink:href=\"#DejaVuSans-85\"/>\n     <use x=\"212.207031\" xlink:href=\"#DejaVuSans-83\"/>\n    </g>\n   </g>\n   <g id=\"text_2\">\n    <!-- 61.1% -->\n    <defs>\n     <path d=\"M 33.015625 40.375 \nQ 26.375 40.375 22.484375 35.828125 \nQ 18.609375 31.296875 18.609375 23.390625 \nQ 18.609375 15.53125 22.484375 10.953125 \nQ 26.375 6.390625 33.015625 6.390625 \nQ 39.65625 6.390625 43.53125 10.953125 \nQ 47.40625 15.53125 47.40625 23.390625 \nQ 47.40625 31.296875 43.53125 35.828125 \nQ 39.65625 40.375 33.015625 40.375 \nz\nM 52.59375 71.296875 \nL 52.59375 62.3125 \nQ 48.875 64.0625 45.09375 64.984375 \nQ 41.3125 65.921875 37.59375 65.921875 \nQ 27.828125 65.921875 22.671875 59.328125 \nQ 17.53125 52.734375 16.796875 39.40625 \nQ 19.671875 43.65625 24.015625 45.921875 \nQ 28.375 48.1875 33.59375 48.1875 \nQ 44.578125 48.1875 50.953125 41.515625 \nQ 57.328125 34.859375 57.328125 23.390625 \nQ 57.328125 12.15625 50.6875 5.359375 \nQ 44.046875 -1.421875 33.015625 -1.421875 \nQ 20.359375 -1.421875 13.671875 8.265625 \nQ 6.984375 17.96875 6.984375 36.375 \nQ 6.984375 53.65625 15.1875 63.9375 \nQ 23.390625 74.21875 37.203125 74.21875 \nQ 40.921875 74.21875 44.703125 73.484375 \nQ 48.484375 72.75 52.59375 71.296875 \nz\n\" id=\"DejaVuSans-54\"/>\n     <path d=\"M 12.40625 8.296875 \nL 28.515625 8.296875 \nL 28.515625 63.921875 \nL 10.984375 60.40625 \nL 10.984375 69.390625 \nL 28.421875 72.90625 \nL 38.28125 72.90625 \nL 38.28125 8.296875 \nL 54.390625 8.296875 \nL 54.390625 0 \nL 12.40625 0 \nz\n\" id=\"DejaVuSans-49\"/>\n     <path d=\"M 10.6875 12.40625 \nL 21 12.40625 \nL 21 0 \nL 10.6875 0 \nz\n\" id=\"DejaVuSans-46\"/>\n     <path d=\"M 72.703125 32.078125 \nQ 68.453125 32.078125 66.03125 28.46875 \nQ 63.625 24.859375 63.625 18.40625 \nQ 63.625 12.0625 66.03125 8.421875 \nQ 68.453125 4.78125 72.703125 4.78125 \nQ 76.859375 4.78125 79.265625 8.421875 \nQ 81.6875 12.0625 81.6875 18.40625 \nQ 81.6875 24.8125 79.265625 28.4375 \nQ 76.859375 32.078125 72.703125 32.078125 \nz\nM 72.703125 38.28125 \nQ 80.421875 38.28125 84.953125 32.90625 \nQ 89.5 27.546875 89.5 18.40625 \nQ 89.5 9.28125 84.9375 3.921875 \nQ 80.375 -1.421875 72.703125 -1.421875 \nQ 64.890625 -1.421875 60.34375 3.921875 \nQ 55.8125 9.28125 55.8125 18.40625 \nQ 55.8125 27.59375 60.375 32.9375 \nQ 64.9375 38.28125 72.703125 38.28125 \nz\nM 22.3125 68.015625 \nQ 18.109375 68.015625 15.6875 64.375 \nQ 13.28125 60.75 13.28125 54.390625 \nQ 13.28125 47.953125 15.671875 44.328125 \nQ 18.0625 40.71875 22.3125 40.71875 \nQ 26.5625 40.71875 28.96875 44.328125 \nQ 31.390625 47.953125 31.390625 54.390625 \nQ 31.390625 60.6875 28.953125 64.34375 \nQ 26.515625 68.015625 22.3125 68.015625 \nz\nM 66.40625 74.21875 \nL 74.21875 74.21875 \nL 28.609375 -1.421875 \nL 20.796875 -1.421875 \nz\nM 22.3125 74.21875 \nQ 30.03125 74.21875 34.609375 68.875 \nQ 39.203125 63.53125 39.203125 54.390625 \nQ 39.203125 45.171875 34.640625 39.84375 \nQ 30.078125 34.515625 22.3125 34.515625 \nQ 14.546875 34.515625 10.03125 39.859375 \nQ 5.515625 45.21875 5.515625 54.390625 \nQ 5.515625 63.484375 10.046875 68.84375 \nQ 14.59375 74.21875 22.3125 74.21875 \nz\n\" id=\"DejaVuSans-37\"/>\n    </defs>\n    <g transform=\"translate(102.958455 138.24403)scale(0.1 -0.1)\">\n     <use xlink:href=\"#DejaVuSans-54\"/>\n     <use x=\"63.623047\" xlink:href=\"#DejaVuSans-49\"/>\n     <use x=\"127.246094\" xlink:href=\"#DejaVuSans-46\"/>\n     <use x=\"159.033203\" xlink:href=\"#DejaVuSans-49\"/>\n     <use x=\"222.65625\" xlink:href=\"#DejaVuSans-37\"/>\n    </g>\n   </g>\n   <g id=\"text_3\">\n    <!-- SOMEDAY -->\n    <defs>\n     <path d=\"M 9.8125 72.90625 \nL 24.515625 72.90625 \nL 43.109375 23.296875 \nL 61.8125 72.90625 \nL 76.515625 72.90625 \nL 76.515625 0 \nL 66.890625 0 \nL 66.890625 64.015625 \nL 48.09375 14.015625 \nL 38.1875 14.015625 \nL 19.390625 64.015625 \nL 19.390625 0 \nL 9.8125 0 \nz\n\" id=\"DejaVuSans-77\"/>\n     <path d=\"M 9.8125 72.90625 \nL 55.90625 72.90625 \nL 55.90625 64.59375 \nL 19.671875 64.59375 \nL 19.671875 43.015625 \nL 54.390625 43.015625 \nL 54.390625 34.71875 \nL 19.671875 34.71875 \nL 19.671875 8.296875 \nL 56.78125 8.296875 \nL 56.78125 0 \nL 9.8125 0 \nz\n\" id=\"DejaVuSans-69\"/>\n     <path d=\"M 19.671875 64.796875 \nL 19.671875 8.109375 \nL 31.59375 8.109375 \nQ 46.6875 8.109375 53.6875 14.9375 \nQ 60.6875 21.78125 60.6875 36.53125 \nQ 60.6875 51.171875 53.6875 57.984375 \nQ 46.6875 64.796875 31.59375 64.796875 \nz\nM 9.8125 72.90625 \nL 30.078125 72.90625 \nQ 51.265625 72.90625 61.171875 64.09375 \nQ 71.09375 55.28125 71.09375 36.53125 \nQ 71.09375 17.671875 61.125 8.828125 \nQ 51.171875 0 30.078125 0 \nL 9.8125 0 \nz\n\" id=\"DejaVuSans-68\"/>\n     <path d=\"M 34.1875 63.1875 \nL 20.796875 26.90625 \nL 47.609375 26.90625 \nz\nM 28.609375 72.90625 \nL 39.796875 72.90625 \nL 67.578125 0 \nL 57.328125 0 \nL 50.6875 18.703125 \nL 17.828125 18.703125 \nL 11.1875 0 \nL 0.78125 0 \nz\n\" id=\"DejaVuSans-65\"/>\n     <path d=\"M -0.203125 72.90625 \nL 10.40625 72.90625 \nL 30.609375 42.921875 \nL 50.6875 72.90625 \nL 61.28125 72.90625 \nL 35.5 34.71875 \nL 35.5 0 \nL 25.59375 0 \nL 25.59375 34.71875 \nz\n\" id=\"DejaVuSans-89\"/>\n    </defs>\n    <g transform=\"translate(275.911242 81.254931)scale(0.1 -0.1)\">\n     <use xlink:href=\"#DejaVuSans-83\"/>\n     <use x=\"63.476562\" xlink:href=\"#DejaVuSans-79\"/>\n     <use x=\"142.1875\" xlink:href=\"#DejaVuSans-77\"/>\n     <use x=\"228.466797\" xlink:href=\"#DejaVuSans-69\"/>\n     <use x=\"291.650391\" xlink:href=\"#DejaVuSans-68\"/>\n     <use x=\"366.902344\" xlink:href=\"#DejaVuSans-65\"/>\n     <use x=\"427.560547\" xlink:href=\"#DejaVuSans-89\"/>\n    </g>\n   </g>\n   <g id=\"text_4\">\n    <!-- 38.9% -->\n    <defs>\n     <path d=\"M 40.578125 39.3125 \nQ 47.65625 37.796875 51.625 33 \nQ 55.609375 28.21875 55.609375 21.1875 \nQ 55.609375 10.40625 48.1875 4.484375 \nQ 40.765625 -1.421875 27.09375 -1.421875 \nQ 22.515625 -1.421875 17.65625 -0.515625 \nQ 12.796875 0.390625 7.625 2.203125 \nL 7.625 11.71875 \nQ 11.71875 9.328125 16.59375 8.109375 \nQ 21.484375 6.890625 26.8125 6.890625 \nQ 36.078125 6.890625 40.9375 10.546875 \nQ 45.796875 14.203125 45.796875 21.1875 \nQ 45.796875 27.640625 41.28125 31.265625 \nQ 36.765625 34.90625 28.71875 34.90625 \nL 20.21875 34.90625 \nL 20.21875 43.015625 \nL 29.109375 43.015625 \nQ 36.375 43.015625 40.234375 45.921875 \nQ 44.09375 48.828125 44.09375 54.296875 \nQ 44.09375 59.90625 40.109375 62.90625 \nQ 36.140625 65.921875 28.71875 65.921875 \nQ 24.65625 65.921875 20.015625 65.03125 \nQ 15.375 64.15625 9.8125 62.3125 \nL 9.8125 71.09375 \nQ 15.4375 72.65625 20.34375 73.4375 \nQ 25.25 74.21875 29.59375 74.21875 \nQ 40.828125 74.21875 47.359375 69.109375 \nQ 53.90625 64.015625 53.90625 55.328125 \nQ 53.90625 49.265625 50.4375 45.09375 \nQ 46.96875 40.921875 40.578125 39.3125 \nz\n\" id=\"DejaVuSans-51\"/>\n     <path d=\"M 31.78125 34.625 \nQ 24.75 34.625 20.71875 30.859375 \nQ 16.703125 27.09375 16.703125 20.515625 \nQ 16.703125 13.921875 20.71875 10.15625 \nQ 24.75 6.390625 31.78125 6.390625 \nQ 38.8125 6.390625 42.859375 10.171875 \nQ 46.921875 13.96875 46.921875 20.515625 \nQ 46.921875 27.09375 42.890625 30.859375 \nQ 38.875 34.625 31.78125 34.625 \nz\nM 21.921875 38.8125 \nQ 15.578125 40.375 12.03125 44.71875 \nQ 8.5 49.078125 8.5 55.328125 \nQ 8.5 64.0625 14.71875 69.140625 \nQ 20.953125 74.21875 31.78125 74.21875 \nQ 42.671875 74.21875 48.875 69.140625 \nQ 55.078125 64.0625 55.078125 55.328125 \nQ 55.078125 49.078125 51.53125 44.71875 \nQ 48 40.375 41.703125 38.8125 \nQ 48.828125 37.15625 52.796875 32.3125 \nQ 56.78125 27.484375 56.78125 20.515625 \nQ 56.78125 9.90625 50.3125 4.234375 \nQ 43.84375 -1.421875 31.78125 -1.421875 \nQ 19.734375 -1.421875 13.25 4.234375 \nQ 6.78125 9.90625 6.78125 20.515625 \nQ 6.78125 27.484375 10.78125 32.3125 \nQ 14.796875 37.15625 21.921875 38.8125 \nz\nM 18.3125 54.390625 \nQ 18.3125 48.734375 21.84375 45.5625 \nQ 25.390625 42.390625 31.78125 42.390625 \nQ 38.140625 42.390625 41.71875 45.5625 \nQ 45.3125 48.734375 45.3125 54.390625 \nQ 45.3125 60.0625 41.71875 63.234375 \nQ 38.140625 66.40625 31.78125 66.40625 \nQ 25.390625 66.40625 21.84375 63.234375 \nQ 18.3125 60.0625 18.3125 54.390625 \nz\n\" id=\"DejaVuSans-56\"/>\n     <path d=\"M 10.984375 1.515625 \nL 10.984375 10.5 \nQ 14.703125 8.734375 18.5 7.8125 \nQ 22.3125 6.890625 25.984375 6.890625 \nQ 35.75 6.890625 40.890625 13.453125 \nQ 46.046875 20.015625 46.78125 33.40625 \nQ 43.953125 29.203125 39.59375 26.953125 \nQ 35.25 24.703125 29.984375 24.703125 \nQ 19.046875 24.703125 12.671875 31.3125 \nQ 6.296875 37.9375 6.296875 49.421875 \nQ 6.296875 60.640625 12.9375 67.421875 \nQ 19.578125 74.21875 30.609375 74.21875 \nQ 43.265625 74.21875 49.921875 64.515625 \nQ 56.59375 54.828125 56.59375 36.375 \nQ 56.59375 19.140625 48.40625 8.859375 \nQ 40.234375 -1.421875 26.421875 -1.421875 \nQ 22.703125 -1.421875 18.890625 -0.6875 \nQ 15.09375 0.046875 10.984375 1.515625 \nz\nM 30.609375 32.421875 \nQ 37.25 32.421875 41.125 36.953125 \nQ 45.015625 41.5 45.015625 49.421875 \nQ 45.015625 57.28125 41.125 61.84375 \nQ 37.25 66.40625 30.609375 66.40625 \nQ 23.96875 66.40625 20.09375 61.84375 \nQ 16.21875 57.28125 16.21875 49.421875 \nQ 16.21875 41.5 20.09375 36.953125 \nQ 23.96875 32.421875 30.609375 32.421875 \nz\n\" id=\"DejaVuSans-57\"/>\n    </defs>\n    <g transform=\"translate(213.830827 98.016429)scale(0.1 -0.1)\">\n     <use xlink:href=\"#DejaVuSans-51\"/>\n     <use x=\"63.623047\" xlink:href=\"#DejaVuSans-56\"/>\n     <use x=\"127.246094\" xlink:href=\"#DejaVuSans-46\"/>\n     <use x=\"159.033203\" xlink:href=\"#DejaVuSans-57\"/>\n     <use x=\"222.65625\" xlink:href=\"#DejaVuSans-37\"/>\n    </g>\n   </g>\n  </g>\n </g>\n</svg>\n"
     },
     "metadata": {}
    },
    {
     "output_type": "display_data",
     "data": {
      "image/png": "[encoded data removed]",
      "text/plain": "<Figure size 432x288 with 1 Axes>",
      "image/svg+xml": "<?xml version=\"1.0\" encoding=\"utf-8\" standalone=\"no\"?>\n<!DOCTYPE svg PUBLIC \"-//W3C//DTD SVG 1.1//EN\"\n  \"http://www.w3.org/Graphics/SVG/1.1/DTD/svg11.dtd\">\n<!-- Created with matplotlib (https://matplotlib.org/) -->\n<svg height=\"241.43797pt\" version=\"1.1\" viewBox=\"0 0 388.31011 241.43797\" width=\"388.31011pt\" xmlns=\"http://www.w3.org/2000/svg\" xmlns:xlink=\"http://www.w3.org/1999/xlink\">\n <defs>\n  <style type=\"text/css\">\n*{stroke-linecap:butt;stroke-linejoin:round;}\n  </style>\n </defs>\n <g id=\"figure_1\">\n  <g id=\"patch_1\">\n   <path d=\"M 0 241.43797 \nL 388.31011 241.43797 \nL 388.31011 0 \nL 0 0 \nz\n\" style=\"fill:none;\"/>\n  </g>\n  <g id=\"axes_1\">\n   <g id=\"patch_2\">\n    <path d=\"M 175.642914 23.897299 \nC 161.935493 23.897299 148.37682 26.749274 135.830956 32.271475 \nC 123.285092 37.793676 112.024326 45.866252 102.766276 55.974759 \nL 175.642914 122.720084 \nL 175.642914 23.897299 \nz\n\" style=\"fill:#092436;opacity:0.5;stroke:#092436;stroke-linejoin:miter;\"/>\n   </g>\n   <g id=\"patch_3\">\n    <path d=\"M 102.766276 55.974759 \nC 96.764261 62.528127 91.673536 69.861241 87.631939 77.775551 \nC 83.590341 85.689861 80.634679 94.113286 78.844979 102.817756 \nL 175.642914 122.720084 \nL 102.766276 55.974759 \nz\n\" style=\"fill:#4c2604;opacity:0.5;stroke:#4c2604;stroke-linejoin:miter;\"/>\n   </g>\n   <g id=\"patch_4\">\n    <path d=\"M 78.844979 102.817756 \nC 77.236726 110.639737 76.582495 118.6279 76.896612 126.607324 \nC 77.210729 134.586748 78.490886 142.498761 80.709049 150.170112 \nL 175.642914 122.720084 \nL 78.844979 102.817756 \nz\n\" style=\"fill:#0d300d;opacity:0.5;stroke:#0d300d;stroke-linejoin:miter;\"/>\n   </g>\n   <g id=\"patch_5\">\n    <path d=\"M 80.709049 150.170112 \nC 82.011181 154.673437 83.632096 159.078407 85.559513 163.351643 \nC 87.486929 167.624879 89.715966 171.755559 92.229732 175.712384 \nL 175.642914 122.720084 \nL 80.709049 150.170112 \nz\n\" style=\"fill:#400c0c;opacity:0.5;stroke:#400c0c;stroke-linejoin:miter;\"/>\n   </g>\n   <g id=\"patch_6\">\n    <path d=\"M 92.229732 175.712384 \nC 93.887353 178.321583 95.666488 180.85157 97.561265 183.293996 \nC 99.456042 185.736423 101.464377 188.088601 103.579643 190.342771 \nL 175.642914 122.720084 \nL 92.229732 175.712384 \nz\n\" style=\"fill:#2c1f39;opacity:0.5;stroke:#2c1f39;stroke-linejoin:miter;\"/>\n   </g>\n   <g id=\"patch_7\">\n    <path d=\"M 103.579643 190.342771 \nC 105.42189 192.305993 107.343594 194.193112 109.339945 195.999406 \nC 111.336296 197.8057 113.405627 199.52966 115.542758 201.16697 \nL 175.642914 122.720084 \nL 103.579643 190.342771 \nz\n\" style=\"fill:#2a1a16;opacity:0.5;stroke:#2a1a16;stroke-linejoin:miter;\"/>\n   </g>\n   <g id=\"patch_8\">\n    <path d=\"M 115.542758 201.16697 \nC 117.679889 202.804281 119.883035 204.353575 122.146683 205.810974 \nC 124.410331 207.268374 126.732589 208.632662 129.107646 209.900423 \nL 175.642914 122.720084 \nL 115.542758 201.16697 \nz\n\" style=\"fill:#44243a;opacity:0.5;stroke:#44243a;stroke-linejoin:miter;\"/>\n   </g>\n   <g id=\"patch_9\">\n    <path d=\"M 129.107646 209.900423 \nC 131.306729 211.074254 133.549439 212.164457 135.830962 213.168695 \nC 138.112486 214.172933 140.43119 215.090486 142.782098 215.919384 \nL 175.642914 122.720084 \nL 129.107646 209.900423 \nz\n\" style=\"fill:#262626;opacity:0.5;stroke:#262626;stroke-linejoin:miter;\"/>\n   </g>\n   <g id=\"patch_10\">\n    <path d=\"M 142.782098 215.919384 \nC 145.133007 216.748283 147.514437 217.487934 149.921277 218.13675 \nC 152.328118 218.785566 154.758646 219.343083 157.207645 219.808104 \nL 175.642914 122.720084 \nL 142.782098 215.919384 \nz\n\" style=\"fill:#38390a;opacity:0.5;stroke:#38390a;stroke-linejoin:miter;\"/>\n   </g>\n   <g id=\"patch_11\">\n    <path d=\"M 157.207645 219.808104 \nC 159.558663 220.25452 161.92512 220.615393 164.302336 220.890008 \nC 166.679552 221.164624 169.065959 221.352802 171.456837 221.454169 \nL 175.642914 122.720084 \nL 157.207645 219.808104 \nz\n\" style=\"fill:#07393e;opacity:0.5;stroke:#07393e;stroke-linejoin:miter;\"/>\n   </g>\n   <g id=\"patch_12\">\n    <path d=\"M 171.456837 221.454169 \nC 173.847715 221.555536 176.241485 221.570026 178.633415 221.49761 \nC 181.025344 221.425194 183.413854 221.26592 185.794221 221.020103 \nL 175.642914 122.720084 \nL 171.456837 221.454169 \nz\n\" style=\"fill:#092436;opacity:0.5;stroke:#092436;stroke-linejoin:miter;\"/>\n   </g>\n   <g id=\"patch_13\">\n    <path d=\"M 185.794221 221.020103 \nC 188.075385 220.78453 190.347658 220.469624 192.606912 220.075955 \nC 194.866167 219.682286 197.111033 219.210093 199.337434 218.660235 \nL 175.642914 122.720084 \nL 185.794221 221.020103 \nz\n\" style=\"fill:#4c2604;opacity:0.5;stroke:#4c2604;stroke-linejoin:miter;\"/>\n   </g>\n   <g id=\"patch_14\">\n    <path d=\"M 199.337434 218.660235 \nC 201.563835 218.110376 203.770421 217.483185 205.953184 216.779801 \nC 208.135947 216.076416 210.293565 215.297265 212.422118 214.443761 \nL 175.642914 122.720084 \nL 199.337434 218.660235 \nz\n\" style=\"fill:#0d300d;opacity:0.5;stroke:#0d300d;stroke-linejoin:miter;\"/>\n   </g>\n   <g id=\"patch_15\">\n    <path d=\"M 212.422118 214.443761 \nC 214.365546 213.664489 216.283717 212.823647 218.173726 211.92251 \nC 220.063734 211.021373 221.924626 210.060396 223.753582 209.041034 \nL 175.642914 122.720084 \nL 212.422118 214.443761 \nz\n\" style=\"fill:#400c0c;opacity:0.5;stroke:#400c0c;stroke-linejoin:miter;\"/>\n   </g>\n   <g id=\"patch_16\">\n    <path d=\"M 223.753582 209.041034 \nC 225.147023 208.264405 226.521455 207.454149 227.875669 206.610978 \nC 229.229883 205.767808 230.563482 204.89197 231.875294 203.984235 \nL 175.642914 122.720084 \nL 223.753582 209.041034 \nz\n\" style=\"fill:#2c1f39;opacity:0.5;stroke:#2c1f39;stroke-linejoin:miter;\"/>\n   </g>\n   <g id=\"patch_17\">\n    <path d=\"M 231.875294 203.984235 \nC 233.10511 203.133239 234.315449 202.254435 235.505378 201.348503 \nC 236.695306 200.442571 237.864515 199.509743 239.012103 198.550742 \nL 175.642914 122.720084 \nL 231.875294 203.984235 \nz\n\" style=\"fill:#2a1a16;opacity:0.5;stroke:#2a1a16;stroke-linejoin:miter;\"/>\n   </g>\n   <g id=\"patch_18\">\n    <path d=\"M 239.012103 198.550742 \nC 240.08318 197.655678 241.135172 196.738023 242.167372 195.798393 \nC 243.199573 194.858763 244.21175 193.897369 245.203221 192.914859 \nL 175.642914 122.720084 \nL 239.012103 198.550742 \nz\n\" style=\"fill:#44243a;opacity:0.5;stroke:#44243a;stroke-linejoin:miter;\"/>\n   </g>\n   <g id=\"patch_19\">\n    <path d=\"M 245.203221 192.914859 \nC 246.194693 191.932349 247.165237 190.928943 248.1142 189.905316 \nC 249.063164 188.88169 249.990333 187.838073 250.895084 186.775168 \nL 175.642914 122.720084 \nL 245.203221 192.914859 \nz\n\" style=\"fill:#262626;opacity:0.5;stroke:#262626;stroke-linejoin:miter;\"/>\n   </g>\n   <g id=\"patch_20\">\n    <path d=\"M 250.895084 186.775168 \nC 251.735206 185.788189 252.555829 184.784778 253.356477 183.765517 \nC 254.157126 182.746256 254.937644 181.711342 255.69758 180.661376 \nL 175.642914 122.720084 \nL 250.895084 186.775168 \nz\n\" style=\"fill:#38390a;opacity:0.5;stroke:#38390a;stroke-linejoin:miter;\"/>\n   </g>\n   <g id=\"patch_21\">\n    <path d=\"M 255.69758 180.661376 \nC 256.399055 179.692181 257.082873 178.710327 257.748693 177.7163 \nC 258.414514 176.722273 259.062228 175.716237 259.691516 174.698689 \nL 175.642914 122.720084 \nL 255.69758 180.661376 \nz\n\" style=\"fill:#07393e;opacity:0.5;stroke:#07393e;stroke-linejoin:miter;\"/>\n   </g>\n   <g id=\"patch_22\">\n    <path d=\"M 259.691516 174.698689 \nC 260.320803 173.681141 260.93156 172.652249 261.523484 171.612522 \nC 262.115408 170.572795 262.688402 169.522404 263.242183 168.461869 \nL 175.642914 122.720084 \nL 259.691516 174.698689 \nz\n\" style=\"fill:#092436;opacity:0.5;stroke:#092436;stroke-linejoin:miter;\"/>\n   </g>\n   <g id=\"patch_23\">\n    <path d=\"M 263.242183 168.461869 \nC 263.795963 167.401335 264.330439 166.330831 264.845345 165.250887 \nC 265.360251 164.170943 265.855503 163.081738 266.330855 161.983809 \nL 175.642914 122.720084 \nL 263.242183 168.461869 \nz\n\" style=\"fill:#4c2604;opacity:0.5;stroke:#4c2604;stroke-linejoin:miter;\"/>\n   </g>\n   <g id=\"patch_24\">\n    <path d=\"M 266.330855 161.983809 \nC 266.806208 160.885881 267.261583 159.779411 267.696755 158.664946 \nC 268.131928 157.550481 268.546825 156.428206 268.941243 155.298674 \nL 175.642914 122.720084 \nL 266.330855 161.983809 \nz\n\" style=\"fill:#0d300d;opacity:0.5;stroke:#0d300d;stroke-linejoin:miter;\"/>\n   </g>\n   <g id=\"patch_25\">\n    <path d=\"M 268.941243 155.298674 \nC 269.302792 154.263275 269.647079 153.221929 269.973962 152.175069 \nC 270.300846 151.128209 270.61028 150.07598 270.902136 149.018819 \nL 175.642914 122.720084 \nL 268.941243 155.298674 \nz\n\" style=\"fill:#400c0c;opacity:0.5;stroke:#400c0c;stroke-linejoin:miter;\"/>\n   </g>\n   <g id=\"patch_26\">\n    <path d=\"M 270.902136 149.018819 \nC 271.193992 147.961658 271.46823 146.899713 271.724735 145.833423 \nC 271.981241 144.767133 272.219979 143.696647 272.440849 142.622411 \nL 175.642914 122.720084 \nL 270.902136 149.018819 \nz\n\" style=\"fill:#2c1f39;opacity:0.5;stroke:#2c1f39;stroke-linejoin:miter;\"/>\n   </g>\n   <g id=\"patch_27\">\n    <path d=\"M 272.440849 142.622411 \nC 272.66172 141.548174 272.864693 140.470334 273.049683 139.389341 \nC 273.234674 138.308347 273.401657 137.224349 273.550563 136.137797 \nL 175.642914 122.720084 \nL 272.440849 142.622411 \nz\n\" style=\"fill:#2a1a16;opacity:0.5;stroke:#2a1a16;stroke-linejoin:miter;\"/>\n   </g>\n   <g id=\"patch_28\">\n    <path d=\"M 273.550563 136.137797 \nC 273.685932 135.150026 273.806345 134.160263 273.91176 133.168848 \nC 274.017176 132.177433 274.107582 131.18448 274.182948 130.190329 \nL 175.642914 122.720084 \nL 273.550563 136.137797 \nz\n\" style=\"fill:#44243a;opacity:0.5;stroke:#44243a;stroke-linejoin:miter;\"/>\n   </g>\n   <g id=\"patch_29\">\n    <path d=\"M 274.182948 130.190329 \nC 274.258314 129.196178 274.318631 128.200944 274.363878 127.204968 \nC 274.409125 126.208992 274.439297 125.212388 274.454384 124.215498 \nL 175.642914 122.720084 \nL 274.182948 130.190329 \nz\n\" style=\"fill:#262626;opacity:0.5;stroke:#262626;stroke-linejoin:miter;\"/>\n   </g>\n   <g id=\"patch_30\">\n    <path d=\"M 274.454384 124.215498 \nC 274.467962 123.318301 274.46932 122.420961 274.458457 121.523727 \nC 274.447594 120.626493 274.424512 119.729448 274.389216 118.832843 \nL 175.642914 122.720084 \nL 274.454384 124.215498 \nz\n\" style=\"fill:#38390a;opacity:0.5;stroke:#38390a;stroke-linejoin:miter;\"/>\n   </g>\n   <g id=\"patch_31\">\n    <path d=\"M 274.389216 118.832843 \nC 274.353921 117.936238 274.306415 117.040155 274.246712 116.144843 \nC 274.18701 115.249532 274.115116 114.355075 274.031051 113.461722 \nL 175.642914 122.720084 \nL 274.389216 118.832843 \nz\n\" style=\"fill:#07393e;opacity:0.5;stroke:#07393e;stroke-linejoin:miter;\"/>\n   </g>\n   <g id=\"patch_32\">\n    <path d=\"M 274.031051 113.461722 \nC 273.956327 112.667633 273.871992 111.874477 273.778065 111.08243 \nC 273.684138 110.290382 273.580625 109.499501 273.467549 108.70996 \nL 175.642914 122.720084 \nL 274.031051 113.461722 \nz\n\" style=\"fill:#092436;opacity:0.5;stroke:#092436;stroke-linejoin:miter;\"/>\n   </g>\n   <g id=\"patch_33\">\n    <path d=\"M 273.467549 108.70996 \nC 273.354474 107.920419 273.231844 107.132275 273.099687 106.345703 \nC 272.967529 105.559131 272.825854 104.774188 272.674692 103.991046 \nL 175.642914 122.720084 \nL 273.467549 108.70996 \nz\n\" style=\"fill:#4c2604;opacity:0.5;stroke:#4c2604;stroke-linejoin:miter;\"/>\n   </g>\n   <g id=\"patch_34\">\n    <path d=\"M 272.674692 103.991046 \nC 272.52353 103.207904 272.362893 102.42662 272.192815 101.647367 \nC 272.022738 100.868115 271.843233 100.090949 271.654339 99.316042 \nL 175.642914 122.720084 \nL 272.674692 103.991046 \nz\n\" style=\"fill:#0d300d;opacity:0.5;stroke:#0d300d;stroke-linejoin:miter;\"/>\n   </g>\n   <g id=\"patch_35\">\n    <path d=\"M 271.654339 99.316042 \nC 271.489057 98.638001 271.316598 97.961729 271.13699 97.287341 \nC 270.957381 96.612953 270.770634 95.940487 270.576779 95.270055 \nL 175.642914 122.720084 \nL 271.654339 99.316042 \nz\n\" style=\"fill:#400c0c;opacity:0.5;stroke:#400c0c;stroke-linejoin:miter;\"/>\n   </g>\n   <g id=\"patch_36\">\n    <path d=\"M 270.576779 95.270055 \nC 270.382925 94.599624 270.181974 93.931264 269.97396 93.26509 \nC 269.765946 92.598915 269.550881 91.934963 269.328801 91.273345 \nL 175.642914 122.720084 \nL 270.576779 95.270055 \nz\n\" style=\"fill:#2c1f39;opacity:0.5;stroke:#2c1f39;stroke-linejoin:miter;\"/>\n   </g>\n   <g id=\"patch_37\">\n    <path d=\"M 269.328801 91.273345 \nC 269.106721 90.611726 268.877639 89.952479 268.641593 89.295714 \nC 268.405547 88.638949 268.162551 87.984702 267.912644 87.333085 \nL 175.642914 122.720084 \nL 269.328801 91.273345 \nz\n\" style=\"fill:#2a1a16;opacity:0.5;stroke:#2a1a16;stroke-linejoin:miter;\"/>\n   </g>\n   <g id=\"patch_38\">\n    <path d=\"M 267.912644 87.333085 \nC 267.662738 86.681468 267.405936 86.032516 267.142282 85.386339 \nC 266.878628 84.740162 266.608136 84.096796 266.330852 83.45635 \nL 175.642914 122.720084 \nL 267.912644 87.333085 \nz\n\" style=\"fill:#44243a;opacity:0.5;stroke:#44243a;stroke-linejoin:miter;\"/>\n   </g>\n   <g id=\"patch_39\">\n    <path d=\"M 266.330852 83.45635 \nC 266.053567 82.815903 265.769507 82.178412 265.478717 81.543983 \nC 265.187928 80.909554 264.890426 80.278224 264.586262 79.650098 \nL 175.642914 122.720084 \nL 266.330852 83.45635 \nz\n\" style=\"fill:#262626;opacity:0.5;stroke:#262626;stroke-linejoin:miter;\"/>\n   </g>\n   <g id=\"patch_40\">\n    <path d=\"M 264.586262 79.650098 \nC 264.32555 79.111705 264.059956 78.575691 263.789511 78.042122 \nC 263.519066 77.508552 263.243782 76.977449 262.963693 76.448878 \nL 175.642914 122.720084 \nL 264.586262 79.650098 \nz\n\" style=\"fill:#38390a;opacity:0.5;stroke:#38390a;stroke-linejoin:miter;\"/>\n   </g>\n   <g id=\"patch_41\">\n    <path d=\"M 262.963693 76.448878 \nC 262.683604 75.920308 262.398721 75.394291 262.10908 74.870893 \nC 261.819439 74.347496 261.525051 73.826739 261.225954 73.308687 \nL 175.642914 122.720084 \nL 262.963693 76.448878 \nz\n\" style=\"fill:#07393e;opacity:0.5;stroke:#07393e;stroke-linejoin:miter;\"/>\n   </g>\n   <g id=\"patch_42\">\n    <path d=\"M 261.225954 73.308687 \nC 260.926857 72.790635 260.623062 72.27531 260.314606 71.762775 \nC 260.006151 71.25024 259.693049 70.740516 259.375338 70.233666 \nL 175.642914 122.720084 \nL 261.225954 73.308687 \nz\n\" style=\"fill:#092436;opacity:0.5;stroke:#092436;stroke-linejoin:miter;\"/>\n   </g>\n   <g id=\"patch_43\">\n    <path d=\"M 259.375338 70.233666 \nC 259.057627 69.726816 258.73532 69.222862 258.408458 68.721865 \nC 258.081595 68.220868 257.750191 67.722849 257.414285 67.22787 \nL 175.642914 122.720084 \nL 259.375338 70.233666 \nz\n\" style=\"fill:#4c2604;opacity:0.5;stroke:#4c2604;stroke-linejoin:miter;\"/>\n   </g>\n   <g id=\"patch_44\">\n    <path d=\"M 257.414285 67.22787 \nC 257.078379 66.732891 256.737986 66.240972 256.393147 65.752175 \nC 256.048309 65.263377 255.699039 64.77772 255.345382 64.295265 \nL 175.642914 122.720084 \nL 257.414285 67.22787 \nz\n\" style=\"fill:#0d300d;opacity:0.5;stroke:#0d300d;stroke-linejoin:miter;\"/>\n   </g>\n   <g id=\"patch_45\">\n    <path d=\"M 255.345382 64.295265 \nC 254.991724 63.812809 254.633693 63.333575 254.271333 62.857621 \nC 253.908974 62.381667 253.5423 61.909012 253.171357 61.439717 \nL 175.642914 122.720084 \nL 255.345382 64.295265 \nz\n\" style=\"fill:#400c0c;opacity:0.5;stroke:#400c0c;stroke-linejoin:miter;\"/>\n   </g>\n   <g id=\"patch_46\">\n    <path d=\"M 253.171357 61.439717 \nC 252.862239 61.048638 252.550166 60.659903 252.235165 60.273547 \nC 251.920164 59.887191 251.602244 59.503223 251.281433 59.121677 \nL 175.642914 122.720084 \nL 253.171357 61.439717 \nz\n\" style=\"fill:#2c1f39;opacity:0.5;stroke:#2c1f39;stroke-linejoin:miter;\"/>\n   </g>\n   <g id=\"patch_47\">\n    <path d=\"M 251.281433 59.121677 \nC 250.960622 58.740132 250.636928 58.361019 250.31038 57.984372 \nC 249.983832 57.607725 249.654438 57.233554 249.322228 56.861891 \nL 175.642914 122.720084 \nL 251.281433 59.121677 \nz\n\" style=\"fill:#2a1a16;opacity:0.5;stroke:#2a1a16;stroke-linejoin:miter;\"/>\n   </g>\n   <g id=\"patch_48\">\n    <path d=\"M 249.322228 56.861891 \nC 248.990018 56.490229 248.655 56.121085 248.317203 55.754492 \nC 247.979407 55.387899 247.638842 55.023867 247.295536 54.662428 \nL 175.642914 122.720084 \nL 249.322228 56.861891 \nz\n\" style=\"fill:#44243a;opacity:0.5;stroke:#44243a;stroke-linejoin:miter;\"/>\n   </g>\n   <g id=\"patch_49\">\n    <path d=\"M 247.295536 54.662428 \nC 246.952231 54.300988 246.606196 53.942152 246.257461 53.585949 \nC 245.908726 53.229746 245.5573 52.876187 245.203215 52.525302 \nL 175.642914 122.720084 \nL 247.295536 54.662428 \nz\n\" style=\"fill:#262626;opacity:0.5;stroke:#262626;stroke-linejoin:miter;\"/>\n   </g>\n   <g id=\"patch_50\">\n    <path d=\"M 245.203215 52.525302 \nC 244.849129 52.174417 244.492394 51.826216 244.133039 51.480729 \nC 243.773684 51.135242 243.41172 50.79248 243.047179 50.452471 \nL 175.642914 122.720084 \nL 245.203215 52.525302 \nz\n\" style=\"fill:#38390a;opacity:0.5;stroke:#38390a;stroke-linejoin:miter;\"/>\n   </g>\n   <g id=\"patch_51\">\n    <path d=\"M 243.047179 50.452471 \nC 242.682637 50.112461 242.315528 49.775215 241.945883 49.440761 \nC 241.576238 49.106307 241.204068 48.774655 240.829404 48.445833 \nL 175.642914 122.720084 \nL 243.047179 50.452471 \nz\n\" style=\"fill:#07393e;opacity:0.5;stroke:#07393e;stroke-linejoin:miter;\"/>\n   </g>\n   <g id=\"patch_52\">\n    <path d=\"M 240.829404 48.445833 \nC 240.454741 48.117011 240.077594 47.791028 239.697997 47.467914 \nC 239.318401 47.144799 238.936365 46.824561 238.551922 46.507227 \nL 175.642914 122.720084 \nL 240.829404 48.445833 \nz\n\" style=\"fill:#092436;opacity:0.5;stroke:#092436;stroke-linejoin:miter;\"/>\n   </g>\n   <g id=\"patch_53\">\n    <path d=\"M 238.551922 46.507227 \nC 238.167479 46.189893 237.780641 45.875473 237.39144 45.563993 \nC 237.00224 45.252513 236.610688 44.943983 236.216818 44.638428 \nL 175.642914 122.720084 \nL 238.551922 46.507227 \nz\n\" style=\"fill:#4c2604;opacity:0.5;stroke:#4c2604;stroke-linejoin:miter;\"/>\n   </g>\n   <g id=\"patch_54\">\n    <path d=\"M 236.216818 44.638428 \nC 235.822949 44.332873 235.426773 44.030303 235.028325 43.730744 \nC 234.629877 43.431184 234.229168 43.134644 233.826232 42.841148 \nL 175.642914 122.720084 \nL 236.216818 44.638428 \nz\n\" style=\"fill:#0d300d;opacity:0.5;stroke:#0d300d;stroke-linejoin:miter;\"/>\n   </g>\n   <g id=\"patch_55\">\n    <path d=\"M 233.826232 42.841148 \nC 233.423296 42.547652 233.018146 42.25721 232.610815 41.969845 \nC 232.203484 41.68248 231.793985 41.398201 231.382352 41.117033 \nL 175.642914 122.720084 \nL 233.826232 42.841148 \nz\n\" style=\"fill:#400c0c;opacity:0.5;stroke:#400c0c;stroke-linejoin:miter;\"/>\n   </g>\n   <g id=\"patch_56\">\n    <path d=\"M 231.382352 41.117033 \nC 230.97072 40.835865 230.556966 40.557816 230.141126 40.282909 \nC 229.725285 40.008002 229.307371 39.736246 228.887418 39.467663 \nL 175.642914 122.720084 \nL 231.382352 41.117033 \nz\n\" style=\"fill:#2c1f39;opacity:0.5;stroke:#2c1f39;stroke-linejoin:miter;\"/>\n   </g>\n   <g id=\"patch_57\">\n    <path d=\"M 228.887418 39.467663 \nC 228.467466 39.19908 228.045487 38.933679 227.621518 38.671482 \nC 227.19755 38.409284 226.771603 38.150299 226.343715 37.894548 \nL 175.642914 122.720084 \nL 228.887418 39.467663 \nz\n\" style=\"fill:#2a1a16;opacity:0.5;stroke:#2a1a16;stroke-linejoin:miter;\"/>\n   </g>\n   <g id=\"patch_58\">\n    <path d=\"M 226.343715 37.894548 \nC 225.915827 37.638796 225.48601 37.386286 225.054301 37.137039 \nC 224.622592 36.887791 224.189004 36.641814 223.753572 36.399128 \nL 175.642914 122.720084 \nL 226.343715 37.894548 \nz\n\" style=\"fill:#44243a;opacity:0.5;stroke:#44243a;stroke-linejoin:miter;\"/>\n   </g>\n   <g id=\"patch_59\">\n    <path d=\"M 223.753572 36.399128 \nC 223.318141 36.156442 222.88088 35.917054 222.441826 35.680985 \nC 222.002772 35.444916 221.561939 35.212173 221.119363 34.982774 \nL 175.642914 122.720084 \nL 223.753572 36.399128 \nz\n\" style=\"fill:#262626;opacity:0.5;stroke:#262626;stroke-linejoin:miter;\"/>\n   </g>\n   <g id=\"patch_60\">\n    <path d=\"M 221.119363 34.982774 \nC 220.676787 34.753376 220.232482 34.52733 219.786485 34.304656 \nC 219.340489 34.081981 218.892814 33.862684 218.443499 33.646784 \nL 175.642914 122.720084 \nL 221.119363 34.982774 \nz\n\" style=\"fill:#38390a;opacity:0.5;stroke:#38390a;stroke-linejoin:miter;\"/>\n   </g>\n   <g id=\"patch_61\">\n    <path d=\"M 218.443499 33.646784 \nC 218.084047 33.474064 217.723554 33.303521 217.362038 33.135166 \nC 217.000522 32.96681 216.63799 32.800644 216.274463 32.636677 \nL 175.642914 122.720084 \nL 218.443499 33.646784 \nz\n\" style=\"fill:#07393e;opacity:0.5;stroke:#07393e;stroke-linejoin:miter;\"/>\n   </g>\n   <g id=\"patch_62\">\n    <path d=\"M 216.274463 32.636677 \nC 215.910935 32.472711 215.546418 32.310946 215.180932 32.151392 \nC 214.815446 31.991838 214.448998 31.834498 214.081607 31.67938 \nL 175.642914 122.720084 \nL 216.274463 32.636677 \nz\n\" style=\"fill:#092436;opacity:0.5;stroke:#092436;stroke-linejoin:miter;\"/>\n   </g>\n   <g id=\"patch_63\">\n    <path d=\"M 214.081607 31.67938 \nC 213.714216 31.524263 213.34589 31.37137 212.976648 31.220712 \nC 212.607407 31.070053 212.237257 30.921631 211.866218 30.775453 \nL 175.642914 122.720084 \nL 214.081607 31.67938 \nz\n\" style=\"fill:#4c2604;opacity:0.5;stroke:#4c2604;stroke-linejoin:miter;\"/>\n   </g>\n   <g id=\"patch_64\">\n    <path d=\"M 211.866218 30.775453 \nC 211.49518 30.629276 211.12326 30.485346 210.750479 30.34367 \nC 210.377698 30.201995 210.004063 30.062578 209.629594 29.925427 \nL 175.642914 122.720084 \nL 211.866218 30.775453 \nz\n\" style=\"fill:#0d300d;opacity:0.5;stroke:#0d300d;stroke-linejoin:miter;\"/>\n   </g>\n   <g id=\"patch_65\">\n    <path d=\"M 209.629594 29.925427 \nC 209.255125 29.788275 208.87983 29.653391 208.503728 29.520783 \nC 208.127626 29.388174 207.750726 29.257844 207.373046 29.129798 \nL 175.642914 122.720084 \nL 209.629594 29.925427 \nz\n\" style=\"fill:#400c0c;opacity:0.5;stroke:#400c0c;stroke-linejoin:miter;\"/>\n   </g>\n   <g id=\"patch_66\">\n    <path d=\"M 207.373046 29.129798 \nC 206.995367 29.001753 206.616916 28.875994 206.237714 28.75253 \nC 205.858512 28.629067 205.478566 28.507899 205.097897 28.389035 \nL 175.642914 122.720084 \nL 207.373046 29.129798 \nz\n\" style=\"fill:#2c1f39;opacity:0.5;stroke:#2c1f39;stroke-linejoin:miter;\"/>\n   </g>\n   <g id=\"patch_67\">\n    <path d=\"M 205.097897 28.389035 \nC 204.717228 28.270171 204.335844 28.153612 203.953764 28.039364 \nC 203.571684 27.925117 203.188916 27.813184 202.805481 27.703571 \nL 175.642914 122.720084 \nL 205.097897 28.389035 \nz\n\" style=\"fill:#2a1a16;opacity:0.5;stroke:#2a1a16;stroke-linejoin:miter;\"/>\n   </g>\n   <g id=\"patch_68\">\n    <path d=\"M 202.805481 27.703571 \nC 202.422046 27.593957 202.037951 27.486666 201.653217 27.381702 \nC 201.268484 27.276739 200.883118 27.174105 200.497142 27.073807 \nL 175.642914 122.720084 \nL 202.805481 27.703571 \nz\n\" style=\"fill:#44243a;opacity:0.5;stroke:#44243a;stroke-linejoin:miter;\"/>\n   </g>\n   <g id=\"patch_69\">\n    <path d=\"M 200.497142 27.073807 \nC 200.111165 26.973509 199.724585 26.875548 199.337423 26.77993 \nC 198.950261 26.684312 198.562523 26.591038 198.174232 26.500114 \nL 175.642914 122.720084 \nL 200.497142 27.073807 \nz\n\" style=\"fill:#262626;opacity:0.5;stroke:#262626;stroke-linejoin:miter;\"/>\n   </g>\n   <g id=\"patch_70\">\n    <path d=\"M 198.174232 26.500114 \nC 197.78594 26.40919 197.397102 26.320617 197.007739 26.2344 \nC 196.618375 26.148184 196.228493 26.064324 195.838114 25.982828 \nL 175.642914 122.720084 \nL 198.174232 26.500114 \nz\n\" style=\"fill:#38390a;opacity:0.5;stroke:#38390a;stroke-linejoin:miter;\"/>\n   </g>\n   <g id=\"patch_71\">\n    <path d=\"M 195.838114 25.982828 \nC 195.54533 25.921705 195.25227 25.861912 194.958944 25.80345 \nC 194.665617 25.744989 194.372026 25.687859 194.078181 25.632063 \nL 175.642914 122.720084 \nL 195.838114 25.982828 \nz\n\" style=\"fill:#07393e;opacity:0.5;stroke:#07393e;stroke-linejoin:miter;\"/>\n   </g>\n   <g id=\"patch_72\">\n    <path d=\"M 194.078181 25.632063 \nC 193.784336 25.576267 193.490238 25.521806 193.195898 25.46868 \nC 192.901559 25.415554 192.606979 25.363765 192.312169 25.313314 \nL 175.642914 122.720084 \nL 194.078181 25.632063 \nz\n\" style=\"fill:#092436;opacity:0.5;stroke:#092436;stroke-linejoin:miter;\"/>\n   </g>\n   <g id=\"patch_73\">\n    <path d=\"M 192.312169 25.313314 \nC 192.017359 25.262863 191.722321 25.213751 191.427065 25.165979 \nC 191.131809 25.118207 190.836338 25.071775 190.54066 25.026686 \nL 175.642914 122.720084 \nL 192.312169 25.313314 \nz\n\" style=\"fill:#4c2604;opacity:0.5;stroke:#4c2604;stroke-linejoin:miter;\"/>\n   </g>\n   <g id=\"patch_74\">\n    <path d=\"M 190.54066 25.026686 \nC 190.244982 24.981597 189.949102 24.93785 189.653027 24.895447 \nC 189.356952 24.853044 189.060686 24.811986 188.764238 24.772273 \nL 175.642914 122.720084 \nL 190.54066 25.026686 \nz\n\" style=\"fill:#0d300d;opacity:0.5;stroke:#0d300d;stroke-linejoin:miter;\"/>\n   </g>\n   <g id=\"patch_75\">\n    <path d=\"M 188.764238 24.772273 \nC 188.467791 24.73256 188.171164 24.694193 187.874368 24.657174 \nC 187.577572 24.620154 187.28061 24.584482 186.98349 24.550159 \nL 175.642914 122.720084 \nL 188.764238 24.772273 \nz\n\" style=\"fill:#400c0c;opacity:0.5;stroke:#400c0c;stroke-linejoin:miter;\"/>\n   </g>\n   <g id=\"patch_76\">\n    <path d=\"M 186.98349 24.550159 \nC 186.68637 24.515836 186.389096 24.482861 186.091677 24.451237 \nC 185.794257 24.419613 185.496696 24.38934 185.199002 24.360417 \nL 175.642914 122.720084 \nL 186.98349 24.550159 \nz\n\" style=\"fill:#2c1f39;opacity:0.5;stroke:#2c1f39;stroke-linejoin:miter;\"/>\n   </g>\n   <g id=\"patch_77\">\n    <path d=\"M 185.199002 24.360417 \nC 184.901308 24.331495 184.603484 24.303924 184.305539 24.277706 \nC 184.007595 24.251488 183.709533 24.226622 183.411363 24.20311 \nL 175.642914 122.720084 \nL 185.199002 24.360417 \nz\n\" style=\"fill:#2a1a16;opacity:0.5;stroke:#2a1a16;stroke-linejoin:miter;\"/>\n   </g>\n   <g id=\"patch_78\">\n    <path d=\"M 183.411363 24.20311 \nC 183.113192 24.179599 182.814917 24.15744 182.516545 24.136637 \nC 182.218174 24.115833 181.91971 24.096384 181.621162 24.07829 \nL 175.642914 122.720084 \nL 183.411363 24.20311 \nz\n\" style=\"fill:#44243a;opacity:0.5;stroke:#44243a;stroke-linejoin:miter;\"/>\n   </g>\n   <g id=\"patch_79\">\n    <path d=\"M 181.621162 24.07829 \nC 181.322614 24.060197 181.023985 24.043459 180.725285 24.028076 \nC 180.426585 24.012694 180.127817 23.998668 179.828989 23.985998 \nL 175.642914 122.720084 \nL 181.621162 24.07829 \nz\n\" style=\"fill:#262626;opacity:0.5;stroke:#262626;stroke-linejoin:miter;\"/>\n   </g>\n   <g id=\"patch_80\">\n    <path d=\"M 179.828989 23.985998 \nC 179.629771 23.977552 179.430528 23.969709 179.231263 23.962468 \nC 179.031997 23.955228 178.83271 23.948591 178.633404 23.942557 \nL 175.642914 122.720084 \nL 179.828989 23.985998 \nz\n\" style=\"fill:#38390a;opacity:0.5;stroke:#38390a;stroke-linejoin:miter;\"/>\n   </g>\n   <g id=\"patch_81\">\n    <path d=\"M 178.633404 23.942557 \nC 178.533751 23.93954 178.434094 23.936674 178.334433 23.933958 \nC 178.234771 23.931243 178.135106 23.928679 178.035436 23.926265 \nL 175.642914 122.720084 \nL 178.633404 23.942557 \nz\n\" style=\"fill:#07393e;opacity:0.5;stroke:#07393e;stroke-linejoin:miter;\"/>\n   </g>\n   <g id=\"patch_82\">\n    <path d=\"M 178.035436 23.926265 \nC 177.935767 23.923851 177.836094 23.921588 177.736418 23.919476 \nC 177.636742 23.917364 177.537063 23.915403 177.437381 23.913593 \nL 175.642914 122.720084 \nL 178.035436 23.926265 \nz\n\" style=\"fill:#092436;opacity:0.5;stroke:#092436;stroke-linejoin:miter;\"/>\n   </g>\n   <g id=\"patch_83\">\n    <path d=\"M 177.437381 23.913593 \nC 177.337699 23.911782 177.238014 23.910123 177.138327 23.908614 \nC 177.03864 23.907105 176.938951 23.905748 176.83926 23.904541 \nL 175.642914 122.720084 \nL 177.437381 23.913593 \nz\n\" style=\"fill:#4c2604;opacity:0.5;stroke:#4c2604;stroke-linejoin:miter;\"/>\n   </g>\n   <g id=\"patch_84\">\n    <path d=\"M 176.83926 23.904541 \nC 176.739569 23.903334 176.639876 23.902278 176.540181 23.901372 \nC 176.440487 23.900467 176.340791 23.899713 176.241095 23.899109 \nL 175.642914 122.720084 \nL 176.83926 23.904541 \nz\n\" style=\"fill:#0d300d;opacity:0.5;stroke:#0d300d;stroke-linejoin:miter;\"/>\n   </g>\n   <g id=\"patch_85\">\n    <path d=\"M 176.241095 23.899109 \nC 176.141398 23.898506 176.041701 23.898053 175.942003 23.897751 \nC 175.842305 23.89745 175.742606 23.897299 175.642908 23.897299 \nL 175.642914 122.720084 \nL 176.241095 23.899109 \nz\n\" style=\"fill:#400c0c;opacity:0.5;stroke:#400c0c;stroke-linejoin:miter;\"/>\n   </g>\n   <g id=\"patch_86\">\n    <path d=\"M 177.61937 21.920843 \nC 163.911948 21.920843 150.353276 24.772818 137.807412 30.295019 \nC 125.261548 35.81722 114.000781 43.889796 104.742731 53.998303 \nL 177.61937 120.743628 \nL 177.61937 21.920843 \nz\n\" style=\"fill:#1f77b4;\"/>\n   </g>\n   <g id=\"patch_87\">\n    <path d=\"M 104.742731 53.998303 \nC 98.740716 60.551671 93.649992 67.884785 89.608394 75.799095 \nC 85.566797 83.713405 82.611135 92.136831 80.821435 100.8413 \nL 177.61937 120.743628 \nL 104.742731 53.998303 \nz\n\" style=\"fill:#ff7f0e;\"/>\n   </g>\n   <g id=\"patch_88\">\n    <path d=\"M 80.821435 100.8413 \nC 79.213181 108.663282 78.55895 116.651444 78.873068 124.630868 \nC 79.187185 132.610292 80.467342 140.522306 82.685505 148.193657 \nL 177.61937 120.743628 \nL 80.821435 100.8413 \nz\n\" style=\"fill:#2ca02c;\"/>\n   </g>\n   <g id=\"patch_89\">\n    <path d=\"M 82.685505 148.193657 \nC 83.987636 152.696981 85.608552 157.101951 87.535968 161.375187 \nC 89.463385 165.648423 91.692422 169.779104 94.206188 173.735928 \nL 177.61937 120.743628 \nL 82.685505 148.193657 \nz\n\" style=\"fill:#d62728;\"/>\n   </g>\n   <g id=\"patch_90\">\n    <path d=\"M 94.206188 173.735928 \nC 95.863809 176.345127 97.642943 178.875114 99.537721 181.317541 \nC 101.432498 183.759968 103.440833 186.112146 105.556099 188.366315 \nL 177.61937 120.743628 \nL 94.206188 173.735928 \nz\n\" style=\"fill:#9467bd;\"/>\n   </g>\n   <g id=\"patch_91\">\n    <path d=\"M 105.556099 188.366315 \nC 107.398346 190.329537 109.32005 192.216657 111.316401 194.022951 \nC 113.312752 195.829244 115.382082 197.553204 117.519213 199.190515 \nL 177.61937 120.743628 \nL 105.556099 188.366315 \nz\n\" style=\"fill:#8c564b;\"/>\n   </g>\n   <g id=\"patch_92\">\n    <path d=\"M 117.519213 199.190515 \nC 119.656344 200.827825 121.859491 202.377119 124.123139 203.834518 \nC 126.386786 205.291918 128.709045 206.656206 131.084101 207.923968 \nL 177.61937 120.743628 \nL 117.519213 199.190515 \nz\n\" style=\"fill:#e377c2;\"/>\n   </g>\n   <g id=\"patch_93\">\n    <path d=\"M 131.084101 207.923968 \nC 133.283184 209.097798 135.525894 210.188002 137.807418 211.192239 \nC 140.088942 212.196477 142.407646 213.11403 144.758554 213.942929 \nL 177.61937 120.743628 \nL 131.084101 207.923968 \nz\n\" style=\"fill:#7f7f7f;\"/>\n   </g>\n   <g id=\"patch_94\">\n    <path d=\"M 144.758554 213.942929 \nC 147.109463 214.771827 149.490892 215.511478 151.897733 216.160294 \nC 154.304573 216.809111 156.735101 217.366627 159.184101 217.831648 \nL 177.61937 120.743628 \nL 144.758554 213.942929 \nz\n\" style=\"fill:#bcbd22;\"/>\n   </g>\n   <g id=\"patch_95\">\n    <path d=\"M 159.184101 217.831648 \nC 161.535119 218.278064 163.901576 218.638937 166.278792 218.913553 \nC 168.656008 219.188168 171.042415 219.376346 173.433293 219.477713 \nL 177.61937 120.743628 \nL 159.184101 217.831648 \nz\n\" style=\"fill:#17becf;\"/>\n   </g>\n   <g id=\"patch_96\">\n    <path d=\"M 173.433293 219.477713 \nC 175.82417 219.57908 178.217941 219.59357 180.609871 219.521154 \nC 183.0018 219.448739 185.39031 219.289464 187.770677 219.043647 \nL 177.61937 120.743628 \nL 173.433293 219.477713 \nz\n\" style=\"fill:#1f77b4;\"/>\n   </g>\n   <g id=\"patch_97\">\n    <path d=\"M 187.770677 219.043647 \nC 190.051841 218.808075 192.324114 218.493168 194.583368 218.099499 \nC 196.842622 217.70583 199.087489 217.233637 201.31389 216.683779 \nL 177.61937 120.743628 \nL 187.770677 219.043647 \nz\n\" style=\"fill:#ff7f0e;\"/>\n   </g>\n   <g id=\"patch_98\">\n    <path d=\"M 201.31389 216.683779 \nC 203.54029 216.133921 205.746877 215.506729 207.92964 214.803345 \nC 210.112403 214.099961 212.270021 213.320809 214.398573 212.467306 \nL 177.61937 120.743628 \nL 201.31389 216.683779 \nz\n\" style=\"fill:#2ca02c;\"/>\n   </g>\n   <g id=\"patch_99\">\n    <path d=\"M 214.398573 212.467306 \nC 216.342002 211.688033 218.260173 210.847191 220.150181 209.946055 \nC 222.04019 209.044918 223.901081 208.083941 225.730037 207.064578 \nL 177.61937 120.743628 \nL 214.398573 212.467306 \nz\n\" style=\"fill:#d62728;\"/>\n   </g>\n   <g id=\"patch_100\">\n    <path d=\"M 225.730037 207.064578 \nC 227.123479 206.287949 228.497911 205.477693 229.852125 204.634522 \nC 231.206339 203.791352 232.539938 202.915514 233.851749 202.00778 \nL 177.61937 120.743628 \nL 225.730037 207.064578 \nz\n\" style=\"fill:#9467bd;\"/>\n   </g>\n   <g id=\"patch_101\">\n    <path d=\"M 233.851749 202.00778 \nC 235.081565 201.156783 236.291905 200.277979 237.481833 199.372047 \nC 238.671761 198.466115 239.840971 197.533288 240.988559 196.574286 \nL 177.61937 120.743628 \nL 233.851749 202.00778 \nz\n\" style=\"fill:#8c564b;\"/>\n   </g>\n   <g id=\"patch_102\">\n    <path d=\"M 240.988559 196.574286 \nC 242.059635 195.679223 243.111628 194.761567 244.143828 193.821937 \nC 245.176028 192.882307 246.188205 191.920914 247.179677 190.938403 \nL 177.61937 120.743628 \nL 240.988559 196.574286 \nz\n\" style=\"fill:#e377c2;\"/>\n   </g>\n   <g id=\"patch_103\">\n    <path d=\"M 247.179677 190.938403 \nC 248.171149 189.955893 249.141693 188.952487 250.090656 187.928861 \nC 251.039619 186.905234 251.966788 185.861617 252.87154 184.798712 \nL 177.61937 120.743628 \nL 247.179677 190.938403 \nz\n\" style=\"fill:#7f7f7f;\"/>\n   </g>\n   <g id=\"patch_104\">\n    <path d=\"M 252.87154 184.798712 \nC 253.711661 183.811733 254.532285 182.808322 255.332933 181.789061 \nC 256.133581 180.7698 256.9141 179.734886 257.674036 178.68492 \nL 177.61937 120.743628 \nL 252.87154 184.798712 \nz\n\" style=\"fill:#bcbd22;\"/>\n   </g>\n   <g id=\"patch_105\">\n    <path d=\"M 257.674036 178.68492 \nC 258.375511 177.715725 259.059328 176.733872 259.725149 175.739845 \nC 260.39097 174.745818 261.038684 173.739781 261.667971 172.722233 \nL 177.61937 120.743628 \nL 257.674036 178.68492 \nz\n\" style=\"fill:#17becf;\"/>\n   </g>\n   <g id=\"patch_106\">\n    <path d=\"M 261.667971 172.722233 \nC 262.297259 171.704685 262.908016 170.675793 263.49994 169.636066 \nC 264.091864 168.596339 264.664858 167.545948 265.218639 166.485414 \nL 177.61937 120.743628 \nL 261.667971 172.722233 \nz\n\" style=\"fill:#1f77b4;\"/>\n   </g>\n   <g id=\"patch_107\">\n    <path d=\"M 265.218639 166.485414 \nC 265.772419 165.424879 266.306894 164.354375 266.8218 163.274431 \nC 267.336706 162.194487 267.831958 161.105282 268.307311 160.007354 \nL 177.61937 120.743628 \nL 265.218639 166.485414 \nz\n\" style=\"fill:#ff7f0e;\"/>\n   </g>\n   <g id=\"patch_108\">\n    <path d=\"M 268.307311 160.007354 \nC 268.782664 158.909425 269.238039 157.802955 269.673211 156.68849 \nC 270.108383 155.574026 270.523281 154.45175 270.917699 153.322219 \nL 177.61937 120.743628 \nL 268.307311 160.007354 \nz\n\" style=\"fill:#2ca02c;\"/>\n   </g>\n   <g id=\"patch_109\">\n    <path d=\"M 270.917699 153.322219 \nC 271.279247 152.286819 271.623535 151.245473 271.950418 150.198613 \nC 272.277301 149.151753 272.586735 148.099524 272.878592 147.042363 \nL 177.61937 120.743628 \nL 270.917699 153.322219 \nz\n\" style=\"fill:#d62728;\"/>\n   </g>\n   <g id=\"patch_110\">\n    <path d=\"M 272.878592 147.042363 \nC 273.170448 145.985203 273.444686 144.923257 273.701191 143.856967 \nC 273.957697 142.790678 274.196434 141.720192 274.417305 140.645955 \nL 177.61937 120.743628 \nL 272.878592 147.042363 \nz\n\" style=\"fill:#9467bd;\"/>\n   </g>\n   <g id=\"patch_111\">\n    <path d=\"M 274.417305 140.645955 \nC 274.638175 139.571718 274.841148 138.493879 275.026139 137.412885 \nC 275.21113 136.331891 275.378113 135.247893 275.527019 134.161341 \nL 177.61937 120.743628 \nL 274.417305 140.645955 \nz\n\" style=\"fill:#8c564b;\"/>\n   </g>\n   <g id=\"patch_112\">\n    <path d=\"M 275.527019 134.161341 \nC 275.662388 133.17357 275.782801 132.183807 275.888216 131.192393 \nC 275.993632 130.200978 276.084038 129.208024 276.159404 128.213874 \nL 177.61937 120.743628 \nL 275.527019 134.161341 \nz\n\" style=\"fill:#e377c2;\"/>\n   </g>\n   <g id=\"patch_113\">\n    <path d=\"M 276.159404 128.213874 \nC 276.234769 127.219723 276.295086 126.224488 276.340333 125.228512 \nC 276.38558 124.232536 276.415753 123.235932 276.43084 122.239043 \nL 177.61937 120.743628 \nL 276.159404 128.213874 \nz\n\" style=\"fill:#7f7f7f;\"/>\n   </g>\n   <g id=\"patch_114\">\n    <path d=\"M 276.43084 122.239043 \nC 276.444418 121.341846 276.445776 120.444505 276.434913 119.547271 \nC 276.42405 118.650037 276.400968 117.752993 276.365672 116.856387 \nL 177.61937 120.743628 \nL 276.43084 122.239043 \nz\n\" style=\"fill:#bcbd22;\"/>\n   </g>\n   <g id=\"patch_115\">\n    <path d=\"M 276.365672 116.856387 \nC 276.330376 115.959782 276.282871 115.063699 276.223168 114.168388 \nC 276.163466 113.273076 276.091572 112.378619 276.007507 111.485266 \nL 177.61937 120.743628 \nL 276.365672 116.856387 \nz\n\" style=\"fill:#17becf;\"/>\n   </g>\n   <g id=\"patch_116\">\n    <path d=\"M 276.007507 111.485266 \nC 275.932783 110.691177 275.848448 109.898021 275.754521 109.105974 \nC 275.660593 108.313927 275.557081 107.523046 275.444005 106.733504 \nL 177.61937 120.743628 \nL 276.007507 111.485266 \nz\n\" style=\"fill:#1f77b4;\"/>\n   </g>\n   <g id=\"patch_117\">\n    <path d=\"M 275.444005 106.733504 \nC 275.33093 105.943963 275.2083 105.15582 275.076142 104.369248 \nC 274.943985 103.582675 274.80231 102.797732 274.651148 102.01459 \nL 177.61937 120.743628 \nL 275.444005 106.733504 \nz\n\" style=\"fill:#ff7f0e;\"/>\n   </g>\n   <g id=\"patch_118\">\n    <path d=\"M 274.651148 102.01459 \nC 274.499986 101.231448 274.339349 100.450165 274.169271 99.670912 \nC 273.999194 98.891659 273.819688 98.114494 273.630795 97.339587 \nL 177.61937 120.743628 \nL 274.651148 102.01459 \nz\n\" style=\"fill:#2ca02c;\"/>\n   </g>\n   <g id=\"patch_119\">\n    <path d=\"M 273.630795 97.339587 \nC 273.465513 96.661545 273.293054 95.985274 273.113445 95.310886 \nC 272.933837 94.636498 272.74709 93.964031 272.553235 93.2936 \nL 177.61937 120.743628 \nL 273.630795 97.339587 \nz\n\" style=\"fill:#d62728;\"/>\n   </g>\n   <g id=\"patch_120\">\n    <path d=\"M 272.553235 93.2936 \nC 272.35938 92.623168 272.158429 91.954809 271.950415 91.288634 \nC 271.742402 90.62246 271.527337 89.958507 271.305257 89.296889 \nL 177.61937 120.743628 \nL 272.553235 93.2936 \nz\n\" style=\"fill:#9467bd;\"/>\n   </g>\n   <g id=\"patch_121\">\n    <path d=\"M 271.305257 89.296889 \nC 271.083177 88.635271 270.854095 87.976023 270.618049 87.319258 \nC 270.382003 86.662493 270.139006 86.008247 269.8891 85.356629 \nL 177.61937 120.743628 \nL 271.305257 89.296889 \nz\n\" style=\"fill:#8c564b;\"/>\n   </g>\n   <g id=\"patch_122\">\n    <path d=\"M 269.8891 85.356629 \nC 269.639194 84.705012 269.382392 84.05606 269.118738 83.409883 \nC 268.855083 82.763706 268.584591 82.12034 268.307307 81.479894 \nL 177.61937 120.743628 \nL 269.8891 85.356629 \nz\n\" style=\"fill:#e377c2;\"/>\n   </g>\n   <g id=\"patch_123\">\n    <path d=\"M 268.307307 81.479894 \nC 268.030023 80.839447 267.745963 80.201956 267.455173 79.567527 \nC 267.164384 78.933099 266.866882 78.301768 266.562718 77.673642 \nL 177.61937 120.743628 \nL 268.307307 81.479894 \nz\n\" style=\"fill:#7f7f7f;\"/>\n   </g>\n   <g id=\"patch_124\">\n    <path d=\"M 266.562718 77.673642 \nC 266.302006 77.13525 266.036411 76.599235 265.765967 76.065666 \nC 265.495522 75.532096 265.220238 75.000993 264.940148 74.472423 \nL 177.61937 120.743628 \nL 266.562718 77.673642 \nz\n\" style=\"fill:#bcbd22;\"/>\n   </g>\n   <g id=\"patch_125\">\n    <path d=\"M 264.940148 74.472423 \nC 264.660059 73.943852 264.375177 73.417835 264.085536 72.894438 \nC 263.795894 72.37104 263.501507 71.850283 263.20241 71.332232 \nL 177.61937 120.743628 \nL 264.940148 74.472423 \nz\n\" style=\"fill:#17becf;\"/>\n   </g>\n   <g id=\"patch_126\">\n    <path d=\"M 263.20241 71.332232 \nC 262.903312 70.81418 262.599517 70.298854 262.291062 69.786319 \nC 261.982607 69.273784 261.669505 68.76406 261.351793 68.25721 \nL 177.61937 120.743628 \nL 263.20241 71.332232 \nz\n\" style=\"fill:#1f77b4;\"/>\n   </g>\n   <g id=\"patch_127\">\n    <path d=\"M 261.351793 68.25721 \nC 261.034082 67.750361 260.711776 67.246406 260.384913 66.745409 \nC 260.058051 66.244412 259.726646 65.746394 259.39074 65.251415 \nL 177.61937 120.743628 \nL 261.351793 68.25721 \nz\n\" style=\"fill:#ff7f0e;\"/>\n   </g>\n   <g id=\"patch_128\">\n    <path d=\"M 259.39074 65.251415 \nC 259.054835 64.756436 258.714441 64.264517 258.369603 63.775719 \nC 258.024764 63.286921 257.675495 62.801264 257.321837 62.318809 \nL 177.61937 120.743628 \nL 259.39074 65.251415 \nz\n\" style=\"fill:#2ca02c;\"/>\n   </g>\n   <g id=\"patch_129\">\n    <path d=\"M 257.321837 62.318809 \nC 256.96818 61.836353 256.610149 61.357119 256.247789 60.881165 \nC 255.885429 60.405211 255.518755 59.932557 255.147813 59.463261 \nL 177.61937 120.743628 \nL 257.321837 62.318809 \nz\n\" style=\"fill:#d62728;\"/>\n   </g>\n   <g id=\"patch_130\">\n    <path d=\"M 255.147813 59.463261 \nC 254.838694 59.072182 254.526621 58.683448 254.211621 58.297091 \nC 253.89662 57.910735 253.5787 57.526767 253.257889 57.145222 \nL 177.61937 120.743628 \nL 255.147813 59.463261 \nz\n\" style=\"fill:#9467bd;\"/>\n   </g>\n   <g id=\"patch_131\">\n    <path d=\"M 253.257889 57.145222 \nC 252.937077 56.763676 252.613384 56.384564 252.286836 56.007916 \nC 251.960287 55.631269 251.630894 55.257098 251.298684 54.885435 \nL 177.61937 120.743628 \nL 253.257889 57.145222 \nz\n\" style=\"fill:#8c564b;\"/>\n   </g>\n   <g id=\"patch_132\">\n    <path d=\"M 251.298684 54.885435 \nC 250.966473 54.513773 250.631456 54.144629 250.293659 53.778036 \nC 249.955863 53.411443 249.615297 53.047411 249.271992 52.685972 \nL 177.61937 120.743628 \nL 251.298684 54.885435 \nz\n\" style=\"fill:#e377c2;\"/>\n   </g>\n   <g id=\"patch_133\">\n    <path d=\"M 249.271992 52.685972 \nC 248.928687 52.324533 248.582652 51.965696 248.233917 51.609493 \nC 247.885181 51.25329 247.533756 50.899731 247.17967 50.548846 \nL 177.61937 120.743628 \nL 249.271992 52.685972 \nz\n\" style=\"fill:#7f7f7f;\"/>\n   </g>\n   <g id=\"patch_134\">\n    <path d=\"M 247.17967 50.548846 \nC 246.825585 50.197961 246.468849 49.84976 246.109495 49.504273 \nC 245.75014 49.158787 245.388176 48.816024 245.023635 48.476015 \nL 177.61937 120.743628 \nL 247.17967 50.548846 \nz\n\" style=\"fill:#bcbd22;\"/>\n   </g>\n   <g id=\"patch_135\">\n    <path d=\"M 245.023635 48.476015 \nC 244.659093 48.136006 244.291984 47.79876 243.922339 47.464306 \nC 243.552694 47.129852 243.180524 46.798199 242.80586 46.469377 \nL 177.61937 120.743628 \nL 245.023635 48.476015 \nz\n\" style=\"fill:#17becf;\"/>\n   </g>\n   <g id=\"patch_136\">\n    <path d=\"M 242.80586 46.469377 \nC 242.431196 46.140555 242.05405 45.814573 241.674453 45.491458 \nC 241.294857 45.168343 240.91282 44.848105 240.528378 44.530771 \nL 177.61937 120.743628 \nL 242.80586 46.469377 \nz\n\" style=\"fill:#1f77b4;\"/>\n   </g>\n   <g id=\"patch_137\">\n    <path d=\"M 240.528378 44.530771 \nC 240.143935 44.213438 239.757097 43.899017 239.367896 43.587537 \nC 238.978695 43.276058 238.587144 42.967527 238.193274 42.661972 \nL 177.61937 120.743628 \nL 240.528378 44.530771 \nz\n\" style=\"fill:#ff7f0e;\"/>\n   </g>\n   <g id=\"patch_138\">\n    <path d=\"M 238.193274 42.661972 \nC 237.799405 42.356418 237.403229 42.053848 237.00478 41.754288 \nC 236.606332 41.454729 236.205623 41.158188 235.802688 40.864692 \nL 177.61937 120.743628 \nL 238.193274 42.661972 \nz\n\" style=\"fill:#2ca02c;\"/>\n   </g>\n   <g id=\"patch_139\">\n    <path d=\"M 235.802688 40.864692 \nC 235.399752 40.571197 234.994601 40.280754 234.587271 39.993389 \nC 234.17994 39.706024 233.770441 39.421746 233.358808 39.140578 \nL 177.61937 120.743628 \nL 235.802688 40.864692 \nz\n\" style=\"fill:#d62728;\"/>\n   </g>\n   <g id=\"patch_140\">\n    <path d=\"M 233.358808 39.140578 \nC 232.947176 38.85941 232.533421 38.58136 232.117581 38.306453 \nC 231.701741 38.031546 231.283827 37.75979 230.863874 37.491207 \nL 177.61937 120.743628 \nL 233.358808 39.140578 \nz\n\" style=\"fill:#9467bd;\"/>\n   </g>\n   <g id=\"patch_141\">\n    <path d=\"M 230.863874 37.491207 \nC 230.443922 37.222624 230.021943 36.957223 229.597974 36.695026 \nC 229.174005 36.432829 228.748059 36.173843 228.320171 35.918092 \nL 177.61937 120.743628 \nL 230.863874 37.491207 \nz\n\" style=\"fill:#8c564b;\"/>\n   </g>\n   <g id=\"patch_142\">\n    <path d=\"M 228.320171 35.918092 \nC 227.892283 35.66234 227.462466 35.40983 227.030757 35.160583 \nC 226.599048 34.911336 226.165459 34.665358 225.730028 34.422672 \nL 177.61937 120.743628 \nL 228.320171 35.918092 \nz\n\" style=\"fill:#e377c2;\"/>\n   </g>\n   <g id=\"patch_143\">\n    <path d=\"M 225.730028 34.422672 \nC 225.294597 34.179986 224.857336 33.940599 224.418282 33.70453 \nC 223.979228 33.468461 223.538394 33.235717 223.095818 33.006319 \nL 177.61937 120.743628 \nL 225.730028 34.422672 \nz\n\" style=\"fill:#7f7f7f;\"/>\n   </g>\n   <g id=\"patch_144\">\n    <path d=\"M 223.095818 33.006319 \nC 222.653243 32.776921 222.208937 32.550874 221.762941 32.3282 \nC 221.316944 32.105525 220.86927 31.886228 220.419955 31.670328 \nL 177.61937 120.743628 \nL 223.095818 33.006319 \nz\n\" style=\"fill:#bcbd22;\"/>\n   </g>\n   <g id=\"patch_145\">\n    <path d=\"M 220.419955 31.670328 \nC 220.060503 31.497608 219.70001 31.327066 219.338494 31.15871 \nC 218.976978 30.990354 218.614446 30.824189 218.250918 30.660222 \nL 177.61937 120.743628 \nL 220.419955 31.670328 \nz\n\" style=\"fill:#17becf;\"/>\n   </g>\n   <g id=\"patch_146\">\n    <path d=\"M 218.250918 30.660222 \nC 217.887391 30.496255 217.522874 30.33449 217.157388 30.174936 \nC 216.791902 30.015382 216.425454 29.858042 216.058063 29.702925 \nL 177.61937 120.743628 \nL 218.250918 30.660222 \nz\n\" style=\"fill:#1f77b4;\"/>\n   </g>\n   <g id=\"patch_147\">\n    <path d=\"M 216.058063 29.702925 \nC 215.690672 29.547807 215.322346 29.394915 214.953104 29.244256 \nC 214.583863 29.093597 214.213712 28.945175 213.842674 28.798998 \nL 177.61937 120.743628 \nL 216.058063 29.702925 \nz\n\" style=\"fill:#ff7f0e;\"/>\n   </g>\n   <g id=\"patch_148\">\n    <path d=\"M 213.842674 28.798998 \nC 213.471635 28.65282 213.099715 28.50889 212.726934 28.367215 \nC 212.354154 28.22554 211.980518 28.086123 211.60605 27.948971 \nL 177.61937 120.743628 \nL 213.842674 28.798998 \nz\n\" style=\"fill:#2ca02c;\"/>\n   </g>\n   <g id=\"patch_149\">\n    <path d=\"M 211.60605 27.948971 \nC 211.231581 27.811819 210.856285 27.676935 210.480184 27.544327 \nC 210.104082 27.411719 209.727181 27.281388 209.349502 27.153343 \nL 177.61937 120.743628 \nL 211.60605 27.948971 \nz\n\" style=\"fill:#d62728;\"/>\n   </g>\n   <g id=\"patch_150\">\n    <path d=\"M 209.349502 27.153343 \nC 208.971822 27.025297 208.593371 26.899539 208.214169 26.776075 \nC 207.834967 26.652611 207.455022 26.531443 207.074353 26.412579 \nL 177.61937 120.743628 \nL 209.349502 27.153343 \nz\n\" style=\"fill:#9467bd;\"/>\n   </g>\n   <g id=\"patch_151\">\n    <path d=\"M 207.074353 26.412579 \nC 206.693684 26.293715 206.312299 26.177156 205.930219 26.062909 \nC 205.54814 25.948662 205.165372 25.836728 204.781937 25.727115 \nL 177.61937 120.743628 \nL 207.074353 26.412579 \nz\n\" style=\"fill:#8c564b;\"/>\n   </g>\n   <g id=\"patch_152\">\n    <path d=\"M 204.781937 25.727115 \nC 204.398502 25.617502 204.014407 25.51021 203.629673 25.405247 \nC 203.244939 25.300283 202.859574 25.19765 202.473597 25.097352 \nL 177.61937 120.743628 \nL 204.781937 25.727115 \nz\n\" style=\"fill:#e377c2;\"/>\n   </g>\n   <g id=\"patch_153\">\n    <path d=\"M 202.473597 25.097352 \nC 202.087621 24.997053 201.701041 24.899093 201.313879 24.803474 \nC 200.926717 24.707856 200.538979 24.614583 200.150688 24.523659 \nL 177.61937 120.743628 \nL 202.473597 25.097352 \nz\n\" style=\"fill:#7f7f7f;\"/>\n   </g>\n   <g id=\"patch_154\">\n    <path d=\"M 200.150688 24.523659 \nC 199.762396 24.432734 199.373558 24.344161 198.984194 24.257945 \nC 198.594831 24.171728 198.204949 24.087869 197.81457 24.006372 \nL 177.61937 120.743628 \nL 200.150688 24.523659 \nz\n\" style=\"fill:#bcbd22;\"/>\n   </g>\n   <g id=\"patch_155\">\n    <path d=\"M 197.81457 24.006372 \nC 197.521786 23.945249 197.228726 23.885456 196.935399 23.826995 \nC 196.642073 23.768533 196.348482 23.711403 196.054637 23.655607 \nL 177.61937 120.743628 \nL 197.81457 24.006372 \nz\n\" style=\"fill:#17becf;\"/>\n   </g>\n   <g id=\"patch_156\">\n    <path d=\"M 196.054637 23.655607 \nC 195.760791 23.599811 195.466694 23.54535 195.172354 23.492224 \nC 194.878014 23.439099 194.583435 23.387309 194.288625 23.336858 \nL 177.61937 120.743628 \nL 196.054637 23.655607 \nz\n\" style=\"fill:#1f77b4;\"/>\n   </g>\n   <g id=\"patch_157\">\n    <path d=\"M 194.288625 23.336858 \nC 193.993814 23.286407 193.698777 23.237295 193.403521 23.189523 \nC 193.108265 23.141751 192.812793 23.09532 192.517116 23.05023 \nL 177.61937 120.743628 \nL 194.288625 23.336858 \nz\n\" style=\"fill:#ff7f0e;\"/>\n   </g>\n   <g id=\"patch_158\">\n    <path d=\"M 192.517116 23.05023 \nC 192.221438 23.005141 191.925557 22.961394 191.629482 22.918991 \nC 191.333408 22.876588 191.037142 22.83553 190.740694 22.795817 \nL 177.61937 120.743628 \nL 192.517116 23.05023 \nz\n\" style=\"fill:#2ca02c;\"/>\n   </g>\n   <g id=\"patch_159\">\n    <path d=\"M 190.740694 22.795817 \nC 190.444246 22.756104 190.14762 22.717737 189.850824 22.680718 \nC 189.554028 22.643698 189.257066 22.608026 188.959946 22.573703 \nL 177.61937 120.743628 \nL 190.740694 22.795817 \nz\n\" style=\"fill:#d62728;\"/>\n   </g>\n   <g id=\"patch_160\">\n    <path d=\"M 188.959946 22.573703 \nC 188.662826 22.53938 188.365552 22.506406 188.068132 22.474782 \nC 187.770713 22.443158 187.473152 22.412884 187.175458 22.383961 \nL 177.61937 120.743628 \nL 188.959946 22.573703 \nz\n\" style=\"fill:#9467bd;\"/>\n   </g>\n   <g id=\"patch_161\">\n    <path d=\"M 187.175458 22.383961 \nC 186.877763 22.355039 186.57994 22.327468 186.281995 22.30125 \nC 185.984051 22.275032 185.685989 22.250167 185.387818 22.226655 \nL 177.61937 120.743628 \nL 187.175458 22.383961 \nz\n\" style=\"fill:#8c564b;\"/>\n   </g>\n   <g id=\"patch_162\">\n    <path d=\"M 185.387818 22.226655 \nC 185.089648 22.203143 184.791373 22.180985 184.493001 22.160181 \nC 184.19463 22.139377 183.896165 22.119928 183.597617 22.101835 \nL 177.61937 120.743628 \nL 185.387818 22.226655 \nz\n\" style=\"fill:#e377c2;\"/>\n   </g>\n   <g id=\"patch_163\">\n    <path d=\"M 183.597617 22.101835 \nC 183.299069 22.083741 183.000441 22.067003 182.701741 22.051621 \nC 182.403041 22.036238 182.104272 22.022212 181.805445 22.009543 \nL 177.61937 120.743628 \nL 183.597617 22.101835 \nz\n\" style=\"fill:#7f7f7f;\"/>\n   </g>\n   <g id=\"patch_164\">\n    <path d=\"M 181.805445 22.009543 \nC 181.606227 22.001096 181.406984 21.993253 181.207718 21.986013 \nC 181.008453 21.978772 180.809166 21.972135 180.60986 21.966101 \nL 177.61937 120.743628 \nL 181.805445 22.009543 \nz\n\" style=\"fill:#bcbd22;\"/>\n   </g>\n   <g id=\"patch_165\">\n    <path d=\"M 180.60986 21.966101 \nC 180.510207 21.963084 180.41055 21.960218 180.310888 21.957503 \nC 180.211227 21.954787 180.111561 21.952223 180.011892 21.949809 \nL 177.61937 120.743628 \nL 180.60986 21.966101 \nz\n\" style=\"fill:#17becf;\"/>\n   </g>\n   <g id=\"patch_166\">\n    <path d=\"M 180.011892 21.949809 \nC 179.912223 21.947395 179.81255 21.945133 179.712874 21.94302 \nC 179.613198 21.940908 179.513519 21.938947 179.413837 21.937137 \nL 177.61937 120.743628 \nL 180.011892 21.949809 \nz\n\" style=\"fill:#1f77b4;\"/>\n   </g>\n   <g id=\"patch_167\">\n    <path d=\"M 179.413837 21.937137 \nC 179.314155 21.935326 179.21447 21.933667 179.114783 21.932158 \nC 179.015096 21.93065 178.915407 21.929292 178.815715 21.928085 \nL 177.61937 120.743628 \nL 179.413837 21.937137 \nz\n\" style=\"fill:#ff7f0e;\"/>\n   </g>\n   <g id=\"patch_168\">\n    <path d=\"M 178.815715 21.928085 \nC 178.716024 21.926878 178.616331 21.925822 178.516637 21.924917 \nC 178.416943 21.924011 178.317247 21.923257 178.21755 21.922654 \nL 177.61937 120.743628 \nL 178.815715 21.928085 \nz\n\" style=\"fill:#2ca02c;\"/>\n   </g>\n   <g id=\"patch_169\">\n    <path d=\"M 178.21755 21.922654 \nC 178.117854 21.92205 178.018156 21.921597 177.918458 21.921296 \nC 177.81876 21.920994 177.719062 21.920843 177.619363 21.920843 \nL 177.61937 120.743628 \nL 178.21755 21.922654 \nz\n\" style=\"fill:#d62728;\"/>\n   </g>\n   <g id=\"matplotlib.axis_1\"/>\n   <g id=\"matplotlib.axis_2\"/>\n   <g id=\"text_1\">\n    <!-- black -->\n    <defs>\n     <path d=\"M 48.6875 27.296875 \nQ 48.6875 37.203125 44.609375 42.84375 \nQ 40.53125 48.484375 33.40625 48.484375 \nQ 26.265625 48.484375 22.1875 42.84375 \nQ 18.109375 37.203125 18.109375 27.296875 \nQ 18.109375 17.390625 22.1875 11.75 \nQ 26.265625 6.109375 33.40625 6.109375 \nQ 40.53125 6.109375 44.609375 11.75 \nQ 48.6875 17.390625 48.6875 27.296875 \nz\nM 18.109375 46.390625 \nQ 20.953125 51.265625 25.265625 53.625 \nQ 29.59375 56 35.59375 56 \nQ 45.5625 56 51.78125 48.09375 \nQ 58.015625 40.1875 58.015625 27.296875 \nQ 58.015625 14.40625 51.78125 6.484375 \nQ 45.5625 -1.421875 35.59375 -1.421875 \nQ 29.59375 -1.421875 25.265625 0.953125 \nQ 20.953125 3.328125 18.109375 8.203125 \nL 18.109375 0 \nL 9.078125 0 \nL 9.078125 75.984375 \nL 18.109375 75.984375 \nz\n\" id=\"DejaVuSans-98\"/>\n     <path d=\"M 9.421875 75.984375 \nL 18.40625 75.984375 \nL 18.40625 0 \nL 9.421875 0 \nz\n\" id=\"DejaVuSans-108\"/>\n     <path d=\"M 34.28125 27.484375 \nQ 23.390625 27.484375 19.1875 25 \nQ 14.984375 22.515625 14.984375 16.5 \nQ 14.984375 11.71875 18.140625 8.90625 \nQ 21.296875 6.109375 26.703125 6.109375 \nQ 34.1875 6.109375 38.703125 11.40625 \nQ 43.21875 16.703125 43.21875 25.484375 \nL 43.21875 27.484375 \nz\nM 52.203125 31.203125 \nL 52.203125 0 \nL 43.21875 0 \nL 43.21875 8.296875 \nQ 40.140625 3.328125 35.546875 0.953125 \nQ 30.953125 -1.421875 24.3125 -1.421875 \nQ 15.921875 -1.421875 10.953125 3.296875 \nQ 6 8.015625 6 15.921875 \nQ 6 25.140625 12.171875 29.828125 \nQ 18.359375 34.515625 30.609375 34.515625 \nL 43.21875 34.515625 \nL 43.21875 35.40625 \nQ 43.21875 41.609375 39.140625 45 \nQ 35.0625 48.390625 27.6875 48.390625 \nQ 23 48.390625 18.546875 47.265625 \nQ 14.109375 46.140625 10.015625 43.890625 \nL 10.015625 52.203125 \nQ 14.9375 54.109375 19.578125 55.046875 \nQ 24.21875 56 28.609375 56 \nQ 40.484375 56 46.34375 49.84375 \nQ 52.203125 43.703125 52.203125 31.203125 \nz\n\" id=\"DejaVuSans-97\"/>\n     <path d=\"M 48.78125 52.59375 \nL 48.78125 44.1875 \nQ 44.96875 46.296875 41.140625 47.34375 \nQ 37.3125 48.390625 33.40625 48.390625 \nQ 24.65625 48.390625 19.8125 42.84375 \nQ 14.984375 37.3125 14.984375 27.296875 \nQ 14.984375 17.28125 19.8125 11.734375 \nQ 24.65625 6.203125 33.40625 6.203125 \nQ 37.3125 6.203125 41.140625 7.25 \nQ 44.96875 8.296875 48.78125 10.40625 \nL 48.78125 2.09375 \nQ 45.015625 0.34375 40.984375 -0.53125 \nQ 36.96875 -1.421875 32.421875 -1.421875 \nQ 20.0625 -1.421875 12.78125 6.34375 \nQ 5.515625 14.109375 5.515625 27.296875 \nQ 5.515625 40.671875 12.859375 48.328125 \nQ 20.21875 56 33.015625 56 \nQ 37.15625 56 41.109375 55.140625 \nQ 45.0625 54.296875 48.78125 52.59375 \nz\n\" id=\"DejaVuSans-99\"/>\n     <path d=\"M 9.078125 75.984375 \nL 18.109375 75.984375 \nL 18.109375 31.109375 \nL 44.921875 54.6875 \nL 56.390625 54.6875 \nL 27.390625 29.109375 \nL 57.625 0 \nL 45.90625 0 \nL 18.109375 26.703125 \nL 18.109375 0 \nL 9.078125 0 \nz\n\" id=\"DejaVuSans-107\"/>\n    </defs>\n    <g transform=\"translate(107.282466 24.009533)scale(0.1 -0.1)\">\n     <use xlink:href=\"#DejaVuSans-98\"/>\n     <use x=\"63.476562\" xlink:href=\"#DejaVuSans-108\"/>\n     <use x=\"91.259766\" xlink:href=\"#DejaVuSans-97\"/>\n     <use x=\"152.539062\" xlink:href=\"#DejaVuSans-99\"/>\n     <use x=\"207.519531\" xlink:href=\"#DejaVuSans-107\"/>\n    </g>\n   </g>\n   <g id=\"text_2\">\n    <!-- 13.2% -->\n    <defs>\n     <path d=\"M 12.40625 8.296875 \nL 28.515625 8.296875 \nL 28.515625 63.921875 \nL 10.984375 60.40625 \nL 10.984375 69.390625 \nL 28.421875 72.90625 \nL 38.28125 72.90625 \nL 38.28125 8.296875 \nL 54.390625 8.296875 \nL 54.390625 0 \nL 12.40625 0 \nz\n\" id=\"DejaVuSans-49\"/>\n     <path d=\"M 40.578125 39.3125 \nQ 47.65625 37.796875 51.625 33 \nQ 55.609375 28.21875 55.609375 21.1875 \nQ 55.609375 10.40625 48.1875 4.484375 \nQ 40.765625 -1.421875 27.09375 -1.421875 \nQ 22.515625 -1.421875 17.65625 -0.515625 \nQ 12.796875 0.390625 7.625 2.203125 \nL 7.625 11.71875 \nQ 11.71875 9.328125 16.59375 8.109375 \nQ 21.484375 6.890625 26.8125 6.890625 \nQ 36.078125 6.890625 40.9375 10.546875 \nQ 45.796875 14.203125 45.796875 21.1875 \nQ 45.796875 27.640625 41.28125 31.265625 \nQ 36.765625 34.90625 28.71875 34.90625 \nL 20.21875 34.90625 \nL 20.21875 43.015625 \nL 29.109375 43.015625 \nQ 36.375 43.015625 40.234375 45.921875 \nQ 44.09375 48.828125 44.09375 54.296875 \nQ 44.09375 59.90625 40.109375 62.90625 \nQ 36.140625 65.921875 28.71875 65.921875 \nQ 24.65625 65.921875 20.015625 65.03125 \nQ 15.375 64.15625 9.8125 62.3125 \nL 9.8125 71.09375 \nQ 15.4375 72.65625 20.34375 73.4375 \nQ 25.25 74.21875 29.59375 74.21875 \nQ 40.828125 74.21875 47.359375 69.109375 \nQ 53.90625 64.015625 53.90625 55.328125 \nQ 53.90625 49.265625 50.4375 45.09375 \nQ 46.96875 40.921875 40.578125 39.3125 \nz\n\" id=\"DejaVuSans-51\"/>\n     <path d=\"M 10.6875 12.40625 \nL 21 12.40625 \nL 21 0 \nL 10.6875 0 \nz\n\" id=\"DejaVuSans-46\"/>\n     <path d=\"M 19.1875 8.296875 \nL 53.609375 8.296875 \nL 53.609375 0 \nL 7.328125 0 \nL 7.328125 8.296875 \nQ 12.9375 14.109375 22.625 23.890625 \nQ 32.328125 33.6875 34.8125 36.53125 \nQ 39.546875 41.84375 41.421875 45.53125 \nQ 43.3125 49.21875 43.3125 52.78125 \nQ 43.3125 58.59375 39.234375 62.25 \nQ 35.15625 65.921875 28.609375 65.921875 \nQ 23.96875 65.921875 18.8125 64.3125 \nQ 13.671875 62.703125 7.8125 59.421875 \nL 7.8125 69.390625 \nQ 13.765625 71.78125 18.9375 73 \nQ 24.125 74.21875 28.421875 74.21875 \nQ 39.75 74.21875 46.484375 68.546875 \nQ 53.21875 62.890625 53.21875 53.421875 \nQ 53.21875 48.921875 51.53125 44.890625 \nQ 49.859375 40.875 45.40625 35.40625 \nQ 44.1875 33.984375 37.640625 27.21875 \nQ 31.109375 20.453125 19.1875 8.296875 \nz\n\" id=\"DejaVuSans-50\"/>\n     <path d=\"M 72.703125 32.078125 \nQ 68.453125 32.078125 66.03125 28.46875 \nQ 63.625 24.859375 63.625 18.40625 \nQ 63.625 12.0625 66.03125 8.421875 \nQ 68.453125 4.78125 72.703125 4.78125 \nQ 76.859375 4.78125 79.265625 8.421875 \nQ 81.6875 12.0625 81.6875 18.40625 \nQ 81.6875 24.8125 79.265625 28.4375 \nQ 76.859375 32.078125 72.703125 32.078125 \nz\nM 72.703125 38.28125 \nQ 80.421875 38.28125 84.953125 32.90625 \nQ 89.5 27.546875 89.5 18.40625 \nQ 89.5 9.28125 84.9375 3.921875 \nQ 80.375 -1.421875 72.703125 -1.421875 \nQ 64.890625 -1.421875 60.34375 3.921875 \nQ 55.8125 9.28125 55.8125 18.40625 \nQ 55.8125 27.59375 60.375 32.9375 \nQ 64.9375 38.28125 72.703125 38.28125 \nz\nM 22.3125 68.015625 \nQ 18.109375 68.015625 15.6875 64.375 \nQ 13.28125 60.75 13.28125 54.390625 \nQ 13.28125 47.953125 15.671875 44.328125 \nQ 18.0625 40.71875 22.3125 40.71875 \nQ 26.5625 40.71875 28.96875 44.328125 \nQ 31.390625 47.953125 31.390625 54.390625 \nQ 31.390625 60.6875 28.953125 64.34375 \nQ 26.515625 68.015625 22.3125 68.015625 \nz\nM 66.40625 74.21875 \nL 74.21875 74.21875 \nL 28.609375 -1.421875 \nL 20.796875 -1.421875 \nz\nM 22.3125 74.21875 \nQ 30.03125 74.21875 34.609375 68.875 \nQ 39.203125 63.53125 39.203125 54.390625 \nQ 39.203125 45.171875 34.640625 39.84375 \nQ 30.078125 34.515625 22.3125 34.515625 \nQ 14.546875 34.515625 10.03125 39.859375 \nQ 5.515625 45.21875 5.515625 54.390625 \nQ 5.515625 63.484375 10.046875 68.84375 \nQ 14.59375 74.21875 22.3125 74.21875 \nz\n\" id=\"DejaVuSans-37\"/>\n    </defs>\n    <g transform=\"translate(137.848601 69.233838)scale(0.1 -0.1)\">\n     <use xlink:href=\"#DejaVuSans-49\"/>\n     <use x=\"63.623047\" xlink:href=\"#DejaVuSans-51\"/>\n     <use x=\"127.246094\" xlink:href=\"#DejaVuSans-46\"/>\n     <use x=\"159.033203\" xlink:href=\"#DejaVuSans-50\"/>\n     <use x=\"222.65625\" xlink:href=\"#DejaVuSans-37\"/>\n    </g>\n   </g>\n   <g id=\"text_3\">\n    <!-- milk -->\n    <defs>\n     <path d=\"M 52 44.1875 \nQ 55.375 50.25 60.0625 53.125 \nQ 64.75 56 71.09375 56 \nQ 79.640625 56 84.28125 50.015625 \nQ 88.921875 44.046875 88.921875 33.015625 \nL 88.921875 0 \nL 79.890625 0 \nL 79.890625 32.71875 \nQ 79.890625 40.578125 77.09375 44.375 \nQ 74.3125 48.1875 68.609375 48.1875 \nQ 61.625 48.1875 57.5625 43.546875 \nQ 53.515625 38.921875 53.515625 30.90625 \nL 53.515625 0 \nL 44.484375 0 \nL 44.484375 32.71875 \nQ 44.484375 40.625 41.703125 44.40625 \nQ 38.921875 48.1875 33.109375 48.1875 \nQ 26.21875 48.1875 22.15625 43.53125 \nQ 18.109375 38.875 18.109375 30.90625 \nL 18.109375 0 \nL 9.078125 0 \nL 9.078125 54.6875 \nL 18.109375 54.6875 \nL 18.109375 46.1875 \nQ 21.1875 51.21875 25.484375 53.609375 \nQ 29.78125 56 35.6875 56 \nQ 41.65625 56 45.828125 52.96875 \nQ 50 49.953125 52 44.1875 \nz\n\" id=\"DejaVuSans-109\"/>\n     <path d=\"M 9.421875 54.6875 \nL 18.40625 54.6875 \nL 18.40625 0 \nL 9.421875 0 \nz\nM 9.421875 75.984375 \nL 18.40625 75.984375 \nL 18.40625 64.59375 \nL 9.421875 64.59375 \nz\n\" id=\"DejaVuSans-105\"/>\n    </defs>\n    <g transform=\"translate(59.719797 74.064017)scale(0.1 -0.1)\">\n     <use xlink:href=\"#DejaVuSans-109\"/>\n     <use x=\"97.412109\" xlink:href=\"#DejaVuSans-105\"/>\n     <use x=\"125.195312\" xlink:href=\"#DejaVuSans-108\"/>\n     <use x=\"152.978516\" xlink:href=\"#DejaVuSans-107\"/>\n    </g>\n   </g>\n   <g id=\"text_4\">\n    <!-- 8.6% -->\n    <defs>\n     <path d=\"M 31.78125 34.625 \nQ 24.75 34.625 20.71875 30.859375 \nQ 16.703125 27.09375 16.703125 20.515625 \nQ 16.703125 13.921875 20.71875 10.15625 \nQ 24.75 6.390625 31.78125 6.390625 \nQ 38.8125 6.390625 42.859375 10.171875 \nQ 46.921875 13.96875 46.921875 20.515625 \nQ 46.921875 27.09375 42.890625 30.859375 \nQ 38.875 34.625 31.78125 34.625 \nz\nM 21.921875 38.8125 \nQ 15.578125 40.375 12.03125 44.71875 \nQ 8.5 49.078125 8.5 55.328125 \nQ 8.5 64.0625 14.71875 69.140625 \nQ 20.953125 74.21875 31.78125 74.21875 \nQ 42.671875 74.21875 48.875 69.140625 \nQ 55.078125 64.0625 55.078125 55.328125 \nQ 55.078125 49.078125 51.53125 44.71875 \nQ 48 40.375 41.703125 38.8125 \nQ 48.828125 37.15625 52.796875 32.3125 \nQ 56.78125 27.484375 56.78125 20.515625 \nQ 56.78125 9.90625 50.3125 4.234375 \nQ 43.84375 -1.421875 31.78125 -1.421875 \nQ 19.734375 -1.421875 13.25 4.234375 \nQ 6.78125 9.90625 6.78125 20.515625 \nQ 6.78125 27.484375 10.78125 32.3125 \nQ 14.796875 37.15625 21.921875 38.8125 \nz\nM 18.3125 54.390625 \nQ 18.3125 48.734375 21.84375 45.5625 \nQ 25.390625 42.390625 31.78125 42.390625 \nQ 38.140625 42.390625 41.71875 45.5625 \nQ 45.3125 48.734375 45.3125 54.390625 \nQ 45.3125 60.0625 41.71875 63.234375 \nQ 38.140625 66.40625 31.78125 66.40625 \nQ 25.390625 66.40625 21.84375 63.234375 \nQ 18.3125 60.0625 18.3125 54.390625 \nz\n\" id=\"DejaVuSans-56\"/>\n     <path d=\"M 33.015625 40.375 \nQ 26.375 40.375 22.484375 35.828125 \nQ 18.609375 31.296875 18.609375 23.390625 \nQ 18.609375 15.53125 22.484375 10.953125 \nQ 26.375 6.390625 33.015625 6.390625 \nQ 39.65625 6.390625 43.53125 10.953125 \nQ 47.40625 15.53125 47.40625 23.390625 \nQ 47.40625 31.296875 43.53125 35.828125 \nQ 39.65625 40.375 33.015625 40.375 \nz\nM 52.59375 71.296875 \nL 52.59375 62.3125 \nQ 48.875 64.0625 45.09375 64.984375 \nQ 41.3125 65.921875 37.59375 65.921875 \nQ 27.828125 65.921875 22.671875 59.328125 \nQ 17.53125 52.734375 16.796875 39.40625 \nQ 19.671875 43.65625 24.015625 45.921875 \nQ 28.375 48.1875 33.59375 48.1875 \nQ 44.578125 48.1875 50.953125 41.515625 \nQ 57.328125 34.859375 57.328125 23.390625 \nQ 57.328125 12.15625 50.6875 5.359375 \nQ 44.046875 -1.421875 33.015625 -1.421875 \nQ 20.359375 -1.421875 13.671875 8.265625 \nQ 6.984375 17.96875 6.984375 36.375 \nQ 6.984375 53.65625 15.1875 63.9375 \nQ 23.390625 74.21875 37.203125 74.21875 \nQ 40.921875 74.21875 44.703125 73.484375 \nQ 48.484375 72.75 52.59375 71.296875 \nz\n\" id=\"DejaVuSans-54\"/>\n    </defs>\n    <g transform=\"translate(112.110441 96.536283)scale(0.1 -0.1)\">\n     <use xlink:href=\"#DejaVuSans-56\"/>\n     <use x=\"63.623047\" xlink:href=\"#DejaVuSans-46\"/>\n     <use x=\"95.410156\" xlink:href=\"#DejaVuSans-54\"/>\n     <use x=\"159.033203\" xlink:href=\"#DejaVuSans-37\"/>\n    </g>\n   </g>\n   <g id=\"text_5\">\n    <!-- reliable blue -->\n    <defs>\n     <path d=\"M 41.109375 46.296875 \nQ 39.59375 47.171875 37.8125 47.578125 \nQ 36.03125 48 33.890625 48 \nQ 26.265625 48 22.1875 43.046875 \nQ 18.109375 38.09375 18.109375 28.8125 \nL 18.109375 0 \nL 9.078125 0 \nL 9.078125 54.6875 \nL 18.109375 54.6875 \nL 18.109375 46.1875 \nQ 20.953125 51.171875 25.484375 53.578125 \nQ 30.03125 56 36.53125 56 \nQ 37.453125 56 38.578125 55.875 \nQ 39.703125 55.765625 41.0625 55.515625 \nz\n\" id=\"DejaVuSans-114\"/>\n     <path d=\"M 56.203125 29.59375 \nL 56.203125 25.203125 \nL 14.890625 25.203125 \nQ 15.484375 15.921875 20.484375 11.0625 \nQ 25.484375 6.203125 34.421875 6.203125 \nQ 39.59375 6.203125 44.453125 7.46875 \nQ 49.3125 8.734375 54.109375 11.28125 \nL 54.109375 2.78125 \nQ 49.265625 0.734375 44.1875 -0.34375 \nQ 39.109375 -1.421875 33.890625 -1.421875 \nQ 20.796875 -1.421875 13.15625 6.1875 \nQ 5.515625 13.8125 5.515625 26.8125 \nQ 5.515625 40.234375 12.765625 48.109375 \nQ 20.015625 56 32.328125 56 \nQ 43.359375 56 49.78125 48.890625 \nQ 56.203125 41.796875 56.203125 29.59375 \nz\nM 47.21875 32.234375 \nQ 47.125 39.59375 43.09375 43.984375 \nQ 39.0625 48.390625 32.421875 48.390625 \nQ 24.90625 48.390625 20.390625 44.140625 \nQ 15.875 39.890625 15.1875 32.171875 \nz\n\" id=\"DejaVuSans-101\"/>\n     <path id=\"DejaVuSans-32\"/>\n     <path d=\"M 8.5 21.578125 \nL 8.5 54.6875 \nL 17.484375 54.6875 \nL 17.484375 21.921875 \nQ 17.484375 14.15625 20.5 10.265625 \nQ 23.53125 6.390625 29.59375 6.390625 \nQ 36.859375 6.390625 41.078125 11.03125 \nQ 45.3125 15.671875 45.3125 23.6875 \nL 45.3125 54.6875 \nL 54.296875 54.6875 \nL 54.296875 0 \nL 45.3125 0 \nL 45.3125 8.40625 \nQ 42.046875 3.421875 37.71875 1 \nQ 33.40625 -1.421875 27.6875 -1.421875 \nQ 18.265625 -1.421875 13.375 4.4375 \nQ 8.5 10.296875 8.5 21.578125 \nz\nM 31.109375 56 \nz\n\" id=\"DejaVuSans-117\"/>\n    </defs>\n    <g transform=\"translate(7.2 127.778967)scale(0.1 -0.1)\">\n     <use xlink:href=\"#DejaVuSans-114\"/>\n     <use x=\"38.863281\" xlink:href=\"#DejaVuSans-101\"/>\n     <use x=\"100.386719\" xlink:href=\"#DejaVuSans-108\"/>\n     <use x=\"128.169922\" xlink:href=\"#DejaVuSans-105\"/>\n     <use x=\"155.953125\" xlink:href=\"#DejaVuSans-97\"/>\n     <use x=\"217.232422\" xlink:href=\"#DejaVuSans-98\"/>\n     <use x=\"280.708984\" xlink:href=\"#DejaVuSans-108\"/>\n     <use x=\"308.492188\" xlink:href=\"#DejaVuSans-101\"/>\n     <use x=\"370.015625\" xlink:href=\"#DejaVuSans-32\"/>\n     <use x=\"401.802734\" xlink:href=\"#DejaVuSans-98\"/>\n     <use x=\"465.279297\" xlink:href=\"#DejaVuSans-108\"/>\n     <use x=\"493.0625\" xlink:href=\"#DejaVuSans-117\"/>\n     <use x=\"556.441406\" xlink:href=\"#DejaVuSans-101\"/>\n    </g>\n   </g>\n   <g id=\"text_6\">\n    <!-- 7.7% -->\n    <defs>\n     <path d=\"M 8.203125 72.90625 \nL 55.078125 72.90625 \nL 55.078125 68.703125 \nL 28.609375 0 \nL 18.3125 0 \nL 43.21875 64.59375 \nL 8.203125 64.59375 \nz\n\" id=\"DejaVuSans-55\"/>\n    </defs>\n    <g transform=\"translate(105.669245 125.835347)scale(0.1 -0.1)\">\n     <use xlink:href=\"#DejaVuSans-55\"/>\n     <use x=\"63.623047\" xlink:href=\"#DejaVuSans-46\"/>\n     <use x=\"95.410156\" xlink:href=\"#DejaVuSans-55\"/>\n     <use x=\"159.033203\" xlink:href=\"#DejaVuSans-37\"/>\n    </g>\n   </g>\n   <g id=\"text_7\">\n    <!-- white -->\n    <defs>\n     <path d=\"M 4.203125 54.6875 \nL 13.1875 54.6875 \nL 24.421875 12.015625 \nL 35.59375 54.6875 \nL 46.1875 54.6875 \nL 57.421875 12.015625 \nL 68.609375 54.6875 \nL 77.59375 54.6875 \nL 63.28125 0 \nL 52.6875 0 \nL 40.921875 44.828125 \nL 29.109375 0 \nL 18.5 0 \nz\n\" id=\"DejaVuSans-119\"/>\n     <path d=\"M 54.890625 33.015625 \nL 54.890625 0 \nL 45.90625 0 \nL 45.90625 32.71875 \nQ 45.90625 40.484375 42.875 44.328125 \nQ 39.84375 48.1875 33.796875 48.1875 \nQ 26.515625 48.1875 22.3125 43.546875 \nQ 18.109375 38.921875 18.109375 30.90625 \nL 18.109375 0 \nL 9.078125 0 \nL 9.078125 75.984375 \nL 18.109375 75.984375 \nL 18.109375 46.1875 \nQ 21.34375 51.125 25.703125 53.5625 \nQ 30.078125 56 35.796875 56 \nQ 45.21875 56 50.046875 50.171875 \nQ 54.890625 44.34375 54.890625 33.015625 \nz\n\" id=\"DejaVuSans-104\"/>\n     <path d=\"M 18.3125 70.21875 \nL 18.3125 54.6875 \nL 36.8125 54.6875 \nL 36.8125 47.703125 \nL 18.3125 47.703125 \nL 18.3125 18.015625 \nQ 18.3125 11.328125 20.140625 9.421875 \nQ 21.96875 7.515625 27.59375 7.515625 \nL 36.8125 7.515625 \nL 36.8125 0 \nL 27.59375 0 \nQ 17.1875 0 13.234375 3.875 \nQ 9.28125 7.765625 9.28125 18.015625 \nL 9.28125 47.703125 \nL 2.6875 47.703125 \nL 2.6875 54.6875 \nL 9.28125 54.6875 \nL 9.28125 70.21875 \nz\n\" id=\"DejaVuSans-116\"/>\n    </defs>\n    <g transform=\"translate(51.160441 168.197718)scale(0.1 -0.1)\">\n     <use xlink:href=\"#DejaVuSans-119\"/>\n     <use x=\"81.787109\" xlink:href=\"#DejaVuSans-104\"/>\n     <use x=\"145.166016\" xlink:href=\"#DejaVuSans-105\"/>\n     <use x=\"172.949219\" xlink:href=\"#DejaVuSans-116\"/>\n     <use x=\"212.158203\" xlink:href=\"#DejaVuSans-101\"/>\n    </g>\n   </g>\n   <g id=\"text_8\">\n    <!-- 4.5% -->\n    <defs>\n     <path d=\"M 37.796875 64.3125 \nL 12.890625 25.390625 \nL 37.796875 25.390625 \nz\nM 35.203125 72.90625 \nL 47.609375 72.90625 \nL 47.609375 25.390625 \nL 58.015625 25.390625 \nL 58.015625 17.1875 \nL 47.609375 17.1875 \nL 47.609375 0 \nL 37.796875 0 \nL 37.796875 17.1875 \nL 4.890625 17.1875 \nL 4.890625 26.703125 \nz\n\" id=\"DejaVuSans-52\"/>\n     <path d=\"M 10.796875 72.90625 \nL 49.515625 72.90625 \nL 49.515625 64.59375 \nL 19.828125 64.59375 \nL 19.828125 46.734375 \nQ 21.96875 47.46875 24.109375 47.828125 \nQ 26.265625 48.1875 28.421875 48.1875 \nQ 40.625 48.1875 47.75 41.5 \nQ 54.890625 34.8125 54.890625 23.390625 \nQ 54.890625 11.625 47.5625 5.09375 \nQ 40.234375 -1.421875 26.90625 -1.421875 \nQ 22.3125 -1.421875 17.546875 -0.640625 \nQ 12.796875 0.140625 7.71875 1.703125 \nL 7.71875 11.625 \nQ 12.109375 9.234375 16.796875 8.0625 \nQ 21.484375 6.890625 26.703125 6.890625 \nQ 35.15625 6.890625 40.078125 11.328125 \nQ 45.015625 15.765625 45.015625 23.390625 \nQ 45.015625 31 40.078125 35.4375 \nQ 35.15625 39.890625 26.703125 39.890625 \nQ 22.75 39.890625 18.8125 39.015625 \nQ 14.890625 38.140625 10.796875 36.28125 \nz\n\" id=\"DejaVuSans-53\"/>\n    </defs>\n    <g transform=\"translate(110.866985 147.881938)scale(0.1 -0.1)\">\n     <use xlink:href=\"#DejaVuSans-52\"/>\n     <use x=\"63.623047\" xlink:href=\"#DejaVuSans-46\"/>\n     <use x=\"95.410156\" xlink:href=\"#DejaVuSans-53\"/>\n     <use x=\"159.033203\" xlink:href=\"#DejaVuSans-37\"/>\n    </g>\n   </g>\n   <g id=\"text_9\">\n    <!-- dark night -->\n    <defs>\n     <path d=\"M 45.40625 46.390625 \nL 45.40625 75.984375 \nL 54.390625 75.984375 \nL 54.390625 0 \nL 45.40625 0 \nL 45.40625 8.203125 \nQ 42.578125 3.328125 38.25 0.953125 \nQ 33.9375 -1.421875 27.875 -1.421875 \nQ 17.96875 -1.421875 11.734375 6.484375 \nQ 5.515625 14.40625 5.515625 27.296875 \nQ 5.515625 40.1875 11.734375 48.09375 \nQ 17.96875 56 27.875 56 \nQ 33.9375 56 38.25 53.625 \nQ 42.578125 51.265625 45.40625 46.390625 \nz\nM 14.796875 27.296875 \nQ 14.796875 17.390625 18.875 11.75 \nQ 22.953125 6.109375 30.078125 6.109375 \nQ 37.203125 6.109375 41.296875 11.75 \nQ 45.40625 17.390625 45.40625 27.296875 \nQ 45.40625 37.203125 41.296875 42.84375 \nQ 37.203125 48.484375 30.078125 48.484375 \nQ 22.953125 48.484375 18.875 42.84375 \nQ 14.796875 37.203125 14.796875 27.296875 \nz\n\" id=\"DejaVuSans-100\"/>\n     <path d=\"M 54.890625 33.015625 \nL 54.890625 0 \nL 45.90625 0 \nL 45.90625 32.71875 \nQ 45.90625 40.484375 42.875 44.328125 \nQ 39.84375 48.1875 33.796875 48.1875 \nQ 26.515625 48.1875 22.3125 43.546875 \nQ 18.109375 38.921875 18.109375 30.90625 \nL 18.109375 0 \nL 9.078125 0 \nL 9.078125 54.6875 \nL 18.109375 54.6875 \nL 18.109375 46.1875 \nQ 21.34375 51.125 25.703125 53.5625 \nQ 30.078125 56 35.796875 56 \nQ 45.21875 56 50.046875 50.171875 \nQ 54.890625 44.34375 54.890625 33.015625 \nz\n\" id=\"DejaVuSans-110\"/>\n     <path d=\"M 45.40625 27.984375 \nQ 45.40625 37.75 41.375 43.109375 \nQ 37.359375 48.484375 30.078125 48.484375 \nQ 22.859375 48.484375 18.828125 43.109375 \nQ 14.796875 37.75 14.796875 27.984375 \nQ 14.796875 18.265625 18.828125 12.890625 \nQ 22.859375 7.515625 30.078125 7.515625 \nQ 37.359375 7.515625 41.375 12.890625 \nQ 45.40625 18.265625 45.40625 27.984375 \nz\nM 54.390625 6.78125 \nQ 54.390625 -7.171875 48.1875 -13.984375 \nQ 42 -20.796875 29.203125 -20.796875 \nQ 24.46875 -20.796875 20.265625 -20.09375 \nQ 16.0625 -19.390625 12.109375 -17.921875 \nL 12.109375 -9.1875 \nQ 16.0625 -11.328125 19.921875 -12.34375 \nQ 23.78125 -13.375 27.78125 -13.375 \nQ 36.625 -13.375 41.015625 -8.765625 \nQ 45.40625 -4.15625 45.40625 5.171875 \nL 45.40625 9.625 \nQ 42.625 4.78125 38.28125 2.390625 \nQ 33.9375 0 27.875 0 \nQ 17.828125 0 11.671875 7.65625 \nQ 5.515625 15.328125 5.515625 27.984375 \nQ 5.515625 40.671875 11.671875 48.328125 \nQ 17.828125 56 27.875 56 \nQ 33.9375 56 38.28125 53.609375 \nQ 42.625 51.21875 45.40625 46.390625 \nL 45.40625 54.6875 \nL 54.390625 54.6875 \nz\n\" id=\"DejaVuSans-103\"/>\n    </defs>\n    <g transform=\"translate(40.451431 190.134307)scale(0.1 -0.1)\">\n     <use xlink:href=\"#DejaVuSans-100\"/>\n     <use x=\"63.476562\" xlink:href=\"#DejaVuSans-97\"/>\n     <use x=\"124.755859\" xlink:href=\"#DejaVuSans-114\"/>\n     <use x=\"165.869141\" xlink:href=\"#DejaVuSans-107\"/>\n     <use x=\"223.779297\" xlink:href=\"#DejaVuSans-32\"/>\n     <use x=\"255.566406\" xlink:href=\"#DejaVuSans-110\"/>\n     <use x=\"318.945312\" xlink:href=\"#DejaVuSans-105\"/>\n     <use x=\"346.728516\" xlink:href=\"#DejaVuSans-103\"/>\n     <use x=\"410.205078\" xlink:href=\"#DejaVuSans-104\"/>\n     <use x=\"473.583984\" xlink:href=\"#DejaVuSans-116\"/>\n    </g>\n   </g>\n   <g id=\"text_10\">\n    <!-- 3.0% -->\n    <defs>\n     <path d=\"M 31.78125 66.40625 \nQ 24.171875 66.40625 20.328125 58.90625 \nQ 16.5 51.421875 16.5 36.375 \nQ 16.5 21.390625 20.328125 13.890625 \nQ 24.171875 6.390625 31.78125 6.390625 \nQ 39.453125 6.390625 43.28125 13.890625 \nQ 47.125 21.390625 47.125 36.375 \nQ 47.125 51.421875 43.28125 58.90625 \nQ 39.453125 66.40625 31.78125 66.40625 \nz\nM 31.78125 74.21875 \nQ 44.046875 74.21875 50.515625 64.515625 \nQ 56.984375 54.828125 56.984375 36.375 \nQ 56.984375 17.96875 50.515625 8.265625 \nQ 44.046875 -1.421875 31.78125 -1.421875 \nQ 19.53125 -1.421875 13.0625 8.265625 \nQ 6.59375 17.96875 6.59375 36.375 \nQ 6.59375 54.828125 13.0625 64.515625 \nQ 19.53125 74.21875 31.78125 74.21875 \nz\n\" id=\"DejaVuSans-48\"/>\n    </defs>\n    <g transform=\"translate(118.068037 159.847351)scale(0.1 -0.1)\">\n     <use xlink:href=\"#DejaVuSans-51\"/>\n     <use x=\"63.623047\" xlink:href=\"#DejaVuSans-46\"/>\n     <use x=\"95.410156\" xlink:href=\"#DejaVuSans-48\"/>\n     <use x=\"159.033203\" xlink:href=\"#DejaVuSans-37\"/>\n    </g>\n   </g>\n   <g id=\"text_11\">\n    <!-- iron grey melange -->\n    <defs>\n     <path d=\"M 30.609375 48.390625 \nQ 23.390625 48.390625 19.1875 42.75 \nQ 14.984375 37.109375 14.984375 27.296875 \nQ 14.984375 17.484375 19.15625 11.84375 \nQ 23.34375 6.203125 30.609375 6.203125 \nQ 37.796875 6.203125 41.984375 11.859375 \nQ 46.1875 17.53125 46.1875 27.296875 \nQ 46.1875 37.015625 41.984375 42.703125 \nQ 37.796875 48.390625 30.609375 48.390625 \nz\nM 30.609375 56 \nQ 42.328125 56 49.015625 48.375 \nQ 55.71875 40.765625 55.71875 27.296875 \nQ 55.71875 13.875 49.015625 6.21875 \nQ 42.328125 -1.421875 30.609375 -1.421875 \nQ 18.84375 -1.421875 12.171875 6.21875 \nQ 5.515625 13.875 5.515625 27.296875 \nQ 5.515625 40.765625 12.171875 48.375 \nQ 18.84375 56 30.609375 56 \nz\n\" id=\"DejaVuSans-111\"/>\n     <path d=\"M 32.171875 -5.078125 \nQ 28.375 -14.84375 24.75 -17.8125 \nQ 21.140625 -20.796875 15.09375 -20.796875 \nL 7.90625 -20.796875 \nL 7.90625 -13.28125 \nL 13.1875 -13.28125 \nQ 16.890625 -13.28125 18.9375 -11.515625 \nQ 21 -9.765625 23.484375 -3.21875 \nL 25.09375 0.875 \nL 2.984375 54.6875 \nL 12.5 54.6875 \nL 29.59375 11.921875 \nL 46.6875 54.6875 \nL 56.203125 54.6875 \nz\n\" id=\"DejaVuSans-121\"/>\n    </defs>\n    <g transform=\"translate(13.264229 204.110258)scale(0.1 -0.1)\">\n     <use xlink:href=\"#DejaVuSans-105\"/>\n     <use x=\"27.783203\" xlink:href=\"#DejaVuSans-114\"/>\n     <use x=\"66.646484\" xlink:href=\"#DejaVuSans-111\"/>\n     <use x=\"127.828125\" xlink:href=\"#DejaVuSans-110\"/>\n     <use x=\"191.207031\" xlink:href=\"#DejaVuSans-32\"/>\n     <use x=\"222.994141\" xlink:href=\"#DejaVuSans-103\"/>\n     <use x=\"286.470703\" xlink:href=\"#DejaVuSans-114\"/>\n     <use x=\"325.333984\" xlink:href=\"#DejaVuSans-101\"/>\n     <use x=\"386.857422\" xlink:href=\"#DejaVuSans-121\"/>\n     <use x=\"446.037109\" xlink:href=\"#DejaVuSans-32\"/>\n     <use x=\"477.824219\" xlink:href=\"#DejaVuSans-109\"/>\n     <use x=\"575.236328\" xlink:href=\"#DejaVuSans-101\"/>\n     <use x=\"636.759766\" xlink:href=\"#DejaVuSans-108\"/>\n     <use x=\"664.542969\" xlink:href=\"#DejaVuSans-97\"/>\n     <use x=\"725.822266\" xlink:href=\"#DejaVuSans-110\"/>\n     <use x=\"789.201172\" xlink:href=\"#DejaVuSans-103\"/>\n     <use x=\"852.677734\" xlink:href=\"#DejaVuSans-101\"/>\n    </g>\n   </g>\n   <g id=\"text_12\">\n    <!-- 2.6% -->\n    <g transform=\"translate(125.135245 167.470597)scale(0.1 -0.1)\">\n     <use xlink:href=\"#DejaVuSans-50\"/>\n     <use x=\"63.623047\" xlink:href=\"#DejaVuSans-46\"/>\n     <use x=\"95.410156\" xlink:href=\"#DejaVuSans-54\"/>\n     <use x=\"159.033203\" xlink:href=\"#DejaVuSans-37\"/>\n    </g>\n   </g>\n   <g id=\"text_13\">\n    <!-- slate grey melange -->\n    <defs>\n     <path d=\"M 44.28125 53.078125 \nL 44.28125 44.578125 \nQ 40.484375 46.53125 36.375 47.5 \nQ 32.28125 48.484375 27.875 48.484375 \nQ 21.1875 48.484375 17.84375 46.4375 \nQ 14.5 44.390625 14.5 40.28125 \nQ 14.5 37.15625 16.890625 35.375 \nQ 19.28125 33.59375 26.515625 31.984375 \nL 29.59375 31.296875 \nQ 39.15625 29.25 43.1875 25.515625 \nQ 47.21875 21.78125 47.21875 15.09375 \nQ 47.21875 7.46875 41.1875 3.015625 \nQ 35.15625 -1.421875 24.609375 -1.421875 \nQ 20.21875 -1.421875 15.453125 -0.5625 \nQ 10.6875 0.296875 5.421875 2 \nL 5.421875 11.28125 \nQ 10.40625 8.6875 15.234375 7.390625 \nQ 20.0625 6.109375 24.8125 6.109375 \nQ 31.15625 6.109375 34.5625 8.28125 \nQ 37.984375 10.453125 37.984375 14.40625 \nQ 37.984375 18.0625 35.515625 20.015625 \nQ 33.0625 21.96875 24.703125 23.78125 \nL 21.578125 24.515625 \nQ 13.234375 26.265625 9.515625 29.90625 \nQ 5.8125 33.546875 5.8125 39.890625 \nQ 5.8125 47.609375 11.28125 51.796875 \nQ 16.75 56 26.8125 56 \nQ 31.78125 56 36.171875 55.265625 \nQ 40.578125 54.546875 44.28125 53.078125 \nz\n\" id=\"DejaVuSans-115\"/>\n    </defs>\n    <g transform=\"translate(22.28289 214.902982)scale(0.1 -0.1)\">\n     <use xlink:href=\"#DejaVuSans-115\"/>\n     <use x=\"52.099609\" xlink:href=\"#DejaVuSans-108\"/>\n     <use x=\"79.882812\" xlink:href=\"#DejaVuSans-97\"/>\n     <use x=\"141.162109\" xlink:href=\"#DejaVuSans-116\"/>\n     <use x=\"180.371094\" xlink:href=\"#DejaVuSans-101\"/>\n     <use x=\"241.894531\" xlink:href=\"#DejaVuSans-32\"/>\n     <use x=\"273.681641\" xlink:href=\"#DejaVuSans-103\"/>\n     <use x=\"337.158203\" xlink:href=\"#DejaVuSans-114\"/>\n     <use x=\"376.021484\" xlink:href=\"#DejaVuSans-101\"/>\n     <use x=\"437.544922\" xlink:href=\"#DejaVuSans-121\"/>\n     <use x=\"496.724609\" xlink:href=\"#DejaVuSans-32\"/>\n     <use x=\"528.511719\" xlink:href=\"#DejaVuSans-109\"/>\n     <use x=\"625.923828\" xlink:href=\"#DejaVuSans-101\"/>\n     <use x=\"687.447266\" xlink:href=\"#DejaVuSans-108\"/>\n     <use x=\"715.230469\" xlink:href=\"#DejaVuSans-97\"/>\n     <use x=\"776.509766\" xlink:href=\"#DejaVuSans-110\"/>\n     <use x=\"839.888672\" xlink:href=\"#DejaVuSans-103\"/>\n     <use x=\"903.365234\" xlink:href=\"#DejaVuSans-101\"/>\n    </g>\n   </g>\n   <g id=\"text_14\">\n    <!-- 2.6% -->\n    <g transform=\"translate(132.819287 173.357537)scale(0.1 -0.1)\">\n     <use xlink:href=\"#DejaVuSans-50\"/>\n     <use x=\"63.623047\" xlink:href=\"#DejaVuSans-46\"/>\n     <use x=\"95.410156\" xlink:href=\"#DejaVuSans-54\"/>\n     <use x=\"159.033203\" xlink:href=\"#DejaVuSans-37\"/>\n    </g>\n   </g>\n   <g id=\"text_15\">\n    <!-- wild pink -->\n    <defs>\n     <path d=\"M 18.109375 8.203125 \nL 18.109375 -20.796875 \nL 9.078125 -20.796875 \nL 9.078125 54.6875 \nL 18.109375 54.6875 \nL 18.109375 46.390625 \nQ 20.953125 51.265625 25.265625 53.625 \nQ 29.59375 56 35.59375 56 \nQ 45.5625 56 51.78125 48.09375 \nQ 58.015625 40.1875 58.015625 27.296875 \nQ 58.015625 14.40625 51.78125 6.484375 \nQ 45.5625 -1.421875 35.59375 -1.421875 \nQ 29.59375 -1.421875 25.265625 0.953125 \nQ 20.953125 3.328125 18.109375 8.203125 \nz\nM 48.6875 27.296875 \nQ 48.6875 37.203125 44.609375 42.84375 \nQ 40.53125 48.484375 33.40625 48.484375 \nQ 26.265625 48.484375 22.1875 42.84375 \nQ 18.109375 37.203125 18.109375 27.296875 \nQ 18.109375 17.390625 22.1875 11.75 \nQ 26.265625 6.109375 33.40625 6.109375 \nQ 40.53125 6.109375 44.609375 11.75 \nQ 48.6875 17.390625 48.6875 27.296875 \nz\n\" id=\"DejaVuSans-112\"/>\n    </defs>\n    <g transform=\"translate(89.310598 222.996476)scale(0.1 -0.1)\">\n     <use xlink:href=\"#DejaVuSans-119\"/>\n     <use x=\"81.787109\" xlink:href=\"#DejaVuSans-105\"/>\n     <use x=\"109.570312\" xlink:href=\"#DejaVuSans-108\"/>\n     <use x=\"137.353516\" xlink:href=\"#DejaVuSans-100\"/>\n     <use x=\"200.830078\" xlink:href=\"#DejaVuSans-32\"/>\n     <use x=\"232.617188\" xlink:href=\"#DejaVuSans-112\"/>\n     <use x=\"296.09375\" xlink:href=\"#DejaVuSans-105\"/>\n     <use x=\"323.876953\" xlink:href=\"#DejaVuSans-110\"/>\n     <use x=\"387.255859\" xlink:href=\"#DejaVuSans-107\"/>\n    </g>\n   </g>\n   <g id=\"text_16\">\n    <!-- 2.4% -->\n    <g transform=\"translate(141.029855 177.77217)scale(0.1 -0.1)\">\n     <use xlink:href=\"#DejaVuSans-50\"/>\n     <use x=\"63.623047\" xlink:href=\"#DejaVuSans-46\"/>\n     <use x=\"95.410156\" xlink:href=\"#DejaVuSans-52\"/>\n     <use x=\"159.033203\" xlink:href=\"#DejaVuSans-37\"/>\n    </g>\n   </g>\n   <g id=\"text_17\">\n    <!-- biskuit -->\n    <g transform=\"translate(116.475569 228.461336)scale(0.1 -0.1)\">\n     <use xlink:href=\"#DejaVuSans-98\"/>\n     <use x=\"63.476562\" xlink:href=\"#DejaVuSans-105\"/>\n     <use x=\"91.259766\" xlink:href=\"#DejaVuSans-115\"/>\n     <use x=\"143.359375\" xlink:href=\"#DejaVuSans-107\"/>\n     <use x=\"198.144531\" xlink:href=\"#DejaVuSans-117\"/>\n     <use x=\"261.523438\" xlink:href=\"#DejaVuSans-105\"/>\n     <use x=\"289.306641\" xlink:href=\"#DejaVuSans-116\"/>\n    </g>\n   </g>\n   <g id=\"text_18\">\n    <!-- 2.4% -->\n    <g transform=\"translate(149.484044 180.753003)scale(0.1 -0.1)\">\n     <use xlink:href=\"#DejaVuSans-50\"/>\n     <use x=\"63.623047\" xlink:href=\"#DejaVuSans-46\"/>\n     <use x=\"95.410156\" xlink:href=\"#DejaVuSans-52\"/>\n     <use x=\"159.033203\" xlink:href=\"#DejaVuSans-37\"/>\n    </g>\n   </g>\n   <g id=\"text_19\">\n    <!-- mute mustard -->\n    <g transform=\"translate(94.194734 231.48992)scale(0.1 -0.1)\">\n     <use xlink:href=\"#DejaVuSans-109\"/>\n     <use x=\"97.412109\" xlink:href=\"#DejaVuSans-117\"/>\n     <use x=\"160.791016\" xlink:href=\"#DejaVuSans-116\"/>\n     <use x=\"200\" xlink:href=\"#DejaVuSans-101\"/>\n     <use x=\"261.523438\" xlink:href=\"#DejaVuSans-32\"/>\n     <use x=\"293.310547\" xlink:href=\"#DejaVuSans-109\"/>\n     <use x=\"390.722656\" xlink:href=\"#DejaVuSans-117\"/>\n     <use x=\"454.101562\" xlink:href=\"#DejaVuSans-115\"/>\n     <use x=\"506.201172\" xlink:href=\"#DejaVuSans-116\"/>\n     <use x=\"545.410156\" xlink:href=\"#DejaVuSans-97\"/>\n     <use x=\"606.689453\" xlink:href=\"#DejaVuSans-114\"/>\n     <use x=\"646.052734\" xlink:href=\"#DejaVuSans-100\"/>\n    </g>\n   </g>\n   <g id=\"text_20\">\n    <!-- 2.3% -->\n    <g transform=\"translate(158.112679 182.404958)scale(0.1 -0.1)\">\n     <use xlink:href=\"#DejaVuSans-50\"/>\n     <use x=\"63.623047\" xlink:href=\"#DejaVuSans-46\"/>\n     <use x=\"95.410156\" xlink:href=\"#DejaVuSans-51\"/>\n     <use x=\"159.033203\" xlink:href=\"#DejaVuSans-37\"/>\n    </g>\n   </g>\n   <g id=\"text_21\">\n    <!-- simply blue -->\n    <g transform=\"translate(180.908921 232.158282)scale(0.1 -0.1)\">\n     <use xlink:href=\"#DejaVuSans-115\"/>\n     <use x=\"52.099609\" xlink:href=\"#DejaVuSans-105\"/>\n     <use x=\"79.882812\" xlink:href=\"#DejaVuSans-109\"/>\n     <use x=\"177.294922\" xlink:href=\"#DejaVuSans-112\"/>\n     <use x=\"240.771484\" xlink:href=\"#DejaVuSans-108\"/>\n     <use x=\"268.554688\" xlink:href=\"#DejaVuSans-121\"/>\n     <use x=\"327.734375\" xlink:href=\"#DejaVuSans-32\"/>\n     <use x=\"359.521484\" xlink:href=\"#DejaVuSans-98\"/>\n     <use x=\"422.998047\" xlink:href=\"#DejaVuSans-108\"/>\n     <use x=\"450.78125\" xlink:href=\"#DejaVuSans-117\"/>\n     <use x=\"514.160156\" xlink:href=\"#DejaVuSans-101\"/>\n    </g>\n   </g>\n   <g id=\"text_22\">\n    <!-- 2.3% -->\n    <g transform=\"translate(166.711327 182.769519)scale(0.1 -0.1)\">\n     <use xlink:href=\"#DejaVuSans-50\"/>\n     <use x=\"63.623047\" xlink:href=\"#DejaVuSans-46\"/>\n     <use x=\"95.410156\" xlink:href=\"#DejaVuSans-51\"/>\n     <use x=\"159.033203\" xlink:href=\"#DejaVuSans-37\"/>\n    </g>\n   </g>\n   <g id=\"text_23\">\n    <!-- true red -->\n    <g transform=\"translate(196.279768 230.594461)scale(0.1 -0.1)\">\n     <use xlink:href=\"#DejaVuSans-116\"/>\n     <use x=\"39.208984\" xlink:href=\"#DejaVuSans-114\"/>\n     <use x=\"80.322266\" xlink:href=\"#DejaVuSans-117\"/>\n     <use x=\"143.701172\" xlink:href=\"#DejaVuSans-101\"/>\n     <use x=\"205.224609\" xlink:href=\"#DejaVuSans-32\"/>\n     <use x=\"237.011719\" xlink:href=\"#DejaVuSans-114\"/>\n     <use x=\"275.875\" xlink:href=\"#DejaVuSans-101\"/>\n     <use x=\"337.398438\" xlink:href=\"#DejaVuSans-100\"/>\n    </g>\n   </g>\n   <g id=\"text_24\">\n    <!-- 2.2% -->\n    <g transform=\"translate(175.095425 181.916526)scale(0.1 -0.1)\">\n     <use xlink:href=\"#DejaVuSans-50\"/>\n     <use x=\"63.623047\" xlink:href=\"#DejaVuSans-46\"/>\n     <use x=\"95.410156\" xlink:href=\"#DejaVuSans-50\"/>\n     <use x=\"159.033203\" xlink:href=\"#DejaVuSans-37\"/>\n    </g>\n   </g>\n   <g id=\"text_25\">\n    <!-- cosmic blue -->\n    <g transform=\"translate(210.960667 226.968692)scale(0.1 -0.1)\">\n     <use xlink:href=\"#DejaVuSans-99\"/>\n     <use x=\"54.980469\" xlink:href=\"#DejaVuSans-111\"/>\n     <use x=\"116.162109\" xlink:href=\"#DejaVuSans-115\"/>\n     <use x=\"168.261719\" xlink:href=\"#DejaVuSans-109\"/>\n     <use x=\"265.673828\" xlink:href=\"#DejaVuSans-105\"/>\n     <use x=\"293.457031\" xlink:href=\"#DejaVuSans-99\"/>\n     <use x=\"348.4375\" xlink:href=\"#DejaVuSans-32\"/>\n     <use x=\"380.224609\" xlink:href=\"#DejaVuSans-98\"/>\n     <use x=\"443.701172\" xlink:href=\"#DejaVuSans-108\"/>\n     <use x=\"471.484375\" xlink:href=\"#DejaVuSans-117\"/>\n     <use x=\"534.863281\" xlink:href=\"#DejaVuSans-101\"/>\n    </g>\n   </g>\n   <g id=\"text_26\">\n    <!-- 2.2% -->\n    <g transform=\"translate(183.103188 179.938833)scale(0.1 -0.1)\">\n     <use xlink:href=\"#DejaVuSans-50\"/>\n     <use x=\"63.623047\" xlink:href=\"#DejaVuSans-46\"/>\n     <use x=\"95.410156\" xlink:href=\"#DejaVuSans-50\"/>\n     <use x=\"159.033203\" xlink:href=\"#DejaVuSans-37\"/>\n    </g>\n   </g>\n   <g id=\"text_27\">\n    <!-- blue anemone -->\n    <g transform=\"translate(224.403262 221.625672)scale(0.1 -0.1)\">\n     <use xlink:href=\"#DejaVuSans-98\"/>\n     <use x=\"63.476562\" xlink:href=\"#DejaVuSans-108\"/>\n     <use x=\"91.259766\" xlink:href=\"#DejaVuSans-117\"/>\n     <use x=\"154.638672\" xlink:href=\"#DejaVuSans-101\"/>\n     <use x=\"216.162109\" xlink:href=\"#DejaVuSans-32\"/>\n     <use x=\"247.949219\" xlink:href=\"#DejaVuSans-97\"/>\n     <use x=\"309.228516\" xlink:href=\"#DejaVuSans-110\"/>\n     <use x=\"372.607422\" xlink:href=\"#DejaVuSans-101\"/>\n     <use x=\"434.130859\" xlink:href=\"#DejaVuSans-109\"/>\n     <use x=\"531.542969\" xlink:href=\"#DejaVuSans-111\"/>\n     <use x=\"592.724609\" xlink:href=\"#DejaVuSans-110\"/>\n     <use x=\"656.103516\" xlink:href=\"#DejaVuSans-101\"/>\n    </g>\n   </g>\n   <g id=\"text_28\">\n    <!-- 2.0% -->\n    <g transform=\"translate(190.435513 177.024459)scale(0.1 -0.1)\">\n     <use xlink:href=\"#DejaVuSans-50\"/>\n     <use x=\"63.623047\" xlink:href=\"#DejaVuSans-46\"/>\n     <use x=\"95.410156\" xlink:href=\"#DejaVuSans-48\"/>\n     <use x=\"159.033203\" xlink:href=\"#DejaVuSans-37\"/>\n    </g>\n   </g>\n   <g id=\"text_29\">\n    <!-- velvet pink -->\n    <defs>\n     <path d=\"M 2.984375 54.6875 \nL 12.5 54.6875 \nL 29.59375 8.796875 \nL 46.6875 54.6875 \nL 56.203125 54.6875 \nL 35.6875 0 \nL 23.484375 0 \nz\n\" id=\"DejaVuSans-118\"/>\n    </defs>\n    <g transform=\"translate(235.0754 215.782987)scale(0.1 -0.1)\">\n     <use xlink:href=\"#DejaVuSans-118\"/>\n     <use x=\"59.179688\" xlink:href=\"#DejaVuSans-101\"/>\n     <use x=\"120.703125\" xlink:href=\"#DejaVuSans-108\"/>\n     <use x=\"148.486328\" xlink:href=\"#DejaVuSans-118\"/>\n     <use x=\"207.666016\" xlink:href=\"#DejaVuSans-101\"/>\n     <use x=\"269.189453\" xlink:href=\"#DejaVuSans-116\"/>\n     <use x=\"308.398438\" xlink:href=\"#DejaVuSans-32\"/>\n     <use x=\"340.185547\" xlink:href=\"#DejaVuSans-112\"/>\n     <use x=\"403.662109\" xlink:href=\"#DejaVuSans-105\"/>\n     <use x=\"431.445312\" xlink:href=\"#DejaVuSans-110\"/>\n     <use x=\"494.824219\" xlink:href=\"#DejaVuSans-107\"/>\n    </g>\n   </g>\n   <g id=\"text_30\">\n    <!-- 1.5% -->\n    <g transform=\"translate(196.256679 173.83754)scale(0.1 -0.1)\">\n     <use xlink:href=\"#DejaVuSans-49\"/>\n     <use x=\"63.623047\" xlink:href=\"#DejaVuSans-46\"/>\n     <use x=\"95.410156\" xlink:href=\"#DejaVuSans-53\"/>\n     <use x=\"159.033203\" xlink:href=\"#DejaVuSans-37\"/>\n    </g>\n   </g>\n   <g id=\"text_31\">\n    <!-- paradise red -->\n    <g transform=\"translate(243.46808 209.994264)scale(0.1 -0.1)\">\n     <use xlink:href=\"#DejaVuSans-112\"/>\n     <use x=\"63.476562\" xlink:href=\"#DejaVuSans-97\"/>\n     <use x=\"124.755859\" xlink:href=\"#DejaVuSans-114\"/>\n     <use x=\"165.869141\" xlink:href=\"#DejaVuSans-97\"/>\n     <use x=\"227.148438\" xlink:href=\"#DejaVuSans-100\"/>\n     <use x=\"290.625\" xlink:href=\"#DejaVuSans-105\"/>\n     <use x=\"318.408203\" xlink:href=\"#DejaVuSans-115\"/>\n     <use x=\"370.507812\" xlink:href=\"#DejaVuSans-101\"/>\n     <use x=\"432.03125\" xlink:href=\"#DejaVuSans-32\"/>\n     <use x=\"463.818359\" xlink:href=\"#DejaVuSans-114\"/>\n     <use x=\"502.681641\" xlink:href=\"#DejaVuSans-101\"/>\n     <use x=\"564.205078\" xlink:href=\"#DejaVuSans-100\"/>\n    </g>\n   </g>\n   <g id=\"text_32\">\n    <!-- 1.4% -->\n    <g transform=\"translate(200.834504 170.680055)scale(0.1 -0.1)\">\n     <use xlink:href=\"#DejaVuSans-49\"/>\n     <use x=\"63.623047\" xlink:href=\"#DejaVuSans-46\"/>\n     <use x=\"95.410156\" xlink:href=\"#DejaVuSans-52\"/>\n     <use x=\"159.033203\" xlink:href=\"#DejaVuSans-37\"/>\n    </g>\n   </g>\n   <g id=\"text_33\">\n    <!-- tender almond -->\n    <g transform=\"translate(250.796274 203.889143)scale(0.1 -0.1)\">\n     <use xlink:href=\"#DejaVuSans-116\"/>\n     <use x=\"39.208984\" xlink:href=\"#DejaVuSans-101\"/>\n     <use x=\"100.732422\" xlink:href=\"#DejaVuSans-110\"/>\n     <use x=\"164.111328\" xlink:href=\"#DejaVuSans-100\"/>\n     <use x=\"227.587891\" xlink:href=\"#DejaVuSans-101\"/>\n     <use x=\"289.111328\" xlink:href=\"#DejaVuSans-114\"/>\n     <use x=\"330.224609\" xlink:href=\"#DejaVuSans-32\"/>\n     <use x=\"362.011719\" xlink:href=\"#DejaVuSans-97\"/>\n     <use x=\"423.291016\" xlink:href=\"#DejaVuSans-108\"/>\n     <use x=\"451.074219\" xlink:href=\"#DejaVuSans-109\"/>\n     <use x=\"548.486328\" xlink:href=\"#DejaVuSans-111\"/>\n     <use x=\"609.667969\" xlink:href=\"#DejaVuSans-110\"/>\n     <use x=\"673.046875\" xlink:href=\"#DejaVuSans-100\"/>\n    </g>\n   </g>\n   <g id=\"text_34\">\n    <!-- 1.3% -->\n    <g transform=\"translate(204.831701 167.349989)scale(0.1 -0.1)\">\n     <use xlink:href=\"#DejaVuSans-49\"/>\n     <use x=\"63.623047\" xlink:href=\"#DejaVuSans-46\"/>\n     <use x=\"95.410156\" xlink:href=\"#DejaVuSans-51\"/>\n     <use x=\"159.033203\" xlink:href=\"#DejaVuSans-37\"/>\n    </g>\n   </g>\n   <g id=\"text_35\">\n    <!-- pure pastel -->\n    <g transform=\"translate(257.337785 197.406759)scale(0.1 -0.1)\">\n     <use xlink:href=\"#DejaVuSans-112\"/>\n     <use x=\"63.476562\" xlink:href=\"#DejaVuSans-117\"/>\n     <use x=\"126.855469\" xlink:href=\"#DejaVuSans-114\"/>\n     <use x=\"165.71875\" xlink:href=\"#DejaVuSans-101\"/>\n     <use x=\"227.242188\" xlink:href=\"#DejaVuSans-32\"/>\n     <use x=\"259.029297\" xlink:href=\"#DejaVuSans-112\"/>\n     <use x=\"322.505859\" xlink:href=\"#DejaVuSans-97\"/>\n     <use x=\"383.785156\" xlink:href=\"#DejaVuSans-115\"/>\n     <use x=\"435.884766\" xlink:href=\"#DejaVuSans-116\"/>\n     <use x=\"475.09375\" xlink:href=\"#DejaVuSans-101\"/>\n     <use x=\"536.617188\" xlink:href=\"#DejaVuSans-108\"/>\n    </g>\n   </g>\n   <g id=\"text_36\">\n    <!-- 1.3% -->\n    <g transform=\"translate(208.399798 163.814143)scale(0.1 -0.1)\">\n     <use xlink:href=\"#DejaVuSans-49\"/>\n     <use x=\"63.623047\" xlink:href=\"#DejaVuSans-46\"/>\n     <use x=\"95.410156\" xlink:href=\"#DejaVuSans-51\"/>\n     <use x=\"159.033203\" xlink:href=\"#DejaVuSans-37\"/>\n    </g>\n   </g>\n   <g id=\"text_37\">\n    <!-- violet blue -->\n    <g transform=\"translate(263.104289 190.65298)scale(0.1 -0.1)\">\n     <use xlink:href=\"#DejaVuSans-118\"/>\n     <use x=\"59.179688\" xlink:href=\"#DejaVuSans-105\"/>\n     <use x=\"86.962891\" xlink:href=\"#DejaVuSans-111\"/>\n     <use x=\"148.144531\" xlink:href=\"#DejaVuSans-108\"/>\n     <use x=\"175.927734\" xlink:href=\"#DejaVuSans-101\"/>\n     <use x=\"237.451172\" xlink:href=\"#DejaVuSans-116\"/>\n     <use x=\"276.660156\" xlink:href=\"#DejaVuSans-32\"/>\n     <use x=\"308.447266\" xlink:href=\"#DejaVuSans-98\"/>\n     <use x=\"371.923828\" xlink:href=\"#DejaVuSans-108\"/>\n     <use x=\"399.707031\" xlink:href=\"#DejaVuSans-117\"/>\n     <use x=\"463.085938\" xlink:href=\"#DejaVuSans-101\"/>\n    </g>\n   </g>\n   <g id=\"text_38\">\n    <!-- 1.3% -->\n    <g transform=\"translate(211.545164 160.130263)scale(0.1 -0.1)\">\n     <use xlink:href=\"#DejaVuSans-49\"/>\n     <use x=\"63.623047\" xlink:href=\"#DejaVuSans-46\"/>\n     <use x=\"95.410156\" xlink:href=\"#DejaVuSans-51\"/>\n     <use x=\"159.033203\" xlink:href=\"#DejaVuSans-37\"/>\n    </g>\n   </g>\n   <g id=\"text_39\">\n    <!-- deep red -->\n    <g transform=\"translate(267.935727 183.998841)scale(0.1 -0.1)\">\n     <use xlink:href=\"#DejaVuSans-100\"/>\n     <use x=\"63.476562\" xlink:href=\"#DejaVuSans-101\"/>\n     <use x=\"125\" xlink:href=\"#DejaVuSans-101\"/>\n     <use x=\"186.523438\" xlink:href=\"#DejaVuSans-112\"/>\n     <use x=\"250\" xlink:href=\"#DejaVuSans-32\"/>\n     <use x=\"281.787109\" xlink:href=\"#DejaVuSans-114\"/>\n     <use x=\"320.650391\" xlink:href=\"#DejaVuSans-101\"/>\n     <use x=\"382.173828\" xlink:href=\"#DejaVuSans-100\"/>\n    </g>\n   </g>\n   <g id=\"text_40\">\n    <!-- 1.2% -->\n    <g transform=\"translate(214.180494 156.500733)scale(0.1 -0.1)\">\n     <use xlink:href=\"#DejaVuSans-49\"/>\n     <use x=\"63.623047\" xlink:href=\"#DejaVuSans-46\"/>\n     <use x=\"95.410156\" xlink:href=\"#DejaVuSans-50\"/>\n     <use x=\"159.033203\" xlink:href=\"#DejaVuSans-37\"/>\n    </g>\n   </g>\n   <g id=\"text_41\">\n    <!-- light breeze -->\n    <defs>\n     <path d=\"M 5.515625 54.6875 \nL 48.1875 54.6875 \nL 48.1875 46.484375 \nL 14.40625 7.171875 \nL 48.1875 7.171875 \nL 48.1875 0 \nL 4.296875 0 \nL 4.296875 8.203125 \nL 38.09375 47.515625 \nL 5.515625 47.515625 \nz\n\" id=\"DejaVuSans-122\"/>\n    </defs>\n    <g transform=\"translate(272.087997 177.284685)scale(0.1 -0.1)\">\n     <use xlink:href=\"#DejaVuSans-108\"/>\n     <use x=\"27.783203\" xlink:href=\"#DejaVuSans-105\"/>\n     <use x=\"55.566406\" xlink:href=\"#DejaVuSans-103\"/>\n     <use x=\"119.042969\" xlink:href=\"#DejaVuSans-104\"/>\n     <use x=\"182.421875\" xlink:href=\"#DejaVuSans-116\"/>\n     <use x=\"221.630859\" xlink:href=\"#DejaVuSans-32\"/>\n     <use x=\"253.417969\" xlink:href=\"#DejaVuSans-98\"/>\n     <use x=\"316.894531\" xlink:href=\"#DejaVuSans-114\"/>\n     <use x=\"355.757812\" xlink:href=\"#DejaVuSans-101\"/>\n     <use x=\"417.28125\" xlink:href=\"#DejaVuSans-101\"/>\n     <use x=\"478.804688\" xlink:href=\"#DejaVuSans-122\"/>\n     <use x=\"531.294922\" xlink:href=\"#DejaVuSans-101\"/>\n    </g>\n   </g>\n   <g id=\"text_42\">\n    <!-- 1.2% -->\n    <g transform=\"translate(216.445368 152.838466)scale(0.1 -0.1)\">\n     <use xlink:href=\"#DejaVuSans-49\"/>\n     <use x=\"63.623047\" xlink:href=\"#DejaVuSans-46\"/>\n     <use x=\"95.410156\" xlink:href=\"#DejaVuSans-50\"/>\n     <use x=\"159.033203\" xlink:href=\"#DejaVuSans-37\"/>\n    </g>\n   </g>\n   <g id=\"text_43\">\n    <!-- dark jade -->\n    <defs>\n     <path d=\"M 9.421875 54.6875 \nL 18.40625 54.6875 \nL 18.40625 -0.984375 \nQ 18.40625 -11.421875 14.421875 -16.109375 \nQ 10.453125 -20.796875 1.609375 -20.796875 \nL -1.8125 -20.796875 \nL -1.8125 -13.1875 \nL 0.59375 -13.1875 \nQ 5.71875 -13.1875 7.5625 -10.8125 \nQ 9.421875 -8.453125 9.421875 -0.984375 \nz\nM 9.421875 75.984375 \nL 18.40625 75.984375 \nL 18.40625 64.59375 \nL 9.421875 64.59375 \nz\n\" id=\"DejaVuSans-106\"/>\n    </defs>\n    <g transform=\"translate(275.742043 170.286886)scale(0.1 -0.1)\">\n     <use xlink:href=\"#DejaVuSans-100\"/>\n     <use x=\"63.476562\" xlink:href=\"#DejaVuSans-97\"/>\n     <use x=\"124.755859\" xlink:href=\"#DejaVuSans-114\"/>\n     <use x=\"165.869141\" xlink:href=\"#DejaVuSans-107\"/>\n     <use x=\"223.779297\" xlink:href=\"#DejaVuSans-32\"/>\n     <use x=\"255.566406\" xlink:href=\"#DejaVuSans-106\"/>\n     <use x=\"283.349609\" xlink:href=\"#DejaVuSans-97\"/>\n     <use x=\"344.628906\" xlink:href=\"#DejaVuSans-100\"/>\n     <use x=\"408.105469\" xlink:href=\"#DejaVuSans-101\"/>\n    </g>\n   </g>\n   <g id=\"text_44\">\n    <!-- 1.2% -->\n    <g transform=\"translate(218.438484 149.021485)scale(0.1 -0.1)\">\n     <use xlink:href=\"#DejaVuSans-49\"/>\n     <use x=\"63.623047\" xlink:href=\"#DejaVuSans-46\"/>\n     <use x=\"95.410156\" xlink:href=\"#DejaVuSans-50\"/>\n     <use x=\"159.033203\" xlink:href=\"#DejaVuSans-37\"/>\n    </g>\n   </g>\n   <g id=\"text_45\">\n    <!-- new blue -->\n    <g transform=\"translate(278.878595 163.042352)scale(0.1 -0.1)\">\n     <use xlink:href=\"#DejaVuSans-110\"/>\n     <use x=\"63.378906\" xlink:href=\"#DejaVuSans-101\"/>\n     <use x=\"124.902344\" xlink:href=\"#DejaVuSans-119\"/>\n     <use x=\"206.689453\" xlink:href=\"#DejaVuSans-32\"/>\n     <use x=\"238.476562\" xlink:href=\"#DejaVuSans-98\"/>\n     <use x=\"301.953125\" xlink:href=\"#DejaVuSans-108\"/>\n     <use x=\"329.736328\" xlink:href=\"#DejaVuSans-117\"/>\n     <use x=\"393.115234\" xlink:href=\"#DejaVuSans-101\"/>\n    </g>\n   </g>\n   <g id=\"text_46\">\n    <!-- 1.2% -->\n    <g transform=\"translate(220.149331 145.069921)scale(0.1 -0.1)\">\n     <use xlink:href=\"#DejaVuSans-49\"/>\n     <use x=\"63.623047\" xlink:href=\"#DejaVuSans-46\"/>\n     <use x=\"95.410156\" xlink:href=\"#DejaVuSans-50\"/>\n     <use x=\"159.033203\" xlink:href=\"#DejaVuSans-37\"/>\n    </g>\n   </g>\n   <g id=\"text_47\">\n    <!-- sand dune -->\n    <g transform=\"translate(281.383523 155.903487)scale(0.1 -0.1)\">\n     <use xlink:href=\"#DejaVuSans-115\"/>\n     <use x=\"52.099609\" xlink:href=\"#DejaVuSans-97\"/>\n     <use x=\"113.378906\" xlink:href=\"#DejaVuSans-110\"/>\n     <use x=\"176.757812\" xlink:href=\"#DejaVuSans-100\"/>\n     <use x=\"240.234375\" xlink:href=\"#DejaVuSans-32\"/>\n     <use x=\"272.021484\" xlink:href=\"#DejaVuSans-100\"/>\n     <use x=\"335.498047\" xlink:href=\"#DejaVuSans-117\"/>\n     <use x=\"398.876953\" xlink:href=\"#DejaVuSans-110\"/>\n     <use x=\"462.255859\" xlink:href=\"#DejaVuSans-101\"/>\n    </g>\n   </g>\n   <g id=\"text_48\">\n    <!-- 1.1% -->\n    <g transform=\"translate(221.515655 141.175994)scale(0.1 -0.1)\">\n     <use xlink:href=\"#DejaVuSans-49\"/>\n     <use x=\"63.623047\" xlink:href=\"#DejaVuSans-46\"/>\n     <use x=\"95.410156\" xlink:href=\"#DejaVuSans-49\"/>\n     <use x=\"159.033203\" xlink:href=\"#DejaVuSans-37\"/>\n    </g>\n   </g>\n   <g id=\"text_49\">\n    <!-- veiled blue -->\n    <g transform=\"translate(283.309373 148.927676)scale(0.1 -0.1)\">\n     <use xlink:href=\"#DejaVuSans-118\"/>\n     <use x=\"59.179688\" xlink:href=\"#DejaVuSans-101\"/>\n     <use x=\"120.703125\" xlink:href=\"#DejaVuSans-105\"/>\n     <use x=\"148.486328\" xlink:href=\"#DejaVuSans-108\"/>\n     <use x=\"176.269531\" xlink:href=\"#DejaVuSans-101\"/>\n     <use x=\"237.792969\" xlink:href=\"#DejaVuSans-100\"/>\n     <use x=\"301.269531\" xlink:href=\"#DejaVuSans-32\"/>\n     <use x=\"333.056641\" xlink:href=\"#DejaVuSans-98\"/>\n     <use x=\"396.533203\" xlink:href=\"#DejaVuSans-108\"/>\n     <use x=\"424.316406\" xlink:href=\"#DejaVuSans-117\"/>\n     <use x=\"487.695312\" xlink:href=\"#DejaVuSans-101\"/>\n    </g>\n   </g>\n   <g id=\"text_50\">\n    <!-- 1.1% -->\n    <g transform=\"translate(222.566119 137.371007)scale(0.1 -0.1)\">\n     <use xlink:href=\"#DejaVuSans-49\"/>\n     <use x=\"63.623047\" xlink:href=\"#DejaVuSans-46\"/>\n     <use x=\"95.410156\" xlink:href=\"#DejaVuSans-49\"/>\n     <use x=\"159.033203\" xlink:href=\"#DejaVuSans-37\"/>\n    </g>\n   </g>\n   <g id=\"text_51\">\n    <!-- dried berry -->\n    <g transform=\"translate(284.766816 141.839186)scale(0.1 -0.1)\">\n     <use xlink:href=\"#DejaVuSans-100\"/>\n     <use x=\"63.476562\" xlink:href=\"#DejaVuSans-114\"/>\n     <use x=\"104.589844\" xlink:href=\"#DejaVuSans-105\"/>\n     <use x=\"132.373047\" xlink:href=\"#DejaVuSans-101\"/>\n     <use x=\"193.896484\" xlink:href=\"#DejaVuSans-100\"/>\n     <use x=\"257.373047\" xlink:href=\"#DejaVuSans-32\"/>\n     <use x=\"289.160156\" xlink:href=\"#DejaVuSans-98\"/>\n     <use x=\"352.636719\" xlink:href=\"#DejaVuSans-101\"/>\n     <use x=\"414.160156\" xlink:href=\"#DejaVuSans-114\"/>\n     <use x=\"453.523438\" xlink:href=\"#DejaVuSans-114\"/>\n     <use x=\"494.636719\" xlink:href=\"#DejaVuSans-121\"/>\n    </g>\n   </g>\n   <g id=\"text_52\">\n    <!-- 1.1% -->\n    <g transform=\"translate(223.361088 133.504557)scale(0.1 -0.1)\">\n     <use xlink:href=\"#DejaVuSans-49\"/>\n     <use x=\"63.623047\" xlink:href=\"#DejaVuSans-46\"/>\n     <use x=\"95.410156\" xlink:href=\"#DejaVuSans-49\"/>\n     <use x=\"159.033203\" xlink:href=\"#DejaVuSans-37\"/>\n    </g>\n   </g>\n   <g id=\"text_53\">\n    <!-- blue dusk -->\n    <g transform=\"translate(285.715101 134.996644)scale(0.1 -0.1)\">\n     <use xlink:href=\"#DejaVuSans-98\"/>\n     <use x=\"63.476562\" xlink:href=\"#DejaVuSans-108\"/>\n     <use x=\"91.259766\" xlink:href=\"#DejaVuSans-117\"/>\n     <use x=\"154.638672\" xlink:href=\"#DejaVuSans-101\"/>\n     <use x=\"216.162109\" xlink:href=\"#DejaVuSans-32\"/>\n     <use x=\"247.949219\" xlink:href=\"#DejaVuSans-100\"/>\n     <use x=\"311.425781\" xlink:href=\"#DejaVuSans-117\"/>\n     <use x=\"374.804688\" xlink:href=\"#DejaVuSans-115\"/>\n     <use x=\"426.904297\" xlink:href=\"#DejaVuSans-107\"/>\n    </g>\n   </g>\n   <g id=\"text_54\">\n    <!-- 1.0% -->\n    <g transform=\"translate(223.878334 129.772262)scale(0.1 -0.1)\">\n     <use xlink:href=\"#DejaVuSans-49\"/>\n     <use x=\"63.623047\" xlink:href=\"#DejaVuSans-46\"/>\n     <use x=\"95.410156\" xlink:href=\"#DejaVuSans-48\"/>\n     <use x=\"159.033203\" xlink:href=\"#DejaVuSans-37\"/>\n    </g>\n   </g>\n   <g id=\"text_55\">\n    <!-- marina -->\n    <g transform=\"translate(286.21243 128.436375)scale(0.1 -0.1)\">\n     <use xlink:href=\"#DejaVuSans-109\"/>\n     <use x=\"97.412109\" xlink:href=\"#DejaVuSans-97\"/>\n     <use x=\"158.691406\" xlink:href=\"#DejaVuSans-114\"/>\n     <use x=\"199.804688\" xlink:href=\"#DejaVuSans-105\"/>\n     <use x=\"227.587891\" xlink:href=\"#DejaVuSans-110\"/>\n     <use x=\"290.966797\" xlink:href=\"#DejaVuSans-97\"/>\n    </g>\n   </g>\n   <g id=\"text_56\">\n    <!-- 1.0% -->\n    <g transform=\"translate(224.149604 126.193933)scale(0.1 -0.1)\">\n     <use xlink:href=\"#DejaVuSans-49\"/>\n     <use x=\"63.623047\" xlink:href=\"#DejaVuSans-46\"/>\n     <use x=\"95.410156\" xlink:href=\"#DejaVuSans-48\"/>\n     <use x=\"159.033203\" xlink:href=\"#DejaVuSans-37\"/>\n    </g>\n   </g>\n   <g id=\"text_57\">\n    <!-- blossom red -->\n    <g transform=\"translate(286.316467 122.187011)scale(0.1 -0.1)\">\n     <use xlink:href=\"#DejaVuSans-98\"/>\n     <use x=\"63.476562\" xlink:href=\"#DejaVuSans-108\"/>\n     <use x=\"91.259766\" xlink:href=\"#DejaVuSans-111\"/>\n     <use x=\"152.441406\" xlink:href=\"#DejaVuSans-115\"/>\n     <use x=\"204.541016\" xlink:href=\"#DejaVuSans-115\"/>\n     <use x=\"256.640625\" xlink:href=\"#DejaVuSans-111\"/>\n     <use x=\"317.822266\" xlink:href=\"#DejaVuSans-109\"/>\n     <use x=\"415.234375\" xlink:href=\"#DejaVuSans-32\"/>\n     <use x=\"447.021484\" xlink:href=\"#DejaVuSans-114\"/>\n     <use x=\"485.884766\" xlink:href=\"#DejaVuSans-101\"/>\n     <use x=\"547.408203\" xlink:href=\"#DejaVuSans-100\"/>\n    </g>\n   </g>\n   <g id=\"text_58\">\n    <!-- 0.9% -->\n    <defs>\n     <path d=\"M 10.984375 1.515625 \nL 10.984375 10.5 \nQ 14.703125 8.734375 18.5 7.8125 \nQ 22.3125 6.890625 25.984375 6.890625 \nQ 35.75 6.890625 40.890625 13.453125 \nQ 46.046875 20.015625 46.78125 33.40625 \nQ 43.953125 29.203125 39.59375 26.953125 \nQ 35.25 24.703125 29.984375 24.703125 \nQ 19.046875 24.703125 12.671875 31.3125 \nQ 6.296875 37.9375 6.296875 49.421875 \nQ 6.296875 60.640625 12.9375 67.421875 \nQ 19.578125 74.21875 30.609375 74.21875 \nQ 43.265625 74.21875 49.921875 64.515625 \nQ 56.59375 54.828125 56.59375 36.375 \nQ 56.59375 19.140625 48.40625 8.859375 \nQ 40.234375 -1.421875 26.421875 -1.421875 \nQ 22.703125 -1.421875 18.890625 -0.6875 \nQ 15.09375 0.046875 10.984375 1.515625 \nz\nM 30.609375 32.421875 \nQ 37.25 32.421875 41.125 36.953125 \nQ 45.015625 41.5 45.015625 49.421875 \nQ 45.015625 57.28125 41.125 61.84375 \nQ 37.25 66.40625 30.609375 66.40625 \nQ 23.96875 66.40625 20.09375 61.84375 \nQ 16.21875 57.28125 16.21875 49.421875 \nQ 16.21875 41.5 20.09375 36.953125 \nQ 23.96875 32.421875 30.609375 32.421875 \nz\n\" id=\"DejaVuSans-57\"/>\n    </defs>\n    <g transform=\"translate(224.206352 122.785189)scale(0.1 -0.1)\">\n     <use xlink:href=\"#DejaVuSans-48\"/>\n     <use x=\"63.623047\" xlink:href=\"#DejaVuSans-46\"/>\n     <use x=\"95.410156\" xlink:href=\"#DejaVuSans-57\"/>\n     <use x=\"159.033203\" xlink:href=\"#DejaVuSans-37\"/>\n    </g>\n   </g>\n   <g id=\"text_59\">\n    <!-- pure grey melange -->\n    <g transform=\"translate(286.083548 116.270239)scale(0.1 -0.1)\">\n     <use xlink:href=\"#DejaVuSans-112\"/>\n     <use x=\"63.476562\" xlink:href=\"#DejaVuSans-117\"/>\n     <use x=\"126.855469\" xlink:href=\"#DejaVuSans-114\"/>\n     <use x=\"165.71875\" xlink:href=\"#DejaVuSans-101\"/>\n     <use x=\"227.242188\" xlink:href=\"#DejaVuSans-32\"/>\n     <use x=\"259.029297\" xlink:href=\"#DejaVuSans-103\"/>\n     <use x=\"322.505859\" xlink:href=\"#DejaVuSans-114\"/>\n     <use x=\"361.369141\" xlink:href=\"#DejaVuSans-101\"/>\n     <use x=\"422.892578\" xlink:href=\"#DejaVuSans-121\"/>\n     <use x=\"482.072266\" xlink:href=\"#DejaVuSans-32\"/>\n     <use x=\"513.859375\" xlink:href=\"#DejaVuSans-109\"/>\n     <use x=\"611.271484\" xlink:href=\"#DejaVuSans-101\"/>\n     <use x=\"672.794922\" xlink:href=\"#DejaVuSans-108\"/>\n     <use x=\"700.578125\" xlink:href=\"#DejaVuSans-97\"/>\n     <use x=\"761.857422\" xlink:href=\"#DejaVuSans-110\"/>\n     <use x=\"825.236328\" xlink:href=\"#DejaVuSans-103\"/>\n     <use x=\"888.712891\" xlink:href=\"#DejaVuSans-101\"/>\n    </g>\n   </g>\n   <g id=\"text_60\">\n    <!-- 0.9% -->\n    <g transform=\"translate(224.079305 119.557859)scale(0.1 -0.1)\">\n     <use xlink:href=\"#DejaVuSans-48\"/>\n     <use x=\"63.623047\" xlink:href=\"#DejaVuSans-46\"/>\n     <use x=\"95.410156\" xlink:href=\"#DejaVuSans-57\"/>\n     <use x=\"159.033203\" xlink:href=\"#DejaVuSans-37\"/>\n    </g>\n   </g>\n   <g id=\"text_61\">\n    <!-- blue bell -->\n    <g transform=\"translate(285.568036 110.701584)scale(0.1 -0.1)\">\n     <use xlink:href=\"#DejaVuSans-98\"/>\n     <use x=\"63.476562\" xlink:href=\"#DejaVuSans-108\"/>\n     <use x=\"91.259766\" xlink:href=\"#DejaVuSans-117\"/>\n     <use x=\"154.638672\" xlink:href=\"#DejaVuSans-101\"/>\n     <use x=\"216.162109\" xlink:href=\"#DejaVuSans-32\"/>\n     <use x=\"247.949219\" xlink:href=\"#DejaVuSans-98\"/>\n     <use x=\"311.425781\" xlink:href=\"#DejaVuSans-101\"/>\n     <use x=\"372.949219\" xlink:href=\"#DejaVuSans-108\"/>\n     <use x=\"400.732422\" xlink:href=\"#DejaVuSans-108\"/>\n    </g>\n   </g>\n   <g id=\"text_62\">\n    <!-- 0.8% -->\n    <g transform=\"translate(223.798117 116.520411)scale(0.1 -0.1)\">\n     <use xlink:href=\"#DejaVuSans-48\"/>\n     <use x=\"63.623047\" xlink:href=\"#DejaVuSans-46\"/>\n     <use x=\"95.410156\" xlink:href=\"#DejaVuSans-56\"/>\n     <use x=\"159.033203\" xlink:href=\"#DejaVuSans-37\"/>\n    </g>\n   </g>\n   <g id=\"text_63\">\n    <!-- linden tree -->\n    <g transform=\"translate(284.821819 105.491185)scale(0.1 -0.1)\">\n     <use xlink:href=\"#DejaVuSans-108\"/>\n     <use x=\"27.783203\" xlink:href=\"#DejaVuSans-105\"/>\n     <use x=\"55.566406\" xlink:href=\"#DejaVuSans-110\"/>\n     <use x=\"118.945312\" xlink:href=\"#DejaVuSans-100\"/>\n     <use x=\"182.421875\" xlink:href=\"#DejaVuSans-101\"/>\n     <use x=\"243.945312\" xlink:href=\"#DejaVuSans-110\"/>\n     <use x=\"307.324219\" xlink:href=\"#DejaVuSans-32\"/>\n     <use x=\"339.111328\" xlink:href=\"#DejaVuSans-116\"/>\n     <use x=\"378.320312\" xlink:href=\"#DejaVuSans-114\"/>\n     <use x=\"417.183594\" xlink:href=\"#DejaVuSans-101\"/>\n     <use x=\"478.707031\" xlink:href=\"#DejaVuSans-101\"/>\n    </g>\n   </g>\n   <g id=\"text_64\">\n    <!-- 0.8% -->\n    <g transform=\"translate(223.39109 113.678375)scale(0.1 -0.1)\">\n     <use xlink:href=\"#DejaVuSans-48\"/>\n     <use x=\"63.623047\" xlink:href=\"#DejaVuSans-46\"/>\n     <use x=\"95.410156\" xlink:href=\"#DejaVuSans-56\"/>\n     <use x=\"159.033203\" xlink:href=\"#DejaVuSans-37\"/>\n    </g>\n   </g>\n   <g id=\"text_65\">\n    <!-- gentle sand -->\n    <g transform=\"translate(283.824261 100.323015)scale(0.1 -0.1)\">\n     <use xlink:href=\"#DejaVuSans-103\"/>\n     <use x=\"63.476562\" xlink:href=\"#DejaVuSans-101\"/>\n     <use x=\"125\" xlink:href=\"#DejaVuSans-110\"/>\n     <use x=\"188.378906\" xlink:href=\"#DejaVuSans-116\"/>\n     <use x=\"227.587891\" xlink:href=\"#DejaVuSans-108\"/>\n     <use x=\"255.371094\" xlink:href=\"#DejaVuSans-101\"/>\n     <use x=\"316.894531\" xlink:href=\"#DejaVuSans-32\"/>\n     <use x=\"348.681641\" xlink:href=\"#DejaVuSans-115\"/>\n     <use x=\"400.78125\" xlink:href=\"#DejaVuSans-97\"/>\n     <use x=\"462.060547\" xlink:href=\"#DejaVuSans-110\"/>\n     <use x=\"525.439453\" xlink:href=\"#DejaVuSans-100\"/>\n    </g>\n   </g>\n   <g id=\"text_66\">\n    <!-- 0.8% -->\n    <g transform=\"translate(222.846967 110.859373)scale(0.1 -0.1)\">\n     <use xlink:href=\"#DejaVuSans-48\"/>\n     <use x=\"63.623047\" xlink:href=\"#DejaVuSans-46\"/>\n     <use x=\"95.410156\" xlink:href=\"#DejaVuSans-56\"/>\n     <use x=\"159.033203\" xlink:href=\"#DejaVuSans-37\"/>\n    </g>\n   </g>\n   <g id=\"text_67\">\n    <!-- light blue washed -->\n    <g transform=\"translate(282.662853 95.526986)scale(0.1 -0.1)\">\n     <use xlink:href=\"#DejaVuSans-108\"/>\n     <use x=\"27.783203\" xlink:href=\"#DejaVuSans-105\"/>\n     <use x=\"55.566406\" xlink:href=\"#DejaVuSans-103\"/>\n     <use x=\"119.042969\" xlink:href=\"#DejaVuSans-104\"/>\n     <use x=\"182.421875\" xlink:href=\"#DejaVuSans-116\"/>\n     <use x=\"221.630859\" xlink:href=\"#DejaVuSans-32\"/>\n     <use x=\"253.417969\" xlink:href=\"#DejaVuSans-98\"/>\n     <use x=\"316.894531\" xlink:href=\"#DejaVuSans-108\"/>\n     <use x=\"344.677734\" xlink:href=\"#DejaVuSans-117\"/>\n     <use x=\"408.056641\" xlink:href=\"#DejaVuSans-101\"/>\n     <use x=\"469.580078\" xlink:href=\"#DejaVuSans-32\"/>\n     <use x=\"501.367188\" xlink:href=\"#DejaVuSans-119\"/>\n     <use x=\"583.154297\" xlink:href=\"#DejaVuSans-97\"/>\n     <use x=\"644.433594\" xlink:href=\"#DejaVuSans-115\"/>\n     <use x=\"696.533203\" xlink:href=\"#DejaVuSans-104\"/>\n     <use x=\"759.912109\" xlink:href=\"#DejaVuSans-101\"/>\n     <use x=\"821.435547\" xlink:href=\"#DejaVuSans-100\"/>\n    </g>\n   </g>\n   <g id=\"text_68\">\n    <!-- 0.7% -->\n    <g transform=\"translate(222.213471 108.243358)scale(0.1 -0.1)\">\n     <use xlink:href=\"#DejaVuSans-48\"/>\n     <use x=\"63.623047\" xlink:href=\"#DejaVuSans-46\"/>\n     <use x=\"95.410156\" xlink:href=\"#DejaVuSans-55\"/>\n     <use x=\"159.033203\" xlink:href=\"#DejaVuSans-37\"/>\n    </g>\n   </g>\n   <g id=\"text_69\">\n    <!-- pale blush -->\n    <g transform=\"translate(281.38352 91.10251)scale(0.1 -0.1)\">\n     <use xlink:href=\"#DejaVuSans-112\"/>\n     <use x=\"63.476562\" xlink:href=\"#DejaVuSans-97\"/>\n     <use x=\"124.755859\" xlink:href=\"#DejaVuSans-108\"/>\n     <use x=\"152.539062\" xlink:href=\"#DejaVuSans-101\"/>\n     <use x=\"214.0625\" xlink:href=\"#DejaVuSans-32\"/>\n     <use x=\"245.849609\" xlink:href=\"#DejaVuSans-98\"/>\n     <use x=\"309.326172\" xlink:href=\"#DejaVuSans-108\"/>\n     <use x=\"337.109375\" xlink:href=\"#DejaVuSans-117\"/>\n     <use x=\"400.488281\" xlink:href=\"#DejaVuSans-115\"/>\n     <use x=\"452.587891\" xlink:href=\"#DejaVuSans-104\"/>\n    </g>\n   </g>\n   <g id=\"text_70\">\n    <!-- 0.7% -->\n    <g transform=\"translate(221.515653 105.830007)scale(0.1 -0.1)\">\n     <use xlink:href=\"#DejaVuSans-48\"/>\n     <use x=\"63.623047\" xlink:href=\"#DejaVuSans-46\"/>\n     <use x=\"95.410156\" xlink:href=\"#DejaVuSans-55\"/>\n     <use x=\"159.033203\" xlink:href=\"#DejaVuSans-37\"/>\n    </g>\n   </g>\n   <g id=\"text_71\">\n    <!-- dark port -->\n    <g transform=\"translate(279.917917 86.736196)scale(0.1 -0.1)\">\n     <use xlink:href=\"#DejaVuSans-100\"/>\n     <use x=\"63.476562\" xlink:href=\"#DejaVuSans-97\"/>\n     <use x=\"124.755859\" xlink:href=\"#DejaVuSans-114\"/>\n     <use x=\"165.869141\" xlink:href=\"#DejaVuSans-107\"/>\n     <use x=\"223.779297\" xlink:href=\"#DejaVuSans-32\"/>\n     <use x=\"255.566406\" xlink:href=\"#DejaVuSans-112\"/>\n     <use x=\"319.042969\" xlink:href=\"#DejaVuSans-111\"/>\n     <use x=\"380.224609\" xlink:href=\"#DejaVuSans-114\"/>\n     <use x=\"421.337891\" xlink:href=\"#DejaVuSans-116\"/>\n    </g>\n   </g>\n   <g id=\"text_72\">\n    <!-- 0.7% -->\n    <g transform=\"translate(220.716234 103.448381)scale(0.1 -0.1)\">\n     <use xlink:href=\"#DejaVuSans-48\"/>\n     <use x=\"63.623047\" xlink:href=\"#DejaVuSans-46\"/>\n     <use x=\"95.410156\" xlink:href=\"#DejaVuSans-55\"/>\n     <use x=\"159.033203\" xlink:href=\"#DejaVuSans-37\"/>\n    </g>\n   </g>\n   <g id=\"text_73\">\n    <!-- contemporary blue -->\n    <g transform=\"translate(278.268674 82.435884)scale(0.1 -0.1)\">\n     <use xlink:href=\"#DejaVuSans-99\"/>\n     <use x=\"54.980469\" xlink:href=\"#DejaVuSans-111\"/>\n     <use x=\"116.162109\" xlink:href=\"#DejaVuSans-110\"/>\n     <use x=\"179.541016\" xlink:href=\"#DejaVuSans-116\"/>\n     <use x=\"218.75\" xlink:href=\"#DejaVuSans-101\"/>\n     <use x=\"280.273438\" xlink:href=\"#DejaVuSans-109\"/>\n     <use x=\"377.685547\" xlink:href=\"#DejaVuSans-112\"/>\n     <use x=\"441.162109\" xlink:href=\"#DejaVuSans-111\"/>\n     <use x=\"502.34375\" xlink:href=\"#DejaVuSans-114\"/>\n     <use x=\"543.457031\" xlink:href=\"#DejaVuSans-97\"/>\n     <use x=\"604.736328\" xlink:href=\"#DejaVuSans-114\"/>\n     <use x=\"645.849609\" xlink:href=\"#DejaVuSans-121\"/>\n     <use x=\"705.029297\" xlink:href=\"#DejaVuSans-32\"/>\n     <use x=\"736.816406\" xlink:href=\"#DejaVuSans-98\"/>\n     <use x=\"800.292969\" xlink:href=\"#DejaVuSans-108\"/>\n     <use x=\"828.076172\" xlink:href=\"#DejaVuSans-117\"/>\n     <use x=\"891.455078\" xlink:href=\"#DejaVuSans-101\"/>\n    </g>\n   </g>\n   <g id=\"text_74\">\n    <!-- 0.7% -->\n    <g transform=\"translate(219.816647 101.102756)scale(0.1 -0.1)\">\n     <use xlink:href=\"#DejaVuSans-48\"/>\n     <use x=\"63.623047\" xlink:href=\"#DejaVuSans-46\"/>\n     <use x=\"95.410156\" xlink:href=\"#DejaVuSans-55\"/>\n     <use x=\"159.033203\" xlink:href=\"#DejaVuSans-37\"/>\n    </g>\n   </g>\n   <g id=\"text_75\">\n    <!-- sweet cream -->\n    <g transform=\"translate(276.438753 78.209292)scale(0.1 -0.1)\">\n     <use xlink:href=\"#DejaVuSans-115\"/>\n     <use x=\"52.099609\" xlink:href=\"#DejaVuSans-119\"/>\n     <use x=\"133.886719\" xlink:href=\"#DejaVuSans-101\"/>\n     <use x=\"195.410156\" xlink:href=\"#DejaVuSans-101\"/>\n     <use x=\"256.933594\" xlink:href=\"#DejaVuSans-116\"/>\n     <use x=\"296.142578\" xlink:href=\"#DejaVuSans-32\"/>\n     <use x=\"327.929688\" xlink:href=\"#DejaVuSans-99\"/>\n     <use x=\"382.910156\" xlink:href=\"#DejaVuSans-114\"/>\n     <use x=\"421.773438\" xlink:href=\"#DejaVuSans-101\"/>\n     <use x=\"483.296875\" xlink:href=\"#DejaVuSans-97\"/>\n     <use x=\"544.576172\" xlink:href=\"#DejaVuSans-109\"/>\n    </g>\n   </g>\n   <g id=\"text_76\">\n    <!-- 0.7% -->\n    <g transform=\"translate(218.818508 98.797343)scale(0.1 -0.1)\">\n     <use xlink:href=\"#DejaVuSans-48\"/>\n     <use x=\"63.623047\" xlink:href=\"#DejaVuSans-46\"/>\n     <use x=\"95.410156\" xlink:href=\"#DejaVuSans-55\"/>\n     <use x=\"159.033203\" xlink:href=\"#DejaVuSans-37\"/>\n    </g>\n   </g>\n   <g id=\"text_77\">\n    <!-- creamy fudge -->\n    <defs>\n     <path d=\"M 37.109375 75.984375 \nL 37.109375 68.5 \nL 28.515625 68.5 \nQ 23.6875 68.5 21.796875 66.546875 \nQ 19.921875 64.59375 19.921875 59.515625 \nL 19.921875 54.6875 \nL 34.71875 54.6875 \nL 34.71875 47.703125 \nL 19.921875 47.703125 \nL 19.921875 0 \nL 10.890625 0 \nL 10.890625 47.703125 \nL 2.296875 47.703125 \nL 2.296875 54.6875 \nL 10.890625 54.6875 \nL 10.890625 58.5 \nQ 10.890625 67.625 15.140625 71.796875 \nQ 19.390625 75.984375 28.609375 75.984375 \nz\n\" id=\"DejaVuSans-102\"/>\n    </defs>\n    <g transform=\"translate(274.580626 74.357245)scale(0.1 -0.1)\">\n     <use xlink:href=\"#DejaVuSans-99\"/>\n     <use x=\"54.980469\" xlink:href=\"#DejaVuSans-114\"/>\n     <use x=\"93.84375\" xlink:href=\"#DejaVuSans-101\"/>\n     <use x=\"155.367188\" xlink:href=\"#DejaVuSans-97\"/>\n     <use x=\"216.646484\" xlink:href=\"#DejaVuSans-109\"/>\n     <use x=\"314.058594\" xlink:href=\"#DejaVuSans-121\"/>\n     <use x=\"373.238281\" xlink:href=\"#DejaVuSans-32\"/>\n     <use x=\"405.025391\" xlink:href=\"#DejaVuSans-102\"/>\n     <use x=\"440.230469\" xlink:href=\"#DejaVuSans-117\"/>\n     <use x=\"503.609375\" xlink:href=\"#DejaVuSans-100\"/>\n     <use x=\"567.085938\" xlink:href=\"#DejaVuSans-103\"/>\n     <use x=\"630.5625\" xlink:href=\"#DejaVuSans-101\"/>\n    </g>\n   </g>\n   <g id=\"text_78\">\n    <!-- 0.6% -->\n    <g transform=\"translate(217.804984 96.696226)scale(0.1 -0.1)\">\n     <use xlink:href=\"#DejaVuSans-48\"/>\n     <use x=\"63.623047\" xlink:href=\"#DejaVuSans-46\"/>\n     <use x=\"95.410156\" xlink:href=\"#DejaVuSans-54\"/>\n     <use x=\"159.033203\" xlink:href=\"#DejaVuSans-37\"/>\n    </g>\n   </g>\n   <g id=\"text_79\">\n    <!-- strong grey -->\n    <g transform=\"translate(272.732152 70.868894)scale(0.1 -0.1)\">\n     <use xlink:href=\"#DejaVuSans-115\"/>\n     <use x=\"52.099609\" xlink:href=\"#DejaVuSans-116\"/>\n     <use x=\"91.308594\" xlink:href=\"#DejaVuSans-114\"/>\n     <use x=\"130.171875\" xlink:href=\"#DejaVuSans-111\"/>\n     <use x=\"191.353516\" xlink:href=\"#DejaVuSans-110\"/>\n     <use x=\"254.732422\" xlink:href=\"#DejaVuSans-103\"/>\n     <use x=\"318.208984\" xlink:href=\"#DejaVuSans-32\"/>\n     <use x=\"349.996094\" xlink:href=\"#DejaVuSans-103\"/>\n     <use x=\"413.472656\" xlink:href=\"#DejaVuSans-114\"/>\n     <use x=\"452.335938\" xlink:href=\"#DejaVuSans-101\"/>\n     <use x=\"513.859375\" xlink:href=\"#DejaVuSans-121\"/>\n    </g>\n   </g>\n   <g id=\"text_80\">\n    <!-- 0.6% -->\n    <g transform=\"translate(216.796725 94.793489)scale(0.1 -0.1)\">\n     <use xlink:href=\"#DejaVuSans-48\"/>\n     <use x=\"63.623047\" xlink:href=\"#DejaVuSans-46\"/>\n     <use x=\"95.410156\" xlink:href=\"#DejaVuSans-54\"/>\n     <use x=\"159.033203\" xlink:href=\"#DejaVuSans-37\"/>\n    </g>\n   </g>\n   <g id=\"text_81\">\n    <!-- light grey -->\n    <g transform=\"translate(270.758231 67.449963)scale(0.1 -0.1)\">\n     <use xlink:href=\"#DejaVuSans-108\"/>\n     <use x=\"27.783203\" xlink:href=\"#DejaVuSans-105\"/>\n     <use x=\"55.566406\" xlink:href=\"#DejaVuSans-103\"/>\n     <use x=\"119.042969\" xlink:href=\"#DejaVuSans-104\"/>\n     <use x=\"182.421875\" xlink:href=\"#DejaVuSans-116\"/>\n     <use x=\"221.630859\" xlink:href=\"#DejaVuSans-32\"/>\n     <use x=\"253.417969\" xlink:href=\"#DejaVuSans-103\"/>\n     <use x=\"316.894531\" xlink:href=\"#DejaVuSans-114\"/>\n     <use x=\"355.757812\" xlink:href=\"#DejaVuSans-101\"/>\n     <use x=\"417.28125\" xlink:href=\"#DejaVuSans-121\"/>\n    </g>\n   </g>\n   <g id=\"text_82\">\n    <!-- 0.6% -->\n    <g transform=\"translate(215.720041 92.928618)scale(0.1 -0.1)\">\n     <use xlink:href=\"#DejaVuSans-48\"/>\n     <use x=\"63.623047\" xlink:href=\"#DejaVuSans-46\"/>\n     <use x=\"95.410156\" xlink:href=\"#DejaVuSans-54\"/>\n     <use x=\"159.033203\" xlink:href=\"#DejaVuSans-37\"/>\n    </g>\n   </g>\n   <g id=\"text_83\">\n    <!-- blue iris -->\n    <g transform=\"translate(268.661468 64.104962)scale(0.1 -0.1)\">\n     <use xlink:href=\"#DejaVuSans-98\"/>\n     <use x=\"63.476562\" xlink:href=\"#DejaVuSans-108\"/>\n     <use x=\"91.259766\" xlink:href=\"#DejaVuSans-117\"/>\n     <use x=\"154.638672\" xlink:href=\"#DejaVuSans-101\"/>\n     <use x=\"216.162109\" xlink:href=\"#DejaVuSans-32\"/>\n     <use x=\"247.949219\" xlink:href=\"#DejaVuSans-105\"/>\n     <use x=\"275.732422\" xlink:href=\"#DejaVuSans-114\"/>\n     <use x=\"316.845703\" xlink:href=\"#DejaVuSans-105\"/>\n     <use x=\"344.628906\" xlink:href=\"#DejaVuSans-115\"/>\n    </g>\n   </g>\n   <g id=\"text_84\">\n    <!-- 0.6% -->\n    <g transform=\"translate(214.576352 91.104072)scale(0.1 -0.1)\">\n     <use xlink:href=\"#DejaVuSans-48\"/>\n     <use x=\"63.623047\" xlink:href=\"#DejaVuSans-46\"/>\n     <use x=\"95.410156\" xlink:href=\"#DejaVuSans-54\"/>\n     <use x=\"159.033203\" xlink:href=\"#DejaVuSans-37\"/>\n    </g>\n   </g>\n   <g id=\"text_85\">\n    <!-- hazy fog melange -->\n    <g transform=\"translate(266.444626 60.838303)scale(0.1 -0.1)\">\n     <use xlink:href=\"#DejaVuSans-104\"/>\n     <use x=\"63.378906\" xlink:href=\"#DejaVuSans-97\"/>\n     <use x=\"124.658203\" xlink:href=\"#DejaVuSans-122\"/>\n     <use x=\"177.148438\" xlink:href=\"#DejaVuSans-121\"/>\n     <use x=\"236.328125\" xlink:href=\"#DejaVuSans-32\"/>\n     <use x=\"268.115234\" xlink:href=\"#DejaVuSans-102\"/>\n     <use x=\"303.320312\" xlink:href=\"#DejaVuSans-111\"/>\n     <use x=\"364.501953\" xlink:href=\"#DejaVuSans-103\"/>\n     <use x=\"427.978516\" xlink:href=\"#DejaVuSans-32\"/>\n     <use x=\"459.765625\" xlink:href=\"#DejaVuSans-109\"/>\n     <use x=\"557.177734\" xlink:href=\"#DejaVuSans-101\"/>\n     <use x=\"618.701172\" xlink:href=\"#DejaVuSans-108\"/>\n     <use x=\"646.484375\" xlink:href=\"#DejaVuSans-97\"/>\n     <use x=\"707.763672\" xlink:href=\"#DejaVuSans-110\"/>\n     <use x=\"771.142578\" xlink:href=\"#DejaVuSans-103\"/>\n     <use x=\"834.619141\" xlink:href=\"#DejaVuSans-101\"/>\n    </g>\n   </g>\n   <g id=\"text_86\">\n    <!-- 0.6% -->\n    <g transform=\"translate(213.367166 89.322258)scale(0.1 -0.1)\">\n     <use xlink:href=\"#DejaVuSans-48\"/>\n     <use x=\"63.623047\" xlink:href=\"#DejaVuSans-46\"/>\n     <use x=\"95.410156\" xlink:href=\"#DejaVuSans-54\"/>\n     <use x=\"159.033203\" xlink:href=\"#DejaVuSans-37\"/>\n    </g>\n   </g>\n   <g id=\"text_87\">\n    <!-- comfort blue -->\n    <g transform=\"translate(264.110631 57.654294)scale(0.1 -0.1)\">\n     <use xlink:href=\"#DejaVuSans-99\"/>\n     <use x=\"54.980469\" xlink:href=\"#DejaVuSans-111\"/>\n     <use x=\"116.162109\" xlink:href=\"#DejaVuSans-109\"/>\n     <use x=\"213.574219\" xlink:href=\"#DejaVuSans-102\"/>\n     <use x=\"248.779297\" xlink:href=\"#DejaVuSans-111\"/>\n     <use x=\"309.960938\" xlink:href=\"#DejaVuSans-114\"/>\n     <use x=\"351.074219\" xlink:href=\"#DejaVuSans-116\"/>\n     <use x=\"390.283203\" xlink:href=\"#DejaVuSans-32\"/>\n     <use x=\"422.070312\" xlink:href=\"#DejaVuSans-98\"/>\n     <use x=\"485.546875\" xlink:href=\"#DejaVuSans-108\"/>\n     <use x=\"513.330078\" xlink:href=\"#DejaVuSans-117\"/>\n     <use x=\"576.708984\" xlink:href=\"#DejaVuSans-101\"/>\n    </g>\n   </g>\n   <g id=\"text_88\">\n    <!-- 0.6% -->\n    <g transform=\"translate(212.094078 87.585525)scale(0.1 -0.1)\">\n     <use xlink:href=\"#DejaVuSans-48\"/>\n     <use x=\"63.623047\" xlink:href=\"#DejaVuSans-46\"/>\n     <use x=\"95.410156\" xlink:href=\"#DejaVuSans-54\"/>\n     <use x=\"159.033203\" xlink:href=\"#DejaVuSans-37\"/>\n    </g>\n   </g>\n   <g id=\"text_89\">\n    <!-- eden -->\n    <g transform=\"translate(261.870846 54.811813)scale(0.1 -0.1)\">\n     <use xlink:href=\"#DejaVuSans-101\"/>\n     <use x=\"61.523438\" xlink:href=\"#DejaVuSans-100\"/>\n     <use x=\"125\" xlink:href=\"#DejaVuSans-101\"/>\n     <use x=\"186.523438\" xlink:href=\"#DejaVuSans-110\"/>\n    </g>\n   </g>\n   <g id=\"text_90\">\n    <!-- 0.5% -->\n    <g transform=\"translate(210.872376 86.035081)scale(0.1 -0.1)\">\n     <use xlink:href=\"#DejaVuSans-48\"/>\n     <use x=\"63.623047\" xlink:href=\"#DejaVuSans-46\"/>\n     <use x=\"95.410156\" xlink:href=\"#DejaVuSans-53\"/>\n     <use x=\"159.033203\" xlink:href=\"#DejaVuSans-37\"/>\n    </g>\n   </g>\n   <g id=\"text_91\">\n    <!-- shade of rose -->\n    <g transform=\"translate(259.753582 52.29372)scale(0.1 -0.1)\">\n     <use xlink:href=\"#DejaVuSans-115\"/>\n     <use x=\"52.099609\" xlink:href=\"#DejaVuSans-104\"/>\n     <use x=\"115.478516\" xlink:href=\"#DejaVuSans-97\"/>\n     <use x=\"176.757812\" xlink:href=\"#DejaVuSans-100\"/>\n     <use x=\"240.234375\" xlink:href=\"#DejaVuSans-101\"/>\n     <use x=\"301.757812\" xlink:href=\"#DejaVuSans-32\"/>\n     <use x=\"333.544922\" xlink:href=\"#DejaVuSans-111\"/>\n     <use x=\"394.726562\" xlink:href=\"#DejaVuSans-102\"/>\n     <use x=\"429.931641\" xlink:href=\"#DejaVuSans-32\"/>\n     <use x=\"461.71875\" xlink:href=\"#DejaVuSans-114\"/>\n     <use x=\"500.582031\" xlink:href=\"#DejaVuSans-111\"/>\n     <use x=\"561.763672\" xlink:href=\"#DejaVuSans-115\"/>\n     <use x=\"613.863281\" xlink:href=\"#DejaVuSans-101\"/>\n    </g>\n   </g>\n   <g id=\"text_92\">\n    <!-- 0.5% -->\n    <g transform=\"translate(209.717506 84.661576)scale(0.1 -0.1)\">\n     <use xlink:href=\"#DejaVuSans-48\"/>\n     <use x=\"63.623047\" xlink:href=\"#DejaVuSans-46\"/>\n     <use x=\"95.410156\" xlink:href=\"#DejaVuSans-53\"/>\n     <use x=\"159.033203\" xlink:href=\"#DejaVuSans-37\"/>\n    </g>\n   </g>\n   <g id=\"text_93\">\n    <!-- lush blue -->\n    <g transform=\"translate(257.561088 49.840852)scale(0.1 -0.1)\">\n     <use xlink:href=\"#DejaVuSans-108\"/>\n     <use x=\"27.783203\" xlink:href=\"#DejaVuSans-117\"/>\n     <use x=\"91.162109\" xlink:href=\"#DejaVuSans-115\"/>\n     <use x=\"143.261719\" xlink:href=\"#DejaVuSans-104\"/>\n     <use x=\"206.640625\" xlink:href=\"#DejaVuSans-32\"/>\n     <use x=\"238.427734\" xlink:href=\"#DejaVuSans-98\"/>\n     <use x=\"301.904297\" xlink:href=\"#DejaVuSans-108\"/>\n     <use x=\"329.6875\" xlink:href=\"#DejaVuSans-117\"/>\n     <use x=\"393.066406\" xlink:href=\"#DejaVuSans-101\"/>\n    </g>\n   </g>\n   <g id=\"text_94\">\n    <!-- 0.5% -->\n    <g transform=\"translate(208.5216 83.323648)scale(0.1 -0.1)\">\n     <use xlink:href=\"#DejaVuSans-48\"/>\n     <use x=\"63.623047\" xlink:href=\"#DejaVuSans-46\"/>\n     <use x=\"95.410156\" xlink:href=\"#DejaVuSans-53\"/>\n     <use x=\"159.033203\" xlink:href=\"#DejaVuSans-37\"/>\n    </g>\n   </g>\n   <g id=\"text_95\">\n    <!-- darling red -->\n    <g transform=\"translate(255.295371 47.455455)scale(0.1 -0.1)\">\n     <use xlink:href=\"#DejaVuSans-100\"/>\n     <use x=\"63.476562\" xlink:href=\"#DejaVuSans-97\"/>\n     <use x=\"124.755859\" xlink:href=\"#DejaVuSans-114\"/>\n     <use x=\"165.869141\" xlink:href=\"#DejaVuSans-108\"/>\n     <use x=\"193.652344\" xlink:href=\"#DejaVuSans-105\"/>\n     <use x=\"221.435547\" xlink:href=\"#DejaVuSans-110\"/>\n     <use x=\"284.814453\" xlink:href=\"#DejaVuSans-103\"/>\n     <use x=\"348.291016\" xlink:href=\"#DejaVuSans-32\"/>\n     <use x=\"380.078125\" xlink:href=\"#DejaVuSans-114\"/>\n     <use x=\"418.941406\" xlink:href=\"#DejaVuSans-101\"/>\n     <use x=\"480.464844\" xlink:href=\"#DejaVuSans-100\"/>\n    </g>\n   </g>\n   <g id=\"text_96\">\n    <!-- 0.5% -->\n    <g transform=\"translate(207.285754 82.022522)scale(0.1 -0.1)\">\n     <use xlink:href=\"#DejaVuSans-48\"/>\n     <use x=\"63.623047\" xlink:href=\"#DejaVuSans-46\"/>\n     <use x=\"95.410156\" xlink:href=\"#DejaVuSans-53\"/>\n     <use x=\"159.033203\" xlink:href=\"#DejaVuSans-37\"/>\n    </g>\n   </g>\n   <g id=\"text_97\">\n    <!-- grey wash -->\n    <g transform=\"translate(252.958507 45.139713)scale(0.1 -0.1)\">\n     <use xlink:href=\"#DejaVuSans-103\"/>\n     <use x=\"63.476562\" xlink:href=\"#DejaVuSans-114\"/>\n     <use x=\"102.339844\" xlink:href=\"#DejaVuSans-101\"/>\n     <use x=\"163.863281\" xlink:href=\"#DejaVuSans-121\"/>\n     <use x=\"223.042969\" xlink:href=\"#DejaVuSans-32\"/>\n     <use x=\"254.830078\" xlink:href=\"#DejaVuSans-119\"/>\n     <use x=\"336.617188\" xlink:href=\"#DejaVuSans-97\"/>\n     <use x=\"397.896484\" xlink:href=\"#DejaVuSans-115\"/>\n     <use x=\"449.996094\" xlink:href=\"#DejaVuSans-104\"/>\n    </g>\n   </g>\n   <g id=\"text_98\">\n    <!-- 0.5% -->\n    <g transform=\"translate(206.011101 80.75939)scale(0.1 -0.1)\">\n     <use xlink:href=\"#DejaVuSans-48\"/>\n     <use x=\"63.623047\" xlink:href=\"#DejaVuSans-46\"/>\n     <use x=\"95.410156\" xlink:href=\"#DejaVuSans-53\"/>\n     <use x=\"159.033203\" xlink:href=\"#DejaVuSans-37\"/>\n    </g>\n   </g>\n   <g id=\"text_99\">\n    <!-- oatmeal -->\n    <g transform=\"translate(250.552636 42.895748)scale(0.1 -0.1)\">\n     <use xlink:href=\"#DejaVuSans-111\"/>\n     <use x=\"61.181641\" xlink:href=\"#DejaVuSans-97\"/>\n     <use x=\"122.460938\" xlink:href=\"#DejaVuSans-116\"/>\n     <use x=\"161.669922\" xlink:href=\"#DejaVuSans-109\"/>\n     <use x=\"259.082031\" xlink:href=\"#DejaVuSans-101\"/>\n     <use x=\"320.605469\" xlink:href=\"#DejaVuSans-97\"/>\n     <use x=\"381.884766\" xlink:href=\"#DejaVuSans-108\"/>\n    </g>\n   </g>\n   <g id=\"text_100\">\n    <!-- 0.5% -->\n    <g transform=\"translate(204.698808 79.53541)scale(0.1 -0.1)\">\n     <use xlink:href=\"#DejaVuSans-48\"/>\n     <use x=\"63.623047\" xlink:href=\"#DejaVuSans-46\"/>\n     <use x=\"95.410156\" xlink:href=\"#DejaVuSans-53\"/>\n     <use x=\"159.033203\" xlink:href=\"#DejaVuSans-37\"/>\n    </g>\n   </g>\n   <g id=\"text_101\">\n    <!-- elderberry -->\n    <g transform=\"translate(248.079962 40.725616)scale(0.1 -0.1)\">\n     <use xlink:href=\"#DejaVuSans-101\"/>\n     <use x=\"61.523438\" xlink:href=\"#DejaVuSans-108\"/>\n     <use x=\"89.306641\" xlink:href=\"#DejaVuSans-100\"/>\n     <use x=\"152.783203\" xlink:href=\"#DejaVuSans-101\"/>\n     <use x=\"214.306641\" xlink:href=\"#DejaVuSans-114\"/>\n     <use x=\"255.419922\" xlink:href=\"#DejaVuSans-98\"/>\n     <use x=\"318.896484\" xlink:href=\"#DejaVuSans-101\"/>\n     <use x=\"380.419922\" xlink:href=\"#DejaVuSans-114\"/>\n     <use x=\"419.783203\" xlink:href=\"#DejaVuSans-114\"/>\n     <use x=\"460.896484\" xlink:href=\"#DejaVuSans-121\"/>\n    </g>\n   </g>\n   <g id=\"text_102\">\n    <!-- 0.5% -->\n    <g transform=\"translate(203.350076 78.351701)scale(0.1 -0.1)\">\n     <use xlink:href=\"#DejaVuSans-48\"/>\n     <use x=\"63.623047\" xlink:href=\"#DejaVuSans-46\"/>\n     <use x=\"95.410156\" xlink:href=\"#DejaVuSans-53\"/>\n     <use x=\"159.033203\" xlink:href=\"#DejaVuSans-37\"/>\n    </g>\n   </g>\n   <g id=\"text_103\">\n    <!-- easy blue -->\n    <g transform=\"translate(245.542749 38.631303)scale(0.1 -0.1)\">\n     <use xlink:href=\"#DejaVuSans-101\"/>\n     <use x=\"61.523438\" xlink:href=\"#DejaVuSans-97\"/>\n     <use x=\"122.802734\" xlink:href=\"#DejaVuSans-115\"/>\n     <use x=\"174.902344\" xlink:href=\"#DejaVuSans-121\"/>\n     <use x=\"234.082031\" xlink:href=\"#DejaVuSans-32\"/>\n     <use x=\"265.869141\" xlink:href=\"#DejaVuSans-98\"/>\n     <use x=\"329.345703\" xlink:href=\"#DejaVuSans-108\"/>\n     <use x=\"357.128906\" xlink:href=\"#DejaVuSans-117\"/>\n     <use x=\"420.507812\" xlink:href=\"#DejaVuSans-101\"/>\n    </g>\n   </g>\n   <g id=\"text_104\">\n    <!-- 0.5% -->\n    <g transform=\"translate(201.966142 77.209349)scale(0.1 -0.1)\">\n     <use xlink:href=\"#DejaVuSans-48\"/>\n     <use x=\"63.623047\" xlink:href=\"#DejaVuSans-46\"/>\n     <use x=\"95.410156\" xlink:href=\"#DejaVuSans-53\"/>\n     <use x=\"159.033203\" xlink:href=\"#DejaVuSans-37\"/>\n    </g>\n   </g>\n   <g id=\"text_105\">\n    <!-- hazy fog uni -->\n    <g transform=\"translate(242.943322 36.614729)scale(0.1 -0.1)\">\n     <use xlink:href=\"#DejaVuSans-104\"/>\n     <use x=\"63.378906\" xlink:href=\"#DejaVuSans-97\"/>\n     <use x=\"124.658203\" xlink:href=\"#DejaVuSans-122\"/>\n     <use x=\"177.148438\" xlink:href=\"#DejaVuSans-121\"/>\n     <use x=\"236.328125\" xlink:href=\"#DejaVuSans-32\"/>\n     <use x=\"268.115234\" xlink:href=\"#DejaVuSans-102\"/>\n     <use x=\"303.320312\" xlink:href=\"#DejaVuSans-111\"/>\n     <use x=\"364.501953\" xlink:href=\"#DejaVuSans-103\"/>\n     <use x=\"427.978516\" xlink:href=\"#DejaVuSans-32\"/>\n     <use x=\"459.765625\" xlink:href=\"#DejaVuSans-117\"/>\n     <use x=\"523.144531\" xlink:href=\"#DejaVuSans-110\"/>\n     <use x=\"586.523438\" xlink:href=\"#DejaVuSans-105\"/>\n    </g>\n   </g>\n   <g id=\"text_106\">\n    <!-- 0.5% -->\n    <g transform=\"translate(200.548272 76.109399)scale(0.1 -0.1)\">\n     <use xlink:href=\"#DejaVuSans-48\"/>\n     <use x=\"63.623047\" xlink:href=\"#DejaVuSans-46\"/>\n     <use x=\"95.410156\" xlink:href=\"#DejaVuSans-53\"/>\n     <use x=\"159.033203\" xlink:href=\"#DejaVuSans-37\"/>\n    </g>\n   </g>\n   <g id=\"text_107\">\n    <!-- endless blue -->\n    <g transform=\"translate(240.284061 34.67774)scale(0.1 -0.1)\">\n     <use xlink:href=\"#DejaVuSans-101\"/>\n     <use x=\"61.523438\" xlink:href=\"#DejaVuSans-110\"/>\n     <use x=\"124.902344\" xlink:href=\"#DejaVuSans-100\"/>\n     <use x=\"188.378906\" xlink:href=\"#DejaVuSans-108\"/>\n     <use x=\"216.162109\" xlink:href=\"#DejaVuSans-101\"/>\n     <use x=\"277.685547\" xlink:href=\"#DejaVuSans-115\"/>\n     <use x=\"329.785156\" xlink:href=\"#DejaVuSans-115\"/>\n     <use x=\"381.884766\" xlink:href=\"#DejaVuSans-32\"/>\n     <use x=\"413.671875\" xlink:href=\"#DejaVuSans-98\"/>\n     <use x=\"477.148438\" xlink:href=\"#DejaVuSans-108\"/>\n     <use x=\"504.931641\" xlink:href=\"#DejaVuSans-117\"/>\n     <use x=\"568.310547\" xlink:href=\"#DejaVuSans-101\"/>\n    </g>\n   </g>\n   <g id=\"text_108\">\n    <!-- 0.5% -->\n    <g transform=\"translate(199.097767 75.05286)scale(0.1 -0.1)\">\n     <use xlink:href=\"#DejaVuSans-48\"/>\n     <use x=\"63.623047\" xlink:href=\"#DejaVuSans-46\"/>\n     <use x=\"95.410156\" xlink:href=\"#DejaVuSans-53\"/>\n     <use x=\"159.033203\" xlink:href=\"#DejaVuSans-37\"/>\n    </g>\n   </g>\n   <g id=\"text_109\">\n    <!-- fountain grey -->\n    <g transform=\"translate(237.567402 32.822111)scale(0.1 -0.1)\">\n     <use xlink:href=\"#DejaVuSans-102\"/>\n     <use x=\"35.205078\" xlink:href=\"#DejaVuSans-111\"/>\n     <use x=\"96.386719\" xlink:href=\"#DejaVuSans-117\"/>\n     <use x=\"159.765625\" xlink:href=\"#DejaVuSans-110\"/>\n     <use x=\"223.144531\" xlink:href=\"#DejaVuSans-116\"/>\n     <use x=\"262.353516\" xlink:href=\"#DejaVuSans-97\"/>\n     <use x=\"323.632812\" xlink:href=\"#DejaVuSans-105\"/>\n     <use x=\"351.416016\" xlink:href=\"#DejaVuSans-110\"/>\n     <use x=\"414.794922\" xlink:href=\"#DejaVuSans-32\"/>\n     <use x=\"446.582031\" xlink:href=\"#DejaVuSans-103\"/>\n     <use x=\"510.058594\" xlink:href=\"#DejaVuSans-114\"/>\n     <use x=\"548.921875\" xlink:href=\"#DejaVuSans-101\"/>\n     <use x=\"610.445312\" xlink:href=\"#DejaVuSans-121\"/>\n    </g>\n   </g>\n   <g id=\"text_110\">\n    <!-- 0.5% -->\n    <g transform=\"translate(197.615953 74.040698)scale(0.1 -0.1)\">\n     <use xlink:href=\"#DejaVuSans-48\"/>\n     <use x=\"63.623047\" xlink:href=\"#DejaVuSans-46\"/>\n     <use x=\"95.410156\" xlink:href=\"#DejaVuSans-53\"/>\n     <use x=\"159.033203\" xlink:href=\"#DejaVuSans-37\"/>\n    </g>\n   </g>\n   <g id=\"text_111\">\n    <!-- fresh fruit -->\n    <g transform=\"translate(234.795835 31.049541)scale(0.1 -0.1)\">\n     <use xlink:href=\"#DejaVuSans-102\"/>\n     <use x=\"35.205078\" xlink:href=\"#DejaVuSans-114\"/>\n     <use x=\"74.068359\" xlink:href=\"#DejaVuSans-101\"/>\n     <use x=\"135.591797\" xlink:href=\"#DejaVuSans-115\"/>\n     <use x=\"187.691406\" xlink:href=\"#DejaVuSans-104\"/>\n     <use x=\"251.070312\" xlink:href=\"#DejaVuSans-32\"/>\n     <use x=\"282.857422\" xlink:href=\"#DejaVuSans-102\"/>\n     <use x=\"318.0625\" xlink:href=\"#DejaVuSans-114\"/>\n     <use x=\"359.175781\" xlink:href=\"#DejaVuSans-117\"/>\n     <use x=\"422.554688\" xlink:href=\"#DejaVuSans-105\"/>\n     <use x=\"450.337891\" xlink:href=\"#DejaVuSans-116\"/>\n    </g>\n   </g>\n   <g id=\"text_112\">\n    <!-- 0.5% -->\n    <g transform=\"translate(196.104189 73.073842)scale(0.1 -0.1)\">\n     <use xlink:href=\"#DejaVuSans-48\"/>\n     <use x=\"63.623047\" xlink:href=\"#DejaVuSans-46\"/>\n     <use x=\"95.410156\" xlink:href=\"#DejaVuSans-53\"/>\n     <use x=\"159.033203\" xlink:href=\"#DejaVuSans-37\"/>\n    </g>\n   </g>\n   <g id=\"text_113\">\n    <!-- camel greige -->\n    <g transform=\"translate(231.971896 29.361653)scale(0.1 -0.1)\">\n     <use xlink:href=\"#DejaVuSans-99\"/>\n     <use x=\"54.980469\" xlink:href=\"#DejaVuSans-97\"/>\n     <use x=\"116.259766\" xlink:href=\"#DejaVuSans-109\"/>\n     <use x=\"213.671875\" xlink:href=\"#DejaVuSans-101\"/>\n     <use x=\"275.195312\" xlink:href=\"#DejaVuSans-108\"/>\n     <use x=\"302.978516\" xlink:href=\"#DejaVuSans-32\"/>\n     <use x=\"334.765625\" xlink:href=\"#DejaVuSans-103\"/>\n     <use x=\"398.242188\" xlink:href=\"#DejaVuSans-114\"/>\n     <use x=\"437.105469\" xlink:href=\"#DejaVuSans-101\"/>\n     <use x=\"498.628906\" xlink:href=\"#DejaVuSans-105\"/>\n     <use x=\"526.412109\" xlink:href=\"#DejaVuSans-103\"/>\n     <use x=\"589.888672\" xlink:href=\"#DejaVuSans-101\"/>\n    </g>\n   </g>\n   <g id=\"text_114\">\n    <!-- 0.5% -->\n    <g transform=\"translate(194.563858 72.153176)scale(0.1 -0.1)\">\n     <use xlink:href=\"#DejaVuSans-48\"/>\n     <use x=\"63.623047\" xlink:href=\"#DejaVuSans-46\"/>\n     <use x=\"95.410156\" xlink:href=\"#DejaVuSans-53\"/>\n     <use x=\"159.033203\" xlink:href=\"#DejaVuSans-37\"/>\n    </g>\n   </g>\n   <g id=\"text_115\">\n    <!-- soft natura -->\n    <g transform=\"translate(229.098173 27.759995)scale(0.1 -0.1)\">\n     <use xlink:href=\"#DejaVuSans-115\"/>\n     <use x=\"52.099609\" xlink:href=\"#DejaVuSans-111\"/>\n     <use x=\"113.28125\" xlink:href=\"#DejaVuSans-102\"/>\n     <use x=\"146.736328\" xlink:href=\"#DejaVuSans-116\"/>\n     <use x=\"185.945312\" xlink:href=\"#DejaVuSans-32\"/>\n     <use x=\"217.732422\" xlink:href=\"#DejaVuSans-110\"/>\n     <use x=\"281.111328\" xlink:href=\"#DejaVuSans-97\"/>\n     <use x=\"342.390625\" xlink:href=\"#DejaVuSans-116\"/>\n     <use x=\"381.599609\" xlink:href=\"#DejaVuSans-117\"/>\n     <use x=\"444.978516\" xlink:href=\"#DejaVuSans-114\"/>\n     <use x=\"486.091797\" xlink:href=\"#DejaVuSans-97\"/>\n    </g>\n   </g>\n   <g id=\"text_116\">\n    <!-- 0.5% -->\n    <g transform=\"translate(192.996373 71.279544)scale(0.1 -0.1)\">\n     <use xlink:href=\"#DejaVuSans-48\"/>\n     <use x=\"63.623047\" xlink:href=\"#DejaVuSans-46\"/>\n     <use x=\"95.410156\" xlink:href=\"#DejaVuSans-53\"/>\n     <use x=\"159.033203\" xlink:href=\"#DejaVuSans-37\"/>\n    </g>\n   </g>\n   <g id=\"text_117\">\n    <!-- clean blue -->\n    <g transform=\"translate(226.177298 26.246032)scale(0.1 -0.1)\">\n     <use xlink:href=\"#DejaVuSans-99\"/>\n     <use x=\"54.980469\" xlink:href=\"#DejaVuSans-108\"/>\n     <use x=\"82.763672\" xlink:href=\"#DejaVuSans-101\"/>\n     <use x=\"144.287109\" xlink:href=\"#DejaVuSans-97\"/>\n     <use x=\"205.566406\" xlink:href=\"#DejaVuSans-110\"/>\n     <use x=\"268.945312\" xlink:href=\"#DejaVuSans-32\"/>\n     <use x=\"300.732422\" xlink:href=\"#DejaVuSans-98\"/>\n     <use x=\"364.208984\" xlink:href=\"#DejaVuSans-108\"/>\n     <use x=\"391.992188\" xlink:href=\"#DejaVuSans-117\"/>\n     <use x=\"455.371094\" xlink:href=\"#DejaVuSans-101\"/>\n    </g>\n   </g>\n   <g id=\"text_118\">\n    <!-- 0.5% -->\n    <g transform=\"translate(191.403169 70.453746)scale(0.1 -0.1)\">\n     <use xlink:href=\"#DejaVuSans-48\"/>\n     <use x=\"63.623047\" xlink:href=\"#DejaVuSans-46\"/>\n     <use x=\"95.410156\" xlink:href=\"#DejaVuSans-53\"/>\n     <use x=\"159.033203\" xlink:href=\"#DejaVuSans-37\"/>\n    </g>\n   </g>\n   <g id=\"text_119\">\n    <!-- floating -->\n    <g transform=\"translate(223.510406 24.959593)scale(0.1 -0.1)\">\n     <use xlink:href=\"#DejaVuSans-102\"/>\n     <use x=\"35.205078\" xlink:href=\"#DejaVuSans-108\"/>\n     <use x=\"62.988281\" xlink:href=\"#DejaVuSans-111\"/>\n     <use x=\"124.169922\" xlink:href=\"#DejaVuSans-97\"/>\n     <use x=\"185.449219\" xlink:href=\"#DejaVuSans-116\"/>\n     <use x=\"224.658203\" xlink:href=\"#DejaVuSans-105\"/>\n     <use x=\"252.441406\" xlink:href=\"#DejaVuSans-110\"/>\n     <use x=\"315.820312\" xlink:href=\"#DejaVuSans-103\"/>\n    </g>\n   </g>\n   <g id=\"text_120\">\n    <!-- 0.4% -->\n    <g transform=\"translate(189.9485 69.752052)scale(0.1 -0.1)\">\n     <use xlink:href=\"#DejaVuSans-48\"/>\n     <use x=\"63.623047\" xlink:href=\"#DejaVuSans-46\"/>\n     <use x=\"95.410156\" xlink:href=\"#DejaVuSans-52\"/>\n     <use x=\"159.033203\" xlink:href=\"#DejaVuSans-37\"/>\n    </g>\n   </g>\n   <g id=\"text_121\">\n    <!-- calm camel -->\n    <g transform=\"translate(221.11119 23.877442)scale(0.1 -0.1)\">\n     <use xlink:href=\"#DejaVuSans-99\"/>\n     <use x=\"54.980469\" xlink:href=\"#DejaVuSans-97\"/>\n     <use x=\"116.259766\" xlink:href=\"#DejaVuSans-108\"/>\n     <use x=\"144.042969\" xlink:href=\"#DejaVuSans-109\"/>\n     <use x=\"241.455078\" xlink:href=\"#DejaVuSans-32\"/>\n     <use x=\"273.242188\" xlink:href=\"#DejaVuSans-99\"/>\n     <use x=\"328.222656\" xlink:href=\"#DejaVuSans-97\"/>\n     <use x=\"389.501953\" xlink:href=\"#DejaVuSans-109\"/>\n     <use x=\"486.914062\" xlink:href=\"#DejaVuSans-101\"/>\n     <use x=\"548.4375\" xlink:href=\"#DejaVuSans-108\"/>\n    </g>\n   </g>\n   <g id=\"text_122\">\n    <!-- 0.4% -->\n    <g transform=\"translate(188.639837 69.161788)scale(0.1 -0.1)\">\n     <use xlink:href=\"#DejaVuSans-48\"/>\n     <use x=\"63.623047\" xlink:href=\"#DejaVuSans-46\"/>\n     <use x=\"95.410156\" xlink:href=\"#DejaVuSans-52\"/>\n     <use x=\"159.033203\" xlink:href=\"#DejaVuSans-37\"/>\n    </g>\n   </g>\n   <g id=\"text_123\">\n    <!-- ash grey melange -->\n    <g transform=\"translate(218.686478 22.853694)scale(0.1 -0.1)\">\n     <use xlink:href=\"#DejaVuSans-97\"/>\n     <use x=\"61.279297\" xlink:href=\"#DejaVuSans-115\"/>\n     <use x=\"113.378906\" xlink:href=\"#DejaVuSans-104\"/>\n     <use x=\"176.757812\" xlink:href=\"#DejaVuSans-32\"/>\n     <use x=\"208.544922\" xlink:href=\"#DejaVuSans-103\"/>\n     <use x=\"272.021484\" xlink:href=\"#DejaVuSans-114\"/>\n     <use x=\"310.884766\" xlink:href=\"#DejaVuSans-101\"/>\n     <use x=\"372.408203\" xlink:href=\"#DejaVuSans-121\"/>\n     <use x=\"431.587891\" xlink:href=\"#DejaVuSans-32\"/>\n     <use x=\"463.375\" xlink:href=\"#DejaVuSans-109\"/>\n     <use x=\"560.787109\" xlink:href=\"#DejaVuSans-101\"/>\n     <use x=\"622.310547\" xlink:href=\"#DejaVuSans-108\"/>\n     <use x=\"650.09375\" xlink:href=\"#DejaVuSans-97\"/>\n     <use x=\"711.373047\" xlink:href=\"#DejaVuSans-110\"/>\n     <use x=\"774.751953\" xlink:href=\"#DejaVuSans-103\"/>\n     <use x=\"838.228516\" xlink:href=\"#DejaVuSans-101\"/>\n    </g>\n   </g>\n   <g id=\"text_124\">\n    <!-- 0.4% -->\n    <g transform=\"translate(187.317267 68.60338)scale(0.1 -0.1)\">\n     <use xlink:href=\"#DejaVuSans-48\"/>\n     <use x=\"63.623047\" xlink:href=\"#DejaVuSans-46\"/>\n     <use x=\"95.410156\" xlink:href=\"#DejaVuSans-52\"/>\n     <use x=\"159.033203\" xlink:href=\"#DejaVuSans-37\"/>\n    </g>\n   </g>\n   <g id=\"text_125\">\n    <!-- flawless ash -->\n    <g transform=\"translate(216.237691 21.888948)scale(0.1 -0.1)\">\n     <use xlink:href=\"#DejaVuSans-102\"/>\n     <use x=\"35.205078\" xlink:href=\"#DejaVuSans-108\"/>\n     <use x=\"62.988281\" xlink:href=\"#DejaVuSans-97\"/>\n     <use x=\"124.267578\" xlink:href=\"#DejaVuSans-119\"/>\n     <use x=\"206.054688\" xlink:href=\"#DejaVuSans-108\"/>\n     <use x=\"233.837891\" xlink:href=\"#DejaVuSans-101\"/>\n     <use x=\"295.361328\" xlink:href=\"#DejaVuSans-115\"/>\n     <use x=\"347.460938\" xlink:href=\"#DejaVuSans-115\"/>\n     <use x=\"399.560547\" xlink:href=\"#DejaVuSans-32\"/>\n     <use x=\"431.347656\" xlink:href=\"#DejaVuSans-97\"/>\n     <use x=\"492.626953\" xlink:href=\"#DejaVuSans-115\"/>\n     <use x=\"544.726562\" xlink:href=\"#DejaVuSans-104\"/>\n    </g>\n   </g>\n   <g id=\"text_126\">\n    <!-- 0.4% -->\n    <g transform=\"translate(185.981565 68.077155)scale(0.1 -0.1)\">\n     <use xlink:href=\"#DejaVuSans-48\"/>\n     <use x=\"63.623047\" xlink:href=\"#DejaVuSans-46\"/>\n     <use x=\"95.410156\" xlink:href=\"#DejaVuSans-52\"/>\n     <use x=\"159.033203\" xlink:href=\"#DejaVuSans-37\"/>\n    </g>\n   </g>\n   <g id=\"text_127\">\n    <!-- amber -->\n    <g transform=\"translate(213.766265 20.983772)scale(0.1 -0.1)\">\n     <use xlink:href=\"#DejaVuSans-97\"/>\n     <use x=\"61.279297\" xlink:href=\"#DejaVuSans-109\"/>\n     <use x=\"158.691406\" xlink:href=\"#DejaVuSans-98\"/>\n     <use x=\"222.167969\" xlink:href=\"#DejaVuSans-101\"/>\n     <use x=\"283.691406\" xlink:href=\"#DejaVuSans-114\"/>\n    </g>\n   </g>\n   <g id=\"text_128\">\n    <!-- 0.4% -->\n    <g transform=\"translate(184.633514 67.583422)scale(0.1 -0.1)\">\n     <use xlink:href=\"#DejaVuSans-48\"/>\n     <use x=\"63.623047\" xlink:href=\"#DejaVuSans-46\"/>\n     <use x=\"95.410156\" xlink:href=\"#DejaVuSans-52\"/>\n     <use x=\"159.033203\" xlink:href=\"#DejaVuSans-37\"/>\n    </g>\n   </g>\n   <g id=\"text_129\">\n    <!-- dark beetroot -->\n    <g transform=\"translate(211.273649 20.138694)scale(0.1 -0.1)\">\n     <use xlink:href=\"#DejaVuSans-100\"/>\n     <use x=\"63.476562\" xlink:href=\"#DejaVuSans-97\"/>\n     <use x=\"124.755859\" xlink:href=\"#DejaVuSans-114\"/>\n     <use x=\"165.869141\" xlink:href=\"#DejaVuSans-107\"/>\n     <use x=\"223.779297\" xlink:href=\"#DejaVuSans-32\"/>\n     <use x=\"255.566406\" xlink:href=\"#DejaVuSans-98\"/>\n     <use x=\"319.042969\" xlink:href=\"#DejaVuSans-101\"/>\n     <use x=\"380.566406\" xlink:href=\"#DejaVuSans-101\"/>\n     <use x=\"442.089844\" xlink:href=\"#DejaVuSans-116\"/>\n     <use x=\"481.298828\" xlink:href=\"#DejaVuSans-114\"/>\n     <use x=\"520.162109\" xlink:href=\"#DejaVuSans-111\"/>\n     <use x=\"581.34375\" xlink:href=\"#DejaVuSans-111\"/>\n     <use x=\"642.525391\" xlink:href=\"#DejaVuSans-116\"/>\n    </g>\n   </g>\n   <g id=\"text_130\">\n    <!-- 0.4% -->\n    <g transform=\"translate(183.273906 67.122471)scale(0.1 -0.1)\">\n     <use xlink:href=\"#DejaVuSans-48\"/>\n     <use x=\"63.623047\" xlink:href=\"#DejaVuSans-46\"/>\n     <use x=\"95.410156\" xlink:href=\"#DejaVuSans-52\"/>\n     <use x=\"159.033203\" xlink:href=\"#DejaVuSans-37\"/>\n    </g>\n   </g>\n   <g id=\"text_131\">\n    <!-- dried ginger -->\n    <g transform=\"translate(208.761304 19.354212)scale(0.1 -0.1)\">\n     <use xlink:href=\"#DejaVuSans-100\"/>\n     <use x=\"63.476562\" xlink:href=\"#DejaVuSans-114\"/>\n     <use x=\"104.589844\" xlink:href=\"#DejaVuSans-105\"/>\n     <use x=\"132.373047\" xlink:href=\"#DejaVuSans-101\"/>\n     <use x=\"193.896484\" xlink:href=\"#DejaVuSans-100\"/>\n     <use x=\"257.373047\" xlink:href=\"#DejaVuSans-32\"/>\n     <use x=\"289.160156\" xlink:href=\"#DejaVuSans-103\"/>\n     <use x=\"352.636719\" xlink:href=\"#DejaVuSans-105\"/>\n     <use x=\"380.419922\" xlink:href=\"#DejaVuSans-110\"/>\n     <use x=\"443.798828\" xlink:href=\"#DejaVuSans-103\"/>\n     <use x=\"507.275391\" xlink:href=\"#DejaVuSans-101\"/>\n     <use x=\"568.798828\" xlink:href=\"#DejaVuSans-114\"/>\n    </g>\n   </g>\n   <g id=\"text_132\">\n    <!-- 0.4% -->\n    <g transform=\"translate(181.903536 66.694571)scale(0.1 -0.1)\">\n     <use xlink:href=\"#DejaVuSans-48\"/>\n     <use x=\"63.623047\" xlink:href=\"#DejaVuSans-46\"/>\n     <use x=\"95.410156\" xlink:href=\"#DejaVuSans-52\"/>\n     <use x=\"159.033203\" xlink:href=\"#DejaVuSans-37\"/>\n    </g>\n   </g>\n   <g id=\"text_133\">\n    <!-- vanilla cream -->\n    <g transform=\"translate(206.230703 18.630784)scale(0.1 -0.1)\">\n     <use xlink:href=\"#DejaVuSans-118\"/>\n     <use x=\"59.179688\" xlink:href=\"#DejaVuSans-97\"/>\n     <use x=\"120.458984\" xlink:href=\"#DejaVuSans-110\"/>\n     <use x=\"183.837891\" xlink:href=\"#DejaVuSans-105\"/>\n     <use x=\"211.621094\" xlink:href=\"#DejaVuSans-108\"/>\n     <use x=\"239.404297\" xlink:href=\"#DejaVuSans-108\"/>\n     <use x=\"267.1875\" xlink:href=\"#DejaVuSans-97\"/>\n     <use x=\"328.466797\" xlink:href=\"#DejaVuSans-32\"/>\n     <use x=\"360.253906\" xlink:href=\"#DejaVuSans-99\"/>\n     <use x=\"415.234375\" xlink:href=\"#DejaVuSans-114\"/>\n     <use x=\"454.097656\" xlink:href=\"#DejaVuSans-101\"/>\n     <use x=\"515.621094\" xlink:href=\"#DejaVuSans-97\"/>\n     <use x=\"576.900391\" xlink:href=\"#DejaVuSans-109\"/>\n    </g>\n   </g>\n   <g id=\"text_134\">\n    <!-- 0.4% -->\n    <g transform=\"translate(180.523208 66.299974)scale(0.1 -0.1)\">\n     <use xlink:href=\"#DejaVuSans-48\"/>\n     <use x=\"63.623047\" xlink:href=\"#DejaVuSans-46\"/>\n     <use x=\"95.410156\" xlink:href=\"#DejaVuSans-52\"/>\n     <use x=\"159.033203\" xlink:href=\"#DejaVuSans-37\"/>\n    </g>\n   </g>\n   <g id=\"text_135\">\n    <!-- deep navy -->\n    <g transform=\"translate(203.68333 17.968834)scale(0.1 -0.1)\">\n     <use xlink:href=\"#DejaVuSans-100\"/>\n     <use x=\"63.476562\" xlink:href=\"#DejaVuSans-101\"/>\n     <use x=\"125\" xlink:href=\"#DejaVuSans-101\"/>\n     <use x=\"186.523438\" xlink:href=\"#DejaVuSans-112\"/>\n     <use x=\"250\" xlink:href=\"#DejaVuSans-32\"/>\n     <use x=\"281.787109\" xlink:href=\"#DejaVuSans-110\"/>\n     <use x=\"345.166016\" xlink:href=\"#DejaVuSans-97\"/>\n     <use x=\"406.445312\" xlink:href=\"#DejaVuSans-118\"/>\n     <use x=\"465.625\" xlink:href=\"#DejaVuSans-121\"/>\n    </g>\n   </g>\n   <g id=\"text_136\">\n    <!-- 0.4% -->\n    <g transform=\"translate(179.133731 65.938911)scale(0.1 -0.1)\">\n     <use xlink:href=\"#DejaVuSans-48\"/>\n     <use x=\"63.623047\" xlink:href=\"#DejaVuSans-46\"/>\n     <use x=\"95.410156\" xlink:href=\"#DejaVuSans-52\"/>\n     <use x=\"159.033203\" xlink:href=\"#DejaVuSans-37\"/>\n    </g>\n   </g>\n   <g id=\"text_137\">\n    <!-- carbon -->\n    <g transform=\"translate(201.120677 17.368751)scale(0.1 -0.1)\">\n     <use xlink:href=\"#DejaVuSans-99\"/>\n     <use x=\"54.980469\" xlink:href=\"#DejaVuSans-97\"/>\n     <use x=\"116.259766\" xlink:href=\"#DejaVuSans-114\"/>\n     <use x=\"157.373047\" xlink:href=\"#DejaVuSans-98\"/>\n     <use x=\"220.849609\" xlink:href=\"#DejaVuSans-111\"/>\n     <use x=\"282.03125\" xlink:href=\"#DejaVuSans-110\"/>\n    </g>\n   </g>\n   <g id=\"text_138\">\n    <!-- 0.4% -->\n    <g transform=\"translate(177.735921 65.611593)scale(0.1 -0.1)\">\n     <use xlink:href=\"#DejaVuSans-48\"/>\n     <use x=\"63.623047\" xlink:href=\"#DejaVuSans-46\"/>\n     <use x=\"95.410156\" xlink:href=\"#DejaVuSans-52\"/>\n     <use x=\"159.033203\" xlink:href=\"#DejaVuSans-37\"/>\n    </g>\n   </g>\n   <g id=\"text_139\">\n    <!-- true blue wash -->\n    <g transform=\"translate(198.867002 16.894706)scale(0.1 -0.1)\">\n     <use xlink:href=\"#DejaVuSans-116\"/>\n     <use x=\"39.208984\" xlink:href=\"#DejaVuSans-114\"/>\n     <use x=\"80.322266\" xlink:href=\"#DejaVuSans-117\"/>\n     <use x=\"143.701172\" xlink:href=\"#DejaVuSans-101\"/>\n     <use x=\"205.224609\" xlink:href=\"#DejaVuSans-32\"/>\n     <use x=\"237.011719\" xlink:href=\"#DejaVuSans-98\"/>\n     <use x=\"300.488281\" xlink:href=\"#DejaVuSans-108\"/>\n     <use x=\"328.271484\" xlink:href=\"#DejaVuSans-117\"/>\n     <use x=\"391.650391\" xlink:href=\"#DejaVuSans-101\"/>\n     <use x=\"453.173828\" xlink:href=\"#DejaVuSans-32\"/>\n     <use x=\"484.960938\" xlink:href=\"#DejaVuSans-119\"/>\n     <use x=\"566.748047\" xlink:href=\"#DejaVuSans-97\"/>\n     <use x=\"628.027344\" xlink:href=\"#DejaVuSans-115\"/>\n     <use x=\"680.126953\" xlink:href=\"#DejaVuSans-104\"/>\n    </g>\n   </g>\n   <g id=\"text_140\">\n    <!-- 0.3% -->\n    <g transform=\"translate(176.506644 65.353023)scale(0.1 -0.1)\">\n     <use xlink:href=\"#DejaVuSans-48\"/>\n     <use x=\"63.623047\" xlink:href=\"#DejaVuSans-46\"/>\n     <use x=\"95.410156\" xlink:href=\"#DejaVuSans-51\"/>\n     <use x=\"159.033203\" xlink:href=\"#DejaVuSans-37\"/>\n    </g>\n   </g>\n   <g id=\"text_141\">\n    <!-- soft cream -->\n    <g transform=\"translate(196.927653 16.526459)scale(0.1 -0.1)\">\n     <use xlink:href=\"#DejaVuSans-115\"/>\n     <use x=\"52.099609\" xlink:href=\"#DejaVuSans-111\"/>\n     <use x=\"113.28125\" xlink:href=\"#DejaVuSans-102\"/>\n     <use x=\"146.736328\" xlink:href=\"#DejaVuSans-116\"/>\n     <use x=\"185.945312\" xlink:href=\"#DejaVuSans-32\"/>\n     <use x=\"217.732422\" xlink:href=\"#DejaVuSans-99\"/>\n     <use x=\"272.712891\" xlink:href=\"#DejaVuSans-114\"/>\n     <use x=\"311.576172\" xlink:href=\"#DejaVuSans-101\"/>\n     <use x=\"373.099609\" xlink:href=\"#DejaVuSans-97\"/>\n     <use x=\"434.378906\" xlink:href=\"#DejaVuSans-109\"/>\n    </g>\n   </g>\n   <g id=\"text_142\">\n    <!-- 0.3% -->\n    <g transform=\"translate(175.448817 65.152161)scale(0.1 -0.1)\">\n     <use xlink:href=\"#DejaVuSans-48\"/>\n     <use x=\"63.623047\" xlink:href=\"#DejaVuSans-46\"/>\n     <use x=\"95.410156\" xlink:href=\"#DejaVuSans-51\"/>\n     <use x=\"159.033203\" xlink:href=\"#DejaVuSans-37\"/>\n    </g>\n   </g>\n   <g id=\"text_143\">\n    <!-- light dusty grey -->\n    <g transform=\"translate(194.981936 16.193488)scale(0.1 -0.1)\">\n     <use xlink:href=\"#DejaVuSans-108\"/>\n     <use x=\"27.783203\" xlink:href=\"#DejaVuSans-105\"/>\n     <use x=\"55.566406\" xlink:href=\"#DejaVuSans-103\"/>\n     <use x=\"119.042969\" xlink:href=\"#DejaVuSans-104\"/>\n     <use x=\"182.421875\" xlink:href=\"#DejaVuSans-116\"/>\n     <use x=\"221.630859\" xlink:href=\"#DejaVuSans-32\"/>\n     <use x=\"253.417969\" xlink:href=\"#DejaVuSans-100\"/>\n     <use x=\"316.894531\" xlink:href=\"#DejaVuSans-117\"/>\n     <use x=\"380.273438\" xlink:href=\"#DejaVuSans-115\"/>\n     <use x=\"432.373047\" xlink:href=\"#DejaVuSans-116\"/>\n     <use x=\"471.582031\" xlink:href=\"#DejaVuSans-121\"/>\n     <use x=\"530.761719\" xlink:href=\"#DejaVuSans-32\"/>\n     <use x=\"562.548828\" xlink:href=\"#DejaVuSans-103\"/>\n     <use x=\"626.025391\" xlink:href=\"#DejaVuSans-114\"/>\n     <use x=\"664.888672\" xlink:href=\"#DejaVuSans-101\"/>\n     <use x=\"726.412109\" xlink:href=\"#DejaVuSans-121\"/>\n    </g>\n   </g>\n   <g id=\"text_144\">\n    <!-- 0.3% -->\n    <g transform=\"translate(174.387517 64.97054)scale(0.1 -0.1)\">\n     <use xlink:href=\"#DejaVuSans-48\"/>\n     <use x=\"63.623047\" xlink:href=\"#DejaVuSans-46\"/>\n     <use x=\"95.410156\" xlink:href=\"#DejaVuSans-51\"/>\n     <use x=\"159.033203\" xlink:href=\"#DejaVuSans-37\"/>\n    </g>\n   </g>\n   <g id=\"text_145\">\n    <!-- grace green -->\n    <g transform=\"translate(193.030494 15.895903)scale(0.1 -0.1)\">\n     <use xlink:href=\"#DejaVuSans-103\"/>\n     <use x=\"63.476562\" xlink:href=\"#DejaVuSans-114\"/>\n     <use x=\"104.589844\" xlink:href=\"#DejaVuSans-97\"/>\n     <use x=\"165.869141\" xlink:href=\"#DejaVuSans-99\"/>\n     <use x=\"220.849609\" xlink:href=\"#DejaVuSans-101\"/>\n     <use x=\"282.373047\" xlink:href=\"#DejaVuSans-32\"/>\n     <use x=\"314.160156\" xlink:href=\"#DejaVuSans-103\"/>\n     <use x=\"377.636719\" xlink:href=\"#DejaVuSans-114\"/>\n     <use x=\"416.5\" xlink:href=\"#DejaVuSans-101\"/>\n     <use x=\"478.023438\" xlink:href=\"#DejaVuSans-101\"/>\n     <use x=\"539.546875\" xlink:href=\"#DejaVuSans-110\"/>\n    </g>\n   </g>\n   <g id=\"text_146\">\n    <!-- 0.3% -->\n    <g transform=\"translate(173.323094 64.808221)scale(0.1 -0.1)\">\n     <use xlink:href=\"#DejaVuSans-48\"/>\n     <use x=\"63.623047\" xlink:href=\"#DejaVuSans-46\"/>\n     <use x=\"95.410156\" xlink:href=\"#DejaVuSans-51\"/>\n     <use x=\"159.033203\" xlink:href=\"#DejaVuSans-37\"/>\n    </g>\n   </g>\n   <g id=\"text_147\">\n    <!-- blue air -->\n    <g transform=\"translate(191.07397 15.633802)scale(0.1 -0.1)\">\n     <use xlink:href=\"#DejaVuSans-98\"/>\n     <use x=\"63.476562\" xlink:href=\"#DejaVuSans-108\"/>\n     <use x=\"91.259766\" xlink:href=\"#DejaVuSans-117\"/>\n     <use x=\"154.638672\" xlink:href=\"#DejaVuSans-101\"/>\n     <use x=\"216.162109\" xlink:href=\"#DejaVuSans-32\"/>\n     <use x=\"247.949219\" xlink:href=\"#DejaVuSans-97\"/>\n     <use x=\"309.228516\" xlink:href=\"#DejaVuSans-105\"/>\n     <use x=\"337.011719\" xlink:href=\"#DejaVuSans-114\"/>\n    </g>\n   </g>\n   <g id=\"text_148\">\n    <!-- 0.3% -->\n    <g transform=\"translate(172.255899 64.665257)scale(0.1 -0.1)\">\n     <use xlink:href=\"#DejaVuSans-48\"/>\n     <use x=\"63.623047\" xlink:href=\"#DejaVuSans-46\"/>\n     <use x=\"95.410156\" xlink:href=\"#DejaVuSans-51\"/>\n     <use x=\"159.033203\" xlink:href=\"#DejaVuSans-37\"/>\n    </g>\n   </g>\n   <g id=\"text_149\">\n    <!-- powder peach -->\n    <g transform=\"translate(189.113009 15.407272)scale(0.1 -0.1)\">\n     <use xlink:href=\"#DejaVuSans-112\"/>\n     <use x=\"63.476562\" xlink:href=\"#DejaVuSans-111\"/>\n     <use x=\"124.658203\" xlink:href=\"#DejaVuSans-119\"/>\n     <use x=\"206.445312\" xlink:href=\"#DejaVuSans-100\"/>\n     <use x=\"269.921875\" xlink:href=\"#DejaVuSans-101\"/>\n     <use x=\"331.445312\" xlink:href=\"#DejaVuSans-114\"/>\n     <use x=\"372.558594\" xlink:href=\"#DejaVuSans-32\"/>\n     <use x=\"404.345703\" xlink:href=\"#DejaVuSans-112\"/>\n     <use x=\"467.822266\" xlink:href=\"#DejaVuSans-101\"/>\n     <use x=\"529.345703\" xlink:href=\"#DejaVuSans-97\"/>\n     <use x=\"590.625\" xlink:href=\"#DejaVuSans-99\"/>\n     <use x=\"645.605469\" xlink:href=\"#DejaVuSans-104\"/>\n    </g>\n   </g>\n   <g id=\"text_150\">\n    <!-- 0.3% -->\n    <g transform=\"translate(171.186284 64.541695)scale(0.1 -0.1)\">\n     <use xlink:href=\"#DejaVuSans-48\"/>\n     <use x=\"63.623047\" xlink:href=\"#DejaVuSans-46\"/>\n     <use x=\"95.410156\" xlink:href=\"#DejaVuSans-51\"/>\n     <use x=\"159.033203\" xlink:href=\"#DejaVuSans-37\"/>\n    </g>\n   </g>\n   <g id=\"text_151\">\n    <!-- faded peach -->\n    <g transform=\"translate(187.148258 15.216387)scale(0.1 -0.1)\">\n     <use xlink:href=\"#DejaVuSans-102\"/>\n     <use x=\"35.205078\" xlink:href=\"#DejaVuSans-97\"/>\n     <use x=\"96.484375\" xlink:href=\"#DejaVuSans-100\"/>\n     <use x=\"159.960938\" xlink:href=\"#DejaVuSans-101\"/>\n     <use x=\"221.484375\" xlink:href=\"#DejaVuSans-100\"/>\n     <use x=\"284.960938\" xlink:href=\"#DejaVuSans-32\"/>\n     <use x=\"316.748047\" xlink:href=\"#DejaVuSans-112\"/>\n     <use x=\"380.224609\" xlink:href=\"#DejaVuSans-101\"/>\n     <use x=\"441.748047\" xlink:href=\"#DejaVuSans-97\"/>\n     <use x=\"503.027344\" xlink:href=\"#DejaVuSans-99\"/>\n     <use x=\"558.007812\" xlink:href=\"#DejaVuSans-104\"/>\n    </g>\n   </g>\n   <g id=\"text_152\">\n    <!-- 0.3% -->\n    <g transform=\"translate(170.114601 64.437576)scale(0.1 -0.1)\">\n     <use xlink:href=\"#DejaVuSans-48\"/>\n     <use x=\"63.623047\" xlink:href=\"#DejaVuSans-46\"/>\n     <use x=\"95.410156\" xlink:href=\"#DejaVuSans-51\"/>\n     <use x=\"159.033203\" xlink:href=\"#DejaVuSans-37\"/>\n    </g>\n   </g>\n   <g id=\"text_153\">\n    <!-- sensible grey -->\n    <g transform=\"translate(185.180364 15.061211)scale(0.1 -0.1)\">\n     <use xlink:href=\"#DejaVuSans-115\"/>\n     <use x=\"52.099609\" xlink:href=\"#DejaVuSans-101\"/>\n     <use x=\"113.623047\" xlink:href=\"#DejaVuSans-110\"/>\n     <use x=\"177.001953\" xlink:href=\"#DejaVuSans-115\"/>\n     <use x=\"229.101562\" xlink:href=\"#DejaVuSans-105\"/>\n     <use x=\"256.884766\" xlink:href=\"#DejaVuSans-98\"/>\n     <use x=\"320.361328\" xlink:href=\"#DejaVuSans-108\"/>\n     <use x=\"348.144531\" xlink:href=\"#DejaVuSans-101\"/>\n     <use x=\"409.667969\" xlink:href=\"#DejaVuSans-32\"/>\n     <use x=\"441.455078\" xlink:href=\"#DejaVuSans-103\"/>\n     <use x=\"504.931641\" xlink:href=\"#DejaVuSans-114\"/>\n     <use x=\"543.794922\" xlink:href=\"#DejaVuSans-101\"/>\n     <use x=\"605.318359\" xlink:href=\"#DejaVuSans-121\"/>\n    </g>\n   </g>\n   <g id=\"text_154\">\n    <!-- 0.3% -->\n    <g transform=\"translate(169.041205 64.352935)scale(0.1 -0.1)\">\n     <use xlink:href=\"#DejaVuSans-48\"/>\n     <use x=\"63.623047\" xlink:href=\"#DejaVuSans-46\"/>\n     <use x=\"95.410156\" xlink:href=\"#DejaVuSans-51\"/>\n     <use x=\"159.033203\" xlink:href=\"#DejaVuSans-37\"/>\n    </g>\n   </g>\n   <g id=\"text_155\">\n    <!-- aquatint -->\n    <defs>\n     <path d=\"M 14.796875 27.296875 \nQ 14.796875 17.390625 18.875 11.75 \nQ 22.953125 6.109375 30.078125 6.109375 \nQ 37.203125 6.109375 41.296875 11.75 \nQ 45.40625 17.390625 45.40625 27.296875 \nQ 45.40625 37.203125 41.296875 42.84375 \nQ 37.203125 48.484375 30.078125 48.484375 \nQ 22.953125 48.484375 18.875 42.84375 \nQ 14.796875 37.203125 14.796875 27.296875 \nz\nM 45.40625 8.203125 \nQ 42.578125 3.328125 38.25 0.953125 \nQ 33.9375 -1.421875 27.875 -1.421875 \nQ 17.96875 -1.421875 11.734375 6.484375 \nQ 5.515625 14.40625 5.515625 27.296875 \nQ 5.515625 40.1875 11.734375 48.09375 \nQ 17.96875 56 27.875 56 \nQ 33.9375 56 38.25 53.625 \nQ 42.578125 51.265625 45.40625 46.390625 \nL 45.40625 54.6875 \nL 54.390625 54.6875 \nL 54.390625 -20.796875 \nL 45.40625 -20.796875 \nz\n\" id=\"DejaVuSans-113\"/>\n    </defs>\n    <g transform=\"translate(183.209978 14.941795)scale(0.1 -0.1)\">\n     <use xlink:href=\"#DejaVuSans-97\"/>\n     <use x=\"61.279297\" xlink:href=\"#DejaVuSans-113\"/>\n     <use x=\"124.755859\" xlink:href=\"#DejaVuSans-117\"/>\n     <use x=\"188.134766\" xlink:href=\"#DejaVuSans-97\"/>\n     <use x=\"249.414062\" xlink:href=\"#DejaVuSans-116\"/>\n     <use x=\"288.623047\" xlink:href=\"#DejaVuSans-105\"/>\n     <use x=\"316.40625\" xlink:href=\"#DejaVuSans-110\"/>\n     <use x=\"379.785156\" xlink:href=\"#DejaVuSans-116\"/>\n    </g>\n   </g>\n   <g id=\"text_156\">\n    <!-- 0.3% -->\n    <g transform=\"translate(167.966449 64.287799)scale(0.1 -0.1)\">\n     <use xlink:href=\"#DejaVuSans-48\"/>\n     <use x=\"63.623047\" xlink:href=\"#DejaVuSans-46\"/>\n     <use x=\"95.410156\" xlink:href=\"#DejaVuSans-51\"/>\n     <use x=\"159.033203\" xlink:href=\"#DejaVuSans-37\"/>\n    </g>\n   </g>\n   <g id=\"text_157\">\n    <!-- tender blue -->\n    <g transform=\"translate(181.566553 14.869626)scale(0.1 -0.1)\">\n     <use xlink:href=\"#DejaVuSans-116\"/>\n     <use x=\"39.208984\" xlink:href=\"#DejaVuSans-101\"/>\n     <use x=\"100.732422\" xlink:href=\"#DejaVuSans-110\"/>\n     <use x=\"164.111328\" xlink:href=\"#DejaVuSans-100\"/>\n     <use x=\"227.587891\" xlink:href=\"#DejaVuSans-101\"/>\n     <use x=\"289.111328\" xlink:href=\"#DejaVuSans-114\"/>\n     <use x=\"330.224609\" xlink:href=\"#DejaVuSans-32\"/>\n     <use x=\"362.011719\" xlink:href=\"#DejaVuSans-98\"/>\n     <use x=\"425.488281\" xlink:href=\"#DejaVuSans-108\"/>\n     <use x=\"453.271484\" xlink:href=\"#DejaVuSans-117\"/>\n     <use x=\"516.650391\" xlink:href=\"#DejaVuSans-101\"/>\n    </g>\n   </g>\n   <g id=\"text_158\">\n    <!-- 0.2% -->\n    <g transform=\"translate(167.070035 64.248434)scale(0.1 -0.1)\">\n     <use xlink:href=\"#DejaVuSans-48\"/>\n     <use x=\"63.623047\" xlink:href=\"#DejaVuSans-46\"/>\n     <use x=\"95.410156\" xlink:href=\"#DejaVuSans-50\"/>\n     <use x=\"159.033203\" xlink:href=\"#DejaVuSans-37\"/>\n    </g>\n   </g>\n   <g id=\"text_159\">\n    <!-- blue illusion -->\n    <g transform=\"translate(180.58004 14.838265)scale(0.1 -0.1)\">\n     <use xlink:href=\"#DejaVuSans-98\"/>\n     <use x=\"63.476562\" xlink:href=\"#DejaVuSans-108\"/>\n     <use x=\"91.259766\" xlink:href=\"#DejaVuSans-117\"/>\n     <use x=\"154.638672\" xlink:href=\"#DejaVuSans-101\"/>\n     <use x=\"216.162109\" xlink:href=\"#DejaVuSans-32\"/>\n     <use x=\"247.949219\" xlink:href=\"#DejaVuSans-105\"/>\n     <use x=\"275.732422\" xlink:href=\"#DejaVuSans-108\"/>\n     <use x=\"303.515625\" xlink:href=\"#DejaVuSans-108\"/>\n     <use x=\"331.298828\" xlink:href=\"#DejaVuSans-117\"/>\n     <use x=\"394.677734\" xlink:href=\"#DejaVuSans-115\"/>\n     <use x=\"446.777344\" xlink:href=\"#DejaVuSans-105\"/>\n     <use x=\"474.560547\" xlink:href=\"#DejaVuSans-111\"/>\n     <use x=\"535.742188\" xlink:href=\"#DejaVuSans-110\"/>\n    </g>\n   </g>\n   <g id=\"text_160\">\n    <!-- 0.1% -->\n    <g transform=\"translate(166.531937 64.231328)scale(0.1 -0.1)\">\n     <use xlink:href=\"#DejaVuSans-48\"/>\n     <use x=\"63.623047\" xlink:href=\"#DejaVuSans-46\"/>\n     <use x=\"95.410156\" xlink:href=\"#DejaVuSans-49\"/>\n     <use x=\"159.033203\" xlink:href=\"#DejaVuSans-37\"/>\n    </g>\n   </g>\n   <g id=\"text_161\">\n    <!-- mango -->\n    <g transform=\"translate(179.922224 14.822335)scale(0.1 -0.1)\">\n     <use xlink:href=\"#DejaVuSans-109\"/>\n     <use x=\"97.412109\" xlink:href=\"#DejaVuSans-97\"/>\n     <use x=\"158.691406\" xlink:href=\"#DejaVuSans-110\"/>\n     <use x=\"222.070312\" xlink:href=\"#DejaVuSans-103\"/>\n     <use x=\"285.546875\" xlink:href=\"#DejaVuSans-111\"/>\n    </g>\n   </g>\n   <g id=\"text_162\">\n    <!-- 0.1% -->\n    <g transform=\"translate(166.173129 64.222639)scale(0.1 -0.1)\">\n     <use xlink:href=\"#DejaVuSans-48\"/>\n     <use x=\"63.623047\" xlink:href=\"#DejaVuSans-46\"/>\n     <use x=\"95.410156\" xlink:href=\"#DejaVuSans-49\"/>\n     <use x=\"159.033203\" xlink:href=\"#DejaVuSans-37\"/>\n    </g>\n   </g>\n   <g id=\"text_163\">\n    <!-- soft grey -->\n    <g transform=\"translate(179.264324 14.810386)scale(0.1 -0.1)\">\n     <use xlink:href=\"#DejaVuSans-115\"/>\n     <use x=\"52.099609\" xlink:href=\"#DejaVuSans-111\"/>\n     <use x=\"113.28125\" xlink:href=\"#DejaVuSans-102\"/>\n     <use x=\"146.736328\" xlink:href=\"#DejaVuSans-116\"/>\n     <use x=\"185.945312\" xlink:href=\"#DejaVuSans-32\"/>\n     <use x=\"217.732422\" xlink:href=\"#DejaVuSans-103\"/>\n     <use x=\"281.208984\" xlink:href=\"#DejaVuSans-114\"/>\n     <use x=\"320.072266\" xlink:href=\"#DejaVuSans-101\"/>\n     <use x=\"381.595703\" xlink:href=\"#DejaVuSans-121\"/>\n    </g>\n   </g>\n   <g id=\"text_164\">\n    <!-- 0.1% -->\n    <g transform=\"translate(165.814274 64.216121)scale(0.1 -0.1)\">\n     <use xlink:href=\"#DejaVuSans-48\"/>\n     <use x=\"63.623047\" xlink:href=\"#DejaVuSans-46\"/>\n     <use x=\"95.410156\" xlink:href=\"#DejaVuSans-49\"/>\n     <use x=\"159.033203\" xlink:href=\"#DejaVuSans-37\"/>\n    </g>\n   </g>\n   <g id=\"text_165\">\n    <!-- silky caramel -->\n    <g transform=\"translate(178.606364 14.80242)scale(0.1 -0.1)\">\n     <use xlink:href=\"#DejaVuSans-115\"/>\n     <use x=\"52.099609\" xlink:href=\"#DejaVuSans-105\"/>\n     <use x=\"79.882812\" xlink:href=\"#DejaVuSans-108\"/>\n     <use x=\"107.666016\" xlink:href=\"#DejaVuSans-107\"/>\n     <use x=\"161.951172\" xlink:href=\"#DejaVuSans-121\"/>\n     <use x=\"221.130859\" xlink:href=\"#DejaVuSans-32\"/>\n     <use x=\"252.917969\" xlink:href=\"#DejaVuSans-99\"/>\n     <use x=\"307.898438\" xlink:href=\"#DejaVuSans-97\"/>\n     <use x=\"369.177734\" xlink:href=\"#DejaVuSans-114\"/>\n     <use x=\"410.291016\" xlink:href=\"#DejaVuSans-97\"/>\n     <use x=\"471.570312\" xlink:href=\"#DejaVuSans-109\"/>\n     <use x=\"568.982422\" xlink:href=\"#DejaVuSans-101\"/>\n     <use x=\"630.505859\" xlink:href=\"#DejaVuSans-108\"/>\n    </g>\n   </g>\n   <g id=\"text_166\">\n    <!-- 0.1% -->\n    <g transform=\"translate(165.455386 64.211776)scale(0.1 -0.1)\">\n     <use xlink:href=\"#DejaVuSans-48\"/>\n     <use x=\"63.623047\" xlink:href=\"#DejaVuSans-46\"/>\n     <use x=\"95.410156\" xlink:href=\"#DejaVuSans-49\"/>\n     <use x=\"159.033203\" xlink:href=\"#DejaVuSans-37\"/>\n    </g>\n   </g>\n   <g id=\"text_167\">\n    <!-- smooth berry -->\n    <g transform=\"translate(177.948367 14.798438)scale(0.1 -0.1)\">\n     <use xlink:href=\"#DejaVuSans-115\"/>\n     <use x=\"52.099609\" xlink:href=\"#DejaVuSans-109\"/>\n     <use x=\"149.511719\" xlink:href=\"#DejaVuSans-111\"/>\n     <use x=\"210.693359\" xlink:href=\"#DejaVuSans-111\"/>\n     <use x=\"271.875\" xlink:href=\"#DejaVuSans-116\"/>\n     <use x=\"311.083984\" xlink:href=\"#DejaVuSans-104\"/>\n     <use x=\"374.462891\" xlink:href=\"#DejaVuSans-32\"/>\n     <use x=\"406.25\" xlink:href=\"#DejaVuSans-98\"/>\n     <use x=\"469.726562\" xlink:href=\"#DejaVuSans-101\"/>\n     <use x=\"531.25\" xlink:href=\"#DejaVuSans-114\"/>\n     <use x=\"570.613281\" xlink:href=\"#DejaVuSans-114\"/>\n     <use x=\"611.726562\" xlink:href=\"#DejaVuSans-121\"/>\n    </g>\n   </g>\n   <g id=\"text_168\">\n    <!-- 0.1% -->\n    <g transform=\"translate(165.096479 64.209604)scale(0.1 -0.1)\">\n     <use xlink:href=\"#DejaVuSans-48\"/>\n     <use x=\"63.623047\" xlink:href=\"#DejaVuSans-46\"/>\n     <use x=\"95.410156\" xlink:href=\"#DejaVuSans-49\"/>\n     <use x=\"159.033203\" xlink:href=\"#DejaVuSans-37\"/>\n    </g>\n   </g>\n  </g>\n </g>\n</svg>\n"
     },
     "metadata": {}
    },
    {
     "output_type": "display_data",
     "data": {
      "image/png": "[encoded data removed]",
      "text/plain": "<Figure size 432x288 with 1 Axes>",
      "image/svg+xml": "<?xml version=\"1.0\" encoding=\"utf-8\" standalone=\"no\"?>\n<!DOCTYPE svg PUBLIC \"-//W3C//DTD SVG 1.1//EN\"\n  \"http://www.w3.org/Graphics/SVG/1.1/DTD/svg11.dtd\">\n<!-- Created with matplotlib (https://matplotlib.org/) -->\n<svg height=\"241.144343pt\" version=\"1.1\" viewBox=\"0 0 400.948374 241.144343\" width=\"400.948374pt\" xmlns=\"http://www.w3.org/2000/svg\" xmlns:xlink=\"http://www.w3.org/1999/xlink\">\n <defs>\n  <style type=\"text/css\">\n*{stroke-linecap:butt;stroke-linejoin:round;}\n  </style>\n </defs>\n <g id=\"figure_1\">\n  <g id=\"patch_1\">\n   <path d=\"M 0 241.144343 \nL 400.948374 241.144343 \nL 400.948374 0 \nL 0 0 \nz\n\" style=\"fill:none;\"/>\n  </g>\n  <g id=\"axes_1\">\n   <g id=\"patch_2\">\n    <path d=\"M 200.014492 23.884671 \nC 182.180586 23.884671 164.675592 28.717371 149.367679 37.867016 \nC 134.059766 47.016661 121.513584 60.145756 113.068087 75.853136 \nL 200.014492 122.602216 \nL 200.014492 23.884671 \nz\n\" style=\"fill:#092436;opacity:0.5;stroke:#092436;stroke-linejoin:miter;\"/>\n   </g>\n   <g id=\"patch_3\">\n    <path d=\"M 113.068087 75.853136 \nC 107.440529 86.319565 103.748827 97.716658 102.17099 109.494857 \nC 100.593153 121.273057 101.154957 133.23996 103.829311 144.818534 \nL 200.014492 122.602216 \nL 113.068087 75.853136 \nz\n\" style=\"fill:#4c2604;opacity:0.5;stroke:#4c2604;stroke-linejoin:miter;\"/>\n   </g>\n   <g id=\"patch_4\">\n    <path d=\"M 103.829311 144.818534 \nC 106.074897 154.540762 109.781617 163.866565 114.82293 172.477577 \nC 119.864243 181.088588 126.182121 188.885691 133.56088 195.602704 \nL 200.014492 122.602216 \nL 103.829311 144.818534 \nz\n\" style=\"fill:#0d300d;opacity:0.5;stroke:#0d300d;stroke-linejoin:miter;\"/>\n   </g>\n   <g id=\"patch_5\">\n    <path d=\"M 133.56088 195.602704 \nC 140.347361 201.780555 147.962294 206.98198 156.185438 211.056542 \nC 164.408582 215.131104 173.159889 218.039139 182.186249 219.696539 \nL 200.014492 122.602216 \nL 133.56088 195.602704 \nz\n\" style=\"fill:#400c0c;opacity:0.5;stroke:#400c0c;stroke-linejoin:miter;\"/>\n   </g>\n   <g id=\"patch_6\">\n    <path d=\"M 182.186249 219.696539 \nC 189.540726 221.046952 197.024881 221.557398 204.494606 221.218049 \nC 211.964331 220.878699 219.371373 219.691747 226.573109 217.680046 \nL 200.014492 122.602216 \nL 182.186249 219.696539 \nz\n\" style=\"fill:#2c1f39;opacity:0.5;stroke:#2c1f39;stroke-linejoin:miter;\"/>\n   </g>\n   <g id=\"patch_7\">\n    <path d=\"M 226.573109 217.680046 \nC 232.909107 215.910176 239.052351 213.511384 244.911166 210.519464 \nC 250.769982 207.527544 256.31508 203.957455 261.463713 199.862472 \nL 200.014492 122.602216 \nL 226.573109 217.680046 \nz\n\" style=\"fill:#2a1a16;opacity:0.5;stroke:#2a1a16;stroke-linejoin:miter;\"/>\n   </g>\n   <g id=\"patch_8\">\n    <path d=\"M 261.463713 199.862472 \nC 266.299835 196.016044 270.764142 191.724022 274.797823 187.042942 \nC 278.831505 182.361863 282.416772 177.312373 285.506395 171.960988 \nL 200.014492 122.602216 \nL 261.463713 199.862472 \nz\n\" style=\"fill:#44243a;opacity:0.5;stroke:#44243a;stroke-linejoin:miter;\"/>\n   </g>\n   <g id=\"patch_9\">\n    <path d=\"M 285.506395 171.960988 \nC 288.047257 167.560085 290.24451 162.969549 292.078554 158.230328 \nC 293.912598 153.491107 295.377962 148.617335 296.461576 143.652487 \nL 200.014492 122.602216 \nL 285.506395 171.960988 \nz\n\" style=\"fill:#262626;opacity:0.5;stroke:#262626;stroke-linejoin:miter;\"/>\n   </g>\n   <g id=\"patch_10\">\n    <path d=\"M 296.461576 143.652487 \nC 297.332563 139.661838 297.955033 135.620976 298.325395 131.553209 \nC 298.695756 127.485442 298.813295 123.398607 298.677334 119.316278 \nL 200.014492 122.602216 \nL 296.461576 143.652487 \nz\n\" style=\"fill:#38390a;opacity:0.5;stroke:#38390a;stroke-linejoin:miter;\"/>\n   </g>\n   <g id=\"patch_11\">\n    <path d=\"M 298.677334 119.316278 \nC 298.56128 115.831666 298.260701 112.355648 297.776862 108.902839 \nC 297.293022 105.45003 296.6266 102.025277 295.780399 98.64298 \nL 200.014492 122.602216 \nL 298.677334 119.316278 \nz\n\" style=\"fill:#07393e;opacity:0.5;stroke:#07393e;stroke-linejoin:miter;\"/>\n   </g>\n   <g id=\"patch_12\">\n    <path d=\"M 295.780399 98.64298 \nC 295.103494 95.937371 294.312234 93.261662 293.408749 90.623056 \nC 292.505263 87.984451 291.490363 85.385319 290.36678 82.832657 \nL 200.014492 122.602216 \nL 295.780399 98.64298 \nz\n\" style=\"fill:#092436;opacity:0.5;stroke:#092436;stroke-linejoin:miter;\"/>\n   </g>\n   <g id=\"patch_13\">\n    <path d=\"M 290.36678 82.832657 \nC 289.323475 80.462376 288.187301 78.134067 286.960897 75.853136 \nC 285.734492 73.572204 284.418807 71.340415 283.016893 69.16295 \nL 200.014492 122.602216 \nL 290.36678 82.832657 \nz\n\" style=\"fill:#4c2604;opacity:0.5;stroke:#4c2604;stroke-linejoin:miter;\"/>\n   </g>\n   <g id=\"patch_14\">\n    <path d=\"M 283.016893 69.16295 \nC 281.776774 67.236784 280.469982 65.35437 279.098892 63.519126 \nC 277.727801 61.683882 276.293242 59.896921 274.797822 58.161488 \nL 200.014492 122.602216 \nL 283.016893 69.16295 \nz\n\" style=\"fill:#0d300d;opacity:0.5;stroke:#0d300d;stroke-linejoin:miter;\"/>\n   </g>\n   <g id=\"patch_15\">\n    <path d=\"M 274.797822 58.161488 \nC 273.367432 56.501524 271.882169 54.889644 270.344501 53.32853 \nC 268.806834 51.767416 267.217615 50.257931 265.579486 48.802586 \nL 200.014492 122.602216 \nL 274.797822 58.161488 \nz\n\" style=\"fill:#400c0c;opacity:0.5;stroke:#400c0c;stroke-linejoin:miter;\"/>\n   </g>\n   <g id=\"patch_16\">\n    <path d=\"M 265.579486 48.802586 \nC 264.015829 47.413404 262.408417 46.074269 260.759684 44.787208 \nC 259.11095 43.500147 257.421728 42.265812 255.694575 41.08607 \nL 200.014492 122.602216 \nL 265.579486 48.802586 \nz\n\" style=\"fill:#2c1f39;opacity:0.5;stroke:#2c1f39;stroke-linejoin:miter;\"/>\n   </g>\n   <g id=\"patch_17\">\n    <path d=\"M 255.694575 41.08607 \nC 254.214192 40.074885 252.706537 39.104215 251.17329 38.17514 \nC 249.640042 37.246064 248.081769 36.358928 246.500207 35.514719 \nL 200.014492 122.602216 \nL 255.694575 41.08607 \nz\n\" style=\"fill:#2a1a16;opacity:0.5;stroke:#2a1a16;stroke-linejoin:miter;\"/>\n   </g>\n   <g id=\"patch_18\">\n    <path d=\"M 246.500207 35.514719 \nC 245.094391 34.764321 243.670612 34.048072 242.230121 33.366604 \nC 240.789629 32.685135 239.332848 32.038647 237.861058 31.427706 \nL 200.014492 122.602216 \nL 246.500207 35.514719 \nz\n\" style=\"fill:#44243a;opacity:0.5;stroke:#44243a;stroke-linejoin:miter;\"/>\n   </g>\n   <g id=\"patch_19\">\n    <path d=\"M 237.861058 31.427706 \nC 236.481263 30.854953 235.088644 30.313595 233.684277 29.804051 \nC 232.27991 29.294508 230.864157 28.816909 229.438113 28.371625 \nL 200.014492 122.602216 \nL 237.861058 31.427706 \nz\n\" style=\"fill:#262626;opacity:0.5;stroke:#262626;stroke-linejoin:miter;\"/>\n   </g>\n   <g id=\"patch_20\">\n    <path d=\"M 229.438113 28.371625 \nC 228.012068 27.926341 226.5761 27.513486 225.131316 27.133379 \nC 223.686532 26.753272 222.233306 26.406011 220.772761 26.091864 \nL 200.014492 122.602216 \nL 229.438113 28.371625 \nz\n\" style=\"fill:#38390a;opacity:0.5;stroke:#38390a;stroke-linejoin:miter;\"/>\n   </g>\n   <g id=\"patch_21\">\n    <path d=\"M 220.772761 26.091864 \nC 219.506968 25.819607 218.235942 25.572278 216.96042 25.350022 \nC 215.684898 25.127765 214.405126 24.930625 213.121849 24.758714 \nL 200.014492 122.602216 \nL 220.772761 26.091864 \nz\n\" style=\"fill:#07393e;opacity:0.5;stroke:#07393e;stroke-linejoin:miter;\"/>\n   </g>\n   <g id=\"patch_22\">\n    <path d=\"M 213.121849 24.758714 \nC 212.036008 24.613252 210.947822 24.485875 209.857741 24.376638 \nC 208.767661 24.2674 207.675837 24.176316 206.582725 24.103424 \nL 200.014492 122.602216 \nL 213.121849 24.758714 \nz\n\" style=\"fill:#092436;opacity:0.5;stroke:#092436;stroke-linejoin:miter;\"/>\n   </g>\n   <g id=\"patch_23\">\n    <path d=\"M 206.582725 24.103424 \nC 206.085864 24.070291 205.588761 24.040919 205.091456 24.015309 \nC 204.594151 23.989699 204.09666 23.967853 203.599024 23.949771 \nL 200.014492 122.602216 \nL 206.582725 24.103424 \nz\n\" style=\"fill:#4c2604;opacity:0.5;stroke:#4c2604;stroke-linejoin:miter;\"/>\n   </g>\n   <g id=\"patch_24\">\n    <path d=\"M 203.599024 23.949771 \nC 203.300444 23.938922 203.001816 23.929429 202.70315 23.921291 \nC 202.404483 23.913154 202.105781 23.906372 201.807053 23.900947 \nL 200.014492 122.602216 \nL 203.599024 23.949771 \nz\n\" style=\"fill:#0d300d;opacity:0.5;stroke:#0d300d;stroke-linejoin:miter;\"/>\n   </g>\n   <g id=\"patch_25\">\n    <path d=\"M 201.807053 23.900947 \nC 201.607901 23.89733 201.408739 23.894316 201.209569 23.891905 \nC 201.010399 23.889493 200.811222 23.887685 200.612041 23.886479 \nL 200.014492 122.602216 \nL 201.807053 23.900947 \nz\n\" style=\"fill:#400c0c;opacity:0.5;stroke:#400c0c;stroke-linejoin:miter;\"/>\n   </g>\n   <g id=\"patch_26\">\n    <path d=\"M 200.612041 23.886479 \nC 200.51245 23.885876 200.412859 23.885424 200.313267 23.885123 \nC 200.213675 23.884821 200.114083 23.884671 200.014491 23.884671 \nL 200.014492 122.602216 \nL 200.612041 23.886479 \nz\n\" style=\"fill:#2c1f39;opacity:0.5;stroke:#2c1f39;stroke-linejoin:miter;\"/>\n   </g>\n   <g id=\"patch_27\">\n    <path d=\"M 201.988843 21.91032 \nC 184.154937 21.91032 166.649943 26.74302 151.34203 35.892665 \nC 136.034117 45.04231 123.487935 58.171405 115.042438 73.878785 \nL 201.988843 120.627865 \nL 201.988843 21.91032 \nz\n\" style=\"fill:#1f77b4;\"/>\n   </g>\n   <g id=\"patch_28\">\n    <path d=\"M 115.042438 73.878785 \nC 109.41488 84.345214 105.723178 95.742307 104.145341 107.520507 \nC 102.567504 119.298706 103.129307 131.265609 105.803662 142.844184 \nL 201.988843 120.627865 \nL 115.042438 73.878785 \nz\n\" style=\"fill:#ff7f0e;\"/>\n   </g>\n   <g id=\"patch_29\">\n    <path d=\"M 105.803662 142.844184 \nC 108.049248 152.566411 111.755968 161.892214 116.797281 170.503226 \nC 121.838594 179.114238 128.156471 186.91134 135.535231 193.628353 \nL 201.988843 120.627865 \nL 105.803662 142.844184 \nz\n\" style=\"fill:#2ca02c;\"/>\n   </g>\n   <g id=\"patch_30\">\n    <path d=\"M 135.535231 193.628353 \nC 142.321711 199.806204 149.936645 205.007629 158.159789 209.082191 \nC 166.382933 213.156754 175.13424 216.064788 184.1606 217.722188 \nL 201.988843 120.627865 \nL 135.535231 193.628353 \nz\n\" style=\"fill:#d62728;\"/>\n   </g>\n   <g id=\"patch_31\">\n    <path d=\"M 184.1606 217.722188 \nC 191.515077 219.072601 198.999232 219.583047 206.468957 219.243698 \nC 213.938682 218.904348 221.345724 217.717396 228.54746 215.705695 \nL 201.988843 120.627865 \nL 184.1606 217.722188 \nz\n\" style=\"fill:#9467bd;\"/>\n   </g>\n   <g id=\"patch_32\">\n    <path d=\"M 228.54746 215.705695 \nC 234.883458 213.935826 241.026702 211.537033 246.885517 208.545113 \nC 252.744333 205.553194 258.289431 201.983104 263.438064 197.888121 \nL 201.988843 120.627865 \nL 228.54746 215.705695 \nz\n\" style=\"fill:#8c564b;\"/>\n   </g>\n   <g id=\"patch_33\">\n    <path d=\"M 263.438064 197.888121 \nC 268.274186 194.041693 272.738493 189.749671 276.772174 185.068591 \nC 280.805856 180.387512 284.391122 175.338022 287.480746 169.986637 \nL 201.988843 120.627865 \nL 263.438064 197.888121 \nz\n\" style=\"fill:#e377c2;\"/>\n   </g>\n   <g id=\"patch_34\">\n    <path d=\"M 287.480746 169.986637 \nC 290.021608 165.585734 292.218861 160.995198 294.052905 156.255977 \nC 295.886948 151.516756 297.352313 146.642984 298.435927 141.678136 \nL 201.988843 120.627865 \nL 287.480746 169.986637 \nz\n\" style=\"fill:#7f7f7f;\"/>\n   </g>\n   <g id=\"patch_35\">\n    <path d=\"M 298.435927 141.678136 \nC 299.306914 137.687487 299.929384 133.646625 300.299745 129.578858 \nC 300.670107 125.511091 300.787646 121.424256 300.651685 117.341927 \nL 201.988843 120.627865 \nL 298.435927 141.678136 \nz\n\" style=\"fill:#bcbd22;\"/>\n   </g>\n   <g id=\"patch_36\">\n    <path d=\"M 300.651685 117.341927 \nC 300.535631 113.857315 300.235052 110.381297 299.751212 106.928488 \nC 299.267373 103.475679 298.600951 100.050926 297.754749 96.66863 \nL 201.988843 120.627865 \nL 300.651685 117.341927 \nz\n\" style=\"fill:#17becf;\"/>\n   </g>\n   <g id=\"patch_37\">\n    <path d=\"M 297.754749 96.66863 \nC 297.077845 93.96302 296.286585 91.287311 295.3831 88.648706 \nC 294.479614 86.0101 293.464714 83.410968 292.341131 80.858306 \nL 201.988843 120.627865 \nL 297.754749 96.66863 \nz\n\" style=\"fill:#1f77b4;\"/>\n   </g>\n   <g id=\"patch_38\">\n    <path d=\"M 292.341131 80.858306 \nC 291.297826 78.488025 290.161652 76.159716 288.935248 73.878785 \nC 287.708843 71.597853 286.393157 69.366064 284.991244 67.188599 \nL 201.988843 120.627865 \nL 292.341131 80.858306 \nz\n\" style=\"fill:#ff7f0e;\"/>\n   </g>\n   <g id=\"patch_39\">\n    <path d=\"M 284.991244 67.188599 \nC 283.751125 65.262433 282.444333 63.380019 281.073243 61.544775 \nC 279.702152 59.709531 278.267593 57.92257 276.772173 56.187137 \nL 201.988843 120.627865 \nL 284.991244 67.188599 \nz\n\" style=\"fill:#2ca02c;\"/>\n   </g>\n   <g id=\"patch_40\">\n    <path d=\"M 276.772173 56.187137 \nC 275.341783 54.527173 273.85652 52.915294 272.318852 51.354179 \nC 270.781185 49.793065 269.191966 48.28358 267.553837 46.828235 \nL 201.988843 120.627865 \nL 276.772173 56.187137 \nz\n\" style=\"fill:#d62728;\"/>\n   </g>\n   <g id=\"patch_41\">\n    <path d=\"M 267.553837 46.828235 \nC 265.99018 45.439053 264.382768 44.099918 262.734035 42.812857 \nC 261.085301 41.525797 259.396079 40.291461 257.668926 39.111719 \nL 201.988843 120.627865 \nL 267.553837 46.828235 \nz\n\" style=\"fill:#9467bd;\"/>\n   </g>\n   <g id=\"patch_42\">\n    <path d=\"M 257.668926 39.111719 \nC 256.188543 38.100534 254.680888 37.129864 253.14764 36.200789 \nC 251.614393 35.271713 250.05612 34.384578 248.474558 33.540368 \nL 201.988843 120.627865 \nL 257.668926 39.111719 \nz\n\" style=\"fill:#8c564b;\"/>\n   </g>\n   <g id=\"patch_43\">\n    <path d=\"M 248.474558 33.540368 \nC 247.068742 32.78997 245.644963 32.073721 244.204472 31.392253 \nC 242.76398 30.710785 241.307199 30.064296 239.835409 29.453355 \nL 201.988843 120.627865 \nL 248.474558 33.540368 \nz\n\" style=\"fill:#e377c2;\"/>\n   </g>\n   <g id=\"patch_44\">\n    <path d=\"M 239.835409 29.453355 \nC 238.455614 28.880602 237.062995 28.339244 235.658628 27.8297 \nC 234.254261 27.320157 232.838508 26.842558 231.412464 26.397274 \nL 201.988843 120.627865 \nL 239.835409 29.453355 \nz\n\" style=\"fill:#7f7f7f;\"/>\n   </g>\n   <g id=\"patch_45\">\n    <path d=\"M 231.412464 26.397274 \nC 229.986419 25.95199 228.55045 25.539135 227.105667 25.159028 \nC 225.660883 24.778921 224.207657 24.43166 222.747112 24.117513 \nL 201.988843 120.627865 \nL 231.412464 26.397274 \nz\n\" style=\"fill:#bcbd22;\"/>\n   </g>\n   <g id=\"patch_46\">\n    <path d=\"M 222.747112 24.117513 \nC 221.481319 23.845256 220.210293 23.597927 218.934771 23.375671 \nC 217.659248 23.153415 216.379477 22.956274 215.096199 22.784363 \nL 201.988843 120.627865 \nL 222.747112 24.117513 \nz\n\" style=\"fill:#17becf;\"/>\n   </g>\n   <g id=\"patch_47\">\n    <path d=\"M 215.096199 22.784363 \nC 214.010359 22.638901 212.922173 22.511525 211.832092 22.402287 \nC 210.742012 22.293049 209.650188 22.201965 208.557076 22.129073 \nL 201.988843 120.627865 \nL 215.096199 22.784363 \nz\n\" style=\"fill:#1f77b4;\"/>\n   </g>\n   <g id=\"patch_48\">\n    <path d=\"M 208.557076 22.129073 \nC 208.060215 22.09594 207.563111 22.066568 207.065807 22.040958 \nC 206.568502 22.015348 206.071011 21.993502 205.573375 21.97542 \nL 201.988843 120.627865 \nL 208.557076 22.129073 \nz\n\" style=\"fill:#ff7f0e;\"/>\n   </g>\n   <g id=\"patch_49\">\n    <path d=\"M 205.573375 21.97542 \nC 205.274795 21.964571 204.976167 21.955078 204.6775 21.94694 \nC 204.378834 21.938803 204.080132 21.932021 203.781404 21.926596 \nL 201.988843 120.627865 \nL 205.573375 21.97542 \nz\n\" style=\"fill:#2ca02c;\"/>\n   </g>\n   <g id=\"patch_50\">\n    <path d=\"M 203.781404 21.926596 \nC 203.582252 21.922979 203.38309 21.919965 203.18392 21.917554 \nC 202.98475 21.915142 202.785573 21.913334 202.586392 21.912128 \nL 201.988843 120.627865 \nL 203.781404 21.926596 \nz\n\" style=\"fill:#d62728;\"/>\n   </g>\n   <g id=\"patch_51\">\n    <path d=\"M 202.586392 21.912128 \nC 202.486801 21.911525 202.38721 21.911073 202.287618 21.910772 \nC 202.188026 21.91047 202.088434 21.91032 201.988842 21.91032 \nL 201.988843 120.627865 \nL 202.586392 21.912128 \nz\n\" style=\"fill:#9467bd;\"/>\n   </g>\n   <g id=\"matplotlib.axis_1\"/>\n   <g id=\"matplotlib.axis_2\"/>\n   <g id=\"text_1\">\n    <!-- Cloth trousers -->\n    <defs>\n     <path d=\"M 64.40625 67.28125 \nL 64.40625 56.890625 \nQ 59.421875 61.53125 53.78125 63.8125 \nQ 48.140625 66.109375 41.796875 66.109375 \nQ 29.296875 66.109375 22.65625 58.46875 \nQ 16.015625 50.828125 16.015625 36.375 \nQ 16.015625 21.96875 22.65625 14.328125 \nQ 29.296875 6.6875 41.796875 6.6875 \nQ 48.140625 6.6875 53.78125 8.984375 \nQ 59.421875 11.28125 64.40625 15.921875 \nL 64.40625 5.609375 \nQ 59.234375 2.09375 53.4375 0.328125 \nQ 47.65625 -1.421875 41.21875 -1.421875 \nQ 24.65625 -1.421875 15.125 8.703125 \nQ 5.609375 18.84375 5.609375 36.375 \nQ 5.609375 53.953125 15.125 64.078125 \nQ 24.65625 74.21875 41.21875 74.21875 \nQ 47.75 74.21875 53.53125 72.484375 \nQ 59.328125 70.75 64.40625 67.28125 \nz\n\" id=\"DejaVuSans-67\"/>\n     <path d=\"M 9.421875 75.984375 \nL 18.40625 75.984375 \nL 18.40625 0 \nL 9.421875 0 \nz\n\" id=\"DejaVuSans-108\"/>\n     <path d=\"M 30.609375 48.390625 \nQ 23.390625 48.390625 19.1875 42.75 \nQ 14.984375 37.109375 14.984375 27.296875 \nQ 14.984375 17.484375 19.15625 11.84375 \nQ 23.34375 6.203125 30.609375 6.203125 \nQ 37.796875 6.203125 41.984375 11.859375 \nQ 46.1875 17.53125 46.1875 27.296875 \nQ 46.1875 37.015625 41.984375 42.703125 \nQ 37.796875 48.390625 30.609375 48.390625 \nz\nM 30.609375 56 \nQ 42.328125 56 49.015625 48.375 \nQ 55.71875 40.765625 55.71875 27.296875 \nQ 55.71875 13.875 49.015625 6.21875 \nQ 42.328125 -1.421875 30.609375 -1.421875 \nQ 18.84375 -1.421875 12.171875 6.21875 \nQ 5.515625 13.875 5.515625 27.296875 \nQ 5.515625 40.765625 12.171875 48.375 \nQ 18.84375 56 30.609375 56 \nz\n\" id=\"DejaVuSans-111\"/>\n     <path d=\"M 18.3125 70.21875 \nL 18.3125 54.6875 \nL 36.8125 54.6875 \nL 36.8125 47.703125 \nL 18.3125 47.703125 \nL 18.3125 18.015625 \nQ 18.3125 11.328125 20.140625 9.421875 \nQ 21.96875 7.515625 27.59375 7.515625 \nL 36.8125 7.515625 \nL 36.8125 0 \nL 27.59375 0 \nQ 17.1875 0 13.234375 3.875 \nQ 9.28125 7.765625 9.28125 18.015625 \nL 9.28125 47.703125 \nL 2.6875 47.703125 \nL 2.6875 54.6875 \nL 9.28125 54.6875 \nL 9.28125 70.21875 \nz\n\" id=\"DejaVuSans-116\"/>\n     <path d=\"M 54.890625 33.015625 \nL 54.890625 0 \nL 45.90625 0 \nL 45.90625 32.71875 \nQ 45.90625 40.484375 42.875 44.328125 \nQ 39.84375 48.1875 33.796875 48.1875 \nQ 26.515625 48.1875 22.3125 43.546875 \nQ 18.109375 38.921875 18.109375 30.90625 \nL 18.109375 0 \nL 9.078125 0 \nL 9.078125 75.984375 \nL 18.109375 75.984375 \nL 18.109375 46.1875 \nQ 21.34375 51.125 25.703125 53.5625 \nQ 30.078125 56 35.796875 56 \nQ 45.21875 56 50.046875 50.171875 \nQ 54.890625 44.34375 54.890625 33.015625 \nz\n\" id=\"DejaVuSans-104\"/>\n     <path id=\"DejaVuSans-32\"/>\n     <path d=\"M 41.109375 46.296875 \nQ 39.59375 47.171875 37.8125 47.578125 \nQ 36.03125 48 33.890625 48 \nQ 26.265625 48 22.1875 43.046875 \nQ 18.109375 38.09375 18.109375 28.8125 \nL 18.109375 0 \nL 9.078125 0 \nL 9.078125 54.6875 \nL 18.109375 54.6875 \nL 18.109375 46.1875 \nQ 20.953125 51.171875 25.484375 53.578125 \nQ 30.03125 56 36.53125 56 \nQ 37.453125 56 38.578125 55.875 \nQ 39.703125 55.765625 41.0625 55.515625 \nz\n\" id=\"DejaVuSans-114\"/>\n     <path d=\"M 8.5 21.578125 \nL 8.5 54.6875 \nL 17.484375 54.6875 \nL 17.484375 21.921875 \nQ 17.484375 14.15625 20.5 10.265625 \nQ 23.53125 6.390625 29.59375 6.390625 \nQ 36.859375 6.390625 41.078125 11.03125 \nQ 45.3125 15.671875 45.3125 23.6875 \nL 45.3125 54.6875 \nL 54.296875 54.6875 \nL 54.296875 0 \nL 45.3125 0 \nL 45.3125 8.40625 \nQ 42.046875 3.421875 37.71875 1 \nQ 33.40625 -1.421875 27.6875 -1.421875 \nQ 18.265625 -1.421875 13.375 4.4375 \nQ 8.5 10.296875 8.5 21.578125 \nz\nM 31.109375 56 \nz\n\" id=\"DejaVuSans-117\"/>\n     <path d=\"M 44.28125 53.078125 \nL 44.28125 44.578125 \nQ 40.484375 46.53125 36.375 47.5 \nQ 32.28125 48.484375 27.875 48.484375 \nQ 21.1875 48.484375 17.84375 46.4375 \nQ 14.5 44.390625 14.5 40.28125 \nQ 14.5 37.15625 16.890625 35.375 \nQ 19.28125 33.59375 26.515625 31.984375 \nL 29.59375 31.296875 \nQ 39.15625 29.25 43.1875 25.515625 \nQ 47.21875 21.78125 47.21875 15.09375 \nQ 47.21875 7.46875 41.1875 3.015625 \nQ 35.15625 -1.421875 24.609375 -1.421875 \nQ 20.21875 -1.421875 15.453125 -0.5625 \nQ 10.6875 0.296875 5.421875 2 \nL 5.421875 11.28125 \nQ 10.40625 8.6875 15.234375 7.390625 \nQ 20.0625 6.109375 24.8125 6.109375 \nQ 31.15625 6.109375 34.5625 8.28125 \nQ 37.984375 10.453125 37.984375 14.40625 \nQ 37.984375 18.0625 35.515625 20.015625 \nQ 33.0625 21.96875 24.703125 23.78125 \nL 21.578125 24.515625 \nQ 13.234375 26.265625 9.515625 29.90625 \nQ 5.8125 33.546875 5.8125 39.890625 \nQ 5.8125 47.609375 11.28125 51.796875 \nQ 16.75 56 26.8125 56 \nQ 31.78125 56 36.171875 55.265625 \nQ 40.578125 54.546875 44.28125 53.078125 \nz\n\" id=\"DejaVuSans-115\"/>\n     <path d=\"M 56.203125 29.59375 \nL 56.203125 25.203125 \nL 14.890625 25.203125 \nQ 15.484375 15.921875 20.484375 11.0625 \nQ 25.484375 6.203125 34.421875 6.203125 \nQ 39.59375 6.203125 44.453125 7.46875 \nQ 49.3125 8.734375 54.109375 11.28125 \nL 54.109375 2.78125 \nQ 49.265625 0.734375 44.1875 -0.34375 \nQ 39.109375 -1.421875 33.890625 -1.421875 \nQ 20.796875 -1.421875 13.15625 6.1875 \nQ 5.515625 13.8125 5.515625 26.8125 \nQ 5.515625 40.234375 12.765625 48.109375 \nQ 20.015625 56 32.328125 56 \nQ 43.359375 56 49.78125 48.890625 \nQ 56.203125 41.796875 56.203125 29.59375 \nz\nM 47.21875 32.234375 \nQ 47.125 39.59375 43.09375 43.984375 \nQ 39.0625 48.390625 32.421875 48.390625 \nQ 24.90625 48.390625 20.390625 44.140625 \nQ 15.875 39.890625 15.1875 32.171875 \nz\n\" id=\"DejaVuSans-101\"/>\n    </defs>\n    <g transform=\"translate(76.016411 30.17852)scale(0.1 -0.1)\">\n     <use xlink:href=\"#DejaVuSans-67\"/>\n     <use x=\"69.824219\" xlink:href=\"#DejaVuSans-108\"/>\n     <use x=\"97.607422\" xlink:href=\"#DejaVuSans-111\"/>\n     <use x=\"158.789062\" xlink:href=\"#DejaVuSans-116\"/>\n     <use x=\"197.998047\" xlink:href=\"#DejaVuSans-104\"/>\n     <use x=\"261.376953\" xlink:href=\"#DejaVuSans-32\"/>\n     <use x=\"293.164062\" xlink:href=\"#DejaVuSans-116\"/>\n     <use x=\"332.373047\" xlink:href=\"#DejaVuSans-114\"/>\n     <use x=\"371.236328\" xlink:href=\"#DejaVuSans-111\"/>\n     <use x=\"432.417969\" xlink:href=\"#DejaVuSans-117\"/>\n     <use x=\"495.796875\" xlink:href=\"#DejaVuSans-115\"/>\n     <use x=\"547.896484\" xlink:href=\"#DejaVuSans-101\"/>\n     <use x=\"609.419922\" xlink:href=\"#DejaVuSans-114\"/>\n     <use x=\"650.533203\" xlink:href=\"#DejaVuSans-115\"/>\n    </g>\n   </g>\n   <g id=\"text_2\">\n    <!-- 17.1% -->\n    <defs>\n     <path d=\"M 12.40625 8.296875 \nL 28.515625 8.296875 \nL 28.515625 63.921875 \nL 10.984375 60.40625 \nL 10.984375 69.390625 \nL 28.421875 72.90625 \nL 38.28125 72.90625 \nL 38.28125 8.296875 \nL 54.390625 8.296875 \nL 54.390625 0 \nL 12.40625 0 \nz\n\" id=\"DejaVuSans-49\"/>\n     <path d=\"M 8.203125 72.90625 \nL 55.078125 72.90625 \nL 55.078125 68.703125 \nL 28.609375 0 \nL 18.3125 0 \nL 43.21875 64.59375 \nL 8.203125 64.59375 \nz\n\" id=\"DejaVuSans-55\"/>\n     <path d=\"M 10.6875 12.40625 \nL 21 12.40625 \nL 21 0 \nL 10.6875 0 \nz\n\" id=\"DejaVuSans-46\"/>\n     <path d=\"M 72.703125 32.078125 \nQ 68.453125 32.078125 66.03125 28.46875 \nQ 63.625 24.859375 63.625 18.40625 \nQ 63.625 12.0625 66.03125 8.421875 \nQ 68.453125 4.78125 72.703125 4.78125 \nQ 76.859375 4.78125 79.265625 8.421875 \nQ 81.6875 12.0625 81.6875 18.40625 \nQ 81.6875 24.8125 79.265625 28.4375 \nQ 76.859375 32.078125 72.703125 32.078125 \nz\nM 72.703125 38.28125 \nQ 80.421875 38.28125 84.953125 32.90625 \nQ 89.5 27.546875 89.5 18.40625 \nQ 89.5 9.28125 84.9375 3.921875 \nQ 80.375 -1.421875 72.703125 -1.421875 \nQ 64.890625 -1.421875 60.34375 3.921875 \nQ 55.8125 9.28125 55.8125 18.40625 \nQ 55.8125 27.59375 60.375 32.9375 \nQ 64.9375 38.28125 72.703125 38.28125 \nz\nM 22.3125 68.015625 \nQ 18.109375 68.015625 15.6875 64.375 \nQ 13.28125 60.75 13.28125 54.390625 \nQ 13.28125 47.953125 15.671875 44.328125 \nQ 18.0625 40.71875 22.3125 40.71875 \nQ 26.5625 40.71875 28.96875 44.328125 \nQ 31.390625 47.953125 31.390625 54.390625 \nQ 31.390625 60.6875 28.953125 64.34375 \nQ 26.515625 68.015625 22.3125 68.015625 \nz\nM 66.40625 74.21875 \nL 74.21875 74.21875 \nL 28.609375 -1.421875 \nL 20.796875 -1.421875 \nz\nM 22.3125 74.21875 \nQ 30.03125 74.21875 34.609375 68.875 \nQ 39.203125 63.53125 39.203125 54.390625 \nQ 39.203125 45.171875 34.640625 39.84375 \nQ 30.078125 34.515625 22.3125 34.515625 \nQ 14.546875 34.515625 10.03125 39.859375 \nQ 5.515625 45.21875 5.515625 54.390625 \nQ 5.515625 63.484375 10.046875 68.84375 \nQ 14.59375 74.21875 22.3125 74.21875 \nz\n\" id=\"DejaVuSans-37\"/>\n    </defs>\n    <g transform=\"translate(155.717162 72.54612)scale(0.1 -0.1)\">\n     <use xlink:href=\"#DejaVuSans-49\"/>\n     <use x=\"63.623047\" xlink:href=\"#DejaVuSans-55\"/>\n     <use x=\"127.246094\" xlink:href=\"#DejaVuSans-46\"/>\n     <use x=\"159.033203\" xlink:href=\"#DejaVuSans-49\"/>\n     <use x=\"222.65625\" xlink:href=\"#DejaVuSans-37\"/>\n    </g>\n   </g>\n   <g id=\"text_3\">\n    <!-- Dresses -->\n    <defs>\n     <path d=\"M 19.671875 64.796875 \nL 19.671875 8.109375 \nL 31.59375 8.109375 \nQ 46.6875 8.109375 53.6875 14.9375 \nQ 60.6875 21.78125 60.6875 36.53125 \nQ 60.6875 51.171875 53.6875 57.984375 \nQ 46.6875 64.796875 31.59375 64.796875 \nz\nM 9.8125 72.90625 \nL 30.078125 72.90625 \nQ 51.265625 72.90625 61.171875 64.09375 \nQ 71.09375 55.28125 71.09375 36.53125 \nQ 71.09375 17.671875 61.125 8.828125 \nQ 51.171875 0 30.078125 0 \nL 9.8125 0 \nz\n\" id=\"DejaVuSans-68\"/>\n    </defs>\n    <g transform=\"translate(54.840678 108.969146)scale(0.1 -0.1)\">\n     <use xlink:href=\"#DejaVuSans-68\"/>\n     <use x=\"77.001953\" xlink:href=\"#DejaVuSans-114\"/>\n     <use x=\"115.865234\" xlink:href=\"#DejaVuSans-101\"/>\n     <use x=\"177.388672\" xlink:href=\"#DejaVuSans-115\"/>\n     <use x=\"229.488281\" xlink:href=\"#DejaVuSans-115\"/>\n     <use x=\"281.587891\" xlink:href=\"#DejaVuSans-101\"/>\n     <use x=\"343.111328\" xlink:href=\"#DejaVuSans-115\"/>\n    </g>\n   </g>\n   <g id=\"text_4\">\n    <!-- 11.5% -->\n    <defs>\n     <path d=\"M 10.796875 72.90625 \nL 49.515625 72.90625 \nL 49.515625 64.59375 \nL 19.828125 64.59375 \nL 19.828125 46.734375 \nQ 21.96875 47.46875 24.109375 47.828125 \nQ 26.265625 48.1875 28.421875 48.1875 \nQ 40.625 48.1875 47.75 41.5 \nQ 54.890625 34.8125 54.890625 23.390625 \nQ 54.890625 11.625 47.5625 5.09375 \nQ 40.234375 -1.421875 26.90625 -1.421875 \nQ 22.3125 -1.421875 17.546875 -0.640625 \nQ 12.796875 0.140625 7.71875 1.703125 \nL 7.71875 11.625 \nQ 12.109375 9.234375 16.796875 8.0625 \nQ 21.484375 6.890625 26.703125 6.890625 \nQ 35.15625 6.890625 40.078125 11.328125 \nQ 45.015625 15.765625 45.015625 23.390625 \nQ 45.015625 31 40.078125 35.4375 \nQ 35.15625 39.890625 26.703125 39.890625 \nQ 22.75 39.890625 18.8125 39.015625 \nQ 14.890625 38.140625 10.796875 36.28125 \nz\n\" id=\"DejaVuSans-53\"/>\n    </defs>\n    <g transform=\"translate(127.399148 115.522825)scale(0.1 -0.1)\">\n     <use xlink:href=\"#DejaVuSans-49\"/>\n     <use x=\"63.623047\" xlink:href=\"#DejaVuSans-49\"/>\n     <use x=\"127.246094\" xlink:href=\"#DejaVuSans-46\"/>\n     <use x=\"159.033203\" xlink:href=\"#DejaVuSans-53\"/>\n     <use x=\"222.65625\" xlink:href=\"#DejaVuSans-37\"/>\n    </g>\n   </g>\n   <g id=\"text_5\">\n    <!-- Long sleeve blouses -->\n    <defs>\n     <path d=\"M 9.8125 72.90625 \nL 19.671875 72.90625 \nL 19.671875 8.296875 \nL 55.171875 8.296875 \nL 55.171875 0 \nL 9.8125 0 \nz\n\" id=\"DejaVuSans-76\"/>\n     <path d=\"M 54.890625 33.015625 \nL 54.890625 0 \nL 45.90625 0 \nL 45.90625 32.71875 \nQ 45.90625 40.484375 42.875 44.328125 \nQ 39.84375 48.1875 33.796875 48.1875 \nQ 26.515625 48.1875 22.3125 43.546875 \nQ 18.109375 38.921875 18.109375 30.90625 \nL 18.109375 0 \nL 9.078125 0 \nL 9.078125 54.6875 \nL 18.109375 54.6875 \nL 18.109375 46.1875 \nQ 21.34375 51.125 25.703125 53.5625 \nQ 30.078125 56 35.796875 56 \nQ 45.21875 56 50.046875 50.171875 \nQ 54.890625 44.34375 54.890625 33.015625 \nz\n\" id=\"DejaVuSans-110\"/>\n     <path d=\"M 45.40625 27.984375 \nQ 45.40625 37.75 41.375 43.109375 \nQ 37.359375 48.484375 30.078125 48.484375 \nQ 22.859375 48.484375 18.828125 43.109375 \nQ 14.796875 37.75 14.796875 27.984375 \nQ 14.796875 18.265625 18.828125 12.890625 \nQ 22.859375 7.515625 30.078125 7.515625 \nQ 37.359375 7.515625 41.375 12.890625 \nQ 45.40625 18.265625 45.40625 27.984375 \nz\nM 54.390625 6.78125 \nQ 54.390625 -7.171875 48.1875 -13.984375 \nQ 42 -20.796875 29.203125 -20.796875 \nQ 24.46875 -20.796875 20.265625 -20.09375 \nQ 16.0625 -19.390625 12.109375 -17.921875 \nL 12.109375 -9.1875 \nQ 16.0625 -11.328125 19.921875 -12.34375 \nQ 23.78125 -13.375 27.78125 -13.375 \nQ 36.625 -13.375 41.015625 -8.765625 \nQ 45.40625 -4.15625 45.40625 5.171875 \nL 45.40625 9.625 \nQ 42.625 4.78125 38.28125 2.390625 \nQ 33.9375 0 27.875 0 \nQ 17.828125 0 11.671875 7.65625 \nQ 5.515625 15.328125 5.515625 27.984375 \nQ 5.515625 40.671875 11.671875 48.328125 \nQ 17.828125 56 27.875 56 \nQ 33.9375 56 38.28125 53.609375 \nQ 42.625 51.21875 45.40625 46.390625 \nL 45.40625 54.6875 \nL 54.390625 54.6875 \nz\n\" id=\"DejaVuSans-103\"/>\n     <path d=\"M 2.984375 54.6875 \nL 12.5 54.6875 \nL 29.59375 8.796875 \nL 46.6875 54.6875 \nL 56.203125 54.6875 \nL 35.6875 0 \nL 23.484375 0 \nz\n\" id=\"DejaVuSans-118\"/>\n     <path d=\"M 48.6875 27.296875 \nQ 48.6875 37.203125 44.609375 42.84375 \nQ 40.53125 48.484375 33.40625 48.484375 \nQ 26.265625 48.484375 22.1875 42.84375 \nQ 18.109375 37.203125 18.109375 27.296875 \nQ 18.109375 17.390625 22.1875 11.75 \nQ 26.265625 6.109375 33.40625 6.109375 \nQ 40.53125 6.109375 44.609375 11.75 \nQ 48.6875 17.390625 48.6875 27.296875 \nz\nM 18.109375 46.390625 \nQ 20.953125 51.265625 25.265625 53.625 \nQ 29.59375 56 35.59375 56 \nQ 45.5625 56 51.78125 48.09375 \nQ 58.015625 40.1875 58.015625 27.296875 \nQ 58.015625 14.40625 51.78125 6.484375 \nQ 45.5625 -1.421875 35.59375 -1.421875 \nQ 29.59375 -1.421875 25.265625 0.953125 \nQ 20.953125 3.328125 18.109375 8.203125 \nL 18.109375 0 \nL 9.078125 0 \nL 9.078125 75.984375 \nL 18.109375 75.984375 \nz\n\" id=\"DejaVuSans-98\"/>\n    </defs>\n    <g transform=\"translate(7.2 178.250137)scale(0.1 -0.1)\">\n     <use xlink:href=\"#DejaVuSans-76\"/>\n     <use x=\"53.962891\" xlink:href=\"#DejaVuSans-111\"/>\n     <use x=\"115.144531\" xlink:href=\"#DejaVuSans-110\"/>\n     <use x=\"178.523438\" xlink:href=\"#DejaVuSans-103\"/>\n     <use x=\"242\" xlink:href=\"#DejaVuSans-32\"/>\n     <use x=\"273.787109\" xlink:href=\"#DejaVuSans-115\"/>\n     <use x=\"325.886719\" xlink:href=\"#DejaVuSans-108\"/>\n     <use x=\"353.669922\" xlink:href=\"#DejaVuSans-101\"/>\n     <use x=\"415.193359\" xlink:href=\"#DejaVuSans-101\"/>\n     <use x=\"476.716797\" xlink:href=\"#DejaVuSans-118\"/>\n     <use x=\"535.896484\" xlink:href=\"#DejaVuSans-101\"/>\n     <use x=\"597.419922\" xlink:href=\"#DejaVuSans-32\"/>\n     <use x=\"629.207031\" xlink:href=\"#DejaVuSans-98\"/>\n     <use x=\"692.683594\" xlink:href=\"#DejaVuSans-108\"/>\n     <use x=\"720.466797\" xlink:href=\"#DejaVuSans-111\"/>\n     <use x=\"781.648438\" xlink:href=\"#DejaVuSans-117\"/>\n     <use x=\"845.027344\" xlink:href=\"#DejaVuSans-115\"/>\n     <use x=\"897.126953\" xlink:href=\"#DejaVuSans-101\"/>\n     <use x=\"958.650391\" xlink:href=\"#DejaVuSans-115\"/>\n    </g>\n   </g>\n   <g id=\"text_6\">\n    <!-- 9.6% -->\n    <defs>\n     <path d=\"M 10.984375 1.515625 \nL 10.984375 10.5 \nQ 14.703125 8.734375 18.5 7.8125 \nQ 22.3125 6.890625 25.984375 6.890625 \nQ 35.75 6.890625 40.890625 13.453125 \nQ 46.046875 20.015625 46.78125 33.40625 \nQ 43.953125 29.203125 39.59375 26.953125 \nQ 35.25 24.703125 29.984375 24.703125 \nQ 19.046875 24.703125 12.671875 31.3125 \nQ 6.296875 37.9375 6.296875 49.421875 \nQ 6.296875 60.640625 12.9375 67.421875 \nQ 19.578125 74.21875 30.609375 74.21875 \nQ 43.265625 74.21875 49.921875 64.515625 \nQ 56.59375 54.828125 56.59375 36.375 \nQ 56.59375 19.140625 48.40625 8.859375 \nQ 40.234375 -1.421875 26.421875 -1.421875 \nQ 22.703125 -1.421875 18.890625 -0.6875 \nQ 15.09375 0.046875 10.984375 1.515625 \nz\nM 30.609375 32.421875 \nQ 37.25 32.421875 41.125 36.953125 \nQ 45.015625 41.5 45.015625 49.421875 \nQ 45.015625 57.28125 41.125 61.84375 \nQ 37.25 66.40625 30.609375 66.40625 \nQ 23.96875 66.40625 20.09375 61.84375 \nQ 16.21875 57.28125 16.21875 49.421875 \nQ 16.21875 41.5 20.09375 36.953125 \nQ 23.96875 32.421875 30.609375 32.421875 \nz\n\" id=\"DejaVuSans-57\"/>\n     <path d=\"M 33.015625 40.375 \nQ 26.375 40.375 22.484375 35.828125 \nQ 18.609375 31.296875 18.609375 23.390625 \nQ 18.609375 15.53125 22.484375 10.953125 \nQ 26.375 6.390625 33.015625 6.390625 \nQ 39.65625 6.390625 43.53125 10.953125 \nQ 47.40625 15.53125 47.40625 23.390625 \nQ 47.40625 31.296875 43.53125 35.828125 \nQ 39.65625 40.375 33.015625 40.375 \nz\nM 52.59375 71.296875 \nL 52.59375 62.3125 \nQ 48.875 64.0625 45.09375 64.984375 \nQ 41.3125 65.921875 37.59375 65.921875 \nQ 27.828125 65.921875 22.671875 59.328125 \nQ 17.53125 52.734375 16.796875 39.40625 \nQ 19.671875 43.65625 24.015625 45.921875 \nQ 28.375 48.1875 33.59375 48.1875 \nQ 44.578125 48.1875 50.953125 41.515625 \nQ 57.328125 34.859375 57.328125 23.390625 \nQ 57.328125 12.15625 50.6875 5.359375 \nQ 44.046875 -1.421875 33.015625 -1.421875 \nQ 20.359375 -1.421875 13.671875 8.265625 \nQ 6.984375 17.96875 6.984375 36.375 \nQ 6.984375 53.65625 15.1875 63.9375 \nQ 23.390625 74.21875 37.203125 74.21875 \nQ 40.921875 74.21875 44.703125 73.484375 \nQ 48.484375 72.75 52.59375 71.296875 \nz\n\" id=\"DejaVuSans-54\"/>\n    </defs>\n    <g transform=\"translate(138.171562 153.312457)scale(0.1 -0.1)\">\n     <use xlink:href=\"#DejaVuSans-57\"/>\n     <use x=\"63.623047\" xlink:href=\"#DejaVuSans-46\"/>\n     <use x=\"95.410156\" xlink:href=\"#DejaVuSans-54\"/>\n     <use x=\"159.033203\" xlink:href=\"#DejaVuSans-37\"/>\n    </g>\n   </g>\n   <g id=\"text_7\">\n    <!-- Sweatshirts -->\n    <defs>\n     <path d=\"M 53.515625 70.515625 \nL 53.515625 60.890625 \nQ 47.90625 63.578125 42.921875 64.890625 \nQ 37.9375 66.21875 33.296875 66.21875 \nQ 25.25 66.21875 20.875 63.09375 \nQ 16.5 59.96875 16.5 54.203125 \nQ 16.5 49.359375 19.40625 46.890625 \nQ 22.3125 44.4375 30.421875 42.921875 \nL 36.375 41.703125 \nQ 47.40625 39.59375 52.65625 34.296875 \nQ 57.90625 29 57.90625 20.125 \nQ 57.90625 9.515625 50.796875 4.046875 \nQ 43.703125 -1.421875 29.984375 -1.421875 \nQ 24.8125 -1.421875 18.96875 -0.25 \nQ 13.140625 0.921875 6.890625 3.21875 \nL 6.890625 13.375 \nQ 12.890625 10.015625 18.65625 8.296875 \nQ 24.421875 6.59375 29.984375 6.59375 \nQ 38.421875 6.59375 43.015625 9.90625 \nQ 47.609375 13.234375 47.609375 19.390625 \nQ 47.609375 24.75 44.3125 27.78125 \nQ 41.015625 30.8125 33.5 32.328125 \nL 27.484375 33.5 \nQ 16.453125 35.6875 11.515625 40.375 \nQ 6.59375 45.0625 6.59375 53.421875 \nQ 6.59375 63.09375 13.40625 68.65625 \nQ 20.21875 74.21875 32.171875 74.21875 \nQ 37.3125 74.21875 42.625 73.28125 \nQ 47.953125 72.359375 53.515625 70.515625 \nz\n\" id=\"DejaVuSans-83\"/>\n     <path d=\"M 4.203125 54.6875 \nL 13.1875 54.6875 \nL 24.421875 12.015625 \nL 35.59375 54.6875 \nL 46.1875 54.6875 \nL 57.421875 12.015625 \nL 68.609375 54.6875 \nL 77.59375 54.6875 \nL 63.28125 0 \nL 52.6875 0 \nL 40.921875 44.828125 \nL 29.109375 0 \nL 18.5 0 \nz\n\" id=\"DejaVuSans-119\"/>\n     <path d=\"M 34.28125 27.484375 \nQ 23.390625 27.484375 19.1875 25 \nQ 14.984375 22.515625 14.984375 16.5 \nQ 14.984375 11.71875 18.140625 8.90625 \nQ 21.296875 6.109375 26.703125 6.109375 \nQ 34.1875 6.109375 38.703125 11.40625 \nQ 43.21875 16.703125 43.21875 25.484375 \nL 43.21875 27.484375 \nz\nM 52.203125 31.203125 \nL 52.203125 0 \nL 43.21875 0 \nL 43.21875 8.296875 \nQ 40.140625 3.328125 35.546875 0.953125 \nQ 30.953125 -1.421875 24.3125 -1.421875 \nQ 15.921875 -1.421875 10.953125 3.296875 \nQ 6 8.015625 6 15.921875 \nQ 6 25.140625 12.171875 29.828125 \nQ 18.359375 34.515625 30.609375 34.515625 \nL 43.21875 34.515625 \nL 43.21875 35.40625 \nQ 43.21875 41.609375 39.140625 45 \nQ 35.0625 48.390625 27.6875 48.390625 \nQ 23 48.390625 18.546875 47.265625 \nQ 14.109375 46.140625 10.015625 43.890625 \nL 10.015625 52.203125 \nQ 14.9375 54.109375 19.578125 55.046875 \nQ 24.21875 56 28.609375 56 \nQ 40.484375 56 46.34375 49.84375 \nQ 52.203125 43.703125 52.203125 31.203125 \nz\n\" id=\"DejaVuSans-97\"/>\n     <path d=\"M 9.421875 54.6875 \nL 18.40625 54.6875 \nL 18.40625 0 \nL 9.421875 0 \nz\nM 9.421875 75.984375 \nL 18.40625 75.984375 \nL 18.40625 64.59375 \nL 9.421875 64.59375 \nz\n\" id=\"DejaVuSans-105\"/>\n    </defs>\n    <g transform=\"translate(95.483133 220.686999)scale(0.1 -0.1)\">\n     <use xlink:href=\"#DejaVuSans-83\"/>\n     <use x=\"63.476562\" xlink:href=\"#DejaVuSans-119\"/>\n     <use x=\"145.263672\" xlink:href=\"#DejaVuSans-101\"/>\n     <use x=\"206.787109\" xlink:href=\"#DejaVuSans-97\"/>\n     <use x=\"268.066406\" xlink:href=\"#DejaVuSans-116\"/>\n     <use x=\"307.275391\" xlink:href=\"#DejaVuSans-115\"/>\n     <use x=\"359.375\" xlink:href=\"#DejaVuSans-104\"/>\n     <use x=\"422.753906\" xlink:href=\"#DejaVuSans-105\"/>\n     <use x=\"450.537109\" xlink:href=\"#DejaVuSans-114\"/>\n     <use x=\"491.650391\" xlink:href=\"#DejaVuSans-116\"/>\n     <use x=\"530.859375\" xlink:href=\"#DejaVuSans-115\"/>\n    </g>\n   </g>\n   <g id=\"text_8\">\n    <!-- 8.9% -->\n    <defs>\n     <path d=\"M 31.78125 34.625 \nQ 24.75 34.625 20.71875 30.859375 \nQ 16.703125 27.09375 16.703125 20.515625 \nQ 16.703125 13.921875 20.71875 10.15625 \nQ 24.75 6.390625 31.78125 6.390625 \nQ 38.8125 6.390625 42.859375 10.171875 \nQ 46.921875 13.96875 46.921875 20.515625 \nQ 46.921875 27.09375 42.890625 30.859375 \nQ 38.875 34.625 31.78125 34.625 \nz\nM 21.921875 38.8125 \nQ 15.578125 40.375 12.03125 44.71875 \nQ 8.5 49.078125 8.5 55.328125 \nQ 8.5 64.0625 14.71875 69.140625 \nQ 20.953125 74.21875 31.78125 74.21875 \nQ 42.671875 74.21875 48.875 69.140625 \nQ 55.078125 64.0625 55.078125 55.328125 \nQ 55.078125 49.078125 51.53125 44.71875 \nQ 48 40.375 41.703125 38.8125 \nQ 48.828125 37.15625 52.796875 32.3125 \nQ 56.78125 27.484375 56.78125 20.515625 \nQ 56.78125 9.90625 50.3125 4.234375 \nQ 43.84375 -1.421875 31.78125 -1.421875 \nQ 19.734375 -1.421875 13.25 4.234375 \nQ 6.78125 9.90625 6.78125 20.515625 \nQ 6.78125 27.484375 10.78125 32.3125 \nQ 14.796875 37.15625 21.921875 38.8125 \nz\nM 18.3125 54.390625 \nQ 18.3125 48.734375 21.84375 45.5625 \nQ 25.390625 42.390625 31.78125 42.390625 \nQ 38.140625 42.390625 41.71875 45.5625 \nQ 45.3125 48.734375 45.3125 54.390625 \nQ 45.3125 60.0625 41.71875 63.234375 \nQ 38.140625 66.40625 31.78125 66.40625 \nQ 25.390625 66.40625 21.84375 63.234375 \nQ 18.3125 60.0625 18.3125 54.390625 \nz\n\" id=\"DejaVuSans-56\"/>\n    </defs>\n    <g transform=\"translate(162.989067 176.459836)scale(0.1 -0.1)\">\n     <use xlink:href=\"#DejaVuSans-56\"/>\n     <use x=\"63.623047\" xlink:href=\"#DejaVuSans-46\"/>\n     <use x=\"95.410156\" xlink:href=\"#DejaVuSans-57\"/>\n     <use x=\"159.033203\" xlink:href=\"#DejaVuSans-37\"/>\n    </g>\n   </g>\n   <g id=\"text_9\">\n    <!-- Blazers -->\n    <defs>\n     <path d=\"M 19.671875 34.8125 \nL 19.671875 8.109375 \nL 35.5 8.109375 \nQ 43.453125 8.109375 47.28125 11.40625 \nQ 51.125 14.703125 51.125 21.484375 \nQ 51.125 28.328125 47.28125 31.5625 \nQ 43.453125 34.8125 35.5 34.8125 \nz\nM 19.671875 64.796875 \nL 19.671875 42.828125 \nL 34.28125 42.828125 \nQ 41.5 42.828125 45.03125 45.53125 \nQ 48.578125 48.25 48.578125 53.8125 \nQ 48.578125 59.328125 45.03125 62.0625 \nQ 41.5 64.796875 34.28125 64.796875 \nz\nM 9.8125 72.90625 \nL 35.015625 72.90625 \nQ 46.296875 72.90625 52.390625 68.21875 \nQ 58.5 63.53125 58.5 54.890625 \nQ 58.5 48.1875 55.375 44.234375 \nQ 52.25 40.28125 46.1875 39.3125 \nQ 53.46875 37.75 57.5 32.78125 \nQ 61.53125 27.828125 61.53125 20.40625 \nQ 61.53125 10.640625 54.890625 5.3125 \nQ 48.25 0 35.984375 0 \nL 9.8125 0 \nz\n\" id=\"DejaVuSans-66\"/>\n     <path d=\"M 5.515625 54.6875 \nL 48.1875 54.6875 \nL 48.1875 46.484375 \nL 14.40625 7.171875 \nL 48.1875 7.171875 \nL 48.1875 0 \nL 4.296875 0 \nL 4.296875 8.203125 \nL 38.09375 47.515625 \nL 5.515625 47.515625 \nz\n\" id=\"DejaVuSans-122\"/>\n    </defs>\n    <g transform=\"translate(206.916968 231.864656)scale(0.1 -0.1)\">\n     <use xlink:href=\"#DejaVuSans-66\"/>\n     <use x=\"68.603516\" xlink:href=\"#DejaVuSans-108\"/>\n     <use x=\"96.386719\" xlink:href=\"#DejaVuSans-97\"/>\n     <use x=\"157.666016\" xlink:href=\"#DejaVuSans-122\"/>\n     <use x=\"210.15625\" xlink:href=\"#DejaVuSans-101\"/>\n     <use x=\"271.679688\" xlink:href=\"#DejaVuSans-114\"/>\n     <use x=\"312.792969\" xlink:href=\"#DejaVuSans-115\"/>\n    </g>\n   </g>\n   <g id=\"text_10\">\n    <!-- 7.2% -->\n    <defs>\n     <path d=\"M 19.1875 8.296875 \nL 53.609375 8.296875 \nL 53.609375 0 \nL 7.328125 0 \nL 7.328125 8.296875 \nQ 12.9375 14.109375 22.625 23.890625 \nQ 32.328125 33.6875 34.8125 36.53125 \nQ 39.546875 41.84375 41.421875 45.53125 \nQ 43.3125 49.21875 43.3125 52.78125 \nQ 43.3125 58.59375 39.234375 62.25 \nQ 35.15625 65.921875 28.609375 65.921875 \nQ 23.96875 65.921875 18.8125 64.3125 \nQ 13.671875 62.703125 7.8125 59.421875 \nL 7.8125 69.390625 \nQ 13.765625 71.78125 18.9375 73 \nQ 24.125 74.21875 28.421875 74.21875 \nQ 39.75 74.21875 46.484375 68.546875 \nQ 53.21875 62.890625 53.21875 53.421875 \nQ 53.21875 48.921875 51.53125 44.890625 \nQ 49.859375 40.875 45.40625 35.40625 \nQ 44.1875 33.984375 37.640625 27.21875 \nQ 31.109375 20.453125 19.1875 8.296875 \nz\n\" id=\"DejaVuSans-50\"/>\n    </defs>\n    <g transform=\"translate(191.974568 182.55674)scale(0.1 -0.1)\">\n     <use xlink:href=\"#DejaVuSans-55\"/>\n     <use x=\"63.623047\" xlink:href=\"#DejaVuSans-46\"/>\n     <use x=\"95.410156\" xlink:href=\"#DejaVuSans-50\"/>\n     <use x=\"159.033203\" xlink:href=\"#DejaVuSans-37\"/>\n    </g>\n   </g>\n   <g id=\"text_11\">\n    <!-- Jumpers -->\n    <defs>\n     <path d=\"M 9.8125 72.90625 \nL 19.671875 72.90625 \nL 19.671875 5.078125 \nQ 19.671875 -8.109375 14.671875 -14.0625 \nQ 9.671875 -20.015625 -1.421875 -20.015625 \nL -5.171875 -20.015625 \nL -5.171875 -11.71875 \nL -2.09375 -11.71875 \nQ 4.4375 -11.71875 7.125 -8.046875 \nQ 9.8125 -4.390625 9.8125 5.078125 \nz\n\" id=\"DejaVuSans-74\"/>\n     <path d=\"M 52 44.1875 \nQ 55.375 50.25 60.0625 53.125 \nQ 64.75 56 71.09375 56 \nQ 79.640625 56 84.28125 50.015625 \nQ 88.921875 44.046875 88.921875 33.015625 \nL 88.921875 0 \nL 79.890625 0 \nL 79.890625 32.71875 \nQ 79.890625 40.578125 77.09375 44.375 \nQ 74.3125 48.1875 68.609375 48.1875 \nQ 61.625 48.1875 57.5625 43.546875 \nQ 53.515625 38.921875 53.515625 30.90625 \nL 53.515625 0 \nL 44.484375 0 \nL 44.484375 32.71875 \nQ 44.484375 40.625 41.703125 44.40625 \nQ 38.921875 48.1875 33.109375 48.1875 \nQ 26.21875 48.1875 22.15625 43.53125 \nQ 18.109375 38.875 18.109375 30.90625 \nL 18.109375 0 \nL 9.078125 0 \nL 9.078125 54.6875 \nL 18.109375 54.6875 \nL 18.109375 46.1875 \nQ 21.1875 51.21875 25.484375 53.609375 \nQ 29.78125 56 35.6875 56 \nQ 41.65625 56 45.828125 52.96875 \nQ 50 49.953125 52 44.1875 \nz\n\" id=\"DejaVuSans-109\"/>\n     <path d=\"M 18.109375 8.203125 \nL 18.109375 -20.796875 \nL 9.078125 -20.796875 \nL 9.078125 54.6875 \nL 18.109375 54.6875 \nL 18.109375 46.390625 \nQ 20.953125 51.265625 25.265625 53.625 \nQ 29.59375 56 35.59375 56 \nQ 45.5625 56 51.78125 48.09375 \nQ 58.015625 40.1875 58.015625 27.296875 \nQ 58.015625 14.40625 51.78125 6.484375 \nQ 45.5625 -1.421875 35.59375 -1.421875 \nQ 29.59375 -1.421875 25.265625 0.953125 \nQ 20.953125 3.328125 18.109375 8.203125 \nz\nM 48.6875 27.296875 \nQ 48.6875 37.203125 44.609375 42.84375 \nQ 40.53125 48.484375 33.40625 48.484375 \nQ 26.265625 48.484375 22.1875 42.84375 \nQ 18.109375 37.203125 18.109375 27.296875 \nQ 18.109375 17.390625 22.1875 11.75 \nQ 26.265625 6.109375 33.40625 6.109375 \nQ 40.53125 6.109375 44.609375 11.75 \nQ 48.6875 17.390625 48.6875 27.296875 \nz\n\" id=\"DejaVuSans-112\"/>\n    </defs>\n    <g transform=\"translate(251.375185 220.096213)scale(0.1 -0.1)\">\n     <use xlink:href=\"#DejaVuSans-74\"/>\n     <use x=\"29.492188\" xlink:href=\"#DejaVuSans-117\"/>\n     <use x=\"92.871094\" xlink:href=\"#DejaVuSans-109\"/>\n     <use x=\"190.283203\" xlink:href=\"#DejaVuSans-112\"/>\n     <use x=\"253.759766\" xlink:href=\"#DejaVuSans-101\"/>\n     <use x=\"315.283203\" xlink:href=\"#DejaVuSans-114\"/>\n     <use x=\"356.396484\" xlink:href=\"#DejaVuSans-115\"/>\n    </g>\n   </g>\n   <g id=\"text_12\">\n    <!-- 6.4% -->\n    <defs>\n     <path d=\"M 37.796875 64.3125 \nL 12.890625 25.390625 \nL 37.796875 25.390625 \nz\nM 35.203125 72.90625 \nL 47.609375 72.90625 \nL 47.609375 25.390625 \nL 58.015625 25.390625 \nL 58.015625 17.1875 \nL 47.609375 17.1875 \nL 47.609375 0 \nL 37.796875 0 \nL 37.796875 17.1875 \nL 4.890625 17.1875 \nL 4.890625 26.703125 \nz\n\" id=\"DejaVuSans-52\"/>\n    </defs>\n    <g transform=\"translate(216.224504 176.137589)scale(0.1 -0.1)\">\n     <use xlink:href=\"#DejaVuSans-54\"/>\n     <use x=\"63.623047\" xlink:href=\"#DejaVuSans-46\"/>\n     <use x=\"95.410156\" xlink:href=\"#DejaVuSans-52\"/>\n     <use x=\"159.033203\" xlink:href=\"#DejaVuSans-37\"/>\n    </g>\n   </g>\n   <g id=\"text_13\">\n    <!-- Tops -->\n    <defs>\n     <path d=\"M -0.296875 72.90625 \nL 61.375 72.90625 \nL 61.375 64.59375 \nL 35.5 64.59375 \nL 35.5 0 \nL 25.59375 0 \nL 25.59375 64.59375 \nL -0.296875 64.59375 \nz\n\" id=\"DejaVuSans-84\"/>\n    </defs>\n    <g transform=\"translate(284.250507 194.272039)scale(0.1 -0.1)\">\n     <use xlink:href=\"#DejaVuSans-84\"/>\n     <use x=\"44.083984\" xlink:href=\"#DejaVuSans-111\"/>\n     <use x=\"105.265625\" xlink:href=\"#DejaVuSans-112\"/>\n     <use x=\"168.742188\" xlink:href=\"#DejaVuSans-115\"/>\n    </g>\n   </g>\n   <g id=\"text_14\">\n    <!-- 6.0% -->\n    <defs>\n     <path d=\"M 31.78125 66.40625 \nQ 24.171875 66.40625 20.328125 58.90625 \nQ 16.5 51.421875 16.5 36.375 \nQ 16.5 21.390625 20.328125 13.890625 \nQ 24.171875 6.390625 31.78125 6.390625 \nQ 39.453125 6.390625 43.28125 13.890625 \nQ 47.125 21.390625 47.125 36.375 \nQ 47.125 51.421875 43.28125 58.90625 \nQ 39.453125 66.40625 31.78125 66.40625 \nz\nM 31.78125 74.21875 \nQ 44.046875 74.21875 50.515625 64.515625 \nQ 56.984375 54.828125 56.984375 36.375 \nQ 56.984375 17.96875 50.515625 8.265625 \nQ 44.046875 -1.421875 31.78125 -1.421875 \nQ 19.53125 -1.421875 13.0625 8.265625 \nQ 6.59375 17.96875 6.59375 36.375 \nQ 6.59375 54.828125 13.0625 64.515625 \nQ 19.53125 74.21875 31.78125 74.21875 \nz\n\" id=\"DejaVuSans-48\"/>\n    </defs>\n    <g transform=\"translate(234.156498 162.051676)scale(0.1 -0.1)\">\n     <use xlink:href=\"#DejaVuSans-54\"/>\n     <use x=\"63.623047\" xlink:href=\"#DejaVuSans-46\"/>\n     <use x=\"95.410156\" xlink:href=\"#DejaVuSans-48\"/>\n     <use x=\"159.033203\" xlink:href=\"#DejaVuSans-37\"/>\n    </g>\n   </g>\n   <g id=\"text_15\">\n    <!-- Long sleeve shirts -->\n    <g transform=\"translate(303.259311 162.578163)scale(0.1 -0.1)\">\n     <use xlink:href=\"#DejaVuSans-76\"/>\n     <use x=\"53.962891\" xlink:href=\"#DejaVuSans-111\"/>\n     <use x=\"115.144531\" xlink:href=\"#DejaVuSans-110\"/>\n     <use x=\"178.523438\" xlink:href=\"#DejaVuSans-103\"/>\n     <use x=\"242\" xlink:href=\"#DejaVuSans-32\"/>\n     <use x=\"273.787109\" xlink:href=\"#DejaVuSans-115\"/>\n     <use x=\"325.886719\" xlink:href=\"#DejaVuSans-108\"/>\n     <use x=\"353.669922\" xlink:href=\"#DejaVuSans-101\"/>\n     <use x=\"415.193359\" xlink:href=\"#DejaVuSans-101\"/>\n     <use x=\"476.716797\" xlink:href=\"#DejaVuSans-118\"/>\n     <use x=\"535.896484\" xlink:href=\"#DejaVuSans-101\"/>\n     <use x=\"597.419922\" xlink:href=\"#DejaVuSans-32\"/>\n     <use x=\"629.207031\" xlink:href=\"#DejaVuSans-115\"/>\n     <use x=\"681.306641\" xlink:href=\"#DejaVuSans-104\"/>\n     <use x=\"744.685547\" xlink:href=\"#DejaVuSans-105\"/>\n     <use x=\"772.46875\" xlink:href=\"#DejaVuSans-114\"/>\n     <use x=\"813.582031\" xlink:href=\"#DejaVuSans-116\"/>\n     <use x=\"852.791016\" xlink:href=\"#DejaVuSans-115\"/>\n    </g>\n   </g>\n   <g id=\"text_16\">\n    <!-- 4.9% -->\n    <g transform=\"translate(244.524936 144.764107)scale(0.1 -0.1)\">\n     <use xlink:href=\"#DejaVuSans-52\"/>\n     <use x=\"63.623047\" xlink:href=\"#DejaVuSans-46\"/>\n     <use x=\"95.410156\" xlink:href=\"#DejaVuSans-57\"/>\n     <use x=\"159.033203\" xlink:href=\"#DejaVuSans-37\"/>\n    </g>\n   </g>\n   <g id=\"text_17\">\n    <!-- Scarves -->\n    <defs>\n     <path d=\"M 48.78125 52.59375 \nL 48.78125 44.1875 \nQ 44.96875 46.296875 41.140625 47.34375 \nQ 37.3125 48.390625 33.40625 48.390625 \nQ 24.65625 48.390625 19.8125 42.84375 \nQ 14.984375 37.3125 14.984375 27.296875 \nQ 14.984375 17.28125 19.8125 11.734375 \nQ 24.65625 6.203125 33.40625 6.203125 \nQ 37.3125 6.203125 41.140625 7.25 \nQ 44.96875 8.296875 48.78125 10.40625 \nL 48.78125 2.09375 \nQ 45.015625 0.34375 40.984375 -0.53125 \nQ 36.96875 -1.421875 32.421875 -1.421875 \nQ 20.0625 -1.421875 12.78125 6.34375 \nQ 5.515625 14.109375 5.515625 27.296875 \nQ 5.515625 40.671875 12.859375 48.328125 \nQ 20.21875 56 33.015625 56 \nQ 37.15625 56 41.109375 55.140625 \nQ 45.0625 54.296875 48.78125 52.59375 \nz\n\" id=\"DejaVuSans-99\"/>\n    </defs>\n    <g transform=\"translate(310.130836 133.233333)scale(0.1 -0.1)\">\n     <use xlink:href=\"#DejaVuSans-83\"/>\n     <use x=\"63.476562\" xlink:href=\"#DejaVuSans-99\"/>\n     <use x=\"118.457031\" xlink:href=\"#DejaVuSans-97\"/>\n     <use x=\"179.736328\" xlink:href=\"#DejaVuSans-114\"/>\n     <use x=\"220.849609\" xlink:href=\"#DejaVuSans-118\"/>\n     <use x=\"280.029297\" xlink:href=\"#DejaVuSans-101\"/>\n     <use x=\"341.552734\" xlink:href=\"#DejaVuSans-115\"/>\n    </g>\n   </g>\n   <g id=\"text_18\">\n    <!-- 3.9% -->\n    <defs>\n     <path d=\"M 40.578125 39.3125 \nQ 47.65625 37.796875 51.625 33 \nQ 55.609375 28.21875 55.609375 21.1875 \nQ 55.609375 10.40625 48.1875 4.484375 \nQ 40.765625 -1.421875 27.09375 -1.421875 \nQ 22.515625 -1.421875 17.65625 -0.515625 \nQ 12.796875 0.390625 7.625 2.203125 \nL 7.625 11.71875 \nQ 11.71875 9.328125 16.59375 8.109375 \nQ 21.484375 6.890625 26.8125 6.890625 \nQ 36.078125 6.890625 40.9375 10.546875 \nQ 45.796875 14.203125 45.796875 21.1875 \nQ 45.796875 27.640625 41.28125 31.265625 \nQ 36.765625 34.90625 28.71875 34.90625 \nL 20.21875 34.90625 \nL 20.21875 43.015625 \nL 29.109375 43.015625 \nQ 36.375 43.015625 40.234375 45.921875 \nQ 44.09375 48.828125 44.09375 54.296875 \nQ 44.09375 59.90625 40.109375 62.90625 \nQ 36.140625 65.921875 28.71875 65.921875 \nQ 24.65625 65.921875 20.015625 65.03125 \nQ 15.375 64.15625 9.8125 62.3125 \nL 9.8125 71.09375 \nQ 15.4375 72.65625 20.34375 73.4375 \nQ 25.25 74.21875 29.59375 74.21875 \nQ 40.828125 74.21875 47.359375 69.109375 \nQ 53.90625 64.015625 53.90625 55.328125 \nQ 53.90625 49.265625 50.4375 45.09375 \nQ 46.96875 40.921875 40.578125 39.3125 \nz\n\" id=\"DejaVuSans-51\"/>\n    </defs>\n    <g transform=\"translate(248.273041 128.757836)scale(0.1 -0.1)\">\n     <use xlink:href=\"#DejaVuSans-51\"/>\n     <use x=\"63.623047\" xlink:href=\"#DejaVuSans-46\"/>\n     <use x=\"95.410156\" xlink:href=\"#DejaVuSans-57\"/>\n     <use x=\"159.033203\" xlink:href=\"#DejaVuSans-37\"/>\n    </g>\n   </g>\n   <g id=\"text_19\">\n    <!-- Blouse tops -->\n    <g transform=\"translate(309.527449 108.317926)scale(0.1 -0.1)\">\n     <use xlink:href=\"#DejaVuSans-66\"/>\n     <use x=\"68.603516\" xlink:href=\"#DejaVuSans-108\"/>\n     <use x=\"96.386719\" xlink:href=\"#DejaVuSans-111\"/>\n     <use x=\"157.568359\" xlink:href=\"#DejaVuSans-117\"/>\n     <use x=\"220.947266\" xlink:href=\"#DejaVuSans-115\"/>\n     <use x=\"273.046875\" xlink:href=\"#DejaVuSans-101\"/>\n     <use x=\"334.570312\" xlink:href=\"#DejaVuSans-32\"/>\n     <use x=\"366.357422\" xlink:href=\"#DejaVuSans-116\"/>\n     <use x=\"405.566406\" xlink:href=\"#DejaVuSans-111\"/>\n     <use x=\"466.748047\" xlink:href=\"#DejaVuSans-112\"/>\n     <use x=\"530.224609\" xlink:href=\"#DejaVuSans-115\"/>\n    </g>\n   </g>\n   <g id=\"text_20\">\n    <!-- 3.4% -->\n    <g transform=\"translate(247.943921 115.167614)scale(0.1 -0.1)\">\n     <use xlink:href=\"#DejaVuSans-51\"/>\n     <use x=\"63.623047\" xlink:href=\"#DejaVuSans-46\"/>\n     <use x=\"95.410156\" xlink:href=\"#DejaVuSans-52\"/>\n     <use x=\"159.033203\" xlink:href=\"#DejaVuSans-37\"/>\n    </g>\n   </g>\n   <g id=\"text_21\">\n    <!-- Jackets -->\n    <defs>\n     <path d=\"M 9.078125 75.984375 \nL 18.109375 75.984375 \nL 18.109375 31.109375 \nL 44.921875 54.6875 \nL 56.390625 54.6875 \nL 27.390625 29.109375 \nL 57.625 0 \nL 45.90625 0 \nL 18.109375 26.703125 \nL 18.109375 0 \nL 9.078125 0 \nz\n\" id=\"DejaVuSans-107\"/>\n    </defs>\n    <g transform=\"translate(304.722525 88.210165)scale(0.1 -0.1)\">\n     <use xlink:href=\"#DejaVuSans-74\"/>\n     <use x=\"29.492188\" xlink:href=\"#DejaVuSans-97\"/>\n     <use x=\"90.771484\" xlink:href=\"#DejaVuSans-99\"/>\n     <use x=\"145.751953\" xlink:href=\"#DejaVuSans-107\"/>\n     <use x=\"200.037109\" xlink:href=\"#DejaVuSans-101\"/>\n     <use x=\"261.560547\" xlink:href=\"#DejaVuSans-116\"/>\n     <use x=\"300.769531\" xlink:href=\"#DejaVuSans-115\"/>\n    </g>\n   </g>\n   <g id=\"text_22\">\n    <!-- 2.7% -->\n    <g transform=\"translate(245.323053 104.199744)scale(0.1 -0.1)\">\n     <use xlink:href=\"#DejaVuSans-50\"/>\n     <use x=\"63.623047\" xlink:href=\"#DejaVuSans-46\"/>\n     <use x=\"95.410156\" xlink:href=\"#DejaVuSans-55\"/>\n     <use x=\"159.033203\" xlink:href=\"#DejaVuSans-37\"/>\n    </g>\n   </g>\n   <g id=\"text_23\">\n    <!-- T-shirts -->\n    <defs>\n     <path d=\"M 4.890625 31.390625 \nL 31.203125 31.390625 \nL 31.203125 23.390625 \nL 4.890625 23.390625 \nz\n\" id=\"DejaVuSans-45\"/>\n    </defs>\n    <g transform=\"translate(297.629888 71.963252)scale(0.1 -0.1)\">\n     <use xlink:href=\"#DejaVuSans-84\"/>\n     <use x=\"51.958984\" xlink:href=\"#DejaVuSans-45\"/>\n     <use x=\"88.042969\" xlink:href=\"#DejaVuSans-115\"/>\n     <use x=\"140.142578\" xlink:href=\"#DejaVuSans-104\"/>\n     <use x=\"203.521484\" xlink:href=\"#DejaVuSans-105\"/>\n     <use x=\"231.304688\" xlink:href=\"#DejaVuSans-114\"/>\n     <use x=\"272.417969\" xlink:href=\"#DejaVuSans-116\"/>\n     <use x=\"311.626953\" xlink:href=\"#DejaVuSans-115\"/>\n    </g>\n   </g>\n   <g id=\"text_24\">\n    <!-- 2.5% -->\n    <g transform=\"translate(241.454342 95.337792)scale(0.1 -0.1)\">\n     <use xlink:href=\"#DejaVuSans-50\"/>\n     <use x=\"63.623047\" xlink:href=\"#DejaVuSans-46\"/>\n     <use x=\"95.410156\" xlink:href=\"#DejaVuSans-53\"/>\n     <use x=\"159.033203\" xlink:href=\"#DejaVuSans-37\"/>\n    </g>\n   </g>\n   <g id=\"text_25\">\n    <!-- Short sleeve blouses -->\n    <g transform=\"translate(288.981683 58.395841)scale(0.1 -0.1)\">\n     <use xlink:href=\"#DejaVuSans-83\"/>\n     <use x=\"63.476562\" xlink:href=\"#DejaVuSans-104\"/>\n     <use x=\"126.855469\" xlink:href=\"#DejaVuSans-111\"/>\n     <use x=\"188.037109\" xlink:href=\"#DejaVuSans-114\"/>\n     <use x=\"229.150391\" xlink:href=\"#DejaVuSans-116\"/>\n     <use x=\"268.359375\" xlink:href=\"#DejaVuSans-32\"/>\n     <use x=\"300.146484\" xlink:href=\"#DejaVuSans-115\"/>\n     <use x=\"352.246094\" xlink:href=\"#DejaVuSans-108\"/>\n     <use x=\"380.029297\" xlink:href=\"#DejaVuSans-101\"/>\n     <use x=\"441.552734\" xlink:href=\"#DejaVuSans-101\"/>\n     <use x=\"503.076172\" xlink:href=\"#DejaVuSans-118\"/>\n     <use x=\"562.255859\" xlink:href=\"#DejaVuSans-101\"/>\n     <use x=\"623.779297\" xlink:href=\"#DejaVuSans-32\"/>\n     <use x=\"655.566406\" xlink:href=\"#DejaVuSans-98\"/>\n     <use x=\"719.042969\" xlink:href=\"#DejaVuSans-108\"/>\n     <use x=\"746.826172\" xlink:href=\"#DejaVuSans-111\"/>\n     <use x=\"808.007812\" xlink:href=\"#DejaVuSans-117\"/>\n     <use x=\"871.386719\" xlink:href=\"#DejaVuSans-115\"/>\n     <use x=\"923.486328\" xlink:href=\"#DejaVuSans-101\"/>\n     <use x=\"985.009766\" xlink:href=\"#DejaVuSans-115\"/>\n    </g>\n   </g>\n   <g id=\"text_26\">\n    <!-- 2.2% -->\n    <g transform=\"translate(236.737139 87.937386)scale(0.1 -0.1)\">\n     <use xlink:href=\"#DejaVuSans-50\"/>\n     <use x=\"63.623047\" xlink:href=\"#DejaVuSans-46\"/>\n     <use x=\"95.410156\" xlink:href=\"#DejaVuSans-50\"/>\n     <use x=\"159.033203\" xlink:href=\"#DejaVuSans-37\"/>\n    </g>\n   </g>\n   <g id=\"text_27\">\n    <!-- Ponchos &amp; Capes -->\n    <defs>\n     <path d=\"M 19.671875 64.796875 \nL 19.671875 37.40625 \nL 32.078125 37.40625 \nQ 38.96875 37.40625 42.71875 40.96875 \nQ 46.484375 44.53125 46.484375 51.125 \nQ 46.484375 57.671875 42.71875 61.234375 \nQ 38.96875 64.796875 32.078125 64.796875 \nz\nM 9.8125 72.90625 \nL 32.078125 72.90625 \nQ 44.34375 72.90625 50.609375 67.359375 \nQ 56.890625 61.8125 56.890625 51.125 \nQ 56.890625 40.328125 50.609375 34.8125 \nQ 44.34375 29.296875 32.078125 29.296875 \nL 19.671875 29.296875 \nL 19.671875 0 \nL 9.8125 0 \nz\n\" id=\"DejaVuSans-80\"/>\n     <path d=\"M 24.3125 39.203125 \nQ 19.875 35.25 17.796875 31.3125 \nQ 15.71875 27.390625 15.71875 23.09375 \nQ 15.71875 15.96875 20.890625 11.234375 \nQ 26.078125 6.5 33.890625 6.5 \nQ 38.53125 6.5 42.578125 8.03125 \nQ 46.625 9.578125 50.203125 12.703125 \nz\nM 31.203125 44.671875 \nL 56 19.28125 \nQ 58.890625 23.640625 60.5 28.59375 \nQ 62.109375 33.546875 62.40625 39.109375 \nL 71.484375 39.109375 \nQ 70.90625 32.671875 68.359375 26.359375 \nQ 65.828125 20.0625 61.28125 13.921875 \nL 74.90625 0 \nL 62.59375 0 \nL 55.609375 7.171875 \nQ 50.53125 2.828125 44.96875 0.703125 \nQ 39.40625 -1.421875 33.015625 -1.421875 \nQ 21.234375 -1.421875 13.765625 5.296875 \nQ 6.296875 12.015625 6.296875 22.515625 \nQ 6.296875 28.765625 9.5625 34.25 \nQ 12.84375 39.75 19.390625 44.578125 \nQ 17.046875 47.65625 15.8125 50.703125 \nQ 14.59375 53.765625 14.59375 56.6875 \nQ 14.59375 64.59375 20.015625 69.40625 \nQ 25.4375 74.21875 34.421875 74.21875 \nQ 38.484375 74.21875 42.5 73.34375 \nQ 46.53125 72.46875 50.6875 70.703125 \nL 50.6875 61.8125 \nQ 46.4375 64.109375 42.578125 65.296875 \nQ 38.71875 66.5 35.40625 66.5 \nQ 30.28125 66.5 27.078125 63.78125 \nQ 23.875 61.078125 23.875 56.78125 \nQ 23.875 54.296875 25.3125 51.78125 \nQ 26.765625 49.265625 31.203125 44.671875 \nz\n\" id=\"DejaVuSans-38\"/>\n    </defs>\n    <g transform=\"translate(279.351853 47.186186)scale(0.1 -0.1)\">\n     <use xlink:href=\"#DejaVuSans-80\"/>\n     <use x=\"56.677734\" xlink:href=\"#DejaVuSans-111\"/>\n     <use x=\"117.859375\" xlink:href=\"#DejaVuSans-110\"/>\n     <use x=\"181.238281\" xlink:href=\"#DejaVuSans-99\"/>\n     <use x=\"236.21875\" xlink:href=\"#DejaVuSans-104\"/>\n     <use x=\"299.597656\" xlink:href=\"#DejaVuSans-111\"/>\n     <use x=\"360.779297\" xlink:href=\"#DejaVuSans-115\"/>\n     <use x=\"412.878906\" xlink:href=\"#DejaVuSans-32\"/>\n     <use x=\"444.666016\" xlink:href=\"#DejaVuSans-38\"/>\n     <use x=\"522.644531\" xlink:href=\"#DejaVuSans-32\"/>\n     <use x=\"554.431641\" xlink:href=\"#DejaVuSans-67\"/>\n     <use x=\"624.255859\" xlink:href=\"#DejaVuSans-97\"/>\n     <use x=\"685.535156\" xlink:href=\"#DejaVuSans-112\"/>\n     <use x=\"749.011719\" xlink:href=\"#DejaVuSans-101\"/>\n     <use x=\"810.535156\" xlink:href=\"#DejaVuSans-115\"/>\n    </g>\n   </g>\n   <g id=\"text_28\">\n    <!-- 2.1% -->\n    <g transform=\"translate(231.484505 81.823029)scale(0.1 -0.1)\">\n     <use xlink:href=\"#DejaVuSans-50\"/>\n     <use x=\"63.623047\" xlink:href=\"#DejaVuSans-46\"/>\n     <use x=\"95.410156\" xlink:href=\"#DejaVuSans-49\"/>\n     <use x=\"159.033203\" xlink:href=\"#DejaVuSans-37\"/>\n    </g>\n   </g>\n   <g id=\"text_29\">\n    <!-- Coats -->\n    <g transform=\"translate(268.808554 37.790731)scale(0.1 -0.1)\">\n     <use xlink:href=\"#DejaVuSans-67\"/>\n     <use x=\"69.824219\" xlink:href=\"#DejaVuSans-111\"/>\n     <use x=\"131.005859\" xlink:href=\"#DejaVuSans-97\"/>\n     <use x=\"192.285156\" xlink:href=\"#DejaVuSans-116\"/>\n     <use x=\"231.494141\" xlink:href=\"#DejaVuSans-115\"/>\n    </g>\n   </g>\n   <g id=\"text_30\">\n    <!-- 2.0% -->\n    <g transform=\"translate(225.733614 76.698235)scale(0.1 -0.1)\">\n     <use xlink:href=\"#DejaVuSans-50\"/>\n     <use x=\"63.623047\" xlink:href=\"#DejaVuSans-46\"/>\n     <use x=\"95.410156\" xlink:href=\"#DejaVuSans-48\"/>\n     <use x=\"159.033203\" xlink:href=\"#DejaVuSans-37\"/>\n    </g>\n   </g>\n   <g id=\"text_31\">\n    <!-- Skirts -->\n    <g transform=\"translate(258.26352 30.517456)scale(0.1 -0.1)\">\n     <use xlink:href=\"#DejaVuSans-83\"/>\n     <use x=\"63.476562\" xlink:href=\"#DejaVuSans-107\"/>\n     <use x=\"121.386719\" xlink:href=\"#DejaVuSans-105\"/>\n     <use x=\"149.169922\" xlink:href=\"#DejaVuSans-114\"/>\n     <use x=\"190.283203\" xlink:href=\"#DejaVuSans-116\"/>\n     <use x=\"229.492188\" xlink:href=\"#DejaVuSans-115\"/>\n    </g>\n   </g>\n   <g id=\"text_32\">\n    <!-- 1.7% -->\n    <g transform=\"translate(219.981778 72.730994)scale(0.1 -0.1)\">\n     <use xlink:href=\"#DejaVuSans-49\"/>\n     <use x=\"63.623047\" xlink:href=\"#DejaVuSans-46\"/>\n     <use x=\"95.410156\" xlink:href=\"#DejaVuSans-55\"/>\n     <use x=\"159.033203\" xlink:href=\"#DejaVuSans-37\"/>\n    </g>\n   </g>\n   <g id=\"text_33\">\n    <!-- Skinnys -->\n    <defs>\n     <path d=\"M 32.171875 -5.078125 \nQ 28.375 -14.84375 24.75 -17.8125 \nQ 21.140625 -20.796875 15.09375 -20.796875 \nL 7.90625 -20.796875 \nL 7.90625 -13.28125 \nL 13.1875 -13.28125 \nQ 16.890625 -13.28125 18.9375 -11.515625 \nQ 21 -9.765625 23.484375 -3.21875 \nL 25.09375 0.875 \nL 2.984375 54.6875 \nL 12.5 54.6875 \nL 29.59375 11.921875 \nL 46.6875 54.6875 \nL 56.203125 54.6875 \nz\n\" id=\"DejaVuSans-121\"/>\n    </defs>\n    <g transform=\"translate(248.426034 25.228067)scale(0.1 -0.1)\">\n     <use xlink:href=\"#DejaVuSans-83\"/>\n     <use x=\"63.476562\" xlink:href=\"#DejaVuSans-107\"/>\n     <use x=\"121.386719\" xlink:href=\"#DejaVuSans-105\"/>\n     <use x=\"149.169922\" xlink:href=\"#DejaVuSans-110\"/>\n     <use x=\"212.548828\" xlink:href=\"#DejaVuSans-110\"/>\n     <use x=\"275.927734\" xlink:href=\"#DejaVuSans-121\"/>\n     <use x=\"335.107422\" xlink:href=\"#DejaVuSans-115\"/>\n    </g>\n   </g>\n   <g id=\"text_34\">\n    <!-- 1.5% -->\n    <g transform=\"translate(214.615876 69.845873)scale(0.1 -0.1)\">\n     <use xlink:href=\"#DejaVuSans-49\"/>\n     <use x=\"63.623047\" xlink:href=\"#DejaVuSans-46\"/>\n     <use x=\"95.410156\" xlink:href=\"#DejaVuSans-53\"/>\n     <use x=\"159.033203\" xlink:href=\"#DejaVuSans-37\"/>\n    </g>\n   </g>\n   <g id=\"text_35\">\n    <!-- Jeans -->\n    <g transform=\"translate(239.025606 21.309259)scale(0.1 -0.1)\">\n     <use xlink:href=\"#DejaVuSans-74\"/>\n     <use x=\"29.492188\" xlink:href=\"#DejaVuSans-101\"/>\n     <use x=\"91.015625\" xlink:href=\"#DejaVuSans-97\"/>\n     <use x=\"152.294922\" xlink:href=\"#DejaVuSans-110\"/>\n     <use x=\"215.673828\" xlink:href=\"#DejaVuSans-115\"/>\n    </g>\n   </g>\n   <g id=\"text_36\">\n    <!-- 1.4% -->\n    <g transform=\"translate(209.48837 67.708341)scale(0.1 -0.1)\">\n     <use xlink:href=\"#DejaVuSans-49\"/>\n     <use x=\"63.623047\" xlink:href=\"#DejaVuSans-46\"/>\n     <use x=\"95.410156\" xlink:href=\"#DejaVuSans-52\"/>\n     <use x=\"159.033203\" xlink:href=\"#DejaVuSans-37\"/>\n    </g>\n   </g>\n   <g id=\"text_37\">\n    <!-- Cardigans -->\n    <defs>\n     <path d=\"M 45.40625 46.390625 \nL 45.40625 75.984375 \nL 54.390625 75.984375 \nL 54.390625 0 \nL 45.40625 0 \nL 45.40625 8.203125 \nQ 42.578125 3.328125 38.25 0.953125 \nQ 33.9375 -1.421875 27.875 -1.421875 \nQ 17.96875 -1.421875 11.734375 6.484375 \nQ 5.515625 14.40625 5.515625 27.296875 \nQ 5.515625 40.1875 11.734375 48.09375 \nQ 17.96875 56 27.875 56 \nQ 33.9375 56 38.25 53.625 \nQ 42.578125 51.265625 45.40625 46.390625 \nz\nM 14.796875 27.296875 \nQ 14.796875 17.390625 18.875 11.75 \nQ 22.953125 6.109375 30.078125 6.109375 \nQ 37.203125 6.109375 41.296875 11.75 \nQ 45.40625 17.390625 45.40625 27.296875 \nQ 45.40625 37.203125 41.296875 42.84375 \nQ 37.203125 48.484375 30.078125 48.484375 \nQ 22.953125 48.484375 18.875 42.84375 \nQ 14.796875 37.203125 14.796875 27.296875 \nz\n\" id=\"DejaVuSans-100\"/>\n    </defs>\n    <g transform=\"translate(229.617349 18.371519)scale(0.1 -0.1)\">\n     <use xlink:href=\"#DejaVuSans-67\"/>\n     <use x=\"69.824219\" xlink:href=\"#DejaVuSans-97\"/>\n     <use x=\"131.103516\" xlink:href=\"#DejaVuSans-114\"/>\n     <use x=\"170.466797\" xlink:href=\"#DejaVuSans-100\"/>\n     <use x=\"233.943359\" xlink:href=\"#DejaVuSans-105\"/>\n     <use x=\"261.726562\" xlink:href=\"#DejaVuSans-103\"/>\n     <use x=\"325.203125\" xlink:href=\"#DejaVuSans-97\"/>\n     <use x=\"386.482422\" xlink:href=\"#DejaVuSans-110\"/>\n     <use x=\"449.861328\" xlink:href=\"#DejaVuSans-115\"/>\n    </g>\n   </g>\n   <g id=\"text_38\">\n    <!-- 1.4% -->\n    <g transform=\"translate(204.356594 66.105938)scale(0.1 -0.1)\">\n     <use xlink:href=\"#DejaVuSans-49\"/>\n     <use x=\"63.623047\" xlink:href=\"#DejaVuSans-46\"/>\n     <use x=\"95.410156\" xlink:href=\"#DejaVuSans-52\"/>\n     <use x=\"159.033203\" xlink:href=\"#DejaVuSans-37\"/>\n    </g>\n   </g>\n   <g id=\"text_39\">\n    <!-- Hoodies &amp; Cardigans -->\n    <defs>\n     <path d=\"M 9.8125 72.90625 \nL 19.671875 72.90625 \nL 19.671875 43.015625 \nL 55.515625 43.015625 \nL 55.515625 72.90625 \nL 65.375 72.90625 \nL 65.375 0 \nL 55.515625 0 \nL 55.515625 34.71875 \nL 19.671875 34.71875 \nL 19.671875 0 \nL 9.8125 0 \nz\n\" id=\"DejaVuSans-72\"/>\n    </defs>\n    <g transform=\"translate(220.629364 16.409826)scale(0.1 -0.1)\">\n     <use xlink:href=\"#DejaVuSans-72\"/>\n     <use x=\"75.195312\" xlink:href=\"#DejaVuSans-111\"/>\n     <use x=\"136.376953\" xlink:href=\"#DejaVuSans-111\"/>\n     <use x=\"197.558594\" xlink:href=\"#DejaVuSans-100\"/>\n     <use x=\"261.035156\" xlink:href=\"#DejaVuSans-105\"/>\n     <use x=\"288.818359\" xlink:href=\"#DejaVuSans-101\"/>\n     <use x=\"350.341797\" xlink:href=\"#DejaVuSans-115\"/>\n     <use x=\"402.441406\" xlink:href=\"#DejaVuSans-32\"/>\n     <use x=\"434.228516\" xlink:href=\"#DejaVuSans-38\"/>\n     <use x=\"512.207031\" xlink:href=\"#DejaVuSans-32\"/>\n     <use x=\"543.994141\" xlink:href=\"#DejaVuSans-67\"/>\n     <use x=\"613.818359\" xlink:href=\"#DejaVuSans-97\"/>\n     <use x=\"675.097656\" xlink:href=\"#DejaVuSans-114\"/>\n     <use x=\"714.460938\" xlink:href=\"#DejaVuSans-100\"/>\n     <use x=\"777.9375\" xlink:href=\"#DejaVuSans-105\"/>\n     <use x=\"805.720703\" xlink:href=\"#DejaVuSans-103\"/>\n     <use x=\"869.197266\" xlink:href=\"#DejaVuSans-97\"/>\n     <use x=\"930.476562\" xlink:href=\"#DejaVuSans-110\"/>\n     <use x=\"993.855469\" xlink:href=\"#DejaVuSans-115\"/>\n    </g>\n   </g>\n   <g id=\"text_40\">\n    <!-- 1.3% -->\n    <g transform=\"translate(199.454056 65.035924)scale(0.1 -0.1)\">\n     <use xlink:href=\"#DejaVuSans-49\"/>\n     <use x=\"63.623047\" xlink:href=\"#DejaVuSans-46\"/>\n     <use x=\"95.410156\" xlink:href=\"#DejaVuSans-51\"/>\n     <use x=\"159.033203\" xlink:href=\"#DejaVuSans-37\"/>\n    </g>\n   </g>\n   <g id=\"text_41\">\n    <!-- Shorts -->\n    <g transform=\"translate(212.816417 15.339104)scale(0.1 -0.1)\">\n     <use xlink:href=\"#DejaVuSans-83\"/>\n     <use x=\"63.476562\" xlink:href=\"#DejaVuSans-104\"/>\n     <use x=\"126.855469\" xlink:href=\"#DejaVuSans-111\"/>\n     <use x=\"188.037109\" xlink:href=\"#DejaVuSans-114\"/>\n     <use x=\"229.150391\" xlink:href=\"#DejaVuSans-116\"/>\n     <use x=\"268.359375\" xlink:href=\"#DejaVuSans-115\"/>\n    </g>\n   </g>\n   <g id=\"text_42\">\n    <!-- 1.1% -->\n    <g transform=\"translate(195.192449 64.451893)scale(0.1 -0.1)\">\n     <use xlink:href=\"#DejaVuSans-49\"/>\n     <use x=\"63.623047\" xlink:href=\"#DejaVuSans-46\"/>\n     <use x=\"95.410156\" xlink:href=\"#DejaVuSans-49\"/>\n     <use x=\"159.033203\" xlink:href=\"#DejaVuSans-37\"/>\n    </g>\n   </g>\n   <g id=\"text_43\">\n    <!-- Socks -->\n    <g transform=\"translate(207.573503 14.941643)scale(0.1 -0.1)\">\n     <use xlink:href=\"#DejaVuSans-83\"/>\n     <use x=\"63.476562\" xlink:href=\"#DejaVuSans-111\"/>\n     <use x=\"124.658203\" xlink:href=\"#DejaVuSans-99\"/>\n     <use x=\"179.638672\" xlink:href=\"#DejaVuSans-107\"/>\n     <use x=\"237.548828\" xlink:href=\"#DejaVuSans-115\"/>\n    </g>\n   </g>\n   <g id=\"text_44\">\n    <!-- 0.5% -->\n    <g transform=\"translate(192.332677 64.235096)scale(0.1 -0.1)\">\n     <use xlink:href=\"#DejaVuSans-48\"/>\n     <use x=\"63.623047\" xlink:href=\"#DejaVuSans-46\"/>\n     <use x=\"95.410156\" xlink:href=\"#DejaVuSans-53\"/>\n     <use x=\"159.033203\" xlink:href=\"#DejaVuSans-37\"/>\n    </g>\n   </g>\n   <g id=\"text_45\">\n    <!-- Belts -->\n    <g transform=\"translate(204.946366 14.838223)scale(0.1 -0.1)\">\n     <use xlink:href=\"#DejaVuSans-66\"/>\n     <use x=\"68.603516\" xlink:href=\"#DejaVuSans-101\"/>\n     <use x=\"130.126953\" xlink:href=\"#DejaVuSans-108\"/>\n     <use x=\"157.910156\" xlink:href=\"#DejaVuSans-116\"/>\n     <use x=\"197.119141\" xlink:href=\"#DejaVuSans-115\"/>\n    </g>\n   </g>\n   <g id=\"text_46\">\n    <!-- 0.3% -->\n    <g transform=\"translate(190.899694 64.178685)scale(0.1 -0.1)\">\n     <use xlink:href=\"#DejaVuSans-48\"/>\n     <use x=\"63.623047\" xlink:href=\"#DejaVuSans-46\"/>\n     <use x=\"95.410156\" xlink:href=\"#DejaVuSans-51\"/>\n     <use x=\"159.033203\" xlink:href=\"#DejaVuSans-37\"/>\n    </g>\n   </g>\n   <g id=\"text_47\">\n    <!-- Scarfs -->\n    <defs>\n     <path d=\"M 37.109375 75.984375 \nL 37.109375 68.5 \nL 28.515625 68.5 \nQ 23.6875 68.5 21.796875 66.546875 \nQ 19.921875 64.59375 19.921875 59.515625 \nL 19.921875 54.6875 \nL 34.71875 54.6875 \nL 34.71875 47.703125 \nL 19.921875 47.703125 \nL 19.921875 0 \nL 10.890625 0 \nL 10.890625 47.703125 \nL 2.296875 47.703125 \nL 2.296875 54.6875 \nL 10.890625 54.6875 \nL 10.890625 58.5 \nQ 10.890625 67.625 15.140625 71.796875 \nQ 19.390625 75.984375 28.609375 75.984375 \nz\n\" id=\"DejaVuSans-102\"/>\n    </defs>\n    <g transform=\"translate(203.303428 14.805898)scale(0.1 -0.1)\">\n     <use xlink:href=\"#DejaVuSans-83\"/>\n     <use x=\"63.476562\" xlink:href=\"#DejaVuSans-99\"/>\n     <use x=\"118.457031\" xlink:href=\"#DejaVuSans-97\"/>\n     <use x=\"179.736328\" xlink:href=\"#DejaVuSans-114\"/>\n     <use x=\"220.849609\" xlink:href=\"#DejaVuSans-102\"/>\n     <use x=\"256.054688\" xlink:href=\"#DejaVuSans-115\"/>\n    </g>\n   </g>\n   <g id=\"text_48\">\n    <!-- 0.2% -->\n    <g transform=\"translate(190.003545 64.161053)scale(0.1 -0.1)\">\n     <use xlink:href=\"#DejaVuSans-48\"/>\n     <use x=\"63.623047\" xlink:href=\"#DejaVuSans-46\"/>\n     <use x=\"95.410156\" xlink:href=\"#DejaVuSans-50\"/>\n     <use x=\"159.033203\" xlink:href=\"#DejaVuSans-37\"/>\n    </g>\n   </g>\n   <g id=\"text_49\">\n    <!-- Bags -->\n    <g transform=\"translate(202.317496 14.798437)scale(0.1 -0.1)\">\n     <use xlink:href=\"#DejaVuSans-66\"/>\n     <use x=\"68.603516\" xlink:href=\"#DejaVuSans-97\"/>\n     <use x=\"129.882812\" xlink:href=\"#DejaVuSans-103\"/>\n     <use x=\"193.359375\" xlink:href=\"#DejaVuSans-115\"/>\n    </g>\n   </g>\n   <g id=\"text_50\">\n    <!-- 0.1% -->\n    <g transform=\"translate(189.465764 64.156984)scale(0.1 -0.1)\">\n     <use xlink:href=\"#DejaVuSans-48\"/>\n     <use x=\"63.623047\" xlink:href=\"#DejaVuSans-46\"/>\n     <use x=\"95.410156\" xlink:href=\"#DejaVuSans-49\"/>\n     <use x=\"159.033203\" xlink:href=\"#DejaVuSans-37\"/>\n    </g>\n   </g>\n  </g>\n </g>\n</svg>\n"
     },
     "metadata": {}
    }
   ],
   "source": [
    "customer_id = 1006890\n",
    "train_norm, test_norm = get_normilized_data()\n",
    "trained_model = get_model('cosine', train_norm,'COUNT_FREQ')\n",
    "recommentations_data = trained_model.recommend()\n",
    "get_recommendation_for_user(customer_id, recommentations_data)\n",
    ""
   ]
  },
  {
   "cell_type": "code",
   "execution_count": 20,
   "metadata": {},
   "outputs": [
    {
     "output_type": "execute_result",
     "data": {
      "text/html": "<div style=\"max-height:1000px;max-width:1500px;overflow:auto;\"><table frame=\"box\" rules=\"cols\">\n    <tr>\n        <th style=\"padding-left: 1em; padding-right: 1em; text-align: center\">CUSTOMER</th>\n        <th style=\"padding-left: 1em; padding-right: 1em; text-align: center\">SKU</th>\n        <th style=\"padding-left: 1em; padding-right: 1em; text-align: center\">score</th>\n        <th style=\"padding-left: 1em; padding-right: 1em; text-align: center\">rank</th>\n    </tr>\n    <tr>\n        <td style=\"padding-left: 1em; padding-right: 1em; text-align: center; vertical-align: top\">10000</td>\n        <td style=\"padding-left: 1em; padding-right: 1em; text-align: center; vertical-align: top\">226162328_1004</td>\n        <td style=\"padding-left: 1em; padding-right: 1em; text-align: center; vertical-align: top\">4.3439865112304685e-06</td>\n        <td style=\"padding-left: 1em; padding-right: 1em; text-align: center; vertical-align: top\">1</td>\n    </tr>\n    <tr>\n        <td style=\"padding-left: 1em; padding-right: 1em; text-align: center; vertical-align: top\">10000</td>\n        <td style=\"padding-left: 1em; padding-right: 1em; text-align: center; vertical-align: top\">220323811_6043</td>\n        <td style=\"padding-left: 1em; padding-right: 1em; text-align: center; vertical-align: top\">3.6513805389404296e-06</td>\n        <td style=\"padding-left: 1em; padding-right: 1em; text-align: center; vertical-align: top\">2</td>\n    </tr>\n    <tr>\n        <td style=\"padding-left: 1em; padding-right: 1em; text-align: center; vertical-align: top\">10000</td>\n        <td style=\"padding-left: 1em; padding-right: 1em; text-align: center; vertical-align: top\">225923960_4065</td>\n        <td style=\"padding-left: 1em; padding-right: 1em; text-align: center; vertical-align: top\">3.1650066375732423e-06</td>\n        <td style=\"padding-left: 1em; padding-right: 1em; text-align: center; vertical-align: top\">3</td>\n    </tr>\n    <tr>\n        <td style=\"padding-left: 1em; padding-right: 1em; text-align: center; vertical-align: top\">10000</td>\n        <td style=\"padding-left: 1em; padding-right: 1em; text-align: center; vertical-align: top\">225964002_10</td>\n        <td style=\"padding-left: 1em; padding-right: 1em; text-align: center; vertical-align: top\">3.114938735961914e-06</td>\n        <td style=\"padding-left: 1em; padding-right: 1em; text-align: center; vertical-align: top\">4</td>\n    </tr>\n    <tr>\n        <td style=\"padding-left: 1em; padding-right: 1em; text-align: center; vertical-align: top\">10000</td>\n        <td style=\"padding-left: 1em; padding-right: 1em; text-align: center; vertical-align: top\">225964002_6043</td>\n        <td style=\"padding-left: 1em; padding-right: 1em; text-align: center; vertical-align: top\">2.5045871734619142e-06</td>\n        <td style=\"padding-left: 1em; padding-right: 1em; text-align: center; vertical-align: top\">5</td>\n    </tr>\n    <tr>\n        <td style=\"padding-left: 1em; padding-right: 1em; text-align: center; vertical-align: top\">10000</td>\n        <td style=\"padding-left: 1em; padding-right: 1em; text-align: center; vertical-align: top\">607056677_900</td>\n        <td style=\"padding-left: 1em; padding-right: 1em; text-align: center; vertical-align: top\">2.2292137145996093e-06</td>\n        <td style=\"padding-left: 1em; padding-right: 1em; text-align: center; vertical-align: top\">6</td>\n    </tr>\n    <tr>\n        <td style=\"padding-left: 1em; padding-right: 1em; text-align: center; vertical-align: top\">10000</td>\n        <td style=\"padding-left: 1em; padding-right: 1em; text-align: center; vertical-align: top\">605806581_2047</td>\n        <td style=\"padding-left: 1em; padding-right: 1em; text-align: center; vertical-align: top\">1.8823146820068358e-06</td>\n        <td style=\"padding-left: 1em; padding-right: 1em; text-align: center; vertical-align: top\">7</td>\n    </tr>\n    <tr>\n        <td style=\"padding-left: 1em; padding-right: 1em; text-align: center; vertical-align: top\">10000</td>\n        <td style=\"padding-left: 1em; padding-right: 1em; text-align: center; vertical-align: top\">216204718_10</td>\n        <td style=\"padding-left: 1em; padding-right: 1em; text-align: center; vertical-align: top\">1.8513202667236327e-06</td>\n        <td style=\"padding-left: 1em; padding-right: 1em; text-align: center; vertical-align: top\">8</td>\n    </tr>\n    <tr>\n        <td style=\"padding-left: 1em; padding-right: 1em; text-align: center; vertical-align: top\">10000</td>\n        <td style=\"padding-left: 1em; padding-right: 1em; text-align: center; vertical-align: top\">221950650_10</td>\n        <td style=\"padding-left: 1em; padding-right: 1em; text-align: center; vertical-align: top\">1.7821788787841796e-06</td>\n        <td style=\"padding-left: 1em; padding-right: 1em; text-align: center; vertical-align: top\">9</td>\n    </tr>\n    <tr>\n        <td style=\"padding-left: 1em; padding-right: 1em; text-align: center; vertical-align: top\">10000</td>\n        <td style=\"padding-left: 1em; padding-right: 1em; text-align: center; vertical-align: top\">227564567_7304</td>\n        <td style=\"padding-left: 1em; padding-right: 1em; text-align: center; vertical-align: top\">1.7428398132324218e-06</td>\n        <td style=\"padding-left: 1em; padding-right: 1em; text-align: center; vertical-align: top\">10</td>\n    </tr>\n</table>\n[10 rows x 4 columns]<br/>\n</div>",
      "text/plain": "Columns:\n\tCUSTOMER\tint\n\tSKU\tstr\n\tscore\tfloat\n\trank\tint\n\nRows: 10\n\nData:\n+----------+----------------+------------------------+------+\n| CUSTOMER |      SKU       |         score          | rank |\n+----------+----------------+------------------------+------+\n|  10000   | 226162328_1004 | 4.3439865112304685e-06 |  1   |\n|  10000   | 220323811_6043 | 3.6513805389404296e-06 |  2   |\n|  10000   | 225923960_4065 | 3.1650066375732423e-06 |  3   |\n|  10000   |  225964002_10  | 3.114938735961914e-06  |  4   |\n|  10000   | 225964002_6043 | 2.5045871734619142e-06 |  5   |\n|  10000   | 607056677_900  | 2.2292137145996093e-06 |  6   |\n|  10000   | 605806581_2047 | 1.8823146820068358e-06 |  7   |\n|  10000   |  216204718_10  | 1.8513202667236327e-06 |  8   |\n|  10000   |  221950650_10  | 1.7821788787841796e-06 |  9   |\n|  10000   | 227564567_7304 | 1.7428398132324218e-06 |  10  |\n+----------+----------------+------------------------+------+\n[10 rows x 4 columns]"
     },
     "metadata": {},
     "execution_count": 20
    }
   ],
   "source": [
    "trained_model.recommend(['10000'])"
   ]
  },
  {
   "cell_type": "markdown",
   "metadata": {},
   "source": [
    "## Run and evalute"
   ],
   "execution_count": null,
   "outputs": []
  },
  {
   "cell_type": "markdown",
   "metadata": {},
   "source": [
    "### Compare and evaluate models with default `COUNT` as target"
   ],
   "execution_count": null,
   "outputs": []
  },
  {
   "cell_type": "code",
   "execution_count": null,
   "metadata": {},
   "outputs": [],
   "source": [
    "train_norm, test_norm = get_normilized_data()\n",
    "pop_norm = get_model('popularity', train_norm)\n",
    "pop_norm.save('_output/models/pop_norm_count')\n",
    "cos_norm = get_model('cosine', train_norm)\n",
    "cos_norm.save('_output/models/cos_norm_count')\n",
    "pear_norm = get_model('pearson', train_norm)\n",
    "pear_norm.save('_output/models/pear_norm_count')\n",
    "\n",
    "models_w_norm = [pop_norm, cos_norm, pear_norm]\n",
    "names_w_norm = ['Popularity Model on COUNTS', 'Cosine Similarity on COUNTS', 'Pearson Similarity on COUNTS']\n",
    "evaluation_result = evaluate(models_w_norm, names_w_norm, test_norm)\n"
   ]
  },
  {
   "cell_type": "markdown",
   "metadata": {},
   "source": [
    "### Compare and evaluate models with 'COUNT_FREQ` as target"
   ],
   "execution_count": null,
   "outputs": []
  },
  {
   "cell_type": "code",
   "execution_count": null,
   "metadata": {},
   "outputs": [],
   "source": [
    "pop_norm_freq = get_model('popularity', train_norm, target=\"COUNT_FREQ\")\n",
    "pop_norm_freq.save('_output/models/pop_norm_freq')\n",
    "cos_norm_freq = get_model('cosine', train_norm, target=\"COUNT_FREQ\")\n",
    "cos_norm_freq.save('_output/models/cos_norm_freq')\n",
    "pear_norm_freq = get_model('pearson', train_norm, target=\"COUNT_FREQ\")\n",
    "pear_norm_freq.save('_output/models/pear_norm_freq')\n",
    "\n",
    "models_w_norm = [pop_norm_freq, cos_norm_freq, pear_norm_freq]\n",
    "names_w_norm = ['Popularity Model on COUNTS_FREQ', 'Cosine Similarity on COUNTS_FREQ', 'Pearson Similarity on COUNTS_FREQ']\n",
    "evaluation_result_freq = evaluate(models_w_norm, test_norm)\n"
   ]
  },
  {
   "cell_type": "markdown",
   "metadata": {},
   "source": [
    "### Compare and evaluate `Cosine` similarity of `COUNT` and `COUNT_FREQ` targets"
   ],
   "execution_count": null,
   "outputs": []
  },
  {
   "cell_type": "code",
   "execution_count": null,
   "metadata": {},
   "outputs": [],
   "source": [
    "models_w_norm = [cos_norm, cos_norm_freq]\n",
    "names_w_norm = ['Cosine Similarity on COUNTS', 'Cosine Similarity on COUNTS_FREQ']\n",
    "evaluation_result_freq = evaluate(models_w_norm, names_w_norm, test_norm)"
   ]
  }
 ]
}