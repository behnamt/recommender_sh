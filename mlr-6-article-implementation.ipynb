{
 "nbformat": 4,
 "nbformat_minor": 2,
 "metadata": {
  "language_info": {
   "name": "python",
   "codemirror_mode": {
    "name": "ipython",
    "version": 2
   },
   "version": "2.7.17-final"
  },
  "orig_nbformat": 2,
  "file_extension": ".py",
  "mimetype": "text/x-python",
  "name": "python",
  "npconvert_exporter": "python",
  "pygments_lexer": "ipython2",
  "version": 2,
  "kernelspec": {
   "name": "collaborative",
   "display_name": "collaborative"
  }
 },
 "cells": [
  {
   "cell_type": "markdown",
   "metadata": {},
   "source": [
    "# Putting it all together\n"
   ],
   "execution_count": null,
   "outputs": []
  },
  {
   "cell_type": "markdown",
   "metadata": {},
   "source": [
    "## Imports\n",
    "\n"
   ],
   "execution_count": null,
   "outputs": []
  },
  {
   "cell_type": "code",
   "execution_count": null,
   "metadata": {},
   "outputs": [],
   "source": [
    "%load_ext autoreload\n",
    "%autoreload 2\n",
    "\n",
    "import pandas as ps\n",
    "import numpy as np\n",
    "\n",
    "import time\n",
    "import turicreate as tc\n",
    "from sklearn.model_selection import train_test_split\n",
    "import json\n",
    "import matplotlib.pyplot as plt\n",
    "\n",
    "%matplotlib inline\n",
    "\n",
    "import sys"
   ]
  },
  {
   "cell_type": "markdown",
   "metadata": {},
   "source": [
    "## Importing CSV data"
   ],
   "execution_count": null,
   "outputs": []
  },
  {
   "cell_type": "code",
   "execution_count": null,
   "metadata": {},
   "outputs": [],
   "source": [
    "transactions_raw = ps.read_csv('transactions.csv', names = ['SKU', 'CUSTOMER'], header = 1)\n",
    "products_raw = ps.read_csv('products_.csv')\n",
    ""
   ]
  },
  {
   "cell_type": "markdown",
   "metadata": {},
   "source": [
    "## Defining methods"
   ],
   "execution_count": null,
   "outputs": []
  },
  {
   "cell_type": "markdown",
   "metadata": {},
   "source": [
    "### Pie chart\n"
   ],
   "execution_count": null,
   "outputs": []
  },
  {
   "cell_type": "code",
   "execution_count": null,
   "metadata": {},
   "outputs": [],
   "source": [
    "# Pie chart, where the slices will be ordered and plotted counter-clockwise:\n",
    "def pie_chart(labels, sizes):\n",
    "    explode = (0, 0.1, 0, 0)  # only \"explode\" the 2nd slice (i.e. 'Hogs')\n",
    "\n",
    "    fig1, ax1 = plt.subplots()\n",
    "    ax1.pie(sizes, labels=labels, autopct='%1.1f%%',\n",
    "            shadow=True, startangle=90)\n",
    "    ax1.axis('equal')  # Equal aspect ratio ensures that pie is drawn as a circle.\n",
    "\n",
    "    plt.show()"
   ]
  },
  {
   "cell_type": "markdown",
   "metadata": {},
   "source": [
    "### Get the customer data"
   ],
   "execution_count": null,
   "outputs": []
  },
  {
   "cell_type": "code",
   "execution_count": null,
   "metadata": {},
   "outputs": [],
   "source": [
    "def get_customer_data(customer_id):\n",
    "    transactions = transactions_raw[transactions_raw['CUSTOMER'] == customer_id]\n",
    "    products = products_raw[products_raw['SKU'].isin(transactions['SKU'])]\n",
    "    products['COLOR'] = products['ATTRIBUTES'].apply(lambda x: json.loads(x)['color'])\n",
    "    products['BRAND'] = products['ATTRIBUTES'].apply(lambda x: json.loads(x)['brand'].upper())\n",
    "    return products"
   ]
  },
  {
   "cell_type": "markdown",
   "metadata": {},
   "source": [
    "### Visualize the Customer data"
   ],
   "execution_count": null,
   "outputs": []
  },
  {
   "cell_type": "code",
   "execution_count": null,
   "metadata": {},
   "outputs": [],
   "source": [
    "def visualize_customer_data(products):\n",
    "    grouped_brands = products['BRAND'].value_counts().rename_axis('BRAND').reset_index(name='COUNT')\n",
    "    grouped_colors = products['COLOR'].value_counts().rename_axis('COLOR').reset_index(name='COUNT')\n",
    "    grouped_categories = products['NAME'].value_counts().rename_axis('CATEGORY').reset_index(name='COUNT')\n",
    "    pie_chart(grouped_brands['BRAND'], grouped_brands['COUNT'])\n",
    "    pie_chart(grouped_colors['COLOR'], grouped_colors['COUNT'])\n",
    "    pie_chart(grouped_categories['CATEGORY'], grouped_categories['COUNT'])"
   ]
  },
  {
   "cell_type": "markdown",
   "metadata": {},
   "source": [
    "### Normalize Data for model"
   ],
   "execution_count": null,
   "outputs": []
  },
  {
   "cell_type": "code",
   "execution_count": null,
   "metadata": {},
   "outputs": [],
   "source": [
    "def normalize_item_purchase_count(transactions):\n",
    "    transactions_count = transactions.groupby(['SKU', 'CUSTOMER']).size().reset_index(name='COUNT')\n",
    "    transactions_count = transactions_count.join(transactions_count.groupby(['SKU'])['COUNT'].transform(lambda x: x / x.sum()), rsuffix='_FREQ')\n",
    "    return transactions_count"
   ]
  },
  {
   "cell_type": "markdown",
   "metadata": {},
   "source": [
    "### Train & Test data"
   ],
   "execution_count": null,
   "outputs": []
  },
  {
   "cell_type": "code",
   "execution_count": null,
   "metadata": {},
   "outputs": [],
   "source": [
    "def get_train_test_data(transactions):\n",
    "    train, test = train_test_split(transactions, test_size = .2)\n",
    "    train = tc.SFrame(train)\n",
    "    test = tc.SFrame(test)\n",
    "    return train, test"
   ]
  },
  {
   "cell_type": "code",
   "execution_count": null,
   "metadata": {},
   "outputs": [],
   "source": [
    "def get_normilized_data():\n",
    "    transactions = normalize_item_purchase_count(transactions_raw)\n",
    "    train, test = get_train_test_data(transactions)\n",
    "    return train, test"
   ]
  },
  {
   "cell_type": "markdown",
   "metadata": {},
   "source": [
    "### Model\n"
   ],
   "execution_count": null,
   "outputs": []
  },
  {
   "cell_type": "code",
   "execution_count": null,
   "metadata": {},
   "outputs": [],
   "source": [
    "def model(train_data, name, user_id, item_id, target, users_to_recommend, n_rec, n_display):\n",
    "    if name == 'popularity':\n",
    "        model = tc.popularity_recommender.create(train_data, \n",
    "                                                    user_id=user_id, \n",
    "                                                    item_id=item_id, \n",
    "                                                    target=target)\n",
    "    elif name == 'cosine':\n",
    "        model = tc.item_similarity_recommender.create(train_data, \n",
    "                                                    user_id=user_id, \n",
    "                                                    item_id=item_id, \n",
    "                                                    target=target, \n",
    "                                                    similarity_type='cosine')\n",
    "    elif name == 'pearson':\n",
    "        model = tc.item_similarity_recommender.create(train_data, \n",
    "                                                    user_id=user_id, \n",
    "                                                    item_id=item_id, \n",
    "                                                    target=target, \n",
    "                                                    similarity_type='pearson')\n",
    "        \n",
    "    recom = model.recommend(users=users_to_recommend, k=n_rec)\n",
    "    recom.print_rows(n_display)\n",
    "    return model"
   ]
  },
  {
   "cell_type": "markdown",
   "metadata": {},
   "source": [
    "### Getting a recommendation "
   ],
   "execution_count": null,
   "outputs": []
  },
  {
   "cell_type": "code",
   "execution_count": null,
   "metadata": {},
   "outputs": [],
   "source": [
    "def get_model(similarity, train, target = 'COUNT'):\n",
    "    user_id = 'CUSTOMER'\n",
    "    item_id = 'SKU'\n",
    "    users_to_recommend = list([])\n",
    "    n_rec = 10 # number of items to recommend\n",
    "    n_display = 30 # to display the first few rows in an output dataset\n",
    "    \n",
    "    popularity = model(train, similarity, user_id, item_id, target, users_to_recommend, n_rec, n_display)\n",
    "    return popularity\n",
    ""
   ]
  },
  {
   "cell_type": "code",
   "execution_count": null,
   "metadata": {},
   "outputs": [],
   "source": [
    "def merge_product_info(items):\n",
    "    products_rec = products_raw[products_raw['SKU'].isin(items['SKU'])] \n",
    "    products_rec['COLOR'] = products_rec['ATTRIBUTES'].apply(lambda x: json.loads(x)['color'])\n",
    "    products_rec['BRAND'] = products_rec['ATTRIBUTES'].apply(lambda x: json.loads(x)['brand'].upper())\n",
    "    products_rec = ps.merge(items, products_rec, how='left', on=['SKU']).drop_duplicates(subset=['SKU'])\n",
    "    return products_rec[['rank','score','NAME','BRAND', 'COLOR']]"
   ]
  },
  {
   "cell_type": "code",
   "execution_count": null,
   "metadata": {},
   "outputs": [],
   "source": [
    "def get_recommendation_for_user(customer_id, trained_model):\n",
    "    recommended_items = trained_model[trained_model['CUSTOMER']==customer_id].to_dataframe()\n",
    "    print(merge_product_info(recommended_items))\n",
    "    visualize_customer_data(get_customer_data(customer_id))"
   ]
  },
  {
   "cell_type": "markdown",
   "metadata": {},
   "source": [
    "### Evaluating models"
   ],
   "execution_count": null,
   "outputs": []
  },
  {
   "cell_type": "code",
   "execution_count": null,
   "metadata": {},
   "outputs": [],
   "source": [
    "def evaluate(models_w, models_names, test_data):\n",
    "    eval_norm = tc.recommender.util.compare_models(test_data, models_w, model_names=models_names)\n",
    "    return eval_norm"
   ]
  },
  {
   "cell_type": "markdown",
   "metadata": {},
   "source": [
    "## Main stuff\n",
    "If you want to get a recommendation list for a specific customer, fill the `customer_id` and run this block"
   ],
   "execution_count": null,
   "outputs": []
  },
  {
   "cell_type": "code",
   "execution_count": null,
   "metadata": {},
   "outputs": [],
   "source": [
    "customer_id = 1006890\n",
    "train_norm, test_norm = get_normilized_data()\n",
    "trained_model = get_model('cosine', train_norm, tagret='COUNT_FREQ')\n",
    "recommentations_data = trained_model.recommend()\n",
    "get_recommendation_for_user(customer_id, recommentations_data)\n"
   ]
  },
  {
   "cell_type": "markdown",
   "metadata": {},
   "source": [
    "## Run and evalute"
   ],
   "execution_count": null,
   "outputs": []
  },
  {
   "cell_type": "markdown",
   "metadata": {},
   "source": [
    "### Compare and evaluate models with default `COUNT` as target"
   ],
   "execution_count": null,
   "outputs": []
  },
  {
   "cell_type": "code",
   "execution_count": null,
   "metadata": {},
   "outputs": [],
   "source": [
    "train_norm, test_norm = get_normilized_data()\n",
    "pop_norm = get_model('popularity', train_norm)\n",
    "pop_norm.save('saved_models/pop_norm_count')\n",
    "cos_norm = get_model('cosine', train_norm)\n",
    "cos_norm.save('saved_models/cos_norm_count')\n",
    "pear_norm = get_model('pearson', train_norm)\n",
    "pear_norm.save('saved_models/pear_norm_count')\n",
    "\n",
    "models_w_norm = [pop_norm, cos_norm, pear_norm]\n",
    "names_w_norm = ['Popularity Model on COUNTS', 'Cosine Similarity on COUNTS', 'Pearson Similarity on COUNTS']\n",
    "evaluation_result = evaluate(models_w_norm, names_w_norm, test_norm)\n"
   ]
  },
  {
   "cell_type": "markdown",
   "metadata": {},
   "source": [
    "### Compare and evaluate models with 'COUNT_FREQ` as target"
   ],
   "execution_count": null,
   "outputs": []
  },
  {
   "cell_type": "code",
   "execution_count": null,
   "metadata": {},
   "outputs": [],
   "source": [
    "pop_norm_freq = get_model('popularity', train_norm, target=\"COUNT_FREQ\")\n",
    "pop_norm_freq.save('saved_models/pop_norm_freq')\n",
    "cos_norm_freq = get_model('cosine', train_norm, target=\"COUNT_FREQ\")\n",
    "cos_norm_freq.save('saved_models/cos_norm_freq')\n",
    "pear_norm_freq = get_model('pearson', train_norm, target=\"COUNT_FREQ\")\n",
    "pear_norm_freq.save('saved_models/pear_norm_freq')\n",
    "\n",
    "models_w_norm = [pop_norm_freq, cos_norm_freq, pear_norm_freq]\n",
    "names_w_norm = ['Popularity Model on COUNTS_FREQ', 'Cosine Similarity on COUNTS_FREQ', 'Pearson Similarity on COUNTS_FREQ']\n",
    "evaluation_result_freq = evaluate(models_w_norm, test_norm)\n"
   ]
  },
  {
   "cell_type": "markdown",
   "metadata": {},
   "source": [
    "### Compare and evaluate `Cosine` similarity of `COUNT` and `COUNT_FREQ` targets"
   ],
   "execution_count": null,
   "outputs": []
  },
  {
   "cell_type": "code",
   "execution_count": null,
   "metadata": {},
   "outputs": [],
   "source": [
    "models_w_norm = [cos_norm, cos_norm_freq]\n",
    "names_w_norm = ['Cosine Similarity on COUNTS', 'Cosine Similarity on COUNTS_FREQ']\n",
    "evaluation_result_freq = evaluate(models_w_norm, names_w_norm, test_norm)"
   ]
  }
 ]
}